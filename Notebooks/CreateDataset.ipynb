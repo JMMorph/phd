{
 "cells": [
  {
   "cell_type": "code",
   "execution_count": 2,
   "metadata": {},
   "outputs": [],
   "source": [
    "import pandas as pd\n",
    "import numpy as np\n",
    "import matplotlib.pyplot as plt\n",
    "import os"
   ]
  },
  {
   "cell_type": "code",
   "execution_count": 3,
   "metadata": {},
   "outputs": [],
   "source": [
    "ruta_descargas = \"./data/cdmx\"\n",
    "\n",
    "# read all files in the folder\n",
    "\n",
    "files = os.listdir(ruta_descargas)\n",
    "files = [f for f in files if f.endswith('.csv')]"
   ]
  },
  {
   "cell_type": "code",
   "execution_count": 4,
   "metadata": {},
   "outputs": [],
   "source": [
    "df = pd.DataFrame()\n",
    "for file in files:\n",
    "    segment = pd.read_csv(f\"{ruta_descargas}/{file}\", skiprows=1)\n",
    "    # avoid unnamed columns\n",
    "    segment = segment.loc[:, ~segment.columns.str.contains('^Unnamed')]\n",
    "    \n",
    "    #Divide file name to get the date, time and contaminant\n",
    "    year, month, cont = file.split(\"_\")\n",
    "    cont = cont.split(\".\")[0]\n",
    "    segment['pollutant'] = cont\n",
    "    \n",
    "    df = pd.concat([df, segment], axis=0)"
   ]
  },
  {
   "cell_type": "code",
   "execution_count": 9,
   "metadata": {},
   "outputs": [
    {
     "data": {
      "text/plain": [
       "pollutant\n",
       "co      0\n",
       "no      0\n",
       "no2     0\n",
       "nox     0\n",
       "o3      0\n",
       "pm10    0\n",
       "pm2     0\n",
       "rh      0\n",
       "so2     0\n",
       "tmp     0\n",
       "wdr     0\n",
       "wsp     0\n",
       "Name: ACO, dtype: int64"
      ]
     },
     "execution_count": 9,
     "metadata": {},
     "output_type": "execute_result"
    }
   ],
   "source": [
    "# COunt number of nan and not nan values\n",
    "df.groupby('pollutant')['ACO'].apply(lambda x: x.isna().sum())"
   ]
  },
  {
   "cell_type": "code",
   "execution_count": 10,
   "metadata": {},
   "outputs": [
    {
     "data": {
      "text/plain": [
       "np.int64(0)"
      ]
     },
     "execution_count": 10,
     "metadata": {},
     "output_type": "execute_result"
    }
   ],
   "source": [
    "df['ACO'].isna().sum()"
   ]
  },
  {
   "cell_type": "code",
   "execution_count": null,
   "metadata": {},
   "outputs": [],
   "source": []
  }
 ],
 "metadata": {
  "kernelspec": {
   "display_name": "test",
   "language": "python",
   "name": "python3"
  },
  "language_info": {
   "codemirror_mode": {
    "name": "ipython",
    "version": 3
   },
   "file_extension": ".py",
   "mimetype": "text/x-python",
   "name": "python",
   "nbconvert_exporter": "python",
   "pygments_lexer": "ipython3",
   "version": "3.12.9"
  }
 },
 "nbformat": 4,
 "nbformat_minor": 2
}
