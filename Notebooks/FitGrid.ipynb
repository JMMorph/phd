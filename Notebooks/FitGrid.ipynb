{
 "cells": [
  {
   "cell_type": "code",
   "execution_count": null,
   "metadata": {},
   "outputs": [],
   "source": [
    "\n",
    "import pandas as pd\n",
    "import numpy as np\n",
    "import matplotlib.pyplot as plt\n",
    "import geopandas as gpd\n",
    "import os\n",
    "from shapely.geometry import box\n",
    "from shapely.geometry import Polygon, Point\n",
    "import plotly.express as px\n"
   ]
  },
  {
   "cell_type": "code",
   "execution_count": 262,
   "metadata": {},
   "outputs": [],
   "source": [
    "epsg = 32614 # UTM-14"
   ]
  },
  {
   "cell_type": "markdown",
   "metadata": {},
   "source": [
    "## CDMX Data"
   ]
  },
  {
   "cell_type": "code",
   "execution_count": 263,
   "metadata": {},
   "outputs": [],
   "source": [
    "cdmx = gpd.read_file('../data/cdmx/Polygons.gpkg', layer='cdmx')\n",
    "cdmx = cdmx.to_crs(epsg=4326).to_crs(epsg=epsg)\n",
    "\n",
    "cdmx_bbox = cdmx.total_bounds\n",
    "cdmx_bbox_geometry = box(*cdmx_bbox)"
   ]
  },
  {
   "cell_type": "markdown",
   "metadata": {},
   "source": [
    "## Catalog"
   ]
  },
  {
   "cell_type": "code",
   "execution_count": 264,
   "metadata": {},
   "outputs": [],
   "source": [
    "stations = pd.read_csv('../data/cdmx/cat_estacion.csv', encoding='latin1', skiprows=1)\n",
    "stations = gpd.GeoDataFrame(stations, geometry=gpd.points_from_xy(stations.longitud, stations.latitud))\n",
    "stations = stations.set_crs(epsg=4326).to_crs(epsg=epsg)\n",
    "stations['obs_estac'] = stations['obs_estac'].fillna('')\n",
    "stations['obs_estac'] = stations['obs_estac'].apply(lambda x: 'Activa' if 'Fin' not in x else 'Inactiva')\n"
   ]
  },
  {
   "cell_type": "code",
   "execution_count": 265,
   "metadata": {},
   "outputs": [],
   "source": [
    "dataset = pd.read_csv('../data/datasets/ds_rama2.csv')\n",
    "\n",
    "# Identify all stations and pollutants present in the dataset\n",
    "stations_rama = {col: {'pollutants' : dataset[['pollutant', col]]\n",
    "                   .groupby('pollutant')\n",
    "                   .count().query(f'{col} > 0')\n",
    "                   .index.tolist(),\n",
    "                   'min_date' : dataset.query(f'{col}.notna()').date.min(),\n",
    "                   'max_date': dataset.query(f'{col}.notna()').date.max()\n",
    "                   }\n",
    "                   for col in dataset.columns if col not in ['pollutant', 'date','month','year']}\n",
    "\n",
    "# Remove stations with no pollutants\n",
    "stations_rama = {k: v for k, v in stations_rama.items() if len(v) > 0}\n",
    "\n",
    "# Add pollutants to stations\n",
    "stations['pollutants'] = stations['cve_estac'].apply(lambda x: stations_rama.get(x, {'pollutants':np.nan}).get('pollutants'))\n",
    "stations['first_date'] = stations['cve_estac'].apply(lambda x: stations_rama.get(x, {'min_date':np.nan}).get('min_date'))\n",
    "stations['last_date'] = stations['cve_estac'].apply(lambda x: stations_rama.get(x, {'max_date':np.nan}).get('max_date'))"
   ]
  },
  {
   "cell_type": "code",
   "execution_count": 266,
   "metadata": {},
   "outputs": [
    {
     "data": {
      "text/html": [
       "<div style=\"width:100%;\"><div style=\"position:relative;width:100%;height:0;padding-bottom:60%;\"><span style=\"color:#565656\">Make this Notebook Trusted to load map: File -> Trust Notebook</span><iframe srcdoc=\"&lt;!DOCTYPE html&gt;\n",
       "&lt;html&gt;\n",
       "&lt;head&gt;\n",
       "    \n",
       "    &lt;meta http-equiv=&quot;content-type&quot; content=&quot;text/html; charset=UTF-8&quot; /&gt;\n",
       "    \n",
       "        &lt;script&gt;\n",
       "            L_NO_TOUCH = false;\n",
       "            L_DISABLE_3D = false;\n",
       "        &lt;/script&gt;\n",
       "    \n",
       "    &lt;style&gt;html, body {width: 100%;height: 100%;margin: 0;padding: 0;}&lt;/style&gt;\n",
       "    &lt;style&gt;#map {position:absolute;top:0;bottom:0;right:0;left:0;}&lt;/style&gt;\n",
       "    &lt;script src=&quot;https://cdn.jsdelivr.net/npm/leaflet@1.9.3/dist/leaflet.js&quot;&gt;&lt;/script&gt;\n",
       "    &lt;script src=&quot;https://code.jquery.com/jquery-3.7.1.min.js&quot;&gt;&lt;/script&gt;\n",
       "    &lt;script src=&quot;https://cdn.jsdelivr.net/npm/bootstrap@5.2.2/dist/js/bootstrap.bundle.min.js&quot;&gt;&lt;/script&gt;\n",
       "    &lt;script src=&quot;https://cdnjs.cloudflare.com/ajax/libs/Leaflet.awesome-markers/2.0.2/leaflet.awesome-markers.js&quot;&gt;&lt;/script&gt;\n",
       "    &lt;link rel=&quot;stylesheet&quot; href=&quot;https://cdn.jsdelivr.net/npm/leaflet@1.9.3/dist/leaflet.css&quot;/&gt;\n",
       "    &lt;link rel=&quot;stylesheet&quot; href=&quot;https://cdn.jsdelivr.net/npm/bootstrap@5.2.2/dist/css/bootstrap.min.css&quot;/&gt;\n",
       "    &lt;link rel=&quot;stylesheet&quot; href=&quot;https://netdna.bootstrapcdn.com/bootstrap/3.0.0/css/bootstrap-glyphicons.css&quot;/&gt;\n",
       "    &lt;link rel=&quot;stylesheet&quot; href=&quot;https://cdn.jsdelivr.net/npm/@fortawesome/fontawesome-free@6.2.0/css/all.min.css&quot;/&gt;\n",
       "    &lt;link rel=&quot;stylesheet&quot; href=&quot;https://cdnjs.cloudflare.com/ajax/libs/Leaflet.awesome-markers/2.0.2/leaflet.awesome-markers.css&quot;/&gt;\n",
       "    &lt;link rel=&quot;stylesheet&quot; href=&quot;https://cdn.jsdelivr.net/gh/python-visualization/folium/folium/templates/leaflet.awesome.rotate.min.css&quot;/&gt;\n",
       "    \n",
       "            &lt;meta name=&quot;viewport&quot; content=&quot;width=device-width,\n",
       "                initial-scale=1.0, maximum-scale=1.0, user-scalable=no&quot; /&gt;\n",
       "            &lt;style&gt;\n",
       "                #map_3879c584f5fa0cd8e9a1d9665096839d {\n",
       "                    position: relative;\n",
       "                    width: 100.0%;\n",
       "                    height: 100.0%;\n",
       "                    left: 0.0%;\n",
       "                    top: 0.0%;\n",
       "                }\n",
       "                .leaflet-container { font-size: 1rem; }\n",
       "            &lt;/style&gt;\n",
       "        \n",
       "    \n",
       "                    &lt;style&gt;\n",
       "                        .foliumtooltip {\n",
       "                            \n",
       "                        }\n",
       "                       .foliumtooltip table{\n",
       "                            margin: auto;\n",
       "                        }\n",
       "                        .foliumtooltip tr{\n",
       "                            text-align: left;\n",
       "                        }\n",
       "                        .foliumtooltip th{\n",
       "                            padding: 2px; padding-right: 8px;\n",
       "                        }\n",
       "                    &lt;/style&gt;\n",
       "            \n",
       "    \n",
       "                    &lt;style&gt;\n",
       "                        .foliumtooltip {\n",
       "                            \n",
       "                        }\n",
       "                       .foliumtooltip table{\n",
       "                            margin: auto;\n",
       "                        }\n",
       "                        .foliumtooltip tr{\n",
       "                            text-align: left;\n",
       "                        }\n",
       "                        .foliumtooltip th{\n",
       "                            padding: 2px; padding-right: 8px;\n",
       "                        }\n",
       "                    &lt;/style&gt;\n",
       "            \n",
       "    \n",
       "    &lt;script src=&quot;https://code.jquery.com/ui/1.12.1/jquery-ui.js&quot;&gt;&lt;/script&gt;\n",
       "    &lt;script&gt;$( function() {\n",
       "        $( &quot;.maplegend&quot; ).draggable({\n",
       "            start: function (event, ui) {\n",
       "                $(this).css({\n",
       "                    right: &quot;auto&quot;,\n",
       "                    top: &quot;auto&quot;,\n",
       "                    bottom: &quot;auto&quot;\n",
       "                });\n",
       "            }\n",
       "        });\n",
       "    });\n",
       "    &lt;/script&gt;\n",
       "    &lt;style type=&#x27;text/css&#x27;&gt;\n",
       "      .maplegend {\n",
       "        position: absolute;\n",
       "        z-index:9999;\n",
       "        background-color: rgba(255, 255, 255, .8);\n",
       "        border-radius: 5px;\n",
       "        box-shadow: 0 0 15px rgba(0,0,0,0.2);\n",
       "        padding: 10px;\n",
       "        font: 12px/14px Arial, Helvetica, sans-serif;\n",
       "        right: 10px;\n",
       "        bottom: 20px;\n",
       "      }\n",
       "      .maplegend .legend-title {\n",
       "        text-align: left;\n",
       "        margin-bottom: 5px;\n",
       "        font-weight: bold;\n",
       "        }\n",
       "      .maplegend .legend-scale ul {\n",
       "        margin: 0;\n",
       "        margin-bottom: 0px;\n",
       "        padding: 0;\n",
       "        float: left;\n",
       "        list-style: none;\n",
       "        }\n",
       "      .maplegend .legend-scale ul li {\n",
       "        list-style: none;\n",
       "        margin-left: 0;\n",
       "        line-height: 16px;\n",
       "        margin-bottom: 2px;\n",
       "        }\n",
       "      .maplegend ul.legend-labels li span {\n",
       "        display: block;\n",
       "        float: left;\n",
       "        height: 14px;\n",
       "        width: 14px;\n",
       "        margin-right: 5px;\n",
       "        margin-left: 0;\n",
       "        border: 0px solid #ccc;\n",
       "        }\n",
       "      .maplegend .legend-source {\n",
       "        color: #777;\n",
       "        clear: both;\n",
       "        }\n",
       "      .maplegend a {\n",
       "        color: #777;\n",
       "        }\n",
       "    &lt;/style&gt;\n",
       "    \n",
       "&lt;/head&gt;\n",
       "&lt;body&gt;\n",
       "    \n",
       "    \n",
       "    &lt;div id=&#x27;maplegend obs_estac&#x27; class=&#x27;maplegend&#x27;&gt;\n",
       "        &lt;div class=&#x27;legend-title&#x27;&gt;obs_estac&lt;/div&gt;\n",
       "        &lt;div class=&#x27;legend-scale&#x27;&gt;\n",
       "            &lt;ul class=&#x27;legend-labels&#x27;&gt;\n",
       "                &lt;li&gt;&lt;span style=&#x27;background:#440154&#x27;&gt;&lt;/span&gt;Activa&lt;/li&gt;\n",
       "                &lt;li&gt;&lt;span style=&#x27;background:#fde725&#x27;&gt;&lt;/span&gt;Inactiva&lt;/li&gt;\n",
       "            &lt;/ul&gt;\n",
       "        &lt;/div&gt;\n",
       "    &lt;/div&gt;\n",
       "    \n",
       "    \n",
       "            &lt;div class=&quot;folium-map&quot; id=&quot;map_3879c584f5fa0cd8e9a1d9665096839d&quot; &gt;&lt;/div&gt;\n",
       "        \n",
       "&lt;/body&gt;\n",
       "&lt;script&gt;\n",
       "    \n",
       "    \n",
       "            var map_3879c584f5fa0cd8e9a1d9665096839d = L.map(\n",
       "                &quot;map_3879c584f5fa0cd8e9a1d9665096839d&quot;,\n",
       "                {\n",
       "                    center: [19.320579586051654, -99.15289780772773],\n",
       "                    crs: L.CRS.EPSG3857,\n",
       "                    ...{\n",
       "  &quot;zoom&quot;: 10,\n",
       "  &quot;zoomControl&quot;: true,\n",
       "  &quot;preferCanvas&quot;: false,\n",
       "}\n",
       "\n",
       "                }\n",
       "            );\n",
       "            L.control.scale().addTo(map_3879c584f5fa0cd8e9a1d9665096839d);\n",
       "\n",
       "            \n",
       "\n",
       "        \n",
       "    \n",
       "            var tile_layer_dfab1d15d5aa2f2ab0a0b701a8ae108f = L.tileLayer(\n",
       "                &quot;https://tile.openstreetmap.org/{z}/{x}/{y}.png&quot;,\n",
       "                {\n",
       "  &quot;minZoom&quot;: 0,\n",
       "  &quot;maxZoom&quot;: 19,\n",
       "  &quot;maxNativeZoom&quot;: 19,\n",
       "  &quot;noWrap&quot;: false,\n",
       "  &quot;attribution&quot;: &quot;\\u0026copy; \\u003ca href=\\&quot;https://www.openstreetmap.org/copyright\\&quot;\\u003eOpenStreetMap\\u003c/a\\u003e contributors&quot;,\n",
       "  &quot;subdomains&quot;: &quot;abc&quot;,\n",
       "  &quot;detectRetina&quot;: false,\n",
       "  &quot;tms&quot;: false,\n",
       "  &quot;opacity&quot;: 1,\n",
       "}\n",
       "\n",
       "            );\n",
       "        \n",
       "    \n",
       "            tile_layer_dfab1d15d5aa2f2ab0a0b701a8ae108f.addTo(map_3879c584f5fa0cd8e9a1d9665096839d);\n",
       "        \n",
       "    \n",
       "            map_3879c584f5fa0cd8e9a1d9665096839d.fitBounds(\n",
       "                [[19.04836946169958, -99.36562781416902], [19.59278971040373, -98.94016780128645]],\n",
       "                {}\n",
       "            );\n",
       "        \n",
       "    \n",
       "        function geo_json_cd18d17df81ee2d7154187b150bda0d5_styler(feature) {\n",
       "            switch(feature.id) {\n",
       "                default:\n",
       "                    return {&quot;color&quot;: &quot;red&quot;, &quot;fillColor&quot;: &quot;red&quot;, &quot;fillOpacity&quot;: 0.5, &quot;weight&quot;: 2};\n",
       "            }\n",
       "        }\n",
       "        function geo_json_cd18d17df81ee2d7154187b150bda0d5_highlighter(feature) {\n",
       "            switch(feature.id) {\n",
       "                default:\n",
       "                    return {&quot;fillOpacity&quot;: 0.75};\n",
       "            }\n",
       "        }\n",
       "        function geo_json_cd18d17df81ee2d7154187b150bda0d5_pointToLayer(feature, latlng) {\n",
       "            var opts = {&quot;bubblingMouseEvents&quot;: true, &quot;color&quot;: &quot;#3388ff&quot;, &quot;dashArray&quot;: null, &quot;dashOffset&quot;: null, &quot;fill&quot;: true, &quot;fillColor&quot;: &quot;#3388ff&quot;, &quot;fillOpacity&quot;: 0.2, &quot;fillRule&quot;: &quot;evenodd&quot;, &quot;lineCap&quot;: &quot;round&quot;, &quot;lineJoin&quot;: &quot;round&quot;, &quot;opacity&quot;: 1.0, &quot;radius&quot;: 2, &quot;stroke&quot;: true, &quot;weight&quot;: 3};\n",
       "            \n",
       "            let style = geo_json_cd18d17df81ee2d7154187b150bda0d5_styler(feature)\n",
       "            Object.assign(opts, style)\n",
       "            \n",
       "            return new L.CircleMarker(latlng, opts)\n",
       "        }\n",
       "\n",
       "        function geo_json_cd18d17df81ee2d7154187b150bda0d5_onEachFeature(feature, layer) {\n",
       "            layer.on({\n",
       "                mouseout: function(e) {\n",
       "                    if(typeof e.target.setStyle === &quot;function&quot;){\n",
       "                            geo_json_cd18d17df81ee2d7154187b150bda0d5.resetStyle(e.target);\n",
       "                    }\n",
       "                },\n",
       "                mouseover: function(e) {\n",
       "                    if(typeof e.target.setStyle === &quot;function&quot;){\n",
       "                        const highlightStyle = geo_json_cd18d17df81ee2d7154187b150bda0d5_highlighter(e.target.feature)\n",
       "                        e.target.setStyle(highlightStyle);\n",
       "                    }\n",
       "                },\n",
       "            });\n",
       "        };\n",
       "        var geo_json_cd18d17df81ee2d7154187b150bda0d5 = L.geoJson(null, {\n",
       "                onEachFeature: geo_json_cd18d17df81ee2d7154187b150bda0d5_onEachFeature,\n",
       "            \n",
       "                style: geo_json_cd18d17df81ee2d7154187b150bda0d5_styler,\n",
       "                pointToLayer: geo_json_cd18d17df81ee2d7154187b150bda0d5_pointToLayer,\n",
       "            ...{\n",
       "  &quot;alpha&quot;: 0.5,\n",
       "}\n",
       "        });\n",
       "\n",
       "        function geo_json_cd18d17df81ee2d7154187b150bda0d5_add (data) {\n",
       "            geo_json_cd18d17df81ee2d7154187b150bda0d5\n",
       "                .addData(data);\n",
       "        }\n",
       "            geo_json_cd18d17df81ee2d7154187b150bda0d5_add({&quot;bbox&quot;: [-99.36562781416902, 19.04836946169958, -98.94016780128645, 19.59278971040373], &quot;features&quot;: [{&quot;bbox&quot;: [-99.36562781416902, 19.04836946169958, -98.94016780128645, 19.59278971040373], &quot;geometry&quot;: {&quot;coordinates&quot;: [[[-98.94036548370357, 19.04871950807017], [-98.94016780128645, 19.59278971040373], [-99.36562781416902, 19.59242888232859], [-99.36441983098476, 19.04836946169958], [-98.94036548370357, 19.04871950807017]]], &quot;type&quot;: &quot;Polygon&quot;}, &quot;id&quot;: &quot;0&quot;, &quot;properties&quot;: {&quot;__folium_color&quot;: &quot;red&quot;}, &quot;type&quot;: &quot;Feature&quot;}], &quot;type&quot;: &quot;FeatureCollection&quot;});\n",
       "\n",
       "        \n",
       "    \n",
       "    geo_json_cd18d17df81ee2d7154187b150bda0d5.bindTooltip(\n",
       "    function(layer){\n",
       "    let div = L.DomUtil.create(&#x27;div&#x27;);\n",
       "    \n",
       "    return div\n",
       "    }\n",
       "    ,{\n",
       "  &quot;sticky&quot;: true,\n",
       "  &quot;className&quot;: &quot;foliumtooltip&quot;,\n",
       "});\n",
       "                     \n",
       "    \n",
       "            geo_json_cd18d17df81ee2d7154187b150bda0d5.addTo(map_3879c584f5fa0cd8e9a1d9665096839d);\n",
       "        \n",
       "    \n",
       "        function geo_json_462d0146350d746dea0ee40f062da311_styler(feature) {\n",
       "            switch(feature.id) {\n",
       "                case &quot;0&quot;: case &quot;1&quot;: case &quot;2&quot;: case &quot;4&quot;: case &quot;7&quot;: case &quot;8&quot;: case &quot;11&quot;: case &quot;12&quot;: case &quot;13&quot;: case &quot;14&quot;: case &quot;16&quot;: case &quot;17&quot;: case &quot;18&quot;: case &quot;19&quot;: case &quot;20&quot;: case &quot;22&quot;: case &quot;24&quot;: case &quot;25&quot;: case &quot;27&quot;: case &quot;28&quot;: case &quot;29&quot;: case &quot;31&quot;: case &quot;32&quot;: case &quot;33&quot;: case &quot;35&quot;: case &quot;36&quot;: case &quot;37&quot;: case &quot;39&quot;: case &quot;40&quot;: case &quot;42&quot;: case &quot;43&quot;: case &quot;47&quot;: case &quot;48&quot;: case &quot;49&quot;: case &quot;50&quot;: case &quot;51&quot;: case &quot;52&quot;: case &quot;54&quot;: case &quot;56&quot;: case &quot;57&quot;: case &quot;58&quot;: case &quot;59&quot;: case &quot;60&quot;: case &quot;61&quot;: case &quot;62&quot;: case &quot;64&quot;: case &quot;65&quot;: case &quot;67&quot;: case &quot;68&quot;: \n",
       "                    return {&quot;color&quot;: &quot;#440154&quot;, &quot;fillColor&quot;: &quot;#440154&quot;, &quot;fillOpacity&quot;: 0.5, &quot;weight&quot;: 2};\n",
       "                default:\n",
       "                    return {&quot;color&quot;: &quot;#fde725&quot;, &quot;fillColor&quot;: &quot;#fde725&quot;, &quot;fillOpacity&quot;: 0.5, &quot;weight&quot;: 2};\n",
       "            }\n",
       "        }\n",
       "        function geo_json_462d0146350d746dea0ee40f062da311_highlighter(feature) {\n",
       "            switch(feature.id) {\n",
       "                default:\n",
       "                    return {&quot;fillOpacity&quot;: 0.75};\n",
       "            }\n",
       "        }\n",
       "        function geo_json_462d0146350d746dea0ee40f062da311_pointToLayer(feature, latlng) {\n",
       "            var opts = {&quot;bubblingMouseEvents&quot;: true, &quot;color&quot;: &quot;#3388ff&quot;, &quot;dashArray&quot;: null, &quot;dashOffset&quot;: null, &quot;fill&quot;: true, &quot;fillColor&quot;: &quot;#3388ff&quot;, &quot;fillOpacity&quot;: 0.2, &quot;fillRule&quot;: &quot;evenodd&quot;, &quot;lineCap&quot;: &quot;round&quot;, &quot;lineJoin&quot;: &quot;round&quot;, &quot;opacity&quot;: 1.0, &quot;radius&quot;: 5, &quot;stroke&quot;: true, &quot;weight&quot;: 3};\n",
       "            \n",
       "            let style = geo_json_462d0146350d746dea0ee40f062da311_styler(feature)\n",
       "            Object.assign(opts, style)\n",
       "            \n",
       "            return new L.CircleMarker(latlng, opts)\n",
       "        }\n",
       "\n",
       "        function geo_json_462d0146350d746dea0ee40f062da311_onEachFeature(feature, layer) {\n",
       "            layer.on({\n",
       "                mouseout: function(e) {\n",
       "                    if(typeof e.target.setStyle === &quot;function&quot;){\n",
       "                            geo_json_462d0146350d746dea0ee40f062da311.resetStyle(e.target);\n",
       "                    }\n",
       "                },\n",
       "                mouseover: function(e) {\n",
       "                    if(typeof e.target.setStyle === &quot;function&quot;){\n",
       "                        const highlightStyle = geo_json_462d0146350d746dea0ee40f062da311_highlighter(e.target.feature)\n",
       "                        e.target.setStyle(highlightStyle);\n",
       "                    }\n",
       "                },\n",
       "            });\n",
       "        };\n",
       "        var geo_json_462d0146350d746dea0ee40f062da311 = L.geoJson(null, {\n",
       "                onEachFeature: geo_json_462d0146350d746dea0ee40f062da311_onEachFeature,\n",
       "            \n",
       "                style: geo_json_462d0146350d746dea0ee40f062da311_styler,\n",
       "                pointToLayer: geo_json_462d0146350d746dea0ee40f062da311_pointToLayer,\n",
       "            ...{\n",
       "}\n",
       "        });\n",
       "\n",
       "        function geo_json_462d0146350d746dea0ee40f062da311_add (data) {\n",
       "            geo_json_462d0146350d746dea0ee40f062da311\n",
       "                .addData(data);\n",
       "        }\n",
       "            geo_json_462d0146350d746dea0ee40f062da311_add({&quot;bbox&quot;: [-99.38052, 19.154286, -98.88608800000002, 19.722186000000004], &quot;features&quot;: [{&quot;bbox&quot;: [-98.912003, 19.635500999999998, -98.912003, 19.635500999999998], &quot;geometry&quot;: {&quot;coordinates&quot;: [-98.912003, 19.635500999999998], &quot;type&quot;: &quot;Point&quot;}, &quot;id&quot;: &quot;0&quot;, &quot;properties&quot;: {&quot;__folium_color&quot;: &quot;#440154&quot;, &quot;alt&quot;: 2198.0, &quot;cve_estac&quot;: &quot;ACO&quot;, &quot;first_date&quot;: &quot;2007-07-20 08:00:00&quot;, &quot;id_station&quot;: 484150020109, &quot;last_date&quot;: &quot;2025-01-31 23:00:00&quot;, &quot;latitud&quot;: 19.635501, &quot;longitud&quot;: -98.912003, &quot;nom_estac&quot;: &quot;Acolman&quot;, &quot;obs_estac&quot;: &quot;Activa&quot;, &quot;pollutants&quot;: &quot;[\\u0027co\\u0027, \\u0027no\\u0027, \\u0027no2\\u0027, \\u0027nox\\u0027, \\u0027o3\\u0027, \\u0027pm10\\u0027, \\u0027pm2\\u0027, \\u0027rh\\u0027, \\u0027so2\\u0027, \\u0027tmp\\u0027, \\u0027wdr\\u0027, \\u0027wsp\\u0027]&quot;}, &quot;type&quot;: &quot;Feature&quot;}, {&quot;bbox&quot;: [-99.162611, 19.154286, -99.162611, 19.154286], &quot;geometry&quot;: {&quot;coordinates&quot;: [-99.162611, 19.154286], &quot;type&quot;: &quot;Point&quot;}, &quot;id&quot;: &quot;1&quot;, &quot;properties&quot;: {&quot;__folium_color&quot;: &quot;#440154&quot;, &quot;alt&quot;: 2942.0, &quot;cve_estac&quot;: &quot;AJU&quot;, &quot;first_date&quot;: &quot;2015-01-01 00:00:00&quot;, &quot;id_station&quot;: 484090120400, &quot;last_date&quot;: &quot;2025-01-31 23:00:00&quot;, &quot;latitud&quot;: 19.154286, &quot;longitud&quot;: -99.162611, &quot;nom_estac&quot;: &quot;Ajusco&quot;, &quot;obs_estac&quot;: &quot;Activa&quot;, &quot;pollutants&quot;: &quot;[\\u0027co\\u0027, \\u0027no\\u0027, \\u0027no2\\u0027, \\u0027nox\\u0027, \\u0027o3\\u0027, \\u0027pm10\\u0027, \\u0027pm2\\u0027, \\u0027rh\\u0027, \\u0027so2\\u0027, \\u0027tmp\\u0027, \\u0027wdr\\u0027, \\u0027wsp\\u0027]&quot;}, &quot;type&quot;: &quot;Feature&quot;}, {&quot;bbox&quot;: [-99.207744, 19.272161, -99.207744, 19.272161], &quot;geometry&quot;: {&quot;coordinates&quot;: [-99.207744, 19.272161], &quot;type&quot;: &quot;Point&quot;}, &quot;id&quot;: &quot;2&quot;, &quot;properties&quot;: {&quot;__folium_color&quot;: &quot;#440154&quot;, &quot;alt&quot;: 2548.0, &quot;cve_estac&quot;: &quot;AJM&quot;, &quot;first_date&quot;: &quot;2015-01-01 00:00:00&quot;, &quot;id_station&quot;: 484090120609, &quot;last_date&quot;: &quot;2025-01-31 23:00:00&quot;, &quot;latitud&quot;: 19.272161, &quot;longitud&quot;: -99.207744, &quot;nom_estac&quot;: &quot;Ajusco Medio&quot;, &quot;obs_estac&quot;: &quot;Activa&quot;, &quot;pollutants&quot;: &quot;[\\u0027co\\u0027, \\u0027no\\u0027, \\u0027no2\\u0027, \\u0027nox\\u0027, \\u0027o3\\u0027, \\u0027pm10\\u0027, \\u0027pm2\\u0027, \\u0027rh\\u0027, \\u0027so2\\u0027, \\u0027tmp\\u0027, \\u0027wdr\\u0027, \\u0027wsp\\u0027]&quot;}, &quot;type&quot;: &quot;Feature&quot;}, {&quot;bbox&quot;: [-99.074549, 19.470218, -99.074549, 19.470218], &quot;geometry&quot;: {&quot;coordinates&quot;: [-99.074549, 19.470218], &quot;type&quot;: &quot;Point&quot;}, &quot;id&quot;: &quot;3&quot;, &quot;properties&quot;: {&quot;__folium_color&quot;: &quot;#fde725&quot;, &quot;alt&quot;: 2200.0, &quot;cve_estac&quot;: &quot;ARA&quot;, &quot;first_date&quot;: &quot;2005-01-01 00:00:00&quot;, &quot;id_station&quot;: 484090050301, &quot;last_date&quot;: &quot;2010-07-14 07:00:00&quot;, &quot;latitud&quot;: 19.470218, &quot;longitud&quot;: -99.074549, &quot;nom_estac&quot;: &quot;Arag\\u00f3n&quot;, &quot;obs_estac&quot;: &quot;Inactiva&quot;, &quot;pollutants&quot;: &quot;[\\u0027co\\u0027, \\u0027so2\\u0027]&quot;}, &quot;type&quot;: &quot;Feature&quot;}, {&quot;bbox&quot;: [-99.25413300000001, 19.576962999999996, -99.25413300000001, 19.576962999999996], &quot;geometry&quot;: {&quot;coordinates&quot;: [-99.25413300000001, 19.576962999999996], &quot;type&quot;: &quot;Point&quot;}, &quot;id&quot;: &quot;4&quot;, &quot;properties&quot;: {&quot;__folium_color&quot;: &quot;#440154&quot;, &quot;alt&quot;: 2341.0, &quot;cve_estac&quot;: &quot;ATI&quot;, &quot;first_date&quot;: &quot;2005-01-01 00:00:00&quot;, &quot;id_station&quot;: 484150130101, &quot;last_date&quot;: &quot;2025-01-31 23:00:00&quot;, &quot;latitud&quot;: 19.576963, &quot;longitud&quot;: -99.254133, &quot;nom_estac&quot;: &quot;Atizapan&quot;, &quot;obs_estac&quot;: &quot;Activa&quot;, &quot;pollutants&quot;: &quot;[\\u0027co\\u0027, \\u0027no\\u0027, \\u0027no2\\u0027, \\u0027nox\\u0027, \\u0027o3\\u0027, \\u0027pm10\\u0027, \\u0027pm2\\u0027, \\u0027rh\\u0027, \\u0027so2\\u0027, \\u0027tmp\\u0027, \\u0027wdr\\u0027, \\u0027wsp\\u0027]&quot;}, &quot;type&quot;: &quot;Feature&quot;}, {&quot;bbox&quot;: [-99.198657, 19.487727999999997, -99.198657, 19.487727999999997], &quot;geometry&quot;: {&quot;coordinates&quot;: [-99.198657, 19.487727999999997], &quot;type&quot;: &quot;Point&quot;}, &quot;id&quot;: &quot;5&quot;, &quot;properties&quot;: {&quot;__folium_color&quot;: &quot;#fde725&quot;, &quot;alt&quot;: 2279.0, &quot;cve_estac&quot;: &quot;AZC&quot;, &quot;first_date&quot;: &quot;2005-01-01 00:00:00&quot;, &quot;id_station&quot;: 484090020201, &quot;last_date&quot;: &quot;2010-12-31 23:00:00&quot;, &quot;latitud&quot;: 19.487728, &quot;longitud&quot;: -99.198657, &quot;nom_estac&quot;: &quot;Azcapotzalco&quot;, &quot;obs_estac&quot;: &quot;Inactiva&quot;, &quot;pollutants&quot;: &quot;[\\u0027co\\u0027, \\u0027no\\u0027, \\u0027no2\\u0027, \\u0027nox\\u0027, \\u0027o3\\u0027, \\u0027so2\\u0027]&quot;}, &quot;type&quot;: &quot;Feature&quot;}, {&quot;bbox&quot;: [-99.159596, 19.370464, -99.159596, 19.370464], &quot;geometry&quot;: {&quot;coordinates&quot;: [-99.159596, 19.370464], &quot;type&quot;: &quot;Point&quot;}, &quot;id&quot;: &quot;6&quot;, &quot;properties&quot;: {&quot;__folium_color&quot;: &quot;#fde725&quot;, &quot;alt&quot;: 2249.0, &quot;cve_estac&quot;: &quot;BJU&quot;, &quot;first_date&quot;: &quot;2015-08-01 00:00:00&quot;, &quot;id_station&quot;: 484090140201, &quot;last_date&quot;: &quot;2024-12-11 14:00:00&quot;, &quot;latitud&quot;: 19.370464, &quot;longitud&quot;: -99.159596, &quot;nom_estac&quot;: &quot;Benito Ju\\u00e1rez&quot;, &quot;obs_estac&quot;: &quot;Inactiva&quot;, &quot;pollutants&quot;: &quot;[\\u0027co\\u0027, \\u0027no2\\u0027, \\u0027o3\\u0027, \\u0027pm10\\u0027, \\u0027pm2\\u0027, \\u0027rh\\u0027, \\u0027so2\\u0027, \\u0027tmp\\u0027, \\u0027wdr\\u0027, \\u0027wsp\\u0027]&quot;}, &quot;type&quot;: &quot;Feature&quot;}, {&quot;bbox&quot;: [-99.169794, 19.468404, -99.169794, 19.468404], &quot;geometry&quot;: {&quot;coordinates&quot;: [-99.169794, 19.468404], &quot;type&quot;: &quot;Point&quot;}, &quot;id&quot;: &quot;7&quot;, &quot;properties&quot;: {&quot;__folium_color&quot;: &quot;#440154&quot;, &quot;alt&quot;: 2233.0, &quot;cve_estac&quot;: &quot;CAM&quot;, &quot;first_date&quot;: &quot;2005-01-01 00:00:00&quot;, &quot;id_station&quot;: 484090020301, &quot;last_date&quot;: &quot;2025-01-31 23:00:00&quot;, &quot;latitud&quot;: 19.468404, &quot;longitud&quot;: -99.169794, &quot;nom_estac&quot;: &quot;Camarones&quot;, &quot;obs_estac&quot;: &quot;Activa&quot;, &quot;pollutants&quot;: &quot;[\\u0027co\\u0027, \\u0027no\\u0027, \\u0027no2\\u0027, \\u0027nox\\u0027, \\u0027o3\\u0027, \\u0027pm10\\u0027, \\u0027pm2\\u0027, \\u0027rh\\u0027, \\u0027so2\\u0027, \\u0027tmp\\u0027, \\u0027wdr\\u0027, \\u0027wsp\\u0027]&quot;}, &quot;type&quot;: &quot;Feature&quot;}, {&quot;bbox&quot;: [-99.176111, 19.326111000000004, -99.176111, 19.326111000000004], &quot;geometry&quot;: {&quot;coordinates&quot;: [-99.176111, 19.326111000000004], &quot;type&quot;: &quot;Point&quot;}, &quot;id&quot;: &quot;8&quot;, &quot;properties&quot;: {&quot;__folium_color&quot;: &quot;#440154&quot;, &quot;alt&quot;: 2294.0, &quot;cve_estac&quot;: &quot;CCA&quot;, &quot;first_date&quot;: &quot;2014-08-01 00:00:00&quot;, &quot;id_station&quot;: 484090030501, &quot;last_date&quot;: &quot;2025-01-31 23:00:00&quot;, &quot;latitud&quot;: 19.326111, &quot;longitud&quot;: -99.176111, &quot;nom_estac&quot;: &quot;Centro de Ciencias de la Atm\\u00f3sfera&quot;, &quot;obs_estac&quot;: &quot;Activa&quot;, &quot;pollutants&quot;: &quot;[\\u0027co\\u0027, \\u0027no\\u0027, \\u0027no2\\u0027, \\u0027nox\\u0027, \\u0027o3\\u0027, \\u0027pm10\\u0027, \\u0027pm2\\u0027, \\u0027rh\\u0027, \\u0027so2\\u0027, \\u0027tmp\\u0027, \\u0027wdr\\u0027, \\u0027wsp\\u0027]&quot;}, &quot;type&quot;: &quot;Feature&quot;}, {&quot;bbox&quot;: [-99.074678, 19.334731, -99.074678, 19.334731], &quot;geometry&quot;: {&quot;coordinates&quot;: [-99.074678, 19.334731], &quot;type&quot;: &quot;Point&quot;}, &quot;id&quot;: &quot;9&quot;, &quot;properties&quot;: {&quot;__folium_color&quot;: &quot;#fde725&quot;, &quot;alt&quot;: 2219.0, &quot;cve_estac&quot;: &quot;CES&quot;, &quot;first_date&quot;: &quot;2005-01-01 00:00:00&quot;, &quot;id_station&quot;: 484090070111, &quot;last_date&quot;: &quot;2010-12-31 23:00:00&quot;, &quot;latitud&quot;: 19.334731, &quot;longitud&quot;: -99.074678, &quot;nom_estac&quot;: &quot;Cerro de la Estrella&quot;, &quot;obs_estac&quot;: &quot;Inactiva&quot;, &quot;pollutants&quot;: &quot;[\\u0027co\\u0027, \\u0027no\\u0027, \\u0027no2\\u0027, \\u0027nox\\u0027, \\u0027o3\\u0027, \\u0027pm10\\u0027, \\u0027rh\\u0027, \\u0027so2\\u0027, \\u0027tmp\\u0027, \\u0027wdr\\u0027, \\u0027wsp\\u0027]&quot;}, &quot;type&quot;: &quot;Feature&quot;}, {&quot;bbox&quot;: [-99.194279, 19.414393000000004, -99.194279, 19.414393000000004], &quot;geometry&quot;: {&quot;coordinates&quot;: [-99.194279, 19.414393000000004], &quot;type&quot;: &quot;Point&quot;}, &quot;id&quot;: &quot;10&quot;, &quot;properties&quot;: {&quot;__folium_color&quot;: &quot;#fde725&quot;, &quot;alt&quot;: 2287.0, &quot;cve_estac&quot;: &quot;CFE&quot;, &quot;first_date&quot;: null, &quot;id_station&quot;: 484090160102, &quot;last_date&quot;: null, &quot;latitud&quot;: 19.414393, &quot;longitud&quot;: -99.194279, &quot;nom_estac&quot;: &quot;Museo Tecnol\\u00f3gico de la CFE&quot;, &quot;obs_estac&quot;: &quot;Inactiva&quot;, &quot;pollutants&quot;: null}, &quot;type&quot;: &quot;Feature&quot;}, {&quot;bbox&quot;: [-98.88608800000002, 19.26694799999999, -98.88608800000002, 19.26694799999999], &quot;geometry&quot;: {&quot;coordinates&quot;: [-98.88608800000002, 19.26694799999999], &quot;type&quot;: &quot;Point&quot;}, &quot;id&quot;: &quot;11&quot;, &quot;properties&quot;: {&quot;__folium_color&quot;: &quot;#440154&quot;, &quot;alt&quot;: 2253.0, &quot;cve_estac&quot;: &quot;CHO&quot;, &quot;first_date&quot;: &quot;2007-07-20 08:00:00&quot;, &quot;id_station&quot;: 484150250109, &quot;last_date&quot;: &quot;2025-01-31 23:00:00&quot;, &quot;latitud&quot;: 19.266948, &quot;longitud&quot;: -98.886088, &quot;nom_estac&quot;: &quot;Chalco&quot;, &quot;obs_estac&quot;: &quot;Activa&quot;, &quot;pollutants&quot;: &quot;[\\u0027co\\u0027, \\u0027no\\u0027, \\u0027no2\\u0027, \\u0027nox\\u0027, \\u0027o3\\u0027, \\u0027pm10\\u0027, \\u0027pm2\\u0027, \\u0027rh\\u0027, \\u0027so2\\u0027, \\u0027tmp\\u0027, \\u0027wdr\\u0027, \\u0027wsp\\u0027]&quot;}, &quot;type&quot;: &quot;Feature&quot;}, {&quot;bbox&quot;: [-99.02604, 19.265346, -99.02604, 19.265346], &quot;geometry&quot;: {&quot;coordinates&quot;: [-99.02604, 19.265346], &quot;type&quot;: &quot;Point&quot;}, &quot;id&quot;: &quot;12&quot;, &quot;properties&quot;: {&quot;__folium_color&quot;: &quot;#440154&quot;, &quot;alt&quot;: 2242.0, &quot;cve_estac&quot;: &quot;COR&quot;, &quot;first_date&quot;: null, &quot;id_station&quot;: 484090130204, &quot;last_date&quot;: null, &quot;latitud&quot;: 19.265346, &quot;longitud&quot;: -99.02604, &quot;nom_estac&quot;: &quot;CORENA&quot;, &quot;obs_estac&quot;: &quot;Activa&quot;, &quot;pollutants&quot;: null}, &quot;type&quot;: &quot;Feature&quot;}, {&quot;bbox&quot;: [-99.157101, 19.350258, -99.157101, 19.350258], &quot;geometry&quot;: {&quot;coordinates&quot;: [-99.157101, 19.350258], &quot;type&quot;: &quot;Point&quot;}, &quot;id&quot;: &quot;13&quot;, &quot;properties&quot;: {&quot;__folium_color&quot;: &quot;#440154&quot;, &quot;alt&quot;: 2260.0, &quot;cve_estac&quot;: &quot;COY&quot;, &quot;first_date&quot;: &quot;2005-01-01 00:00:00&quot;, &quot;id_station&quot;: 484090030303, &quot;last_date&quot;: &quot;2017-09-18 23:00:00&quot;, &quot;latitud&quot;: 19.350258, &quot;longitud&quot;: -99.157101, &quot;nom_estac&quot;: &quot;Coyoac\\u00e1n&quot;, &quot;obs_estac&quot;: &quot;Activa&quot;, &quot;pollutants&quot;: &quot;[\\u0027co\\u0027, \\u0027no\\u0027, \\u0027no2\\u0027, \\u0027nox\\u0027, \\u0027o3\\u0027, \\u0027pm10\\u0027, \\u0027pm2\\u0027, \\u0027rh\\u0027, \\u0027so2\\u0027, \\u0027tmp\\u0027, \\u0027wdr\\u0027, \\u0027wsp\\u0027]&quot;}, &quot;type&quot;: &quot;Feature&quot;}, {&quot;bbox&quot;: [-99.291705, 19.365312999999993, -99.291705, 19.365312999999993], &quot;geometry&quot;: {&quot;coordinates&quot;: [-99.291705, 19.365312999999993], &quot;type&quot;: &quot;Point&quot;}, &quot;id&quot;: &quot;14&quot;, &quot;properties&quot;: {&quot;__folium_color&quot;: &quot;#440154&quot;, &quot;alt&quot;: 2704.0, &quot;cve_estac&quot;: &quot;CUA&quot;, &quot;first_date&quot;: &quot;2005-01-01 00:00:00&quot;, &quot;id_station&quot;: 484090040109, &quot;last_date&quot;: &quot;2025-01-31 23:00:00&quot;, &quot;latitud&quot;: 19.365313, &quot;longitud&quot;: -99.291705, &quot;nom_estac&quot;: &quot;Cuajimalpa&quot;, &quot;obs_estac&quot;: &quot;Activa&quot;, &quot;pollutants&quot;: &quot;[\\u0027co\\u0027, \\u0027no\\u0027, \\u0027no2\\u0027, \\u0027nox\\u0027, \\u0027o3\\u0027, \\u0027pm10\\u0027, \\u0027pm2\\u0027, \\u0027rh\\u0027, \\u0027so2\\u0027, \\u0027tmp\\u0027, \\u0027wdr\\u0027, \\u0027wsp\\u0027]&quot;}, &quot;type&quot;: &quot;Feature&quot;}, {&quot;bbox&quot;: [-99.165849, 19.469859, -99.165849, 19.469859], &quot;geometry&quot;: {&quot;coordinates&quot;: [-99.165849, 19.469859], &quot;type&quot;: &quot;Point&quot;}, &quot;id&quot;: &quot;15&quot;, &quot;properties&quot;: {&quot;__folium_color&quot;: &quot;#fde725&quot;, &quot;alt&quot;: 2255.0, &quot;cve_estac&quot;: &quot;CUI&quot;, &quot;first_date&quot;: null, &quot;id_station&quot;: 484090020101, &quot;last_date&quot;: null, &quot;latitud&quot;: 19.469859, &quot;longitud&quot;: -99.165849, &quot;nom_estac&quot;: &quot;Cuitl\\u00e1huac&quot;, &quot;obs_estac&quot;: &quot;Inactiva&quot;, &quot;pollutants&quot;: null}, &quot;type&quot;: &quot;Feature&quot;}, {&quot;bbox&quot;: [-99.198602, 19.722186000000004, -99.198602, 19.722186000000004], &quot;geometry&quot;: {&quot;coordinates&quot;: [-99.198602, 19.722186000000004], &quot;type&quot;: &quot;Point&quot;}, &quot;id&quot;: &quot;16&quot;, &quot;properties&quot;: {&quot;__folium_color&quot;: &quot;#440154&quot;, &quot;alt&quot;: 2263.0, &quot;cve_estac&quot;: &quot;CUT&quot;, &quot;first_date&quot;: &quot;2012-02-20 09:00:00&quot;, &quot;id_station&quot;: 484150950109, &quot;last_date&quot;: &quot;2025-01-31 23:00:00&quot;, &quot;latitud&quot;: 19.722186, &quot;longitud&quot;: -99.198602, &quot;nom_estac&quot;: &quot;Cuautitl\\u00e1n&quot;, &quot;obs_estac&quot;: &quot;Activa&quot;, &quot;pollutants&quot;: &quot;[\\u0027co\\u0027, \\u0027no\\u0027, \\u0027no2\\u0027, \\u0027nox\\u0027, \\u0027o3\\u0027, \\u0027pm10\\u0027, \\u0027pm2\\u0027, \\u0027rh\\u0027, \\u0027so2\\u0027, \\u0027tmp\\u0027, \\u0027wdr\\u0027, \\u0027wsp\\u0027]&quot;}, &quot;type&quot;: &quot;Feature&quot;}, {&quot;bbox&quot;: [-99.185774, 19.298819, -99.185774, 19.298819], &quot;geometry&quot;: {&quot;coordinates&quot;: [-99.185774, 19.298819], &quot;type&quot;: &quot;Point&quot;}, &quot;id&quot;: &quot;17&quot;, &quot;properties&quot;: {&quot;__folium_color&quot;: &quot;#440154&quot;, &quot;alt&quot;: 2305.0, &quot;cve_estac&quot;: &quot;DIC&quot;, &quot;first_date&quot;: null, &quot;id_station&quot;: 484090120304, &quot;last_date&quot;: null, &quot;latitud&quot;: 19.298819, &quot;longitud&quot;: -99.185774, &quot;nom_estac&quot;: &quot;Diconsa&quot;, &quot;obs_estac&quot;: &quot;Activa&quot;, &quot;pollutants&quot;: null}, &quot;type&quot;: &quot;Feature&quot;}, {&quot;bbox&quot;: [-99.203971, 19.271222, -99.203971, 19.271222], &quot;geometry&quot;: {&quot;coordinates&quot;: [-99.203971, 19.271222], &quot;type&quot;: &quot;Point&quot;}, &quot;id&quot;: &quot;18&quot;, &quot;properties&quot;: {&quot;__folium_color&quot;: &quot;#440154&quot;, &quot;alt&quot;: 2584.0, &quot;cve_estac&quot;: &quot;EAJ&quot;, &quot;first_date&quot;: null, &quot;id_station&quot;: 484090120404, &quot;last_date&quot;: null, &quot;latitud&quot;: 19.271222, &quot;longitud&quot;: -99.203971, &quot;nom_estac&quot;: &quot;Ecoguardas Ajusco&quot;, &quot;obs_estac&quot;: &quot;Activa&quot;, &quot;pollutants&quot;: null}, &quot;type&quot;: &quot;Feature&quot;}, {&quot;bbox&quot;: [-99.310635, 19.313356999999996, -99.310635, 19.313356999999996], &quot;geometry&quot;: {&quot;coordinates&quot;: [-99.310635, 19.313356999999996], &quot;type&quot;: &quot;Point&quot;}, &quot;id&quot;: &quot;19&quot;, &quot;properties&quot;: {&quot;__folium_color&quot;: &quot;#440154&quot;, &quot;alt&quot;: 2980.0, &quot;cve_estac&quot;: &quot;EDL&quot;, &quot;first_date&quot;: null, &quot;id_station&quot;: 484090040204, &quot;last_date&quot;: null, &quot;latitud&quot;: 19.313357, &quot;longitud&quot;: -99.310635, &quot;nom_estac&quot;: &quot;Exconv. Desierto Leones&quot;, &quot;obs_estac&quot;: &quot;Activa&quot;, &quot;pollutants&quot;: null}, &quot;type&quot;: &quot;Feature&quot;}, {&quot;bbox&quot;: [-99.243524, 19.482473, -99.243524, 19.482473], &quot;geometry&quot;: {&quot;coordinates&quot;: [-99.243524, 19.482473], &quot;type&quot;: &quot;Point&quot;}, &quot;id&quot;: &quot;20&quot;, &quot;properties&quot;: {&quot;__folium_color&quot;: &quot;#440154&quot;, &quot;alt&quot;: 2299.0, &quot;cve_estac&quot;: &quot;FAC&quot;, &quot;first_date&quot;: &quot;2005-01-01 00:00:00&quot;, &quot;id_station&quot;: 484150570109, &quot;last_date&quot;: &quot;2025-01-31 23:00:00&quot;, &quot;latitud&quot;: 19.482473, &quot;longitud&quot;: -99.243524, &quot;nom_estac&quot;: &quot;FES Acatl\\u00e1n&quot;, &quot;obs_estac&quot;: &quot;Activa&quot;, &quot;pollutants&quot;: &quot;[\\u0027co\\u0027, \\u0027no\\u0027, \\u0027no2\\u0027, \\u0027nox\\u0027, \\u0027o3\\u0027, \\u0027pm10\\u0027, \\u0027pm2\\u0027, \\u0027rh\\u0027, \\u0027so2\\u0027, \\u0027tmp\\u0027, \\u0027wdr\\u0027, \\u0027wsp\\u0027]&quot;}, &quot;type&quot;: &quot;Feature&quot;}, {&quot;bbox&quot;: [-99.17492, 19.299125999999998, -99.17492, 19.299125999999998], &quot;geometry&quot;: {&quot;coordinates&quot;: [-99.17492, 19.299125999999998], &quot;type&quot;: &quot;Point&quot;}, &quot;id&quot;: &quot;21&quot;, &quot;properties&quot;: {&quot;__folium_color&quot;: &quot;#fde725&quot;, &quot;alt&quot;: 2279.0, &quot;cve_estac&quot;: &quot;FAN&quot;, &quot;first_date&quot;: null, &quot;id_station&quot;: 484090120102, &quot;last_date&quot;: null, &quot;latitud&quot;: 19.299126, &quot;longitud&quot;: -99.17492, &quot;nom_estac&quot;: &quot;Felipe \\u00c1ngeles&quot;, &quot;obs_estac&quot;: &quot;Inactiva&quot;, &quot;pollutants&quot;: null}, &quot;type&quot;: &quot;Feature&quot;}, {&quot;bbox&quot;: [-99.094517, 19.482699999999994, -99.094517, 19.482699999999994], &quot;geometry&quot;: {&quot;coordinates&quot;: [-99.094517, 19.482699999999994], &quot;type&quot;: &quot;Point&quot;}, &quot;id&quot;: &quot;22&quot;, &quot;properties&quot;: {&quot;__folium_color&quot;: &quot;#440154&quot;, &quot;alt&quot;: 2227.0, &quot;cve_estac&quot;: &quot;GAM&quot;, &quot;first_date&quot;: &quot;2015-12-01 00:00:00&quot;, &quot;id_station&quot;: 484090050809, &quot;last_date&quot;: &quot;2025-01-31 23:00:00&quot;, &quot;latitud&quot;: 19.4827, &quot;longitud&quot;: -99.094517, &quot;nom_estac&quot;: &quot;Gustavo A. Madero&quot;, &quot;obs_estac&quot;: &quot;Activa&quot;, &quot;pollutants&quot;: &quot;[\\u0027co\\u0027, \\u0027no\\u0027, \\u0027no2\\u0027, \\u0027nox\\u0027, \\u0027o3\\u0027, \\u0027pm10\\u0027, \\u0027pm2\\u0027, \\u0027rh\\u0027, \\u0027so2\\u0027, \\u0027tmp\\u0027, \\u0027wdr\\u0027, \\u0027wsp\\u0027]&quot;}, &quot;type&quot;: &quot;Feature&quot;}, {&quot;bbox&quot;: [-99.083623, 19.420518000000005, -99.083623, 19.420518000000005], &quot;geometry&quot;: {&quot;coordinates&quot;: [-99.083623, 19.420518000000005], &quot;type&quot;: &quot;Point&quot;}, &quot;id&quot;: &quot;23&quot;, &quot;properties&quot;: {&quot;__folium_color&quot;: &quot;#fde725&quot;, &quot;alt&quot;: 2235.0, &quot;cve_estac&quot;: &quot;HAN&quot;, &quot;first_date&quot;: null, &quot;id_station&quot;: 484090170209, &quot;last_date&quot;: null, &quot;latitud&quot;: 19.420518, &quot;longitud&quot;: -99.083623, &quot;nom_estac&quot;: &quot;Hangares&quot;, &quot;obs_estac&quot;: &quot;Inactiva&quot;, &quot;pollutants&quot;: null}, &quot;type&quot;: &quot;Feature&quot;}, {&quot;bbox&quot;: [-99.152207, 19.411616999999996, -99.152207, 19.411616999999996], &quot;geometry&quot;: {&quot;coordinates&quot;: [-99.152207, 19.411616999999996], &quot;type&quot;: &quot;Point&quot;}, &quot;id&quot;: &quot;24&quot;, &quot;properties&quot;: {&quot;__folium_color&quot;: &quot;#440154&quot;, &quot;alt&quot;: 2234.0, &quot;cve_estac&quot;: &quot;HGM&quot;, &quot;first_date&quot;: &quot;2012-02-17 16:00:00&quot;, &quot;id_station&quot;: 484090150409, &quot;last_date&quot;: &quot;2025-01-31 23:00:00&quot;, &quot;latitud&quot;: 19.411617, &quot;longitud&quot;: -99.152207, &quot;nom_estac&quot;: &quot;Hospital General de M\\u00e9xico&quot;, &quot;obs_estac&quot;: &quot;Activa&quot;, &quot;pollutants&quot;: &quot;[\\u0027co\\u0027, \\u0027no\\u0027, \\u0027no2\\u0027, \\u0027nox\\u0027, \\u0027o3\\u0027, \\u0027pm10\\u0027, \\u0027pm2\\u0027, \\u0027rh\\u0027, \\u0027so2\\u0027, \\u0027tmp\\u0027, \\u0027wdr\\u0027, \\u0027wsp\\u0027]&quot;}, &quot;type&quot;: &quot;Feature&quot;}, {&quot;bbox&quot;: [-99.21536, 19.443319, -99.21536, 19.443319], &quot;geometry&quot;: {&quot;coordinates&quot;: [-99.21536, 19.443319], &quot;type&quot;: &quot;Point&quot;}, &quot;id&quot;: &quot;25&quot;, &quot;properties&quot;: {&quot;__folium_color&quot;: &quot;#440154&quot;, &quot;alt&quot;: 2314.0, &quot;cve_estac&quot;: &quot;IBM&quot;, &quot;first_date&quot;: null, &quot;id_station&quot;: 484090160504, &quot;last_date&quot;: null, &quot;latitud&quot;: 19.443319, &quot;longitud&quot;: -99.21536, &quot;nom_estac&quot;: &quot;Legaria&quot;, &quot;obs_estac&quot;: &quot;Activa&quot;, &quot;pollutants&quot;: null}, &quot;type&quot;: &quot;Feature&quot;}, {&quot;bbox&quot;: [-99.147294, 19.487561, -99.147294, 19.487561], &quot;geometry&quot;: {&quot;coordinates&quot;: [-99.147294, 19.487561], &quot;type&quot;: &quot;Point&quot;}, &quot;id&quot;: &quot;26&quot;, &quot;properties&quot;: {&quot;__folium_color&quot;: &quot;#fde725&quot;, &quot;alt&quot;: 2250.0, &quot;cve_estac&quot;: &quot;IMP&quot;, &quot;first_date&quot;: &quot;2005-01-01 00:00:00&quot;, &quot;id_station&quot;: 484090050209, &quot;last_date&quot;: &quot;2011-03-14 08:00:00&quot;, &quot;latitud&quot;: 19.487561, &quot;longitud&quot;: -99.147294, &quot;nom_estac&quot;: &quot;Inst. Mexicano del Petr\\u00f3leo&quot;, &quot;obs_estac&quot;: &quot;Inactiva&quot;, &quot;pollutants&quot;: &quot;[\\u0027co\\u0027, \\u0027rh\\u0027, \\u0027tmp\\u0027, \\u0027wdr\\u0027, \\u0027wsp\\u0027]&quot;}, &quot;type&quot;: &quot;Feature&quot;}, {&quot;bbox&quot;: [-99.38052, 19.291968000000004, -99.38052, 19.291968000000004], &quot;geometry&quot;: {&quot;coordinates&quot;: [-99.38052, 19.291968000000004], &quot;type&quot;: &quot;Point&quot;}, &quot;id&quot;: &quot;27&quot;, &quot;properties&quot;: {&quot;__folium_color&quot;: &quot;#440154&quot;, &quot;alt&quot;: 3082.0, &quot;cve_estac&quot;: &quot;INN&quot;, &quot;first_date&quot;: &quot;2015-08-19 00:00:00&quot;, &quot;id_station&quot;: 484150620109, &quot;last_date&quot;: &quot;2025-01-31 17:00:00&quot;, &quot;latitud&quot;: 19.291968, &quot;longitud&quot;: -99.38052, &quot;nom_estac&quot;: &quot;Investigaciones Nucleares&quot;, &quot;obs_estac&quot;: &quot;Activa&quot;, &quot;pollutants&quot;: &quot;[\\u0027co\\u0027, \\u0027o3\\u0027, \\u0027pm10\\u0027, \\u0027pm2\\u0027, \\u0027rh\\u0027, \\u0027so2\\u0027, \\u0027tmp\\u0027, \\u0027wdr\\u0027, \\u0027wsp\\u0027]&quot;}, &quot;type&quot;: &quot;Feature&quot;}, {&quot;bbox&quot;: [-99.117641, 19.384412999999995, -99.117641, 19.384412999999995], &quot;geometry&quot;: {&quot;coordinates&quot;: [-99.117641, 19.384412999999995], &quot;type&quot;: &quot;Point&quot;}, &quot;id&quot;: &quot;28&quot;, &quot;properties&quot;: {&quot;__folium_color&quot;: &quot;#440154&quot;, &quot;alt&quot;: 2238.0, &quot;cve_estac&quot;: &quot;IZT&quot;, &quot;first_date&quot;: &quot;2007-07-20 08:00:00&quot;, &quot;id_station&quot;: 484090060101, &quot;last_date&quot;: &quot;2025-01-31 23:00:00&quot;, &quot;latitud&quot;: 19.384413, &quot;longitud&quot;: -99.117641, &quot;nom_estac&quot;: &quot;Iztacalco&quot;, &quot;obs_estac&quot;: &quot;Activa&quot;, &quot;pollutants&quot;: &quot;[\\u0027co\\u0027, \\u0027no\\u0027, \\u0027no2\\u0027, \\u0027nox\\u0027, \\u0027o3\\u0027, \\u0027pm10\\u0027, \\u0027pm2\\u0027, \\u0027rh\\u0027, \\u0027so2\\u0027, \\u0027tmp\\u0027, \\u0027wdr\\u0027, \\u0027wsp\\u0027]&quot;}, &quot;type&quot;: &quot;Feature&quot;}, {&quot;bbox&quot;: [-99.147312, 19.483781, -99.147312, 19.483781], &quot;geometry&quot;: {&quot;coordinates&quot;: [-99.147312, 19.483781], &quot;type&quot;: &quot;Point&quot;}, &quot;id&quot;: &quot;29&quot;, &quot;properties&quot;: {&quot;__folium_color&quot;: &quot;#440154&quot;, &quot;alt&quot;: 2255.0, &quot;cve_estac&quot;: &quot;LAA&quot;, &quot;first_date&quot;: null, &quot;id_station&quot;: 484090050604, &quot;last_date&quot;: null, &quot;latitud&quot;: 19.483781, &quot;longitud&quot;: -99.147312, &quot;nom_estac&quot;: &quot;Lab. de Analisis Ambiental&quot;, &quot;obs_estac&quot;: &quot;Activa&quot;, &quot;pollutants&quot;: null}, &quot;type&quot;: &quot;Feature&quot;}, {&quot;bbox&quot;: [-99.135183, 19.442419999999995, -99.135183, 19.442419999999995], &quot;geometry&quot;: {&quot;coordinates&quot;: [-99.135183, 19.442419999999995], &quot;type&quot;: &quot;Point&quot;}, &quot;id&quot;: &quot;30&quot;, &quot;properties&quot;: {&quot;__folium_color&quot;: &quot;#fde725&quot;, &quot;alt&quot;: 2223.0, &quot;cve_estac&quot;: &quot;LAG&quot;, &quot;first_date&quot;: &quot;2005-01-01 00:00:00&quot;, &quot;id_station&quot;: 484090150101, &quot;last_date&quot;: &quot;2010-12-31 23:00:00&quot;, &quot;latitud&quot;: 19.44242, &quot;longitud&quot;: -99.135183, &quot;nom_estac&quot;: &quot;Lagunilla&quot;, &quot;obs_estac&quot;: &quot;Inactiva&quot;, &quot;pollutants&quot;: &quot;[\\u0027co\\u0027, \\u0027no\\u0027, \\u0027no2\\u0027, \\u0027nox\\u0027, \\u0027o3\\u0027, \\u0027so2\\u0027]&quot;}, &quot;type&quot;: &quot;Feature&quot;}, {&quot;bbox&quot;: [-99.039644, 19.578792, -99.039644, 19.578792], &quot;geometry&quot;: {&quot;coordinates&quot;: [-99.039644, 19.578792], &quot;type&quot;: &quot;Point&quot;}, &quot;id&quot;: &quot;31&quot;, &quot;properties&quot;: {&quot;__folium_color&quot;: &quot;#440154&quot;, &quot;alt&quot;: 2230.0, &quot;cve_estac&quot;: &quot;LLA&quot;, &quot;first_date&quot;: &quot;2005-09-01 12:00:00&quot;, &quot;id_station&quot;: 484150330201, &quot;last_date&quot;: &quot;2025-01-31 23:00:00&quot;, &quot;latitud&quot;: 19.578792, &quot;longitud&quot;: -99.039644, &quot;nom_estac&quot;: &quot;Los Laureles&quot;, &quot;obs_estac&quot;: &quot;Activa&quot;, &quot;pollutants&quot;: &quot;[\\u0027co\\u0027, \\u0027no\\u0027, \\u0027no2\\u0027, \\u0027nox\\u0027, \\u0027o3\\u0027, \\u0027pm10\\u0027, \\u0027pm2\\u0027, \\u0027rh\\u0027, \\u0027so2\\u0027, \\u0027tmp\\u0027, \\u0027wdr\\u0027, \\u0027wsp\\u0027]&quot;}, &quot;type&quot;: &quot;Feature&quot;}, {&quot;bbox&quot;: [-99.242062, 19.403, -99.242062, 19.403], &quot;geometry&quot;: {&quot;coordinates&quot;: [-99.242062, 19.403], &quot;type&quot;: &quot;Point&quot;}, &quot;id&quot;: &quot;32&quot;, &quot;properties&quot;: {&quot;__folium_color&quot;: &quot;#440154&quot;, &quot;alt&quot;: 2434.0, &quot;cve_estac&quot;: &quot;LOM&quot;, &quot;first_date&quot;: null, &quot;id_station&quot;: 484090160406, &quot;last_date&quot;: null, &quot;latitud&quot;: 19.403, &quot;longitud&quot;: -99.242062, &quot;nom_estac&quot;: &quot;Lomas&quot;, &quot;obs_estac&quot;: &quot;Activa&quot;, &quot;pollutants&quot;: null}, &quot;type&quot;: &quot;Feature&quot;}, {&quot;bbox&quot;: [-99.11772, 19.534727, -99.11772, 19.534727], &quot;geometry&quot;: {&quot;coordinates&quot;: [-99.11772, 19.534727], &quot;type&quot;: &quot;Point&quot;}, &quot;id&quot;: &quot;33&quot;, &quot;properties&quot;: {&quot;__folium_color&quot;: &quot;#440154&quot;, &quot;alt&quot;: 2302.0, &quot;cve_estac&quot;: &quot;LPR&quot;, &quot;first_date&quot;: &quot;2005-01-01 00:00:00&quot;, &quot;id_station&quot;: 484151040203, &quot;last_date&quot;: &quot;2025-01-31 23:00:00&quot;, &quot;latitud&quot;: 19.534727, &quot;longitud&quot;: -99.11772, &quot;nom_estac&quot;: &quot;La Presa&quot;, &quot;obs_estac&quot;: &quot;Activa&quot;, &quot;pollutants&quot;: &quot;[\\u0027co\\u0027, \\u0027no\\u0027, \\u0027no2\\u0027, \\u0027nox\\u0027, \\u0027o3\\u0027, \\u0027pm10\\u0027, \\u0027pm2\\u0027, \\u0027rh\\u0027, \\u0027so2\\u0027, \\u0027tmp\\u0027, \\u0027wdr\\u0027, \\u0027wsp\\u0027]&quot;}, &quot;type&quot;: &quot;Feature&quot;}, {&quot;bbox&quot;: [-99.117749, 19.46789, -99.117749, 19.46789], &quot;geometry&quot;: {&quot;coordinates&quot;: [-99.117749, 19.46789], &quot;type&quot;: &quot;Point&quot;}, &quot;id&quot;: &quot;34&quot;, &quot;properties&quot;: {&quot;__folium_color&quot;: &quot;#fde725&quot;, &quot;alt&quot;: 2228.0, &quot;cve_estac&quot;: &quot;LVI&quot;, &quot;first_date&quot;: &quot;2005-01-01 00:00:00&quot;, &quot;id_station&quot;: 484090050101, &quot;last_date&quot;: &quot;2010-12-31 23:00:00&quot;, &quot;latitud&quot;: 19.46789, &quot;longitud&quot;: -99.117749, &quot;nom_estac&quot;: &quot;La Villa&quot;, &quot;obs_estac&quot;: &quot;Inactiva&quot;, &quot;pollutants&quot;: &quot;[\\u0027pm10\\u0027, \\u0027so2\\u0027]&quot;}, &quot;type&quot;: &quot;Feature&quot;}, {&quot;bbox&quot;: [-99.131924, 19.429071, -99.131924, 19.429071], &quot;geometry&quot;: {&quot;coordinates&quot;: [-99.131924, 19.429071], &quot;type&quot;: &quot;Point&quot;}, &quot;id&quot;: &quot;35&quot;, &quot;properties&quot;: {&quot;__folium_color&quot;: &quot;#440154&quot;, &quot;alt&quot;: 2237.0, &quot;cve_estac&quot;: &quot;MCM&quot;, &quot;first_date&quot;: null, &quot;id_station&quot;: 484090150304, &quot;last_date&quot;: null, &quot;latitud&quot;: 19.429071, &quot;longitud&quot;: -99.131924, &quot;nom_estac&quot;: &quot;Museo de la Cd. de M\\u00e9xico&quot;, &quot;obs_estac&quot;: &quot;Activa&quot;, &quot;pollutants&quot;: null}, &quot;type&quot;: &quot;Feature&quot;}, {&quot;bbox&quot;: [-99.119594, 19.42460999999999, -99.119594, 19.42460999999999], &quot;geometry&quot;: {&quot;coordinates&quot;: [-99.119594, 19.42460999999999], &quot;type&quot;: &quot;Point&quot;}, &quot;id&quot;: &quot;36&quot;, &quot;properties&quot;: {&quot;__folium_color&quot;: &quot;#440154&quot;, &quot;alt&quot;: 2245.0, &quot;cve_estac&quot;: &quot;MER&quot;, &quot;first_date&quot;: &quot;2005-01-01 00:00:00&quot;, &quot;id_station&quot;: 484090170127, &quot;last_date&quot;: &quot;2025-01-31 23:00:00&quot;, &quot;latitud&quot;: 19.42461, &quot;longitud&quot;: -99.119594, &quot;nom_estac&quot;: &quot;Merced&quot;, &quot;obs_estac&quot;: &quot;Activa&quot;, &quot;pollutants&quot;: &quot;[\\u0027co\\u0027, \\u0027no\\u0027, \\u0027no2\\u0027, \\u0027nox\\u0027, \\u0027o3\\u0027, \\u0027pm10\\u0027, \\u0027pm2\\u0027, \\u0027rh\\u0027, \\u0027so2\\u0027, \\u0027tmp\\u0027, \\u0027wdr\\u0027, \\u0027wsp\\u0027]&quot;}, &quot;type&quot;: &quot;Feature&quot;}, {&quot;bbox&quot;: [-99.20266, 19.40405, -99.20266, 19.40405], &quot;geometry&quot;: {&quot;coordinates&quot;: [-99.20266, 19.40405], &quot;type&quot;: &quot;Point&quot;}, &quot;id&quot;: &quot;37&quot;, &quot;properties&quot;: {&quot;__folium_color&quot;: &quot;#440154&quot;, &quot;alt&quot;: 2327.0, &quot;cve_estac&quot;: &quot;MGH&quot;, &quot;first_date&quot;: &quot;2015-01-01 00:00:00&quot;, &quot;id_station&quot;: 484090160609, &quot;last_date&quot;: &quot;2025-01-31 23:00:00&quot;, &quot;latitud&quot;: 19.40405, &quot;longitud&quot;: -99.20266, &quot;nom_estac&quot;: &quot;Mguel Hidalgo&quot;, &quot;obs_estac&quot;: &quot;Activa&quot;, &quot;pollutants&quot;: &quot;[\\u0027co\\u0027, \\u0027no\\u0027, \\u0027no2\\u0027, \\u0027nox\\u0027, \\u0027o3\\u0027, \\u0027pm10\\u0027, \\u0027pm2\\u0027, \\u0027rh\\u0027, \\u0027so2\\u0027, \\u0027tmp\\u0027, \\u0027wdr\\u0027, \\u0027wsp\\u0027]&quot;}, &quot;type&quot;: &quot;Feature&quot;}, {&quot;bbox&quot;: [-99.16288500000002, 19.421439999999997, -99.16288500000002, 19.421439999999997], &quot;geometry&quot;: {&quot;coordinates&quot;: [-99.16288500000002, 19.421439999999997], &quot;type&quot;: &quot;Point&quot;}, &quot;id&quot;: &quot;38&quot;, &quot;properties&quot;: {&quot;__folium_color&quot;: &quot;#fde725&quot;, &quot;alt&quot;: 2231.0, &quot;cve_estac&quot;: &quot;MIN&quot;, &quot;first_date&quot;: null, &quot;id_station&quot;: 484090150201, &quot;last_date&quot;: null, &quot;latitud&quot;: 19.42144, &quot;longitud&quot;: -99.162885, &quot;nom_estac&quot;: &quot;Metro Insurgentes&quot;, &quot;obs_estac&quot;: &quot;Inactiva&quot;, &quot;pollutants&quot;: null}, &quot;type&quot;: &quot;Feature&quot;}, {&quot;bbox&quot;: [-98.902853, 19.460415, -98.902853, 19.460415], &quot;geometry&quot;: {&quot;coordinates&quot;: [-98.902853, 19.460415], &quot;type&quot;: &quot;Point&quot;}, &quot;id&quot;: &quot;39&quot;, &quot;properties&quot;: {&quot;__folium_color&quot;: &quot;#440154&quot;, &quot;alt&quot;: 2252.0, &quot;cve_estac&quot;: &quot;MON&quot;, &quot;first_date&quot;: &quot;2005-01-01 00:00:00&quot;, &quot;id_station&quot;: 484150990113, &quot;last_date&quot;: &quot;2025-01-31 23:00:00&quot;, &quot;latitud&quot;: 19.460415, &quot;longitud&quot;: -98.902853, &quot;nom_estac&quot;: &quot;Montecillo&quot;, &quot;obs_estac&quot;: &quot;Activa&quot;, &quot;pollutants&quot;: &quot;[\\u0027co\\u0027, \\u0027no\\u0027, \\u0027no2\\u0027, \\u0027nox\\u0027, \\u0027o3\\u0027, \\u0027pm10\\u0027, \\u0027pm2\\u0027, \\u0027rh\\u0027, \\u0027so2\\u0027, \\u0027tmp\\u0027, \\u0027wdr\\u0027, \\u0027wsp\\u0027]&quot;}, &quot;type&quot;: &quot;Feature&quot;}, {&quot;bbox&quot;: [-98.990189, 19.1769, -98.990189, 19.1769], &quot;geometry&quot;: {&quot;coordinates&quot;: [-98.990189, 19.1769], &quot;type&quot;: &quot;Point&quot;}, &quot;id&quot;: &quot;40&quot;, &quot;properties&quot;: {&quot;__folium_color&quot;: &quot;#440154&quot;, &quot;alt&quot;: 2594.0, &quot;cve_estac&quot;: &quot;MPA&quot;, &quot;first_date&quot;: &quot;2016-01-19 23:00:00&quot;, &quot;id_station&quot;: 484090090104, &quot;last_date&quot;: &quot;2025-01-31 23:00:00&quot;, &quot;latitud&quot;: 19.1769, &quot;longitud&quot;: -98.990189, &quot;nom_estac&quot;: &quot;Milpa Alta&quot;, &quot;obs_estac&quot;: &quot;Activa&quot;, &quot;pollutants&quot;: &quot;[\\u0027co\\u0027, \\u0027no2\\u0027, \\u0027o3\\u0027, \\u0027pm10\\u0027, \\u0027pm2\\u0027, \\u0027rh\\u0027, \\u0027so2\\u0027, \\u0027tmp\\u0027, \\u0027wdr\\u0027, \\u0027wsp\\u0027]&quot;}, &quot;type&quot;: &quot;Feature&quot;}, {&quot;bbox&quot;: [-99.026119, 19.421149999999997, -99.026119, 19.421149999999997], &quot;geometry&quot;: {&quot;coordinates&quot;: [-99.026119, 19.421149999999997], &quot;type&quot;: &quot;Point&quot;}, &quot;id&quot;: &quot;41&quot;, &quot;properties&quot;: {&quot;__folium_color&quot;: &quot;#fde725&quot;, &quot;alt&quot;: 2230.0, &quot;cve_estac&quot;: &quot;NET&quot;, &quot;first_date&quot;: null, &quot;id_station&quot;: 484150580201, &quot;last_date&quot;: null, &quot;latitud&quot;: 19.42115, &quot;longitud&quot;: -99.026119, &quot;nom_estac&quot;: &quot;Netzahualcoyotl&quot;, &quot;obs_estac&quot;: &quot;Inactiva&quot;, &quot;pollutants&quot;: null}, &quot;type&quot;: &quot;Feature&quot;}, {&quot;bbox&quot;: [-99.028212, 19.393733999999995, -99.028212, 19.393733999999995], &quot;geometry&quot;: {&quot;coordinates&quot;: [-99.028212, 19.393733999999995], &quot;type&quot;: &quot;Point&quot;}, &quot;id&quot;: &quot;42&quot;, &quot;properties&quot;: {&quot;__folium_color&quot;: &quot;#440154&quot;, &quot;alt&quot;: 2235.0, &quot;cve_estac&quot;: &quot;NEZ&quot;, &quot;first_date&quot;: &quot;2008-01-01 00:00:00&quot;, &quot;id_station&quot;: 484150580115, &quot;last_date&quot;: &quot;2025-01-31 23:00:00&quot;, &quot;latitud&quot;: 19.393734, &quot;longitud&quot;: -99.028212, &quot;nom_estac&quot;: &quot;Nezahualc\\u00f3yotl&quot;, &quot;obs_estac&quot;: &quot;Activa&quot;, &quot;pollutants&quot;: &quot;[\\u0027co\\u0027, \\u0027no\\u0027, \\u0027no2\\u0027, \\u0027nox\\u0027, \\u0027o3\\u0027, \\u0027pm10\\u0027, \\u0027pm2\\u0027, \\u0027rh\\u0027, \\u0027so2\\u0027, \\u0027tmp\\u0027, \\u0027wdr\\u0027, \\u0027wsp\\u0027]&quot;}, &quot;type&quot;: &quot;Feature&quot;}, {&quot;bbox&quot;: [-99.204136, 19.325146, -99.204136, 19.325146], &quot;geometry&quot;: {&quot;coordinates&quot;: [-99.204136, 19.325146], &quot;type&quot;: &quot;Point&quot;}, &quot;id&quot;: &quot;43&quot;, &quot;properties&quot;: {&quot;__folium_color&quot;: &quot;#440154&quot;, &quot;alt&quot;: 2326.0, &quot;cve_estac&quot;: &quot;PED&quot;, &quot;first_date&quot;: &quot;2005-01-01 00:00:00&quot;, &quot;id_station&quot;: 484090100127, &quot;last_date&quot;: &quot;2025-01-31 23:00:00&quot;, &quot;latitud&quot;: 19.325146, &quot;longitud&quot;: -99.204136, &quot;nom_estac&quot;: &quot;Pedregal&quot;, &quot;obs_estac&quot;: &quot;Activa&quot;, &quot;pollutants&quot;: &quot;[\\u0027co\\u0027, \\u0027no\\u0027, \\u0027no2\\u0027, \\u0027nox\\u0027, \\u0027o3\\u0027, \\u0027pm10\\u0027, \\u0027pm2\\u0027, \\u0027rh\\u0027, \\u0027so2\\u0027, \\u0027tmp\\u0027, \\u0027wdr\\u0027, \\u0027wsp\\u0027]&quot;}, &quot;type&quot;: &quot;Feature&quot;}, {&quot;bbox&quot;: [-98.991858, 19.382860000000004, -98.991858, 19.382860000000004], &quot;geometry&quot;: {&quot;coordinates&quot;: [-98.991858, 19.382860000000004], &quot;type&quot;: &quot;Point&quot;}, &quot;id&quot;: &quot;44&quot;, &quot;properties&quot;: {&quot;__folium_color&quot;: &quot;#fde725&quot;, &quot;alt&quot;: 2237.0, &quot;cve_estac&quot;: &quot;PER&quot;, &quot;first_date&quot;: null, &quot;id_station&quot;: 484150580303, &quot;last_date&quot;: null, &quot;latitud&quot;: 19.38286, &quot;longitud&quot;: -98.991858, &quot;nom_estac&quot;: &quot;La Perla&quot;, &quot;obs_estac&quot;: &quot;Inactiva&quot;, &quot;pollutants&quot;: null}, &quot;type&quot;: &quot;Feature&quot;}, {&quot;bbox&quot;: [-99.200109, 19.365869000000004, -99.200109, 19.365869000000004], &quot;geometry&quot;: {&quot;coordinates&quot;: [-99.200109, 19.365869000000004], &quot;type&quot;: &quot;Point&quot;}, &quot;id&quot;: &quot;45&quot;, &quot;properties&quot;: {&quot;__folium_color&quot;: &quot;#fde725&quot;, &quot;alt&quot;: 2345.0, &quot;cve_estac&quot;: &quot;PLA&quot;, &quot;first_date&quot;: &quot;2005-01-01 00:00:00&quot;, &quot;id_station&quot;: 484090100209, &quot;last_date&quot;: &quot;2010-12-31 23:00:00&quot;, &quot;latitud&quot;: 19.365869, &quot;longitud&quot;: -99.200109, &quot;nom_estac&quot;: &quot;Plateros&quot;, &quot;obs_estac&quot;: &quot;Inactiva&quot;, &quot;pollutants&quot;: &quot;[\\u0027co\\u0027, \\u0027no\\u0027, \\u0027no2\\u0027, \\u0027nox\\u0027, \\u0027o3\\u0027, \\u0027pm10\\u0027, \\u0027rh\\u0027, \\u0027so2\\u0027, \\u0027tmp\\u0027, \\u0027wdr\\u0027, \\u0027wsp\\u0027]&quot;}, &quot;type&quot;: &quot;Feature&quot;}, {&quot;bbox&quot;: [-99.145766, 19.376494, -99.145766, 19.376494], &quot;geometry&quot;: {&quot;coordinates&quot;: [-99.145766, 19.376494], &quot;type&quot;: &quot;Point&quot;}, &quot;id&quot;: &quot;46&quot;, &quot;properties&quot;: {&quot;__folium_color&quot;: &quot;#fde725&quot;, &quot;alt&quot;: 2237.0, &quot;cve_estac&quot;: &quot;POT&quot;, &quot;first_date&quot;: null, &quot;id_station&quot;: 484090140102, &quot;last_date&quot;: null, &quot;latitud&quot;: 19.376494, &quot;longitud&quot;: -99.145766, &quot;nom_estac&quot;: &quot;Portales&quot;, &quot;obs_estac&quot;: &quot;Inactiva&quot;, &quot;pollutants&quot;: null}, &quot;type&quot;: &quot;Feature&quot;}, {&quot;bbox&quot;: [-99.030324, 19.532968000000004, -99.030324, 19.532968000000004], &quot;geometry&quot;: {&quot;coordinates&quot;: [-99.030324, 19.532968000000004], &quot;type&quot;: &quot;Point&quot;}, &quot;id&quot;: &quot;47&quot;, &quot;properties&quot;: {&quot;__folium_color&quot;: &quot;#440154&quot;, &quot;alt&quot;: 2241.0, &quot;cve_estac&quot;: &quot;SAG&quot;, &quot;first_date&quot;: &quot;2005-01-01 00:00:00&quot;, &quot;id_station&quot;: 484150330327, &quot;last_date&quot;: &quot;2025-01-31 23:00:00&quot;, &quot;latitud&quot;: 19.532968, &quot;longitud&quot;: -99.030324, &quot;nom_estac&quot;: &quot;San Agust\\u00edn&quot;, &quot;obs_estac&quot;: &quot;Activa&quot;, &quot;pollutants&quot;: &quot;[\\u0027co\\u0027, \\u0027no\\u0027, \\u0027no2\\u0027, \\u0027nox\\u0027, \\u0027o3\\u0027, \\u0027pm10\\u0027, \\u0027pm2\\u0027, \\u0027rh\\u0027, \\u0027so2\\u0027, \\u0027tmp\\u0027, \\u0027wdr\\u0027, \\u0027wsp\\u0027]&quot;}, &quot;type&quot;: &quot;Feature&quot;}, {&quot;bbox&quot;: [-99.262865, 19.357357, -99.262865, 19.357357], &quot;geometry&quot;: {&quot;coordinates&quot;: [-99.262865, 19.357357], &quot;type&quot;: &quot;Point&quot;}, &quot;id&quot;: &quot;48&quot;, &quot;properties&quot;: {&quot;__folium_color&quot;: &quot;#440154&quot;, &quot;alt&quot;: 2599.0, &quot;cve_estac&quot;: &quot;SFE&quot;, &quot;first_date&quot;: &quot;2012-02-12 23:00:00&quot;, &quot;id_station&quot;: 484090040309, &quot;last_date&quot;: &quot;2021-12-31 23:00:00&quot;, &quot;latitud&quot;: 19.357357, &quot;longitud&quot;: -99.262865, &quot;nom_estac&quot;: &quot;Santa fe&quot;, &quot;obs_estac&quot;: &quot;Activa&quot;, &quot;pollutants&quot;: &quot;[\\u0027co\\u0027, \\u0027no\\u0027, \\u0027no2\\u0027, \\u0027nox\\u0027, \\u0027o3\\u0027, \\u0027pm10\\u0027, \\u0027pm2\\u0027, \\u0027rh\\u0027, \\u0027so2\\u0027, \\u0027tmp\\u0027, \\u0027wdr\\u0027, \\u0027wsp\\u0027]&quot;}, &quot;type&quot;: &quot;Feature&quot;}, {&quot;bbox&quot;: [-99.207868, 19.446202999999993, -99.207868, 19.446202999999993], &quot;geometry&quot;: {&quot;coordinates&quot;: [-99.207868, 19.446202999999993], &quot;type&quot;: &quot;Point&quot;}, &quot;id&quot;: &quot;49&quot;, &quot;properties&quot;: {&quot;__folium_color&quot;: &quot;#440154&quot;, &quot;alt&quot;: 2272.0, &quot;cve_estac&quot;: &quot;SHA&quot;, &quot;first_date&quot;: null, &quot;id_station&quot;: 484090160202, &quot;last_date&quot;: null, &quot;latitud&quot;: 19.446203, &quot;longitud&quot;: -99.207868, &quot;nom_estac&quot;: &quot;Secretar\\u00eda de Hacienda&quot;, &quot;obs_estac&quot;: &quot;Activa&quot;, &quot;pollutants&quot;: null}, &quot;type&quot;: &quot;Feature&quot;}, {&quot;bbox&quot;: [-99.086095, 19.452591999999996, -99.086095, 19.452591999999996], &quot;geometry&quot;: {&quot;coordinates&quot;: [-99.086095, 19.452591999999996], &quot;type&quot;: &quot;Point&quot;}, &quot;id&quot;: &quot;50&quot;, &quot;properties&quot;: {&quot;__folium_color&quot;: &quot;#440154&quot;, &quot;alt&quot;: 2258.0, &quot;cve_estac&quot;: &quot;SJA&quot;, &quot;first_date&quot;: &quot;2005-01-01 00:00:00&quot;, &quot;id_station&quot;: 484090050701, &quot;last_date&quot;: &quot;2017-09-18 23:00:00&quot;, &quot;latitud&quot;: 19.452592, &quot;longitud&quot;: -99.086095, &quot;nom_estac&quot;: &quot;San Juan Arag\\u00f3n&quot;, &quot;obs_estac&quot;: &quot;Activa&quot;, &quot;pollutants&quot;: &quot;[\\u0027co\\u0027, \\u0027no\\u0027, \\u0027no2\\u0027, \\u0027nox\\u0027, \\u0027o3\\u0027, \\u0027pm10\\u0027, \\u0027pm2\\u0027, \\u0027rh\\u0027, \\u0027so2\\u0027, \\u0027tmp\\u0027, \\u0027wdr\\u0027, \\u0027wsp\\u0027]&quot;}, &quot;type&quot;: &quot;Feature&quot;}, {&quot;bbox&quot;: [-99.256462, 19.250385, -99.256462, 19.250385], &quot;geometry&quot;: {&quot;coordinates&quot;: [-99.256462, 19.250385], &quot;type&quot;: &quot;Point&quot;}, &quot;id&quot;: &quot;51&quot;, &quot;properties&quot;: {&quot;__folium_color&quot;: &quot;#440154&quot;, &quot;alt&quot;: 2946.0, &quot;cve_estac&quot;: &quot;SNT&quot;, &quot;first_date&quot;: null, &quot;id_station&quot;: 484090080104, &quot;last_date&quot;: null, &quot;latitud&quot;: 19.250385, &quot;longitud&quot;: -99.256462, &quot;nom_estac&quot;: &quot;San Nicolas Totolapan&quot;, &quot;obs_estac&quot;: &quot;Activa&quot;, &quot;pollutants&quot;: null}, &quot;type&quot;: &quot;Feature&quot;}, {&quot;bbox&quot;: [-99.149994, 19.31448, -99.149994, 19.31448], &quot;geometry&quot;: {&quot;coordinates&quot;: [-99.149994, 19.31448], &quot;type&quot;: &quot;Point&quot;}, &quot;id&quot;: &quot;52&quot;, &quot;properties&quot;: {&quot;__folium_color&quot;: &quot;#440154&quot;, &quot;alt&quot;: 2279.0, &quot;cve_estac&quot;: &quot;SUR&quot;, &quot;first_date&quot;: &quot;2005-01-01 00:00:00&quot;, &quot;id_station&quot;: 484090030109, &quot;last_date&quot;: &quot;2016-12-31 23:00:00&quot;, &quot;latitud&quot;: 19.31448, &quot;longitud&quot;: -99.149994, &quot;nom_estac&quot;: &quot;Santa Ursula&quot;, &quot;obs_estac&quot;: &quot;Activa&quot;, &quot;pollutants&quot;: &quot;[\\u0027co\\u0027, \\u0027no\\u0027, \\u0027no2\\u0027, \\u0027nox\\u0027, \\u0027o3\\u0027, \\u0027pm10\\u0027, \\u0027pm2\\u0027, \\u0027rh\\u0027, \\u0027so2\\u0027, \\u0027tmp\\u0027, \\u0027wdr\\u0027, \\u0027wsp\\u0027]&quot;}, &quot;type&quot;: &quot;Feature&quot;}, {&quot;bbox&quot;: [-99.202455, 19.453906999999997, -99.202455, 19.453906999999997], &quot;geometry&quot;: {&quot;coordinates&quot;: [-99.202455, 19.453906999999997], &quot;type&quot;: &quot;Point&quot;}, &quot;id&quot;: &quot;53&quot;, &quot;properties&quot;: {&quot;__folium_color&quot;: &quot;#fde725&quot;, &quot;alt&quot;: 2275.0, &quot;cve_estac&quot;: &quot;TAC&quot;, &quot;first_date&quot;: &quot;2005-01-01 00:00:00&quot;, &quot;id_station&quot;: 484090160309, &quot;last_date&quot;: &quot;2010-12-31 23:00:00&quot;, &quot;latitud&quot;: 19.453907, &quot;longitud&quot;: -99.202455, &quot;nom_estac&quot;: &quot;Tacuba&quot;, &quot;obs_estac&quot;: &quot;Inactiva&quot;, &quot;pollutants&quot;: &quot;[\\u0027co\\u0027, \\u0027no\\u0027, \\u0027no2\\u0027, \\u0027nox\\u0027, \\u0027o3\\u0027, \\u0027rh\\u0027, \\u0027so2\\u0027, \\u0027tmp\\u0027, \\u0027wdr\\u0027, \\u0027wsp\\u0027]&quot;}, &quot;type&quot;: &quot;Feature&quot;}, {&quot;bbox&quot;: [-99.010564, 19.246459, -99.010564, 19.246459], &quot;geometry&quot;: {&quot;coordinates&quot;: [-99.010564, 19.246459], &quot;type&quot;: &quot;Point&quot;}, &quot;id&quot;: &quot;54&quot;, &quot;properties&quot;: {&quot;__folium_color&quot;: &quot;#440154&quot;, &quot;alt&quot;: 2297.0, &quot;cve_estac&quot;: &quot;TAH&quot;, &quot;first_date&quot;: &quot;2005-01-01 00:00:00&quot;, &quot;id_station&quot;: 484090130309, &quot;last_date&quot;: &quot;2025-01-31 23:00:00&quot;, &quot;latitud&quot;: 19.246459, &quot;longitud&quot;: -99.010564, &quot;nom_estac&quot;: &quot;Tlahuac&quot;, &quot;obs_estac&quot;: &quot;Activa&quot;, &quot;pollutants&quot;: &quot;[\\u0027co\\u0027, \\u0027no\\u0027, \\u0027no2\\u0027, \\u0027nox\\u0027, \\u0027o3\\u0027, \\u0027pm10\\u0027, \\u0027pm2\\u0027, \\u0027rh\\u0027, \\u0027so2\\u0027, \\u0027tmp\\u0027, \\u0027wdr\\u0027, \\u0027wsp\\u0027]&quot;}, &quot;type&quot;: &quot;Feature&quot;}, {&quot;bbox&quot;: [-99.123204, 19.33568899999999, -99.123204, 19.33568899999999], &quot;geometry&quot;: {&quot;coordinates&quot;: [-99.123204, 19.33568899999999], &quot;type&quot;: &quot;Point&quot;}, &quot;id&quot;: &quot;55&quot;, &quot;properties&quot;: {&quot;__folium_color&quot;: &quot;#fde725&quot;, &quot;alt&quot;: 2242.0, &quot;cve_estac&quot;: &quot;TAX&quot;, &quot;first_date&quot;: &quot;2005-01-01 00:00:00&quot;, &quot;id_station&quot;: 484090030201, &quot;last_date&quot;: &quot;2010-12-31 23:00:00&quot;, &quot;latitud&quot;: 19.335689, &quot;longitud&quot;: -99.123204, &quot;nom_estac&quot;: &quot;Taxque\\u00f1a&quot;, &quot;obs_estac&quot;: &quot;Inactiva&quot;, &quot;pollutants&quot;: &quot;[\\u0027co\\u0027, \\u0027no\\u0027, \\u0027no2\\u0027, \\u0027nox\\u0027, \\u0027o3\\u0027, \\u0027pm10\\u0027, \\u0027so2\\u0027]&quot;}, &quot;type&quot;: &quot;Feature&quot;}, {&quot;bbox&quot;: [-99.114229, 19.487227, -99.114229, 19.487227], &quot;geometry&quot;: {&quot;coordinates&quot;: [-99.114229, 19.487227], &quot;type&quot;: &quot;Point&quot;}, &quot;id&quot;: &quot;56&quot;, &quot;properties&quot;: {&quot;__folium_color&quot;: &quot;#440154&quot;, &quot;alt&quot;: 2265.0, &quot;cve_estac&quot;: &quot;TEC&quot;, &quot;first_date&quot;: &quot;2016-01-01 00:00:00&quot;, &quot;id_station&quot;: 484090050404, &quot;last_date&quot;: &quot;2016-12-31 23:00:00&quot;, &quot;latitud&quot;: 19.487227, &quot;longitud&quot;: -99.114229, &quot;nom_estac&quot;: &quot;Cerro del Tepeyac&quot;, &quot;obs_estac&quot;: &quot;Activa&quot;, &quot;pollutants&quot;: &quot;[\\u0027co\\u0027, \\u0027no\\u0027, \\u0027no2\\u0027, \\u0027nox\\u0027, \\u0027o3\\u0027, \\u0027pm10\\u0027, \\u0027pm2\\u0027, \\u0027rh\\u0027, \\u0027so2\\u0027, \\u0027tmp\\u0027, \\u0027wdr\\u0027, \\u0027wsp\\u0027]&quot;}, &quot;type&quot;: &quot;Feature&quot;}, {&quot;bbox&quot;: [-99.204597, 19.529077, -99.204597, 19.529077], &quot;geometry&quot;: {&quot;coordinates&quot;: [-99.204597, 19.529077], &quot;type&quot;: &quot;Point&quot;}, &quot;id&quot;: &quot;57&quot;, &quot;properties&quot;: {&quot;__folium_color&quot;: &quot;#440154&quot;, &quot;alt&quot;: 2311.0, &quot;cve_estac&quot;: &quot;TLA&quot;, &quot;first_date&quot;: &quot;2005-01-01 00:00:00&quot;, &quot;id_station&quot;: 484151040115, &quot;last_date&quot;: &quot;2025-01-31 23:00:00&quot;, &quot;latitud&quot;: 19.529077, &quot;longitud&quot;: -99.204597, &quot;nom_estac&quot;: &quot;Tlalnepantla&quot;, &quot;obs_estac&quot;: &quot;Activa&quot;, &quot;pollutants&quot;: &quot;[\\u0027co\\u0027, \\u0027no\\u0027, \\u0027no2\\u0027, \\u0027nox\\u0027, \\u0027o3\\u0027, \\u0027pm10\\u0027, \\u0027pm2\\u0027, \\u0027rh\\u0027, \\u0027so2\\u0027, \\u0027tmp\\u0027, \\u0027wdr\\u0027, \\u0027wsp\\u0027]&quot;}, &quot;type&quot;: &quot;Feature&quot;}, {&quot;bbox&quot;: [-99.177173, 19.602541999999993, -99.177173, 19.602541999999993], &quot;geometry&quot;: {&quot;coordinates&quot;: [-99.177173, 19.602541999999993], &quot;type&quot;: &quot;Point&quot;}, &quot;id&quot;: &quot;58&quot;, &quot;properties&quot;: {&quot;__folium_color&quot;: &quot;#440154&quot;, &quot;alt&quot;: 2313.0, &quot;cve_estac&quot;: &quot;TLI&quot;, &quot;first_date&quot;: &quot;2005-01-01 00:00:00&quot;, &quot;id_station&quot;: 484151090101, &quot;last_date&quot;: &quot;2025-01-31 23:00:00&quot;, &quot;latitud&quot;: 19.602542, &quot;longitud&quot;: -99.177173, &quot;nom_estac&quot;: &quot;Tultitl\\u00e1n&quot;, &quot;obs_estac&quot;: &quot;Activa&quot;, &quot;pollutants&quot;: &quot;[\\u0027co\\u0027, \\u0027no\\u0027, \\u0027no2\\u0027, \\u0027nox\\u0027, \\u0027o3\\u0027, \\u0027pm10\\u0027, \\u0027pm2\\u0027, \\u0027rh\\u0027, \\u0027so2\\u0027, \\u0027tmp\\u0027, \\u0027wdr\\u0027, \\u0027wsp\\u0027]&quot;}, &quot;type&quot;: &quot;Feature&quot;}, {&quot;bbox&quot;: [-99.184177, 19.257041, -99.184177, 19.257041], &quot;geometry&quot;: {&quot;coordinates&quot;: [-99.184177, 19.257041], &quot;type&quot;: &quot;Point&quot;}, &quot;id&quot;: &quot;59&quot;, &quot;properties&quot;: {&quot;__folium_color&quot;: &quot;#440154&quot;, &quot;alt&quot;: 2522.0, &quot;cve_estac&quot;: &quot;TPN&quot;, &quot;first_date&quot;: &quot;2005-07-31 21:00:00&quot;, &quot;id_station&quot;: 484090120209, &quot;last_date&quot;: &quot;2016-12-31 23:00:00&quot;, &quot;latitud&quot;: 19.257041, &quot;longitud&quot;: -99.184177, &quot;nom_estac&quot;: &quot;Tlalpan&quot;, &quot;obs_estac&quot;: &quot;Activa&quot;, &quot;pollutants&quot;: &quot;[\\u0027co\\u0027, \\u0027no\\u0027, \\u0027no2\\u0027, \\u0027nox\\u0027, \\u0027o3\\u0027, \\u0027pm10\\u0027, \\u0027pm2\\u0027, \\u0027rh\\u0027, \\u0027so2\\u0027, \\u0027tmp\\u0027, \\u0027wdr\\u0027, \\u0027wsp\\u0027]&quot;}, &quot;type&quot;: &quot;Feature&quot;}, {&quot;bbox&quot;: [-99.103629, 19.304440999999997, -99.103629, 19.304440999999997], &quot;geometry&quot;: {&quot;coordinates&quot;: [-99.103629, 19.304440999999997], &quot;type&quot;: &quot;Point&quot;}, &quot;id&quot;: &quot;60&quot;, &quot;properties&quot;: {&quot;__folium_color&quot;: &quot;#440154&quot;, &quot;alt&quot;: 2246.0, &quot;cve_estac&quot;: &quot;UAX&quot;, &quot;first_date&quot;: &quot;2012-02-20 08:00:00&quot;, &quot;id_station&quot;: 484090030401, &quot;last_date&quot;: &quot;2025-01-31 23:00:00&quot;, &quot;latitud&quot;: 19.304441, &quot;longitud&quot;: -99.103629, &quot;nom_estac&quot;: &quot;UAM Xochimilco&quot;, &quot;obs_estac&quot;: &quot;Activa&quot;, &quot;pollutants&quot;: &quot;[\\u0027co\\u0027, \\u0027no\\u0027, \\u0027no2\\u0027, \\u0027nox\\u0027, \\u0027o3\\u0027, \\u0027pm10\\u0027, \\u0027pm2\\u0027, \\u0027rh\\u0027, \\u0027so2\\u0027, \\u0027tmp\\u0027, \\u0027wdr\\u0027, \\u0027wsp\\u0027]&quot;}, &quot;type&quot;: &quot;Feature&quot;}, {&quot;bbox&quot;: [-99.07388, 19.360793999999995, -99.07388, 19.360793999999995], &quot;geometry&quot;: {&quot;coordinates&quot;: [-99.07388, 19.360793999999995], &quot;type&quot;: &quot;Point&quot;}, &quot;id&quot;: &quot;61&quot;, &quot;properties&quot;: {&quot;__folium_color&quot;: &quot;#440154&quot;, &quot;alt&quot;: 2221.0, &quot;cve_estac&quot;: &quot;UIZ&quot;, &quot;first_date&quot;: &quot;2005-01-01 00:00:00&quot;, &quot;id_station&quot;: 484090070219, &quot;last_date&quot;: &quot;2025-01-31 23:00:00&quot;, &quot;latitud&quot;: 19.360794, &quot;longitud&quot;: -99.07388, &quot;nom_estac&quot;: &quot;UAM Iztapalapa&quot;, &quot;obs_estac&quot;: &quot;Activa&quot;, &quot;pollutants&quot;: &quot;[\\u0027co\\u0027, \\u0027no\\u0027, \\u0027no2\\u0027, \\u0027nox\\u0027, \\u0027o3\\u0027, \\u0027pm10\\u0027, \\u0027pm2\\u0027, \\u0027rh\\u0027, \\u0027so2\\u0027, \\u0027tmp\\u0027, \\u0027wdr\\u0027, \\u0027wsp\\u0027]&quot;}, &quot;type&quot;: &quot;Feature&quot;}, {&quot;bbox&quot;: [-99.147137, 19.482237999999995, -99.147137, 19.482237999999995], &quot;geometry&quot;: {&quot;coordinates&quot;: [-99.147137, 19.482237999999995], &quot;type&quot;: &quot;Point&quot;}, &quot;id&quot;: &quot;62&quot;, &quot;properties&quot;: {&quot;__folium_color&quot;: &quot;#440154&quot;, &quot;alt&quot;: null, &quot;cve_estac&quot;: &quot;UNM&quot;, &quot;first_date&quot;: null, &quot;id_station&quot;: 484090000099, &quot;last_date&quot;: null, &quot;latitud&quot;: 19.482238, &quot;longitud&quot;: -99.147137, &quot;nom_estac&quot;: &quot;Unidad Movil&quot;, &quot;obs_estac&quot;: &quot;Activa&quot;, &quot;pollutants&quot;: null}, &quot;type&quot;: &quot;Feature&quot;}, {&quot;bbox&quot;: [-99.165702, 19.522437, -99.165702, 19.522437], &quot;geometry&quot;: {&quot;coordinates&quot;: [-99.165702, 19.522437], &quot;type&quot;: &quot;Point&quot;}, &quot;id&quot;: &quot;63&quot;, &quot;properties&quot;: {&quot;__folium_color&quot;: &quot;#fde725&quot;, &quot;alt&quot;: 2248.0, &quot;cve_estac&quot;: &quot;VAL&quot;, &quot;first_date&quot;: &quot;2005-01-01 00:00:00&quot;, &quot;id_station&quot;: 484090050501, &quot;last_date&quot;: &quot;2010-12-31 23:00:00&quot;, &quot;latitud&quot;: 19.522437, &quot;longitud&quot;: -99.165702, &quot;nom_estac&quot;: &quot;Vallejo&quot;, &quot;obs_estac&quot;: &quot;Inactiva&quot;, &quot;pollutants&quot;: &quot;[\\u0027co\\u0027, \\u0027so2\\u0027]&quot;}, &quot;type&quot;: &quot;Feature&quot;}, {&quot;bbox&quot;: [-99.09659, 19.658223, -99.09659, 19.658223], &quot;geometry&quot;: {&quot;coordinates&quot;: [-99.09659, 19.658223], &quot;type&quot;: &quot;Point&quot;}, &quot;id&quot;: &quot;64&quot;, &quot;properties&quot;: {&quot;__folium_color&quot;: &quot;#440154&quot;, &quot;alt&quot;: 2242.0, &quot;cve_estac&quot;: &quot;VIF&quot;, &quot;first_date&quot;: &quot;2005-01-01 00:00:00&quot;, &quot;id_station&quot;: 484150200109, &quot;last_date&quot;: &quot;2025-01-31 23:00:00&quot;, &quot;latitud&quot;: 19.658223, &quot;longitud&quot;: -99.09659, &quot;nom_estac&quot;: &quot;Villa de las Flores&quot;, &quot;obs_estac&quot;: &quot;Activa&quot;, &quot;pollutants&quot;: &quot;[\\u0027co\\u0027, \\u0027no\\u0027, \\u0027no2\\u0027, \\u0027nox\\u0027, \\u0027o3\\u0027, \\u0027pm10\\u0027, \\u0027pm2\\u0027, \\u0027rh\\u0027, \\u0027so2\\u0027, \\u0027tmp\\u0027, \\u0027wdr\\u0027, \\u0027wsp\\u0027]&quot;}, &quot;type&quot;: &quot;Feature&quot;}, {&quot;bbox&quot;: [-99.0824, 19.525995000000005, -99.0824, 19.525995000000005], &quot;geometry&quot;: {&quot;coordinates&quot;: [-99.0824, 19.525995000000005], &quot;type&quot;: &quot;Point&quot;}, &quot;id&quot;: &quot;65&quot;, &quot;properties&quot;: {&quot;__folium_color&quot;: &quot;#440154&quot;, &quot;alt&quot;: 2160.0, &quot;cve_estac&quot;: &quot;XAL&quot;, &quot;first_date&quot;: &quot;2005-01-01 00:00:00&quot;, &quot;id_station&quot;: 484150330415, &quot;last_date&quot;: &quot;2025-01-31 23:00:00&quot;, &quot;latitud&quot;: 19.525995, &quot;longitud&quot;: -99.0824, &quot;nom_estac&quot;: &quot;Xalostoc&quot;, &quot;obs_estac&quot;: &quot;Activa&quot;, &quot;pollutants&quot;: &quot;[\\u0027co\\u0027, \\u0027no\\u0027, \\u0027no2\\u0027, \\u0027nox\\u0027, \\u0027o3\\u0027, \\u0027pm10\\u0027, \\u0027pm2\\u0027, \\u0027rh\\u0027, \\u0027so2\\u0027, \\u0027tmp\\u0027, \\u0027wdr\\u0027, \\u0027wsp\\u0027]&quot;}, &quot;type&quot;: &quot;Feature&quot;}, {&quot;bbox&quot;: [-99.118252, 19.267065999999996, -99.118252, 19.267065999999996], &quot;geometry&quot;: {&quot;coordinates&quot;: [-99.118252, 19.267065999999996], &quot;type&quot;: &quot;Point&quot;}, &quot;id&quot;: &quot;66&quot;, &quot;properties&quot;: {&quot;__folium_color&quot;: &quot;#fde725&quot;, &quot;alt&quot;: 2243.0, &quot;cve_estac&quot;: &quot;XCH&quot;, &quot;first_date&quot;: null, &quot;id_station&quot;: 484090130102, &quot;last_date&quot;: null, &quot;latitud&quot;: 19.267066, &quot;longitud&quot;: -99.118252, &quot;nom_estac&quot;: &quot;Xochimilco&quot;, &quot;obs_estac&quot;: &quot;Inactiva&quot;, &quot;pollutants&quot;: null}, &quot;type&quot;: &quot;Feature&quot;}, {&quot;bbox&quot;: [-99.046176, 19.473692, -99.046176, 19.473692], &quot;geometry&quot;: {&quot;coordinates&quot;: [-99.046176, 19.473692], &quot;type&quot;: &quot;Point&quot;}, &quot;id&quot;: &quot;67&quot;, &quot;properties&quot;: {&quot;__folium_color&quot;: &quot;#440154&quot;, &quot;alt&quot;: 2230.0, &quot;cve_estac&quot;: &quot;FAR&quot;, &quot;first_date&quot;: &quot;2019-03-01 00:00:00&quot;, &quot;id_station&quot;: 484800150584, &quot;last_date&quot;: &quot;2025-01-31 23:00:00&quot;, &quot;latitud&quot;: 19.473692, &quot;longitud&quot;: -99.046176, &quot;nom_estac&quot;: &quot;FES Arag\\u00f3n&quot;, &quot;obs_estac&quot;: &quot;Activa&quot;, &quot;pollutants&quot;: &quot;[\\u0027co\\u0027, \\u0027no2\\u0027, \\u0027o3\\u0027, \\u0027pm2\\u0027, \\u0027rh\\u0027, \\u0027so2\\u0027, \\u0027tmp\\u0027, \\u0027wdr\\u0027, \\u0027wsp\\u0027]&quot;}, &quot;type&quot;: &quot;Feature&quot;}, {&quot;bbox&quot;: [-99.009381, 19.345609999999994, -99.009381, 19.345609999999994], &quot;geometry&quot;: {&quot;coordinates&quot;: [-99.009381, 19.345609999999994], &quot;type&quot;: &quot;Point&quot;}, &quot;id&quot;: &quot;68&quot;, &quot;properties&quot;: {&quot;__folium_color&quot;: &quot;#440154&quot;, &quot;alt&quot;: 2293.0, &quot;cve_estac&quot;: &quot;SAC&quot;, &quot;first_date&quot;: &quot;2019-03-01 00:00:00&quot;, &quot;id_station&quot;: 484800090073, &quot;last_date&quot;: &quot;2025-01-31 23:00:00&quot;, &quot;latitud&quot;: 19.34561, &quot;longitud&quot;: -99.009381, &quot;nom_estac&quot;: &quot;Santiago Acahualtepec&quot;, &quot;obs_estac&quot;: &quot;Activa&quot;, &quot;pollutants&quot;: &quot;[\\u0027co\\u0027, \\u0027no\\u0027, \\u0027no2\\u0027, \\u0027nox\\u0027, \\u0027o3\\u0027, \\u0027pm2\\u0027, \\u0027rh\\u0027, \\u0027so2\\u0027, \\u0027tmp\\u0027, \\u0027wdr\\u0027, \\u0027wsp\\u0027]&quot;}, &quot;type&quot;: &quot;Feature&quot;}], &quot;type&quot;: &quot;FeatureCollection&quot;});\n",
       "\n",
       "        \n",
       "    \n",
       "    geo_json_462d0146350d746dea0ee40f062da311.bindTooltip(\n",
       "    function(layer){\n",
       "    let div = L.DomUtil.create(&#x27;div&#x27;);\n",
       "    \n",
       "    let handleObject = feature=&gt;typeof(feature)==&#x27;object&#x27; ? JSON.stringify(feature) : feature;\n",
       "    let fields = [&quot;cve_estac&quot;, &quot;nom_estac&quot;, &quot;longitud&quot;, &quot;latitud&quot;, &quot;alt&quot;, &quot;obs_estac&quot;, &quot;id_station&quot;, &quot;pollutants&quot;, &quot;first_date&quot;, &quot;last_date&quot;];\n",
       "    let aliases = [&quot;cve_estac&quot;, &quot;nom_estac&quot;, &quot;longitud&quot;, &quot;latitud&quot;, &quot;alt&quot;, &quot;obs_estac&quot;, &quot;id_station&quot;, &quot;pollutants&quot;, &quot;first_date&quot;, &quot;last_date&quot;];\n",
       "    let table = &#x27;&lt;table&gt;&#x27; +\n",
       "        String(\n",
       "        fields.map(\n",
       "        (v,i)=&gt;\n",
       "        `&lt;tr&gt;\n",
       "            &lt;th&gt;${aliases[i]}&lt;/th&gt;\n",
       "            \n",
       "            &lt;td&gt;${handleObject(layer.feature.properties[v])}&lt;/td&gt;\n",
       "        &lt;/tr&gt;`).join(&#x27;&#x27;))\n",
       "    +&#x27;&lt;/table&gt;&#x27;;\n",
       "    div.innerHTML=table;\n",
       "    \n",
       "    return div\n",
       "    }\n",
       "    ,{\n",
       "  &quot;sticky&quot;: true,\n",
       "  &quot;className&quot;: &quot;foliumtooltip&quot;,\n",
       "});\n",
       "                     \n",
       "    \n",
       "            geo_json_462d0146350d746dea0ee40f062da311.addTo(map_3879c584f5fa0cd8e9a1d9665096839d);\n",
       "        \n",
       "&lt;/script&gt;\n",
       "&lt;/html&gt;\" style=\"position:absolute;width:100%;height:100%;left:0;top:0;border:none !important;\" allowfullscreen webkitallowfullscreen mozallowfullscreen></iframe></div></div>"
      ],
      "text/plain": [
       "<folium.folium.Map at 0x7f234ba19bb0>"
      ]
     },
     "execution_count": 266,
     "metadata": {},
     "output_type": "execute_result"
    }
   ],
   "source": [
    "bbox_gdf = gpd.GeoDataFrame({'geometry': [cdmx_bbox_geometry]}, crs=epsg)\n",
    "m = bbox_gdf.explore(color='red', alpha=0.5)\n",
    "stations.explore(m = m, column = 'obs_estac', marker_kwds={'radius': 5}, cmap='viridis', legend=True, vmin=0.2, vmax=0.8)"
   ]
  },
  {
   "cell_type": "markdown",
   "metadata": {},
   "source": [
    "### Filter stations\n",
    "Filter stations by thoise who have pollutants regsters, inside the bounding box and active state"
   ]
  },
  {
   "cell_type": "code",
   "execution_count": 267,
   "metadata": {},
   "outputs": [],
   "source": [
    "# Get only stations with pollutants and within the CDMX bbox\n",
    "stations.query('pollutants.notna() and obs_estac == \"Activa\"', engine='python', inplace=True)\n",
    "stations = stations.clip(cdmx_bbox_geometry)"
   ]
  },
  {
   "cell_type": "code",
   "execution_count": 268,
   "metadata": {},
   "outputs": [
    {
     "data": {
      "text/html": [
       "<div style=\"width:100%;\"><div style=\"position:relative;width:100%;height:0;padding-bottom:60%;\"><span style=\"color:#565656\">Make this Notebook Trusted to load map: File -> Trust Notebook</span><iframe srcdoc=\"&lt;!DOCTYPE html&gt;\n",
       "&lt;html&gt;\n",
       "&lt;head&gt;\n",
       "    \n",
       "    &lt;meta http-equiv=&quot;content-type&quot; content=&quot;text/html; charset=UTF-8&quot; /&gt;\n",
       "    \n",
       "        &lt;script&gt;\n",
       "            L_NO_TOUCH = false;\n",
       "            L_DISABLE_3D = false;\n",
       "        &lt;/script&gt;\n",
       "    \n",
       "    &lt;style&gt;html, body {width: 100%;height: 100%;margin: 0;padding: 0;}&lt;/style&gt;\n",
       "    &lt;style&gt;#map {position:absolute;top:0;bottom:0;right:0;left:0;}&lt;/style&gt;\n",
       "    &lt;script src=&quot;https://cdn.jsdelivr.net/npm/leaflet@1.9.3/dist/leaflet.js&quot;&gt;&lt;/script&gt;\n",
       "    &lt;script src=&quot;https://code.jquery.com/jquery-3.7.1.min.js&quot;&gt;&lt;/script&gt;\n",
       "    &lt;script src=&quot;https://cdn.jsdelivr.net/npm/bootstrap@5.2.2/dist/js/bootstrap.bundle.min.js&quot;&gt;&lt;/script&gt;\n",
       "    &lt;script src=&quot;https://cdnjs.cloudflare.com/ajax/libs/Leaflet.awesome-markers/2.0.2/leaflet.awesome-markers.js&quot;&gt;&lt;/script&gt;\n",
       "    &lt;link rel=&quot;stylesheet&quot; href=&quot;https://cdn.jsdelivr.net/npm/leaflet@1.9.3/dist/leaflet.css&quot;/&gt;\n",
       "    &lt;link rel=&quot;stylesheet&quot; href=&quot;https://cdn.jsdelivr.net/npm/bootstrap@5.2.2/dist/css/bootstrap.min.css&quot;/&gt;\n",
       "    &lt;link rel=&quot;stylesheet&quot; href=&quot;https://netdna.bootstrapcdn.com/bootstrap/3.0.0/css/bootstrap-glyphicons.css&quot;/&gt;\n",
       "    &lt;link rel=&quot;stylesheet&quot; href=&quot;https://cdn.jsdelivr.net/npm/@fortawesome/fontawesome-free@6.2.0/css/all.min.css&quot;/&gt;\n",
       "    &lt;link rel=&quot;stylesheet&quot; href=&quot;https://cdnjs.cloudflare.com/ajax/libs/Leaflet.awesome-markers/2.0.2/leaflet.awesome-markers.css&quot;/&gt;\n",
       "    &lt;link rel=&quot;stylesheet&quot; href=&quot;https://cdn.jsdelivr.net/gh/python-visualization/folium/folium/templates/leaflet.awesome.rotate.min.css&quot;/&gt;\n",
       "    \n",
       "            &lt;meta name=&quot;viewport&quot; content=&quot;width=device-width,\n",
       "                initial-scale=1.0, maximum-scale=1.0, user-scalable=no&quot; /&gt;\n",
       "            &lt;style&gt;\n",
       "                #map_3200dce0740921493cafdd71e97446fb {\n",
       "                    position: relative;\n",
       "                    width: 100.0%;\n",
       "                    height: 100.0%;\n",
       "                    left: 0.0%;\n",
       "                    top: 0.0%;\n",
       "                }\n",
       "                .leaflet-container { font-size: 1rem; }\n",
       "            &lt;/style&gt;\n",
       "        \n",
       "    \n",
       "                    &lt;style&gt;\n",
       "                        .foliumtooltip {\n",
       "                            \n",
       "                        }\n",
       "                       .foliumtooltip table{\n",
       "                            margin: auto;\n",
       "                        }\n",
       "                        .foliumtooltip tr{\n",
       "                            text-align: left;\n",
       "                        }\n",
       "                        .foliumtooltip th{\n",
       "                            padding: 2px; padding-right: 8px;\n",
       "                        }\n",
       "                    &lt;/style&gt;\n",
       "            \n",
       "    \n",
       "                    &lt;style&gt;\n",
       "                        .foliumtooltip {\n",
       "                            \n",
       "                        }\n",
       "                       .foliumtooltip table{\n",
       "                            margin: auto;\n",
       "                        }\n",
       "                        .foliumtooltip tr{\n",
       "                            text-align: left;\n",
       "                        }\n",
       "                        .foliumtooltip th{\n",
       "                            padding: 2px; padding-right: 8px;\n",
       "                        }\n",
       "                    &lt;/style&gt;\n",
       "            \n",
       "    \n",
       "    &lt;script src=&quot;https://code.jquery.com/ui/1.12.1/jquery-ui.js&quot;&gt;&lt;/script&gt;\n",
       "    &lt;script&gt;$( function() {\n",
       "        $( &quot;.maplegend&quot; ).draggable({\n",
       "            start: function (event, ui) {\n",
       "                $(this).css({\n",
       "                    right: &quot;auto&quot;,\n",
       "                    top: &quot;auto&quot;,\n",
       "                    bottom: &quot;auto&quot;\n",
       "                });\n",
       "            }\n",
       "        });\n",
       "    });\n",
       "    &lt;/script&gt;\n",
       "    &lt;style type=&#x27;text/css&#x27;&gt;\n",
       "      .maplegend {\n",
       "        position: absolute;\n",
       "        z-index:9999;\n",
       "        background-color: rgba(255, 255, 255, .8);\n",
       "        border-radius: 5px;\n",
       "        box-shadow: 0 0 15px rgba(0,0,0,0.2);\n",
       "        padding: 10px;\n",
       "        font: 12px/14px Arial, Helvetica, sans-serif;\n",
       "        right: 10px;\n",
       "        bottom: 20px;\n",
       "      }\n",
       "      .maplegend .legend-title {\n",
       "        text-align: left;\n",
       "        margin-bottom: 5px;\n",
       "        font-weight: bold;\n",
       "        }\n",
       "      .maplegend .legend-scale ul {\n",
       "        margin: 0;\n",
       "        margin-bottom: 0px;\n",
       "        padding: 0;\n",
       "        float: left;\n",
       "        list-style: none;\n",
       "        }\n",
       "      .maplegend .legend-scale ul li {\n",
       "        list-style: none;\n",
       "        margin-left: 0;\n",
       "        line-height: 16px;\n",
       "        margin-bottom: 2px;\n",
       "        }\n",
       "      .maplegend ul.legend-labels li span {\n",
       "        display: block;\n",
       "        float: left;\n",
       "        height: 14px;\n",
       "        width: 14px;\n",
       "        margin-right: 5px;\n",
       "        margin-left: 0;\n",
       "        border: 0px solid #ccc;\n",
       "        }\n",
       "      .maplegend .legend-source {\n",
       "        color: #777;\n",
       "        clear: both;\n",
       "        }\n",
       "      .maplegend a {\n",
       "        color: #777;\n",
       "        }\n",
       "    &lt;/style&gt;\n",
       "    \n",
       "&lt;/head&gt;\n",
       "&lt;body&gt;\n",
       "    \n",
       "    \n",
       "    &lt;div id=&#x27;maplegend cve_estac&#x27; class=&#x27;maplegend&#x27;&gt;\n",
       "        &lt;div class=&#x27;legend-title&#x27;&gt;cve_estac&lt;/div&gt;\n",
       "        &lt;div class=&#x27;legend-scale&#x27;&gt;\n",
       "            &lt;ul class=&#x27;legend-labels&#x27;&gt;\n",
       "                &lt;li&gt;&lt;span style=&#x27;background:#440154&#x27;&gt;&lt;/span&gt;AJM&lt;/li&gt;\n",
       "                &lt;li&gt;&lt;span style=&#x27;background:#470d60&#x27;&gt;&lt;/span&gt;AJU&lt;/li&gt;\n",
       "                &lt;li&gt;&lt;span style=&#x27;background:#481a6c&#x27;&gt;&lt;/span&gt;ATI&lt;/li&gt;\n",
       "                &lt;li&gt;&lt;span style=&#x27;background:#482475&#x27;&gt;&lt;/span&gt;CAM&lt;/li&gt;\n",
       "                &lt;li&gt;&lt;span style=&#x27;background:#472f7d&#x27;&gt;&lt;/span&gt;CCA&lt;/li&gt;\n",
       "                &lt;li&gt;&lt;span style=&#x27;background:#443983&#x27;&gt;&lt;/span&gt;COY&lt;/li&gt;\n",
       "                &lt;li&gt;&lt;span style=&#x27;background:#414487&#x27;&gt;&lt;/span&gt;CUA&lt;/li&gt;\n",
       "                &lt;li&gt;&lt;span style=&#x27;background:#3d4d8a&#x27;&gt;&lt;/span&gt;FAC&lt;/li&gt;\n",
       "                &lt;li&gt;&lt;span style=&#x27;background:#39568c&#x27;&gt;&lt;/span&gt;FAR&lt;/li&gt;\n",
       "                &lt;li&gt;&lt;span style=&#x27;background:#355f8d&#x27;&gt;&lt;/span&gt;GAM&lt;/li&gt;\n",
       "                &lt;li&gt;&lt;span style=&#x27;background:#31688e&#x27;&gt;&lt;/span&gt;HGM&lt;/li&gt;\n",
       "                &lt;li&gt;&lt;span style=&#x27;background:#2d708e&#x27;&gt;&lt;/span&gt;IZT&lt;/li&gt;\n",
       "                &lt;li&gt;&lt;span style=&#x27;background:#2a788e&#x27;&gt;&lt;/span&gt;LLA&lt;/li&gt;\n",
       "                &lt;li&gt;&lt;span style=&#x27;background:#27808e&#x27;&gt;&lt;/span&gt;LPR&lt;/li&gt;\n",
       "                &lt;li&gt;&lt;span style=&#x27;background:#23888e&#x27;&gt;&lt;/span&gt;MER&lt;/li&gt;\n",
       "                &lt;li&gt;&lt;span style=&#x27;background:#21918c&#x27;&gt;&lt;/span&gt;MGH&lt;/li&gt;\n",
       "                &lt;li&gt;&lt;span style=&#x27;background:#1f988b&#x27;&gt;&lt;/span&gt;MPA&lt;/li&gt;\n",
       "                &lt;li&gt;&lt;span style=&#x27;background:#1fa188&#x27;&gt;&lt;/span&gt;NEZ&lt;/li&gt;\n",
       "                &lt;li&gt;&lt;span style=&#x27;background:#22a884&#x27;&gt;&lt;/span&gt;PED&lt;/li&gt;\n",
       "                &lt;li&gt;&lt;span style=&#x27;background:#2ab07f&#x27;&gt;&lt;/span&gt;SAC&lt;/li&gt;\n",
       "                &lt;li&gt;&lt;span style=&#x27;background:#35b779&#x27;&gt;&lt;/span&gt;SAG&lt;/li&gt;\n",
       "                &lt;li&gt;&lt;span style=&#x27;background:#44bf70&#x27;&gt;&lt;/span&gt;SFE&lt;/li&gt;\n",
       "                &lt;li&gt;&lt;span style=&#x27;background:#54c568&#x27;&gt;&lt;/span&gt;SJA&lt;/li&gt;\n",
       "                &lt;li&gt;&lt;span style=&#x27;background:#67cc5c&#x27;&gt;&lt;/span&gt;SUR&lt;/li&gt;\n",
       "                &lt;li&gt;&lt;span style=&#x27;background:#7ad151&#x27;&gt;&lt;/span&gt;TAH&lt;/li&gt;\n",
       "                &lt;li&gt;&lt;span style=&#x27;background:#90d743&#x27;&gt;&lt;/span&gt;TEC&lt;/li&gt;\n",
       "                &lt;li&gt;&lt;span style=&#x27;background:#a5db36&#x27;&gt;&lt;/span&gt;TLA&lt;/li&gt;\n",
       "                &lt;li&gt;&lt;span style=&#x27;background:#bddf26&#x27;&gt;&lt;/span&gt;TPN&lt;/li&gt;\n",
       "                &lt;li&gt;&lt;span style=&#x27;background:#d2e21b&#x27;&gt;&lt;/span&gt;UAX&lt;/li&gt;\n",
       "                &lt;li&gt;&lt;span style=&#x27;background:#eae51a&#x27;&gt;&lt;/span&gt;UIZ&lt;/li&gt;\n",
       "                &lt;li&gt;&lt;span style=&#x27;background:#fde725&#x27;&gt;&lt;/span&gt;XAL&lt;/li&gt;\n",
       "            &lt;/ul&gt;\n",
       "        &lt;/div&gt;\n",
       "    &lt;/div&gt;\n",
       "    \n",
       "    \n",
       "            &lt;div class=&quot;folium-map&quot; id=&quot;map_3200dce0740921493cafdd71e97446fb&quot; &gt;&lt;/div&gt;\n",
       "        \n",
       "&lt;/body&gt;\n",
       "&lt;script&gt;\n",
       "    \n",
       "    \n",
       "            var map_3200dce0740921493cafdd71e97446fb = L.map(\n",
       "                &quot;map_3200dce0740921493cafdd71e97446fb&quot;,\n",
       "                {\n",
       "                    center: [19.320579586051654, -99.15289780772773],\n",
       "                    crs: L.CRS.EPSG3857,\n",
       "                    ...{\n",
       "  &quot;zoom&quot;: 10,\n",
       "  &quot;zoomControl&quot;: true,\n",
       "  &quot;preferCanvas&quot;: false,\n",
       "}\n",
       "\n",
       "                }\n",
       "            );\n",
       "            L.control.scale().addTo(map_3200dce0740921493cafdd71e97446fb);\n",
       "\n",
       "            \n",
       "\n",
       "        \n",
       "    \n",
       "            var tile_layer_05f21fd46407f7c098f8b7bd5da514f7 = L.tileLayer(\n",
       "                &quot;https://tile.openstreetmap.org/{z}/{x}/{y}.png&quot;,\n",
       "                {\n",
       "  &quot;minZoom&quot;: 0,\n",
       "  &quot;maxZoom&quot;: 19,\n",
       "  &quot;maxNativeZoom&quot;: 19,\n",
       "  &quot;noWrap&quot;: false,\n",
       "  &quot;attribution&quot;: &quot;\\u0026copy; \\u003ca href=\\&quot;https://www.openstreetmap.org/copyright\\&quot;\\u003eOpenStreetMap\\u003c/a\\u003e contributors&quot;,\n",
       "  &quot;subdomains&quot;: &quot;abc&quot;,\n",
       "  &quot;detectRetina&quot;: false,\n",
       "  &quot;tms&quot;: false,\n",
       "  &quot;opacity&quot;: 1,\n",
       "}\n",
       "\n",
       "            );\n",
       "        \n",
       "    \n",
       "            tile_layer_05f21fd46407f7c098f8b7bd5da514f7.addTo(map_3200dce0740921493cafdd71e97446fb);\n",
       "        \n",
       "    \n",
       "            map_3200dce0740921493cafdd71e97446fb.fitBounds(\n",
       "                [[19.04836946169958, -99.36562781416902], [19.59278971040373, -98.94016780128645]],\n",
       "                {}\n",
       "            );\n",
       "        \n",
       "    \n",
       "        function geo_json_93917f77d3f553878891a959d75f1182_styler(feature) {\n",
       "            switch(feature.id) {\n",
       "                default:\n",
       "                    return {&quot;color&quot;: &quot;red&quot;, &quot;fillColor&quot;: &quot;red&quot;, &quot;fillOpacity&quot;: 0.5, &quot;weight&quot;: 2};\n",
       "            }\n",
       "        }\n",
       "        function geo_json_93917f77d3f553878891a959d75f1182_highlighter(feature) {\n",
       "            switch(feature.id) {\n",
       "                default:\n",
       "                    return {&quot;fillOpacity&quot;: 0.75};\n",
       "            }\n",
       "        }\n",
       "        function geo_json_93917f77d3f553878891a959d75f1182_pointToLayer(feature, latlng) {\n",
       "            var opts = {&quot;bubblingMouseEvents&quot;: true, &quot;color&quot;: &quot;#3388ff&quot;, &quot;dashArray&quot;: null, &quot;dashOffset&quot;: null, &quot;fill&quot;: true, &quot;fillColor&quot;: &quot;#3388ff&quot;, &quot;fillOpacity&quot;: 0.2, &quot;fillRule&quot;: &quot;evenodd&quot;, &quot;lineCap&quot;: &quot;round&quot;, &quot;lineJoin&quot;: &quot;round&quot;, &quot;opacity&quot;: 1.0, &quot;radius&quot;: 2, &quot;stroke&quot;: true, &quot;weight&quot;: 3};\n",
       "            \n",
       "            let style = geo_json_93917f77d3f553878891a959d75f1182_styler(feature)\n",
       "            Object.assign(opts, style)\n",
       "            \n",
       "            return new L.CircleMarker(latlng, opts)\n",
       "        }\n",
       "\n",
       "        function geo_json_93917f77d3f553878891a959d75f1182_onEachFeature(feature, layer) {\n",
       "            layer.on({\n",
       "                mouseout: function(e) {\n",
       "                    if(typeof e.target.setStyle === &quot;function&quot;){\n",
       "                            geo_json_93917f77d3f553878891a959d75f1182.resetStyle(e.target);\n",
       "                    }\n",
       "                },\n",
       "                mouseover: function(e) {\n",
       "                    if(typeof e.target.setStyle === &quot;function&quot;){\n",
       "                        const highlightStyle = geo_json_93917f77d3f553878891a959d75f1182_highlighter(e.target.feature)\n",
       "                        e.target.setStyle(highlightStyle);\n",
       "                    }\n",
       "                },\n",
       "            });\n",
       "        };\n",
       "        var geo_json_93917f77d3f553878891a959d75f1182 = L.geoJson(null, {\n",
       "                onEachFeature: geo_json_93917f77d3f553878891a959d75f1182_onEachFeature,\n",
       "            \n",
       "                style: geo_json_93917f77d3f553878891a959d75f1182_styler,\n",
       "                pointToLayer: geo_json_93917f77d3f553878891a959d75f1182_pointToLayer,\n",
       "            ...{\n",
       "  &quot;alpha&quot;: 0.0,\n",
       "}\n",
       "        });\n",
       "\n",
       "        function geo_json_93917f77d3f553878891a959d75f1182_add (data) {\n",
       "            geo_json_93917f77d3f553878891a959d75f1182\n",
       "                .addData(data);\n",
       "        }\n",
       "            geo_json_93917f77d3f553878891a959d75f1182_add({&quot;bbox&quot;: [-99.36562781416902, 19.04836946169958, -98.94016780128645, 19.59278971040373], &quot;features&quot;: [{&quot;bbox&quot;: [-99.36562781416902, 19.04836946169958, -98.94016780128645, 19.59278971040373], &quot;geometry&quot;: {&quot;coordinates&quot;: [[[-98.94036548370357, 19.04871950807017], [-98.94016780128645, 19.59278971040373], [-99.36562781416902, 19.59242888232859], [-99.36441983098476, 19.04836946169958], [-98.94036548370357, 19.04871950807017]]], &quot;type&quot;: &quot;Polygon&quot;}, &quot;id&quot;: &quot;0&quot;, &quot;properties&quot;: {&quot;__folium_color&quot;: &quot;red&quot;}, &quot;type&quot;: &quot;Feature&quot;}], &quot;type&quot;: &quot;FeatureCollection&quot;});\n",
       "\n",
       "        \n",
       "    \n",
       "    geo_json_93917f77d3f553878891a959d75f1182.bindTooltip(\n",
       "    function(layer){\n",
       "    let div = L.DomUtil.create(&#x27;div&#x27;);\n",
       "    \n",
       "    return div\n",
       "    }\n",
       "    ,{\n",
       "  &quot;sticky&quot;: true,\n",
       "  &quot;className&quot;: &quot;foliumtooltip&quot;,\n",
       "});\n",
       "                     \n",
       "    \n",
       "            geo_json_93917f77d3f553878891a959d75f1182.addTo(map_3200dce0740921493cafdd71e97446fb);\n",
       "        \n",
       "    \n",
       "        function geo_json_59e87c74e0d994cc6f287417fdd9769d_styler(feature) {\n",
       "            switch(feature.id) {\n",
       "                case &quot;1&quot;: \n",
       "                    return {&quot;color&quot;: &quot;#470d60&quot;, &quot;fillColor&quot;: &quot;#470d60&quot;, &quot;fillOpacity&quot;: 0.5, &quot;weight&quot;: 2};\n",
       "                case &quot;59&quot;: \n",
       "                    return {&quot;color&quot;: &quot;#bddf26&quot;, &quot;fillColor&quot;: &quot;#bddf26&quot;, &quot;fillOpacity&quot;: 0.5, &quot;weight&quot;: 2};\n",
       "                case &quot;2&quot;: \n",
       "                    return {&quot;color&quot;: &quot;#440154&quot;, &quot;fillColor&quot;: &quot;#440154&quot;, &quot;fillOpacity&quot;: 0.5, &quot;weight&quot;: 2};\n",
       "                case &quot;52&quot;: \n",
       "                    return {&quot;color&quot;: &quot;#67cc5c&quot;, &quot;fillColor&quot;: &quot;#67cc5c&quot;, &quot;fillOpacity&quot;: 0.5, &quot;weight&quot;: 2};\n",
       "                case &quot;43&quot;: \n",
       "                    return {&quot;color&quot;: &quot;#22a884&quot;, &quot;fillColor&quot;: &quot;#22a884&quot;, &quot;fillOpacity&quot;: 0.5, &quot;weight&quot;: 2};\n",
       "                case &quot;13&quot;: \n",
       "                    return {&quot;color&quot;: &quot;#443983&quot;, &quot;fillColor&quot;: &quot;#443983&quot;, &quot;fillOpacity&quot;: 0.5, &quot;weight&quot;: 2};\n",
       "                case &quot;48&quot;: \n",
       "                    return {&quot;color&quot;: &quot;#44bf70&quot;, &quot;fillColor&quot;: &quot;#44bf70&quot;, &quot;fillOpacity&quot;: 0.5, &quot;weight&quot;: 2};\n",
       "                case &quot;14&quot;: \n",
       "                    return {&quot;color&quot;: &quot;#414487&quot;, &quot;fillColor&quot;: &quot;#414487&quot;, &quot;fillOpacity&quot;: 0.5, &quot;weight&quot;: 2};\n",
       "                case &quot;40&quot;: \n",
       "                    return {&quot;color&quot;: &quot;#1f988b&quot;, &quot;fillColor&quot;: &quot;#1f988b&quot;, &quot;fillOpacity&quot;: 0.5, &quot;weight&quot;: 2};\n",
       "                case &quot;54&quot;: \n",
       "                    return {&quot;color&quot;: &quot;#7ad151&quot;, &quot;fillColor&quot;: &quot;#7ad151&quot;, &quot;fillOpacity&quot;: 0.5, &quot;weight&quot;: 2};\n",
       "                case &quot;60&quot;: \n",
       "                    return {&quot;color&quot;: &quot;#d2e21b&quot;, &quot;fillColor&quot;: &quot;#d2e21b&quot;, &quot;fillOpacity&quot;: 0.5, &quot;weight&quot;: 2};\n",
       "                case &quot;68&quot;: \n",
       "                    return {&quot;color&quot;: &quot;#2ab07f&quot;, &quot;fillColor&quot;: &quot;#2ab07f&quot;, &quot;fillOpacity&quot;: 0.5, &quot;weight&quot;: 2};\n",
       "                case &quot;61&quot;: \n",
       "                    return {&quot;color&quot;: &quot;#eae51a&quot;, &quot;fillColor&quot;: &quot;#eae51a&quot;, &quot;fillOpacity&quot;: 0.5, &quot;weight&quot;: 2};\n",
       "                case &quot;28&quot;: \n",
       "                    return {&quot;color&quot;: &quot;#2d708e&quot;, &quot;fillColor&quot;: &quot;#2d708e&quot;, &quot;fillOpacity&quot;: 0.5, &quot;weight&quot;: 2};\n",
       "                case &quot;42&quot;: \n",
       "                    return {&quot;color&quot;: &quot;#1fa188&quot;, &quot;fillColor&quot;: &quot;#1fa188&quot;, &quot;fillOpacity&quot;: 0.5, &quot;weight&quot;: 2};\n",
       "                case &quot;50&quot;: \n",
       "                    return {&quot;color&quot;: &quot;#54c568&quot;, &quot;fillColor&quot;: &quot;#54c568&quot;, &quot;fillOpacity&quot;: 0.5, &quot;weight&quot;: 2};\n",
       "                case &quot;37&quot;: \n",
       "                    return {&quot;color&quot;: &quot;#21918c&quot;, &quot;fillColor&quot;: &quot;#21918c&quot;, &quot;fillOpacity&quot;: 0.5, &quot;weight&quot;: 2};\n",
       "                case &quot;24&quot;: \n",
       "                    return {&quot;color&quot;: &quot;#31688e&quot;, &quot;fillColor&quot;: &quot;#31688e&quot;, &quot;fillOpacity&quot;: 0.5, &quot;weight&quot;: 2};\n",
       "                case &quot;36&quot;: \n",
       "                    return {&quot;color&quot;: &quot;#23888e&quot;, &quot;fillColor&quot;: &quot;#23888e&quot;, &quot;fillOpacity&quot;: 0.5, &quot;weight&quot;: 2};\n",
       "                case &quot;7&quot;: \n",
       "                    return {&quot;color&quot;: &quot;#482475&quot;, &quot;fillColor&quot;: &quot;#482475&quot;, &quot;fillOpacity&quot;: 0.5, &quot;weight&quot;: 2};\n",
       "                case &quot;20&quot;: \n",
       "                    return {&quot;color&quot;: &quot;#3d4d8a&quot;, &quot;fillColor&quot;: &quot;#3d4d8a&quot;, &quot;fillOpacity&quot;: 0.5, &quot;weight&quot;: 2};\n",
       "                case &quot;57&quot;: \n",
       "                    return {&quot;color&quot;: &quot;#a5db36&quot;, &quot;fillColor&quot;: &quot;#a5db36&quot;, &quot;fillOpacity&quot;: 0.5, &quot;weight&quot;: 2};\n",
       "                case &quot;4&quot;: \n",
       "                    return {&quot;color&quot;: &quot;#481a6c&quot;, &quot;fillColor&quot;: &quot;#481a6c&quot;, &quot;fillOpacity&quot;: 0.5, &quot;weight&quot;: 2};\n",
       "                case &quot;67&quot;: \n",
       "                    return {&quot;color&quot;: &quot;#39568c&quot;, &quot;fillColor&quot;: &quot;#39568c&quot;, &quot;fillOpacity&quot;: 0.5, &quot;weight&quot;: 2};\n",
       "                case &quot;22&quot;: \n",
       "                    return {&quot;color&quot;: &quot;#355f8d&quot;, &quot;fillColor&quot;: &quot;#355f8d&quot;, &quot;fillOpacity&quot;: 0.5, &quot;weight&quot;: 2};\n",
       "                case &quot;56&quot;: \n",
       "                    return {&quot;color&quot;: &quot;#90d743&quot;, &quot;fillColor&quot;: &quot;#90d743&quot;, &quot;fillOpacity&quot;: 0.5, &quot;weight&quot;: 2};\n",
       "                case &quot;65&quot;: \n",
       "                    return {&quot;color&quot;: &quot;#fde725&quot;, &quot;fillColor&quot;: &quot;#fde725&quot;, &quot;fillOpacity&quot;: 0.5, &quot;weight&quot;: 2};\n",
       "                case &quot;47&quot;: \n",
       "                    return {&quot;color&quot;: &quot;#35b779&quot;, &quot;fillColor&quot;: &quot;#35b779&quot;, &quot;fillOpacity&quot;: 0.5, &quot;weight&quot;: 2};\n",
       "                case &quot;33&quot;: \n",
       "                    return {&quot;color&quot;: &quot;#27808e&quot;, &quot;fillColor&quot;: &quot;#27808e&quot;, &quot;fillOpacity&quot;: 0.5, &quot;weight&quot;: 2};\n",
       "                case &quot;31&quot;: \n",
       "                    return {&quot;color&quot;: &quot;#2a788e&quot;, &quot;fillColor&quot;: &quot;#2a788e&quot;, &quot;fillOpacity&quot;: 0.5, &quot;weight&quot;: 2};\n",
       "                default:\n",
       "                    return {&quot;color&quot;: &quot;#472f7d&quot;, &quot;fillColor&quot;: &quot;#472f7d&quot;, &quot;fillOpacity&quot;: 0.5, &quot;weight&quot;: 2};\n",
       "            }\n",
       "        }\n",
       "        function geo_json_59e87c74e0d994cc6f287417fdd9769d_highlighter(feature) {\n",
       "            switch(feature.id) {\n",
       "                default:\n",
       "                    return {&quot;fillOpacity&quot;: 0.75};\n",
       "            }\n",
       "        }\n",
       "        function geo_json_59e87c74e0d994cc6f287417fdd9769d_pointToLayer(feature, latlng) {\n",
       "            var opts = {&quot;bubblingMouseEvents&quot;: true, &quot;color&quot;: &quot;#3388ff&quot;, &quot;dashArray&quot;: null, &quot;dashOffset&quot;: null, &quot;fill&quot;: true, &quot;fillColor&quot;: &quot;#3388ff&quot;, &quot;fillOpacity&quot;: 0.2, &quot;fillRule&quot;: &quot;evenodd&quot;, &quot;lineCap&quot;: &quot;round&quot;, &quot;lineJoin&quot;: &quot;round&quot;, &quot;opacity&quot;: 1.0, &quot;radius&quot;: 5, &quot;stroke&quot;: true, &quot;weight&quot;: 3};\n",
       "            \n",
       "            let style = geo_json_59e87c74e0d994cc6f287417fdd9769d_styler(feature)\n",
       "            Object.assign(opts, style)\n",
       "            \n",
       "            return new L.CircleMarker(latlng, opts)\n",
       "        }\n",
       "\n",
       "        function geo_json_59e87c74e0d994cc6f287417fdd9769d_onEachFeature(feature, layer) {\n",
       "            layer.on({\n",
       "                mouseout: function(e) {\n",
       "                    if(typeof e.target.setStyle === &quot;function&quot;){\n",
       "                            geo_json_59e87c74e0d994cc6f287417fdd9769d.resetStyle(e.target);\n",
       "                    }\n",
       "                },\n",
       "                mouseover: function(e) {\n",
       "                    if(typeof e.target.setStyle === &quot;function&quot;){\n",
       "                        const highlightStyle = geo_json_59e87c74e0d994cc6f287417fdd9769d_highlighter(e.target.feature)\n",
       "                        e.target.setStyle(highlightStyle);\n",
       "                    }\n",
       "                },\n",
       "            });\n",
       "        };\n",
       "        var geo_json_59e87c74e0d994cc6f287417fdd9769d = L.geoJson(null, {\n",
       "                onEachFeature: geo_json_59e87c74e0d994cc6f287417fdd9769d_onEachFeature,\n",
       "            \n",
       "                style: geo_json_59e87c74e0d994cc6f287417fdd9769d_styler,\n",
       "                pointToLayer: geo_json_59e87c74e0d994cc6f287417fdd9769d_pointToLayer,\n",
       "            ...{\n",
       "}\n",
       "        });\n",
       "\n",
       "        function geo_json_59e87c74e0d994cc6f287417fdd9769d_add (data) {\n",
       "            geo_json_59e87c74e0d994cc6f287417fdd9769d\n",
       "                .addData(data);\n",
       "        }\n",
       "            geo_json_59e87c74e0d994cc6f287417fdd9769d_add({&quot;bbox&quot;: [-99.291705, 19.154286, -98.990189, 19.578792], &quot;features&quot;: [{&quot;bbox&quot;: [-99.162611, 19.154286, -99.162611, 19.154286], &quot;geometry&quot;: {&quot;coordinates&quot;: [-99.162611, 19.154286], &quot;type&quot;: &quot;Point&quot;}, &quot;id&quot;: &quot;1&quot;, &quot;properties&quot;: {&quot;__folium_color&quot;: &quot;#470d60&quot;, &quot;alt&quot;: 2942.0, &quot;cve_estac&quot;: &quot;AJU&quot;, &quot;first_date&quot;: &quot;2015-01-01 00:00:00&quot;, &quot;id_station&quot;: 484090120400, &quot;last_date&quot;: &quot;2025-01-31 23:00:00&quot;, &quot;latitud&quot;: 19.154286, &quot;longitud&quot;: -99.162611, &quot;nom_estac&quot;: &quot;Ajusco&quot;, &quot;obs_estac&quot;: &quot;Activa&quot;, &quot;pollutants&quot;: &quot;[\\u0027co\\u0027, \\u0027no\\u0027, \\u0027no2\\u0027, \\u0027nox\\u0027, \\u0027o3\\u0027, \\u0027pm10\\u0027, \\u0027pm2\\u0027, \\u0027rh\\u0027, \\u0027so2\\u0027, \\u0027tmp\\u0027, \\u0027wdr\\u0027, \\u0027wsp\\u0027]&quot;}, &quot;type&quot;: &quot;Feature&quot;}, {&quot;bbox&quot;: [-99.184177, 19.257041, -99.184177, 19.257041], &quot;geometry&quot;: {&quot;coordinates&quot;: [-99.184177, 19.257041], &quot;type&quot;: &quot;Point&quot;}, &quot;id&quot;: &quot;59&quot;, &quot;properties&quot;: {&quot;__folium_color&quot;: &quot;#bddf26&quot;, &quot;alt&quot;: 2522.0, &quot;cve_estac&quot;: &quot;TPN&quot;, &quot;first_date&quot;: &quot;2005-07-31 21:00:00&quot;, &quot;id_station&quot;: 484090120209, &quot;last_date&quot;: &quot;2016-12-31 23:00:00&quot;, &quot;latitud&quot;: 19.257041, &quot;longitud&quot;: -99.184177, &quot;nom_estac&quot;: &quot;Tlalpan&quot;, &quot;obs_estac&quot;: &quot;Activa&quot;, &quot;pollutants&quot;: &quot;[\\u0027co\\u0027, \\u0027no\\u0027, \\u0027no2\\u0027, \\u0027nox\\u0027, \\u0027o3\\u0027, \\u0027pm10\\u0027, \\u0027pm2\\u0027, \\u0027rh\\u0027, \\u0027so2\\u0027, \\u0027tmp\\u0027, \\u0027wdr\\u0027, \\u0027wsp\\u0027]&quot;}, &quot;type&quot;: &quot;Feature&quot;}, {&quot;bbox&quot;: [-99.207744, 19.272161, -99.207744, 19.272161], &quot;geometry&quot;: {&quot;coordinates&quot;: [-99.207744, 19.272161], &quot;type&quot;: &quot;Point&quot;}, &quot;id&quot;: &quot;2&quot;, &quot;properties&quot;: {&quot;__folium_color&quot;: &quot;#440154&quot;, &quot;alt&quot;: 2548.0, &quot;cve_estac&quot;: &quot;AJM&quot;, &quot;first_date&quot;: &quot;2015-01-01 00:00:00&quot;, &quot;id_station&quot;: 484090120609, &quot;last_date&quot;: &quot;2025-01-31 23:00:00&quot;, &quot;latitud&quot;: 19.272161, &quot;longitud&quot;: -99.207744, &quot;nom_estac&quot;: &quot;Ajusco Medio&quot;, &quot;obs_estac&quot;: &quot;Activa&quot;, &quot;pollutants&quot;: &quot;[\\u0027co\\u0027, \\u0027no\\u0027, \\u0027no2\\u0027, \\u0027nox\\u0027, \\u0027o3\\u0027, \\u0027pm10\\u0027, \\u0027pm2\\u0027, \\u0027rh\\u0027, \\u0027so2\\u0027, \\u0027tmp\\u0027, \\u0027wdr\\u0027, \\u0027wsp\\u0027]&quot;}, &quot;type&quot;: &quot;Feature&quot;}, {&quot;bbox&quot;: [-99.149994, 19.31448, -99.149994, 19.31448], &quot;geometry&quot;: {&quot;coordinates&quot;: [-99.149994, 19.31448], &quot;type&quot;: &quot;Point&quot;}, &quot;id&quot;: &quot;52&quot;, &quot;properties&quot;: {&quot;__folium_color&quot;: &quot;#67cc5c&quot;, &quot;alt&quot;: 2279.0, &quot;cve_estac&quot;: &quot;SUR&quot;, &quot;first_date&quot;: &quot;2005-01-01 00:00:00&quot;, &quot;id_station&quot;: 484090030109, &quot;last_date&quot;: &quot;2016-12-31 23:00:00&quot;, &quot;latitud&quot;: 19.31448, &quot;longitud&quot;: -99.149994, &quot;nom_estac&quot;: &quot;Santa Ursula&quot;, &quot;obs_estac&quot;: &quot;Activa&quot;, &quot;pollutants&quot;: &quot;[\\u0027co\\u0027, \\u0027no\\u0027, \\u0027no2\\u0027, \\u0027nox\\u0027, \\u0027o3\\u0027, \\u0027pm10\\u0027, \\u0027pm2\\u0027, \\u0027rh\\u0027, \\u0027so2\\u0027, \\u0027tmp\\u0027, \\u0027wdr\\u0027, \\u0027wsp\\u0027]&quot;}, &quot;type&quot;: &quot;Feature&quot;}, {&quot;bbox&quot;: [-99.204136, 19.325146, -99.204136, 19.325146], &quot;geometry&quot;: {&quot;coordinates&quot;: [-99.204136, 19.325146], &quot;type&quot;: &quot;Point&quot;}, &quot;id&quot;: &quot;43&quot;, &quot;properties&quot;: {&quot;__folium_color&quot;: &quot;#22a884&quot;, &quot;alt&quot;: 2326.0, &quot;cve_estac&quot;: &quot;PED&quot;, &quot;first_date&quot;: &quot;2005-01-01 00:00:00&quot;, &quot;id_station&quot;: 484090100127, &quot;last_date&quot;: &quot;2025-01-31 23:00:00&quot;, &quot;latitud&quot;: 19.325146, &quot;longitud&quot;: -99.204136, &quot;nom_estac&quot;: &quot;Pedregal&quot;, &quot;obs_estac&quot;: &quot;Activa&quot;, &quot;pollutants&quot;: &quot;[\\u0027co\\u0027, \\u0027no\\u0027, \\u0027no2\\u0027, \\u0027nox\\u0027, \\u0027o3\\u0027, \\u0027pm10\\u0027, \\u0027pm2\\u0027, \\u0027rh\\u0027, \\u0027so2\\u0027, \\u0027tmp\\u0027, \\u0027wdr\\u0027, \\u0027wsp\\u0027]&quot;}, &quot;type&quot;: &quot;Feature&quot;}, {&quot;bbox&quot;: [-99.176111, 19.326111000000004, -99.176111, 19.326111000000004], &quot;geometry&quot;: {&quot;coordinates&quot;: [-99.176111, 19.326111000000004], &quot;type&quot;: &quot;Point&quot;}, &quot;id&quot;: &quot;8&quot;, &quot;properties&quot;: {&quot;__folium_color&quot;: &quot;#472f7d&quot;, &quot;alt&quot;: 2294.0, &quot;cve_estac&quot;: &quot;CCA&quot;, &quot;first_date&quot;: &quot;2014-08-01 00:00:00&quot;, &quot;id_station&quot;: 484090030501, &quot;last_date&quot;: &quot;2025-01-31 23:00:00&quot;, &quot;latitud&quot;: 19.326111, &quot;longitud&quot;: -99.176111, &quot;nom_estac&quot;: &quot;Centro de Ciencias de la Atm\\u00f3sfera&quot;, &quot;obs_estac&quot;: &quot;Activa&quot;, &quot;pollutants&quot;: &quot;[\\u0027co\\u0027, \\u0027no\\u0027, \\u0027no2\\u0027, \\u0027nox\\u0027, \\u0027o3\\u0027, \\u0027pm10\\u0027, \\u0027pm2\\u0027, \\u0027rh\\u0027, \\u0027so2\\u0027, \\u0027tmp\\u0027, \\u0027wdr\\u0027, \\u0027wsp\\u0027]&quot;}, &quot;type&quot;: &quot;Feature&quot;}, {&quot;bbox&quot;: [-99.157101, 19.350258, -99.157101, 19.350258], &quot;geometry&quot;: {&quot;coordinates&quot;: [-99.157101, 19.350258], &quot;type&quot;: &quot;Point&quot;}, &quot;id&quot;: &quot;13&quot;, &quot;properties&quot;: {&quot;__folium_color&quot;: &quot;#443983&quot;, &quot;alt&quot;: 2260.0, &quot;cve_estac&quot;: &quot;COY&quot;, &quot;first_date&quot;: &quot;2005-01-01 00:00:00&quot;, &quot;id_station&quot;: 484090030303, &quot;last_date&quot;: &quot;2017-09-18 23:00:00&quot;, &quot;latitud&quot;: 19.350258, &quot;longitud&quot;: -99.157101, &quot;nom_estac&quot;: &quot;Coyoac\\u00e1n&quot;, &quot;obs_estac&quot;: &quot;Activa&quot;, &quot;pollutants&quot;: &quot;[\\u0027co\\u0027, \\u0027no\\u0027, \\u0027no2\\u0027, \\u0027nox\\u0027, \\u0027o3\\u0027, \\u0027pm10\\u0027, \\u0027pm2\\u0027, \\u0027rh\\u0027, \\u0027so2\\u0027, \\u0027tmp\\u0027, \\u0027wdr\\u0027, \\u0027wsp\\u0027]&quot;}, &quot;type&quot;: &quot;Feature&quot;}, {&quot;bbox&quot;: [-99.262865, 19.357357, -99.262865, 19.357357], &quot;geometry&quot;: {&quot;coordinates&quot;: [-99.262865, 19.357357], &quot;type&quot;: &quot;Point&quot;}, &quot;id&quot;: &quot;48&quot;, &quot;properties&quot;: {&quot;__folium_color&quot;: &quot;#44bf70&quot;, &quot;alt&quot;: 2599.0, &quot;cve_estac&quot;: &quot;SFE&quot;, &quot;first_date&quot;: &quot;2012-02-12 23:00:00&quot;, &quot;id_station&quot;: 484090040309, &quot;last_date&quot;: &quot;2021-12-31 23:00:00&quot;, &quot;latitud&quot;: 19.357357, &quot;longitud&quot;: -99.262865, &quot;nom_estac&quot;: &quot;Santa fe&quot;, &quot;obs_estac&quot;: &quot;Activa&quot;, &quot;pollutants&quot;: &quot;[\\u0027co\\u0027, \\u0027no\\u0027, \\u0027no2\\u0027, \\u0027nox\\u0027, \\u0027o3\\u0027, \\u0027pm10\\u0027, \\u0027pm2\\u0027, \\u0027rh\\u0027, \\u0027so2\\u0027, \\u0027tmp\\u0027, \\u0027wdr\\u0027, \\u0027wsp\\u0027]&quot;}, &quot;type&quot;: &quot;Feature&quot;}, {&quot;bbox&quot;: [-99.291705, 19.365312999999993, -99.291705, 19.365312999999993], &quot;geometry&quot;: {&quot;coordinates&quot;: [-99.291705, 19.365312999999993], &quot;type&quot;: &quot;Point&quot;}, &quot;id&quot;: &quot;14&quot;, &quot;properties&quot;: {&quot;__folium_color&quot;: &quot;#414487&quot;, &quot;alt&quot;: 2704.0, &quot;cve_estac&quot;: &quot;CUA&quot;, &quot;first_date&quot;: &quot;2005-01-01 00:00:00&quot;, &quot;id_station&quot;: 484090040109, &quot;last_date&quot;: &quot;2025-01-31 23:00:00&quot;, &quot;latitud&quot;: 19.365313, &quot;longitud&quot;: -99.291705, &quot;nom_estac&quot;: &quot;Cuajimalpa&quot;, &quot;obs_estac&quot;: &quot;Activa&quot;, &quot;pollutants&quot;: &quot;[\\u0027co\\u0027, \\u0027no\\u0027, \\u0027no2\\u0027, \\u0027nox\\u0027, \\u0027o3\\u0027, \\u0027pm10\\u0027, \\u0027pm2\\u0027, \\u0027rh\\u0027, \\u0027so2\\u0027, \\u0027tmp\\u0027, \\u0027wdr\\u0027, \\u0027wsp\\u0027]&quot;}, &quot;type&quot;: &quot;Feature&quot;}, {&quot;bbox&quot;: [-98.990189, 19.1769, -98.990189, 19.1769], &quot;geometry&quot;: {&quot;coordinates&quot;: [-98.990189, 19.1769], &quot;type&quot;: &quot;Point&quot;}, &quot;id&quot;: &quot;40&quot;, &quot;properties&quot;: {&quot;__folium_color&quot;: &quot;#1f988b&quot;, &quot;alt&quot;: 2594.0, &quot;cve_estac&quot;: &quot;MPA&quot;, &quot;first_date&quot;: &quot;2016-01-19 23:00:00&quot;, &quot;id_station&quot;: 484090090104, &quot;last_date&quot;: &quot;2025-01-31 23:00:00&quot;, &quot;latitud&quot;: 19.1769, &quot;longitud&quot;: -98.990189, &quot;nom_estac&quot;: &quot;Milpa Alta&quot;, &quot;obs_estac&quot;: &quot;Activa&quot;, &quot;pollutants&quot;: &quot;[\\u0027co\\u0027, \\u0027no2\\u0027, \\u0027o3\\u0027, \\u0027pm10\\u0027, \\u0027pm2\\u0027, \\u0027rh\\u0027, \\u0027so2\\u0027, \\u0027tmp\\u0027, \\u0027wdr\\u0027, \\u0027wsp\\u0027]&quot;}, &quot;type&quot;: &quot;Feature&quot;}, {&quot;bbox&quot;: [-99.010564, 19.246459, -99.010564, 19.246459], &quot;geometry&quot;: {&quot;coordinates&quot;: [-99.010564, 19.246459], &quot;type&quot;: &quot;Point&quot;}, &quot;id&quot;: &quot;54&quot;, &quot;properties&quot;: {&quot;__folium_color&quot;: &quot;#7ad151&quot;, &quot;alt&quot;: 2297.0, &quot;cve_estac&quot;: &quot;TAH&quot;, &quot;first_date&quot;: &quot;2005-01-01 00:00:00&quot;, &quot;id_station&quot;: 484090130309, &quot;last_date&quot;: &quot;2025-01-31 23:00:00&quot;, &quot;latitud&quot;: 19.246459, &quot;longitud&quot;: -99.010564, &quot;nom_estac&quot;: &quot;Tlahuac&quot;, &quot;obs_estac&quot;: &quot;Activa&quot;, &quot;pollutants&quot;: &quot;[\\u0027co\\u0027, \\u0027no\\u0027, \\u0027no2\\u0027, \\u0027nox\\u0027, \\u0027o3\\u0027, \\u0027pm10\\u0027, \\u0027pm2\\u0027, \\u0027rh\\u0027, \\u0027so2\\u0027, \\u0027tmp\\u0027, \\u0027wdr\\u0027, \\u0027wsp\\u0027]&quot;}, &quot;type&quot;: &quot;Feature&quot;}, {&quot;bbox&quot;: [-99.103629, 19.304440999999997, -99.103629, 19.304440999999997], &quot;geometry&quot;: {&quot;coordinates&quot;: [-99.103629, 19.304440999999997], &quot;type&quot;: &quot;Point&quot;}, &quot;id&quot;: &quot;60&quot;, &quot;properties&quot;: {&quot;__folium_color&quot;: &quot;#d2e21b&quot;, &quot;alt&quot;: 2246.0, &quot;cve_estac&quot;: &quot;UAX&quot;, &quot;first_date&quot;: &quot;2012-02-20 08:00:00&quot;, &quot;id_station&quot;: 484090030401, &quot;last_date&quot;: &quot;2025-01-31 23:00:00&quot;, &quot;latitud&quot;: 19.304441, &quot;longitud&quot;: -99.103629, &quot;nom_estac&quot;: &quot;UAM Xochimilco&quot;, &quot;obs_estac&quot;: &quot;Activa&quot;, &quot;pollutants&quot;: &quot;[\\u0027co\\u0027, \\u0027no\\u0027, \\u0027no2\\u0027, \\u0027nox\\u0027, \\u0027o3\\u0027, \\u0027pm10\\u0027, \\u0027pm2\\u0027, \\u0027rh\\u0027, \\u0027so2\\u0027, \\u0027tmp\\u0027, \\u0027wdr\\u0027, \\u0027wsp\\u0027]&quot;}, &quot;type&quot;: &quot;Feature&quot;}, {&quot;bbox&quot;: [-99.009381, 19.345609999999994, -99.009381, 19.345609999999994], &quot;geometry&quot;: {&quot;coordinates&quot;: [-99.009381, 19.345609999999994], &quot;type&quot;: &quot;Point&quot;}, &quot;id&quot;: &quot;68&quot;, &quot;properties&quot;: {&quot;__folium_color&quot;: &quot;#2ab07f&quot;, &quot;alt&quot;: 2293.0, &quot;cve_estac&quot;: &quot;SAC&quot;, &quot;first_date&quot;: &quot;2019-03-01 00:00:00&quot;, &quot;id_station&quot;: 484800090073, &quot;last_date&quot;: &quot;2025-01-31 23:00:00&quot;, &quot;latitud&quot;: 19.34561, &quot;longitud&quot;: -99.009381, &quot;nom_estac&quot;: &quot;Santiago Acahualtepec&quot;, &quot;obs_estac&quot;: &quot;Activa&quot;, &quot;pollutants&quot;: &quot;[\\u0027co\\u0027, \\u0027no\\u0027, \\u0027no2\\u0027, \\u0027nox\\u0027, \\u0027o3\\u0027, \\u0027pm2\\u0027, \\u0027rh\\u0027, \\u0027so2\\u0027, \\u0027tmp\\u0027, \\u0027wdr\\u0027, \\u0027wsp\\u0027]&quot;}, &quot;type&quot;: &quot;Feature&quot;}, {&quot;bbox&quot;: [-99.07388, 19.360793999999995, -99.07388, 19.360793999999995], &quot;geometry&quot;: {&quot;coordinates&quot;: [-99.07388, 19.360793999999995], &quot;type&quot;: &quot;Point&quot;}, &quot;id&quot;: &quot;61&quot;, &quot;properties&quot;: {&quot;__folium_color&quot;: &quot;#eae51a&quot;, &quot;alt&quot;: 2221.0, &quot;cve_estac&quot;: &quot;UIZ&quot;, &quot;first_date&quot;: &quot;2005-01-01 00:00:00&quot;, &quot;id_station&quot;: 484090070219, &quot;last_date&quot;: &quot;2025-01-31 23:00:00&quot;, &quot;latitud&quot;: 19.360794, &quot;longitud&quot;: -99.07388, &quot;nom_estac&quot;: &quot;UAM Iztapalapa&quot;, &quot;obs_estac&quot;: &quot;Activa&quot;, &quot;pollutants&quot;: &quot;[\\u0027co\\u0027, \\u0027no\\u0027, \\u0027no2\\u0027, \\u0027nox\\u0027, \\u0027o3\\u0027, \\u0027pm10\\u0027, \\u0027pm2\\u0027, \\u0027rh\\u0027, \\u0027so2\\u0027, \\u0027tmp\\u0027, \\u0027wdr\\u0027, \\u0027wsp\\u0027]&quot;}, &quot;type&quot;: &quot;Feature&quot;}, {&quot;bbox&quot;: [-99.117641, 19.384412999999995, -99.117641, 19.384412999999995], &quot;geometry&quot;: {&quot;coordinates&quot;: [-99.117641, 19.384412999999995], &quot;type&quot;: &quot;Point&quot;}, &quot;id&quot;: &quot;28&quot;, &quot;properties&quot;: {&quot;__folium_color&quot;: &quot;#2d708e&quot;, &quot;alt&quot;: 2238.0, &quot;cve_estac&quot;: &quot;IZT&quot;, &quot;first_date&quot;: &quot;2007-07-20 08:00:00&quot;, &quot;id_station&quot;: 484090060101, &quot;last_date&quot;: &quot;2025-01-31 23:00:00&quot;, &quot;latitud&quot;: 19.384413, &quot;longitud&quot;: -99.117641, &quot;nom_estac&quot;: &quot;Iztacalco&quot;, &quot;obs_estac&quot;: &quot;Activa&quot;, &quot;pollutants&quot;: &quot;[\\u0027co\\u0027, \\u0027no\\u0027, \\u0027no2\\u0027, \\u0027nox\\u0027, \\u0027o3\\u0027, \\u0027pm10\\u0027, \\u0027pm2\\u0027, \\u0027rh\\u0027, \\u0027so2\\u0027, \\u0027tmp\\u0027, \\u0027wdr\\u0027, \\u0027wsp\\u0027]&quot;}, &quot;type&quot;: &quot;Feature&quot;}, {&quot;bbox&quot;: [-99.028212, 19.393733999999995, -99.028212, 19.393733999999995], &quot;geometry&quot;: {&quot;coordinates&quot;: [-99.028212, 19.393733999999995], &quot;type&quot;: &quot;Point&quot;}, &quot;id&quot;: &quot;42&quot;, &quot;properties&quot;: {&quot;__folium_color&quot;: &quot;#1fa188&quot;, &quot;alt&quot;: 2235.0, &quot;cve_estac&quot;: &quot;NEZ&quot;, &quot;first_date&quot;: &quot;2008-01-01 00:00:00&quot;, &quot;id_station&quot;: 484150580115, &quot;last_date&quot;: &quot;2025-01-31 23:00:00&quot;, &quot;latitud&quot;: 19.393734, &quot;longitud&quot;: -99.028212, &quot;nom_estac&quot;: &quot;Nezahualc\\u00f3yotl&quot;, &quot;obs_estac&quot;: &quot;Activa&quot;, &quot;pollutants&quot;: &quot;[\\u0027co\\u0027, \\u0027no\\u0027, \\u0027no2\\u0027, \\u0027nox\\u0027, \\u0027o3\\u0027, \\u0027pm10\\u0027, \\u0027pm2\\u0027, \\u0027rh\\u0027, \\u0027so2\\u0027, \\u0027tmp\\u0027, \\u0027wdr\\u0027, \\u0027wsp\\u0027]&quot;}, &quot;type&quot;: &quot;Feature&quot;}, {&quot;bbox&quot;: [-99.086095, 19.452591999999996, -99.086095, 19.452591999999996], &quot;geometry&quot;: {&quot;coordinates&quot;: [-99.086095, 19.452591999999996], &quot;type&quot;: &quot;Point&quot;}, &quot;id&quot;: &quot;50&quot;, &quot;properties&quot;: {&quot;__folium_color&quot;: &quot;#54c568&quot;, &quot;alt&quot;: 2258.0, &quot;cve_estac&quot;: &quot;SJA&quot;, &quot;first_date&quot;: &quot;2005-01-01 00:00:00&quot;, &quot;id_station&quot;: 484090050701, &quot;last_date&quot;: &quot;2017-09-18 23:00:00&quot;, &quot;latitud&quot;: 19.452592, &quot;longitud&quot;: -99.086095, &quot;nom_estac&quot;: &quot;San Juan Arag\\u00f3n&quot;, &quot;obs_estac&quot;: &quot;Activa&quot;, &quot;pollutants&quot;: &quot;[\\u0027co\\u0027, \\u0027no\\u0027, \\u0027no2\\u0027, \\u0027nox\\u0027, \\u0027o3\\u0027, \\u0027pm10\\u0027, \\u0027pm2\\u0027, \\u0027rh\\u0027, \\u0027so2\\u0027, \\u0027tmp\\u0027, \\u0027wdr\\u0027, \\u0027wsp\\u0027]&quot;}, &quot;type&quot;: &quot;Feature&quot;}, {&quot;bbox&quot;: [-99.20266, 19.40405, -99.20266, 19.40405], &quot;geometry&quot;: {&quot;coordinates&quot;: [-99.20266, 19.40405], &quot;type&quot;: &quot;Point&quot;}, &quot;id&quot;: &quot;37&quot;, &quot;properties&quot;: {&quot;__folium_color&quot;: &quot;#21918c&quot;, &quot;alt&quot;: 2327.0, &quot;cve_estac&quot;: &quot;MGH&quot;, &quot;first_date&quot;: &quot;2015-01-01 00:00:00&quot;, &quot;id_station&quot;: 484090160609, &quot;last_date&quot;: &quot;2025-01-31 23:00:00&quot;, &quot;latitud&quot;: 19.40405, &quot;longitud&quot;: -99.20266, &quot;nom_estac&quot;: &quot;Mguel Hidalgo&quot;, &quot;obs_estac&quot;: &quot;Activa&quot;, &quot;pollutants&quot;: &quot;[\\u0027co\\u0027, \\u0027no\\u0027, \\u0027no2\\u0027, \\u0027nox\\u0027, \\u0027o3\\u0027, \\u0027pm10\\u0027, \\u0027pm2\\u0027, \\u0027rh\\u0027, \\u0027so2\\u0027, \\u0027tmp\\u0027, \\u0027wdr\\u0027, \\u0027wsp\\u0027]&quot;}, &quot;type&quot;: &quot;Feature&quot;}, {&quot;bbox&quot;: [-99.152207, 19.411616999999996, -99.152207, 19.411616999999996], &quot;geometry&quot;: {&quot;coordinates&quot;: [-99.152207, 19.411616999999996], &quot;type&quot;: &quot;Point&quot;}, &quot;id&quot;: &quot;24&quot;, &quot;properties&quot;: {&quot;__folium_color&quot;: &quot;#31688e&quot;, &quot;alt&quot;: 2234.0, &quot;cve_estac&quot;: &quot;HGM&quot;, &quot;first_date&quot;: &quot;2012-02-17 16:00:00&quot;, &quot;id_station&quot;: 484090150409, &quot;last_date&quot;: &quot;2025-01-31 23:00:00&quot;, &quot;latitud&quot;: 19.411617, &quot;longitud&quot;: -99.152207, &quot;nom_estac&quot;: &quot;Hospital General de M\\u00e9xico&quot;, &quot;obs_estac&quot;: &quot;Activa&quot;, &quot;pollutants&quot;: &quot;[\\u0027co\\u0027, \\u0027no\\u0027, \\u0027no2\\u0027, \\u0027nox\\u0027, \\u0027o3\\u0027, \\u0027pm10\\u0027, \\u0027pm2\\u0027, \\u0027rh\\u0027, \\u0027so2\\u0027, \\u0027tmp\\u0027, \\u0027wdr\\u0027, \\u0027wsp\\u0027]&quot;}, &quot;type&quot;: &quot;Feature&quot;}, {&quot;bbox&quot;: [-99.119594, 19.42460999999999, -99.119594, 19.42460999999999], &quot;geometry&quot;: {&quot;coordinates&quot;: [-99.119594, 19.42460999999999], &quot;type&quot;: &quot;Point&quot;}, &quot;id&quot;: &quot;36&quot;, &quot;properties&quot;: {&quot;__folium_color&quot;: &quot;#23888e&quot;, &quot;alt&quot;: 2245.0, &quot;cve_estac&quot;: &quot;MER&quot;, &quot;first_date&quot;: &quot;2005-01-01 00:00:00&quot;, &quot;id_station&quot;: 484090170127, &quot;last_date&quot;: &quot;2025-01-31 23:00:00&quot;, &quot;latitud&quot;: 19.42461, &quot;longitud&quot;: -99.119594, &quot;nom_estac&quot;: &quot;Merced&quot;, &quot;obs_estac&quot;: &quot;Activa&quot;, &quot;pollutants&quot;: &quot;[\\u0027co\\u0027, \\u0027no\\u0027, \\u0027no2\\u0027, \\u0027nox\\u0027, \\u0027o3\\u0027, \\u0027pm10\\u0027, \\u0027pm2\\u0027, \\u0027rh\\u0027, \\u0027so2\\u0027, \\u0027tmp\\u0027, \\u0027wdr\\u0027, \\u0027wsp\\u0027]&quot;}, &quot;type&quot;: &quot;Feature&quot;}, {&quot;bbox&quot;: [-99.169794, 19.468404, -99.169794, 19.468404], &quot;geometry&quot;: {&quot;coordinates&quot;: [-99.169794, 19.468404], &quot;type&quot;: &quot;Point&quot;}, &quot;id&quot;: &quot;7&quot;, &quot;properties&quot;: {&quot;__folium_color&quot;: &quot;#482475&quot;, &quot;alt&quot;: 2233.0, &quot;cve_estac&quot;: &quot;CAM&quot;, &quot;first_date&quot;: &quot;2005-01-01 00:00:00&quot;, &quot;id_station&quot;: 484090020301, &quot;last_date&quot;: &quot;2025-01-31 23:00:00&quot;, &quot;latitud&quot;: 19.468404, &quot;longitud&quot;: -99.169794, &quot;nom_estac&quot;: &quot;Camarones&quot;, &quot;obs_estac&quot;: &quot;Activa&quot;, &quot;pollutants&quot;: &quot;[\\u0027co\\u0027, \\u0027no\\u0027, \\u0027no2\\u0027, \\u0027nox\\u0027, \\u0027o3\\u0027, \\u0027pm10\\u0027, \\u0027pm2\\u0027, \\u0027rh\\u0027, \\u0027so2\\u0027, \\u0027tmp\\u0027, \\u0027wdr\\u0027, \\u0027wsp\\u0027]&quot;}, &quot;type&quot;: &quot;Feature&quot;}, {&quot;bbox&quot;: [-99.243524, 19.482473, -99.243524, 19.482473], &quot;geometry&quot;: {&quot;coordinates&quot;: [-99.243524, 19.482473], &quot;type&quot;: &quot;Point&quot;}, &quot;id&quot;: &quot;20&quot;, &quot;properties&quot;: {&quot;__folium_color&quot;: &quot;#3d4d8a&quot;, &quot;alt&quot;: 2299.0, &quot;cve_estac&quot;: &quot;FAC&quot;, &quot;first_date&quot;: &quot;2005-01-01 00:00:00&quot;, &quot;id_station&quot;: 484150570109, &quot;last_date&quot;: &quot;2025-01-31 23:00:00&quot;, &quot;latitud&quot;: 19.482473, &quot;longitud&quot;: -99.243524, &quot;nom_estac&quot;: &quot;FES Acatl\\u00e1n&quot;, &quot;obs_estac&quot;: &quot;Activa&quot;, &quot;pollutants&quot;: &quot;[\\u0027co\\u0027, \\u0027no\\u0027, \\u0027no2\\u0027, \\u0027nox\\u0027, \\u0027o3\\u0027, \\u0027pm10\\u0027, \\u0027pm2\\u0027, \\u0027rh\\u0027, \\u0027so2\\u0027, \\u0027tmp\\u0027, \\u0027wdr\\u0027, \\u0027wsp\\u0027]&quot;}, &quot;type&quot;: &quot;Feature&quot;}, {&quot;bbox&quot;: [-99.204597, 19.529077, -99.204597, 19.529077], &quot;geometry&quot;: {&quot;coordinates&quot;: [-99.204597, 19.529077], &quot;type&quot;: &quot;Point&quot;}, &quot;id&quot;: &quot;57&quot;, &quot;properties&quot;: {&quot;__folium_color&quot;: &quot;#a5db36&quot;, &quot;alt&quot;: 2311.0, &quot;cve_estac&quot;: &quot;TLA&quot;, &quot;first_date&quot;: &quot;2005-01-01 00:00:00&quot;, &quot;id_station&quot;: 484151040115, &quot;last_date&quot;: &quot;2025-01-31 23:00:00&quot;, &quot;latitud&quot;: 19.529077, &quot;longitud&quot;: -99.204597, &quot;nom_estac&quot;: &quot;Tlalnepantla&quot;, &quot;obs_estac&quot;: &quot;Activa&quot;, &quot;pollutants&quot;: &quot;[\\u0027co\\u0027, \\u0027no\\u0027, \\u0027no2\\u0027, \\u0027nox\\u0027, \\u0027o3\\u0027, \\u0027pm10\\u0027, \\u0027pm2\\u0027, \\u0027rh\\u0027, \\u0027so2\\u0027, \\u0027tmp\\u0027, \\u0027wdr\\u0027, \\u0027wsp\\u0027]&quot;}, &quot;type&quot;: &quot;Feature&quot;}, {&quot;bbox&quot;: [-99.25413300000001, 19.576962999999996, -99.25413300000001, 19.576962999999996], &quot;geometry&quot;: {&quot;coordinates&quot;: [-99.25413300000001, 19.576962999999996], &quot;type&quot;: &quot;Point&quot;}, &quot;id&quot;: &quot;4&quot;, &quot;properties&quot;: {&quot;__folium_color&quot;: &quot;#481a6c&quot;, &quot;alt&quot;: 2341.0, &quot;cve_estac&quot;: &quot;ATI&quot;, &quot;first_date&quot;: &quot;2005-01-01 00:00:00&quot;, &quot;id_station&quot;: 484150130101, &quot;last_date&quot;: &quot;2025-01-31 23:00:00&quot;, &quot;latitud&quot;: 19.576963, &quot;longitud&quot;: -99.254133, &quot;nom_estac&quot;: &quot;Atizapan&quot;, &quot;obs_estac&quot;: &quot;Activa&quot;, &quot;pollutants&quot;: &quot;[\\u0027co\\u0027, \\u0027no\\u0027, \\u0027no2\\u0027, \\u0027nox\\u0027, \\u0027o3\\u0027, \\u0027pm10\\u0027, \\u0027pm2\\u0027, \\u0027rh\\u0027, \\u0027so2\\u0027, \\u0027tmp\\u0027, \\u0027wdr\\u0027, \\u0027wsp\\u0027]&quot;}, &quot;type&quot;: &quot;Feature&quot;}, {&quot;bbox&quot;: [-99.046176, 19.473692, -99.046176, 19.473692], &quot;geometry&quot;: {&quot;coordinates&quot;: [-99.046176, 19.473692], &quot;type&quot;: &quot;Point&quot;}, &quot;id&quot;: &quot;67&quot;, &quot;properties&quot;: {&quot;__folium_color&quot;: &quot;#39568c&quot;, &quot;alt&quot;: 2230.0, &quot;cve_estac&quot;: &quot;FAR&quot;, &quot;first_date&quot;: &quot;2019-03-01 00:00:00&quot;, &quot;id_station&quot;: 484800150584, &quot;last_date&quot;: &quot;2025-01-31 23:00:00&quot;, &quot;latitud&quot;: 19.473692, &quot;longitud&quot;: -99.046176, &quot;nom_estac&quot;: &quot;FES Arag\\u00f3n&quot;, &quot;obs_estac&quot;: &quot;Activa&quot;, &quot;pollutants&quot;: &quot;[\\u0027co\\u0027, \\u0027no2\\u0027, \\u0027o3\\u0027, \\u0027pm2\\u0027, \\u0027rh\\u0027, \\u0027so2\\u0027, \\u0027tmp\\u0027, \\u0027wdr\\u0027, \\u0027wsp\\u0027]&quot;}, &quot;type&quot;: &quot;Feature&quot;}, {&quot;bbox&quot;: [-99.094517, 19.482699999999994, -99.094517, 19.482699999999994], &quot;geometry&quot;: {&quot;coordinates&quot;: [-99.094517, 19.482699999999994], &quot;type&quot;: &quot;Point&quot;}, &quot;id&quot;: &quot;22&quot;, &quot;properties&quot;: {&quot;__folium_color&quot;: &quot;#355f8d&quot;, &quot;alt&quot;: 2227.0, &quot;cve_estac&quot;: &quot;GAM&quot;, &quot;first_date&quot;: &quot;2015-12-01 00:00:00&quot;, &quot;id_station&quot;: 484090050809, &quot;last_date&quot;: &quot;2025-01-31 23:00:00&quot;, &quot;latitud&quot;: 19.4827, &quot;longitud&quot;: -99.094517, &quot;nom_estac&quot;: &quot;Gustavo A. Madero&quot;, &quot;obs_estac&quot;: &quot;Activa&quot;, &quot;pollutants&quot;: &quot;[\\u0027co\\u0027, \\u0027no\\u0027, \\u0027no2\\u0027, \\u0027nox\\u0027, \\u0027o3\\u0027, \\u0027pm10\\u0027, \\u0027pm2\\u0027, \\u0027rh\\u0027, \\u0027so2\\u0027, \\u0027tmp\\u0027, \\u0027wdr\\u0027, \\u0027wsp\\u0027]&quot;}, &quot;type&quot;: &quot;Feature&quot;}, {&quot;bbox&quot;: [-99.114229, 19.487227, -99.114229, 19.487227], &quot;geometry&quot;: {&quot;coordinates&quot;: [-99.114229, 19.487227], &quot;type&quot;: &quot;Point&quot;}, &quot;id&quot;: &quot;56&quot;, &quot;properties&quot;: {&quot;__folium_color&quot;: &quot;#90d743&quot;, &quot;alt&quot;: 2265.0, &quot;cve_estac&quot;: &quot;TEC&quot;, &quot;first_date&quot;: &quot;2016-01-01 00:00:00&quot;, &quot;id_station&quot;: 484090050404, &quot;last_date&quot;: &quot;2016-12-31 23:00:00&quot;, &quot;latitud&quot;: 19.487227, &quot;longitud&quot;: -99.114229, &quot;nom_estac&quot;: &quot;Cerro del Tepeyac&quot;, &quot;obs_estac&quot;: &quot;Activa&quot;, &quot;pollutants&quot;: &quot;[\\u0027co\\u0027, \\u0027no\\u0027, \\u0027no2\\u0027, \\u0027nox\\u0027, \\u0027o3\\u0027, \\u0027pm10\\u0027, \\u0027pm2\\u0027, \\u0027rh\\u0027, \\u0027so2\\u0027, \\u0027tmp\\u0027, \\u0027wdr\\u0027, \\u0027wsp\\u0027]&quot;}, &quot;type&quot;: &quot;Feature&quot;}, {&quot;bbox&quot;: [-99.0824, 19.525995000000005, -99.0824, 19.525995000000005], &quot;geometry&quot;: {&quot;coordinates&quot;: [-99.0824, 19.525995000000005], &quot;type&quot;: &quot;Point&quot;}, &quot;id&quot;: &quot;65&quot;, &quot;properties&quot;: {&quot;__folium_color&quot;: &quot;#fde725&quot;, &quot;alt&quot;: 2160.0, &quot;cve_estac&quot;: &quot;XAL&quot;, &quot;first_date&quot;: &quot;2005-01-01 00:00:00&quot;, &quot;id_station&quot;: 484150330415, &quot;last_date&quot;: &quot;2025-01-31 23:00:00&quot;, &quot;latitud&quot;: 19.525995, &quot;longitud&quot;: -99.0824, &quot;nom_estac&quot;: &quot;Xalostoc&quot;, &quot;obs_estac&quot;: &quot;Activa&quot;, &quot;pollutants&quot;: &quot;[\\u0027co\\u0027, \\u0027no\\u0027, \\u0027no2\\u0027, \\u0027nox\\u0027, \\u0027o3\\u0027, \\u0027pm10\\u0027, \\u0027pm2\\u0027, \\u0027rh\\u0027, \\u0027so2\\u0027, \\u0027tmp\\u0027, \\u0027wdr\\u0027, \\u0027wsp\\u0027]&quot;}, &quot;type&quot;: &quot;Feature&quot;}, {&quot;bbox&quot;: [-99.030324, 19.532968000000004, -99.030324, 19.532968000000004], &quot;geometry&quot;: {&quot;coordinates&quot;: [-99.030324, 19.532968000000004], &quot;type&quot;: &quot;Point&quot;}, &quot;id&quot;: &quot;47&quot;, &quot;properties&quot;: {&quot;__folium_color&quot;: &quot;#35b779&quot;, &quot;alt&quot;: 2241.0, &quot;cve_estac&quot;: &quot;SAG&quot;, &quot;first_date&quot;: &quot;2005-01-01 00:00:00&quot;, &quot;id_station&quot;: 484150330327, &quot;last_date&quot;: &quot;2025-01-31 23:00:00&quot;, &quot;latitud&quot;: 19.532968, &quot;longitud&quot;: -99.030324, &quot;nom_estac&quot;: &quot;San Agust\\u00edn&quot;, &quot;obs_estac&quot;: &quot;Activa&quot;, &quot;pollutants&quot;: &quot;[\\u0027co\\u0027, \\u0027no\\u0027, \\u0027no2\\u0027, \\u0027nox\\u0027, \\u0027o3\\u0027, \\u0027pm10\\u0027, \\u0027pm2\\u0027, \\u0027rh\\u0027, \\u0027so2\\u0027, \\u0027tmp\\u0027, \\u0027wdr\\u0027, \\u0027wsp\\u0027]&quot;}, &quot;type&quot;: &quot;Feature&quot;}, {&quot;bbox&quot;: [-99.11772, 19.534727, -99.11772, 19.534727], &quot;geometry&quot;: {&quot;coordinates&quot;: [-99.11772, 19.534727], &quot;type&quot;: &quot;Point&quot;}, &quot;id&quot;: &quot;33&quot;, &quot;properties&quot;: {&quot;__folium_color&quot;: &quot;#27808e&quot;, &quot;alt&quot;: 2302.0, &quot;cve_estac&quot;: &quot;LPR&quot;, &quot;first_date&quot;: &quot;2005-01-01 00:00:00&quot;, &quot;id_station&quot;: 484151040203, &quot;last_date&quot;: &quot;2025-01-31 23:00:00&quot;, &quot;latitud&quot;: 19.534727, &quot;longitud&quot;: -99.11772, &quot;nom_estac&quot;: &quot;La Presa&quot;, &quot;obs_estac&quot;: &quot;Activa&quot;, &quot;pollutants&quot;: &quot;[\\u0027co\\u0027, \\u0027no\\u0027, \\u0027no2\\u0027, \\u0027nox\\u0027, \\u0027o3\\u0027, \\u0027pm10\\u0027, \\u0027pm2\\u0027, \\u0027rh\\u0027, \\u0027so2\\u0027, \\u0027tmp\\u0027, \\u0027wdr\\u0027, \\u0027wsp\\u0027]&quot;}, &quot;type&quot;: &quot;Feature&quot;}, {&quot;bbox&quot;: [-99.039644, 19.578792, -99.039644, 19.578792], &quot;geometry&quot;: {&quot;coordinates&quot;: [-99.039644, 19.578792], &quot;type&quot;: &quot;Point&quot;}, &quot;id&quot;: &quot;31&quot;, &quot;properties&quot;: {&quot;__folium_color&quot;: &quot;#2a788e&quot;, &quot;alt&quot;: 2230.0, &quot;cve_estac&quot;: &quot;LLA&quot;, &quot;first_date&quot;: &quot;2005-09-01 12:00:00&quot;, &quot;id_station&quot;: 484150330201, &quot;last_date&quot;: &quot;2025-01-31 23:00:00&quot;, &quot;latitud&quot;: 19.578792, &quot;longitud&quot;: -99.039644, &quot;nom_estac&quot;: &quot;Los Laureles&quot;, &quot;obs_estac&quot;: &quot;Activa&quot;, &quot;pollutants&quot;: &quot;[\\u0027co\\u0027, \\u0027no\\u0027, \\u0027no2\\u0027, \\u0027nox\\u0027, \\u0027o3\\u0027, \\u0027pm10\\u0027, \\u0027pm2\\u0027, \\u0027rh\\u0027, \\u0027so2\\u0027, \\u0027tmp\\u0027, \\u0027wdr\\u0027, \\u0027wsp\\u0027]&quot;}, &quot;type&quot;: &quot;Feature&quot;}], &quot;type&quot;: &quot;FeatureCollection&quot;});\n",
       "\n",
       "        \n",
       "    \n",
       "    geo_json_59e87c74e0d994cc6f287417fdd9769d.bindTooltip(\n",
       "    function(layer){\n",
       "    let div = L.DomUtil.create(&#x27;div&#x27;);\n",
       "    \n",
       "    let handleObject = feature=&gt;typeof(feature)==&#x27;object&#x27; ? JSON.stringify(feature) : feature;\n",
       "    let fields = [&quot;cve_estac&quot;, &quot;nom_estac&quot;, &quot;longitud&quot;, &quot;latitud&quot;, &quot;alt&quot;, &quot;obs_estac&quot;, &quot;id_station&quot;, &quot;pollutants&quot;, &quot;first_date&quot;, &quot;last_date&quot;];\n",
       "    let aliases = [&quot;cve_estac&quot;, &quot;nom_estac&quot;, &quot;longitud&quot;, &quot;latitud&quot;, &quot;alt&quot;, &quot;obs_estac&quot;, &quot;id_station&quot;, &quot;pollutants&quot;, &quot;first_date&quot;, &quot;last_date&quot;];\n",
       "    let table = &#x27;&lt;table&gt;&#x27; +\n",
       "        String(\n",
       "        fields.map(\n",
       "        (v,i)=&gt;\n",
       "        `&lt;tr&gt;\n",
       "            &lt;th&gt;${aliases[i]}&lt;/th&gt;\n",
       "            \n",
       "            &lt;td&gt;${handleObject(layer.feature.properties[v])}&lt;/td&gt;\n",
       "        &lt;/tr&gt;`).join(&#x27;&#x27;))\n",
       "    +&#x27;&lt;/table&gt;&#x27;;\n",
       "    div.innerHTML=table;\n",
       "    \n",
       "    return div\n",
       "    }\n",
       "    ,{\n",
       "  &quot;sticky&quot;: true,\n",
       "  &quot;className&quot;: &quot;foliumtooltip&quot;,\n",
       "});\n",
       "                     \n",
       "    \n",
       "            geo_json_59e87c74e0d994cc6f287417fdd9769d.addTo(map_3200dce0740921493cafdd71e97446fb);\n",
       "        \n",
       "&lt;/script&gt;\n",
       "&lt;/html&gt;\" style=\"position:absolute;width:100%;height:100%;left:0;top:0;border:none !important;\" allowfullscreen webkitallowfullscreen mozallowfullscreen></iframe></div></div>"
      ],
      "text/plain": [
       "<folium.folium.Map at 0x7f22c8a6c470>"
      ]
     },
     "execution_count": 268,
     "metadata": {},
     "output_type": "execute_result"
    }
   ],
   "source": [
    "m = bbox_gdf.explore(color='red', alpha=0.0)\n",
    "stations.explore(m = m, column = 'cve_estac', marker_kwds={'radius': 5}, cmap='viridis', legend=True, vmin=0.2, vmax=0.8)"
   ]
  },
  {
   "cell_type": "markdown",
   "metadata": {},
   "source": [
    "## Create grid"
   ]
  },
  {
   "cell_type": "code",
   "execution_count": 556,
   "metadata": {},
   "outputs": [],
   "source": [
    "# Get the top-left coordinates in meters\n",
    "minx, maxy = bbox_gdf.bounds.iloc[0][['minx', 'maxy']].values\n",
    "maxx, miny = bbox_gdf.bounds.iloc[0][['maxx', 'miny']].values\n",
    "\n",
    "resolution  = 500 \n",
    "\n",
    "# Create array from top-left coordinates spacing by 500 meters\n",
    "x = np.arange(minx, maxx, resolution )\n",
    "y = np.arange(miny, maxy, resolution )\n",
    "\n",
    "# Create a meshgrid\n",
    "X, Y = np.meshgrid(x, y)\n",
    "\n",
    "st = 7\n",
    "X = X[0::st, 0::st]\n",
    "Y = Y[0::st, 0::st]"
   ]
  },
  {
   "cell_type": "code",
   "execution_count": 557,
   "metadata": {},
   "outputs": [],
   "source": [
    "#Geodataframe from meshgrid\n",
    "grid = gpd.GeoDataFrame(geometry=[box(x - resolution/2, y - resolution/2, x + resolution/2 , y + resolution/2 ) for x, y in zip(X.ravel(), Y.ravel())], crs=epsg)"
   ]
  },
  {
   "cell_type": "code",
   "execution_count": 558,
   "metadata": {},
   "outputs": [],
   "source": [
    "stations_quantized = stations[['cve_estac','geometry']].copy()\n",
    "\n",
    "# Modify the geometry\n",
    "stations_quantized['geometry'] = stations_quantized['geometry'].apply(\n",
    "    lambda geom: box(\n",
    "        ((geom.x - minx) // (st * resolution)) * (st * resolution) + minx,\n",
    "        ((geom.y - miny) // (st * resolution)) * (st * resolution) + miny,\n",
    "        ((geom.x - minx) // (st * resolution)) * (st * resolution) + minx + (st * resolution),\n",
    "        ((geom.y - miny) // (st * resolution)) * (st * resolution) + miny + (st * resolution)\n",
    "    )\n",
    ")"
   ]
  },
  {
   "cell_type": "code",
   "execution_count": 559,
   "metadata": {},
   "outputs": [
    {
     "data": {
      "text/html": [
       "<div style=\"width:100%;\"><div style=\"position:relative;width:100%;height:0;padding-bottom:60%;\"><span style=\"color:#565656\">Make this Notebook Trusted to load map: File -> Trust Notebook</span><iframe srcdoc=\"&lt;!DOCTYPE html&gt;\n",
       "&lt;html&gt;\n",
       "&lt;head&gt;\n",
       "    \n",
       "    &lt;meta http-equiv=&quot;content-type&quot; content=&quot;text/html; charset=UTF-8&quot; /&gt;\n",
       "    \n",
       "        &lt;script&gt;\n",
       "            L_NO_TOUCH = false;\n",
       "            L_DISABLE_3D = false;\n",
       "        &lt;/script&gt;\n",
       "    \n",
       "    &lt;style&gt;html, body {width: 100%;height: 100%;margin: 0;padding: 0;}&lt;/style&gt;\n",
       "    &lt;style&gt;#map {position:absolute;top:0;bottom:0;right:0;left:0;}&lt;/style&gt;\n",
       "    &lt;script src=&quot;https://cdn.jsdelivr.net/npm/leaflet@1.9.3/dist/leaflet.js&quot;&gt;&lt;/script&gt;\n",
       "    &lt;script src=&quot;https://code.jquery.com/jquery-3.7.1.min.js&quot;&gt;&lt;/script&gt;\n",
       "    &lt;script src=&quot;https://cdn.jsdelivr.net/npm/bootstrap@5.2.2/dist/js/bootstrap.bundle.min.js&quot;&gt;&lt;/script&gt;\n",
       "    &lt;script src=&quot;https://cdnjs.cloudflare.com/ajax/libs/Leaflet.awesome-markers/2.0.2/leaflet.awesome-markers.js&quot;&gt;&lt;/script&gt;\n",
       "    &lt;link rel=&quot;stylesheet&quot; href=&quot;https://cdn.jsdelivr.net/npm/leaflet@1.9.3/dist/leaflet.css&quot;/&gt;\n",
       "    &lt;link rel=&quot;stylesheet&quot; href=&quot;https://cdn.jsdelivr.net/npm/bootstrap@5.2.2/dist/css/bootstrap.min.css&quot;/&gt;\n",
       "    &lt;link rel=&quot;stylesheet&quot; href=&quot;https://netdna.bootstrapcdn.com/bootstrap/3.0.0/css/bootstrap-glyphicons.css&quot;/&gt;\n",
       "    &lt;link rel=&quot;stylesheet&quot; href=&quot;https://cdn.jsdelivr.net/npm/@fortawesome/fontawesome-free@6.2.0/css/all.min.css&quot;/&gt;\n",
       "    &lt;link rel=&quot;stylesheet&quot; href=&quot;https://cdnjs.cloudflare.com/ajax/libs/Leaflet.awesome-markers/2.0.2/leaflet.awesome-markers.css&quot;/&gt;\n",
       "    &lt;link rel=&quot;stylesheet&quot; href=&quot;https://cdn.jsdelivr.net/gh/python-visualization/folium/folium/templates/leaflet.awesome.rotate.min.css&quot;/&gt;\n",
       "    \n",
       "            &lt;meta name=&quot;viewport&quot; content=&quot;width=device-width,\n",
       "                initial-scale=1.0, maximum-scale=1.0, user-scalable=no&quot; /&gt;\n",
       "            &lt;style&gt;\n",
       "                #map_331818a0a8a1e750b705893223710973 {\n",
       "                    position: relative;\n",
       "                    width: 100.0%;\n",
       "                    height: 100.0%;\n",
       "                    left: 0.0%;\n",
       "                    top: 0.0%;\n",
       "                }\n",
       "                .leaflet-container { font-size: 1rem; }\n",
       "            &lt;/style&gt;\n",
       "        \n",
       "    \n",
       "                    &lt;style&gt;\n",
       "                        .foliumtooltip {\n",
       "                            \n",
       "                        }\n",
       "                       .foliumtooltip table{\n",
       "                            margin: auto;\n",
       "                        }\n",
       "                        .foliumtooltip tr{\n",
       "                            text-align: left;\n",
       "                        }\n",
       "                        .foliumtooltip th{\n",
       "                            padding: 2px; padding-right: 8px;\n",
       "                        }\n",
       "                    &lt;/style&gt;\n",
       "            \n",
       "    \n",
       "                    &lt;style&gt;\n",
       "                        .foliumtooltip {\n",
       "                            \n",
       "                        }\n",
       "                       .foliumtooltip table{\n",
       "                            margin: auto;\n",
       "                        }\n",
       "                        .foliumtooltip tr{\n",
       "                            text-align: left;\n",
       "                        }\n",
       "                        .foliumtooltip th{\n",
       "                            padding: 2px; padding-right: 8px;\n",
       "                        }\n",
       "                    &lt;/style&gt;\n",
       "            \n",
       "    \n",
       "                    &lt;style&gt;\n",
       "                        .foliumtooltip {\n",
       "                            \n",
       "                        }\n",
       "                       .foliumtooltip table{\n",
       "                            margin: auto;\n",
       "                        }\n",
       "                        .foliumtooltip tr{\n",
       "                            text-align: left;\n",
       "                        }\n",
       "                        .foliumtooltip th{\n",
       "                            padding: 2px; padding-right: 8px;\n",
       "                        }\n",
       "                    &lt;/style&gt;\n",
       "            \n",
       "    \n",
       "                    &lt;style&gt;\n",
       "                        .foliumtooltip {\n",
       "                            \n",
       "                        }\n",
       "                       .foliumtooltip table{\n",
       "                            margin: auto;\n",
       "                        }\n",
       "                        .foliumtooltip tr{\n",
       "                            text-align: left;\n",
       "                        }\n",
       "                        .foliumtooltip th{\n",
       "                            padding: 2px; padding-right: 8px;\n",
       "                        }\n",
       "                    &lt;/style&gt;\n",
       "            \n",
       "    \n",
       "    &lt;script src=&quot;https://code.jquery.com/ui/1.12.1/jquery-ui.js&quot;&gt;&lt;/script&gt;\n",
       "    &lt;script&gt;$( function() {\n",
       "        $( &quot;.maplegend&quot; ).draggable({\n",
       "            start: function (event, ui) {\n",
       "                $(this).css({\n",
       "                    right: &quot;auto&quot;,\n",
       "                    top: &quot;auto&quot;,\n",
       "                    bottom: &quot;auto&quot;\n",
       "                });\n",
       "            }\n",
       "        });\n",
       "    });\n",
       "    &lt;/script&gt;\n",
       "    &lt;style type=&#x27;text/css&#x27;&gt;\n",
       "      .maplegend {\n",
       "        position: absolute;\n",
       "        z-index:9999;\n",
       "        background-color: rgba(255, 255, 255, .8);\n",
       "        border-radius: 5px;\n",
       "        box-shadow: 0 0 15px rgba(0,0,0,0.2);\n",
       "        padding: 10px;\n",
       "        font: 12px/14px Arial, Helvetica, sans-serif;\n",
       "        right: 10px;\n",
       "        bottom: 20px;\n",
       "      }\n",
       "      .maplegend .legend-title {\n",
       "        text-align: left;\n",
       "        margin-bottom: 5px;\n",
       "        font-weight: bold;\n",
       "        }\n",
       "      .maplegend .legend-scale ul {\n",
       "        margin: 0;\n",
       "        margin-bottom: 0px;\n",
       "        padding: 0;\n",
       "        float: left;\n",
       "        list-style: none;\n",
       "        }\n",
       "      .maplegend .legend-scale ul li {\n",
       "        list-style: none;\n",
       "        margin-left: 0;\n",
       "        line-height: 16px;\n",
       "        margin-bottom: 2px;\n",
       "        }\n",
       "      .maplegend ul.legend-labels li span {\n",
       "        display: block;\n",
       "        float: left;\n",
       "        height: 14px;\n",
       "        width: 14px;\n",
       "        margin-right: 5px;\n",
       "        margin-left: 0;\n",
       "        border: 0px solid #ccc;\n",
       "        }\n",
       "      .maplegend .legend-source {\n",
       "        color: #777;\n",
       "        clear: both;\n",
       "        }\n",
       "      .maplegend a {\n",
       "        color: #777;\n",
       "        }\n",
       "    &lt;/style&gt;\n",
       "    \n",
       "    \n",
       "    &lt;script src=&quot;https://code.jquery.com/ui/1.12.1/jquery-ui.js&quot;&gt;&lt;/script&gt;\n",
       "    &lt;script&gt;$( function() {\n",
       "        $( &quot;.maplegend&quot; ).draggable({\n",
       "            start: function (event, ui) {\n",
       "                $(this).css({\n",
       "                    right: &quot;auto&quot;,\n",
       "                    top: &quot;auto&quot;,\n",
       "                    bottom: &quot;auto&quot;\n",
       "                });\n",
       "            }\n",
       "        });\n",
       "    });\n",
       "    &lt;/script&gt;\n",
       "    &lt;style type=&#x27;text/css&#x27;&gt;\n",
       "      .maplegend {\n",
       "        position: absolute;\n",
       "        z-index:9999;\n",
       "        background-color: rgba(255, 255, 255, .8);\n",
       "        border-radius: 5px;\n",
       "        box-shadow: 0 0 15px rgba(0,0,0,0.2);\n",
       "        padding: 10px;\n",
       "        font: 12px/14px Arial, Helvetica, sans-serif;\n",
       "        right: 10px;\n",
       "        bottom: 20px;\n",
       "      }\n",
       "      .maplegend .legend-title {\n",
       "        text-align: left;\n",
       "        margin-bottom: 5px;\n",
       "        font-weight: bold;\n",
       "        }\n",
       "      .maplegend .legend-scale ul {\n",
       "        margin: 0;\n",
       "        margin-bottom: 0px;\n",
       "        padding: 0;\n",
       "        float: left;\n",
       "        list-style: none;\n",
       "        }\n",
       "      .maplegend .legend-scale ul li {\n",
       "        list-style: none;\n",
       "        margin-left: 0;\n",
       "        line-height: 16px;\n",
       "        margin-bottom: 2px;\n",
       "        }\n",
       "      .maplegend ul.legend-labels li span {\n",
       "        display: block;\n",
       "        float: left;\n",
       "        height: 14px;\n",
       "        width: 14px;\n",
       "        margin-right: 5px;\n",
       "        margin-left: 0;\n",
       "        border: 0px solid #ccc;\n",
       "        }\n",
       "      .maplegend .legend-source {\n",
       "        color: #777;\n",
       "        clear: both;\n",
       "        }\n",
       "      .maplegend a {\n",
       "        color: #777;\n",
       "        }\n",
       "    &lt;/style&gt;\n",
       "    \n",
       "&lt;/head&gt;\n",
       "&lt;body&gt;\n",
       "    \n",
       "    \n",
       "    &lt;div id=&#x27;maplegend cve_estac&#x27; class=&#x27;maplegend&#x27;&gt;\n",
       "        &lt;div class=&#x27;legend-title&#x27;&gt;cve_estac&lt;/div&gt;\n",
       "        &lt;div class=&#x27;legend-scale&#x27;&gt;\n",
       "            &lt;ul class=&#x27;legend-labels&#x27;&gt;\n",
       "                &lt;li&gt;&lt;span style=&#x27;background:#1f77b4&#x27;&gt;&lt;/span&gt;AJM&lt;/li&gt;\n",
       "                &lt;li&gt;&lt;span style=&#x27;background:#1f77b4&#x27;&gt;&lt;/span&gt;AJU&lt;/li&gt;\n",
       "                &lt;li&gt;&lt;span style=&#x27;background:#aec7e8&#x27;&gt;&lt;/span&gt;ATI&lt;/li&gt;\n",
       "                &lt;li&gt;&lt;span style=&#x27;background:#ff7f0e&#x27;&gt;&lt;/span&gt;CAM&lt;/li&gt;\n",
       "                &lt;li&gt;&lt;span style=&#x27;background:#ff7f0e&#x27;&gt;&lt;/span&gt;CCA&lt;/li&gt;\n",
       "                &lt;li&gt;&lt;span style=&#x27;background:#ffbb78&#x27;&gt;&lt;/span&gt;COY&lt;/li&gt;\n",
       "                &lt;li&gt;&lt;span style=&#x27;background:#2ca02c&#x27;&gt;&lt;/span&gt;CUA&lt;/li&gt;\n",
       "                &lt;li&gt;&lt;span style=&#x27;background:#2ca02c&#x27;&gt;&lt;/span&gt;FAC&lt;/li&gt;\n",
       "                &lt;li&gt;&lt;span style=&#x27;background:#98df8a&#x27;&gt;&lt;/span&gt;FAR&lt;/li&gt;\n",
       "                &lt;li&gt;&lt;span style=&#x27;background:#d62728&#x27;&gt;&lt;/span&gt;GAM&lt;/li&gt;\n",
       "                &lt;li&gt;&lt;span style=&#x27;background:#d62728&#x27;&gt;&lt;/span&gt;HGM&lt;/li&gt;\n",
       "                &lt;li&gt;&lt;span style=&#x27;background:#ff9896&#x27;&gt;&lt;/span&gt;IZT&lt;/li&gt;\n",
       "                &lt;li&gt;&lt;span style=&#x27;background:#9467bd&#x27;&gt;&lt;/span&gt;LLA&lt;/li&gt;\n",
       "                &lt;li&gt;&lt;span style=&#x27;background:#9467bd&#x27;&gt;&lt;/span&gt;LPR&lt;/li&gt;\n",
       "                &lt;li&gt;&lt;span style=&#x27;background:#c5b0d5&#x27;&gt;&lt;/span&gt;MER&lt;/li&gt;\n",
       "                &lt;li&gt;&lt;span style=&#x27;background:#8c564b&#x27;&gt;&lt;/span&gt;MGH&lt;/li&gt;\n",
       "                &lt;li&gt;&lt;span style=&#x27;background:#8c564b&#x27;&gt;&lt;/span&gt;MPA&lt;/li&gt;\n",
       "                &lt;li&gt;&lt;span style=&#x27;background:#c49c94&#x27;&gt;&lt;/span&gt;NEZ&lt;/li&gt;\n",
       "                &lt;li&gt;&lt;span style=&#x27;background:#e377c2&#x27;&gt;&lt;/span&gt;PED&lt;/li&gt;\n",
       "                &lt;li&gt;&lt;span style=&#x27;background:#e377c2&#x27;&gt;&lt;/span&gt;SAC&lt;/li&gt;\n",
       "                &lt;li&gt;&lt;span style=&#x27;background:#f7b6d2&#x27;&gt;&lt;/span&gt;SAG&lt;/li&gt;\n",
       "                &lt;li&gt;&lt;span style=&#x27;background:#7f7f7f&#x27;&gt;&lt;/span&gt;SFE&lt;/li&gt;\n",
       "                &lt;li&gt;&lt;span style=&#x27;background:#7f7f7f&#x27;&gt;&lt;/span&gt;SJA&lt;/li&gt;\n",
       "                &lt;li&gt;&lt;span style=&#x27;background:#c7c7c7&#x27;&gt;&lt;/span&gt;SUR&lt;/li&gt;\n",
       "                &lt;li&gt;&lt;span style=&#x27;background:#bcbd22&#x27;&gt;&lt;/span&gt;TAH&lt;/li&gt;\n",
       "                &lt;li&gt;&lt;span style=&#x27;background:#bcbd22&#x27;&gt;&lt;/span&gt;TEC&lt;/li&gt;\n",
       "                &lt;li&gt;&lt;span style=&#x27;background:#dbdb8d&#x27;&gt;&lt;/span&gt;TLA&lt;/li&gt;\n",
       "                &lt;li&gt;&lt;span style=&#x27;background:#17becf&#x27;&gt;&lt;/span&gt;TPN&lt;/li&gt;\n",
       "                &lt;li&gt;&lt;span style=&#x27;background:#17becf&#x27;&gt;&lt;/span&gt;UAX&lt;/li&gt;\n",
       "                &lt;li&gt;&lt;span style=&#x27;background:#9edae5&#x27;&gt;&lt;/span&gt;UIZ&lt;/li&gt;\n",
       "                &lt;li&gt;&lt;span style=&#x27;background:#9edae5&#x27;&gt;&lt;/span&gt;XAL&lt;/li&gt;\n",
       "            &lt;/ul&gt;\n",
       "        &lt;/div&gt;\n",
       "    &lt;/div&gt;\n",
       "    \n",
       "    \n",
       "    &lt;div id=&#x27;maplegend cve_estac&#x27; class=&#x27;maplegend&#x27;&gt;\n",
       "        &lt;div class=&#x27;legend-title&#x27;&gt;cve_estac&lt;/div&gt;\n",
       "        &lt;div class=&#x27;legend-scale&#x27;&gt;\n",
       "            &lt;ul class=&#x27;legend-labels&#x27;&gt;\n",
       "                &lt;li&gt;&lt;span style=&#x27;background:#1f77b4&#x27;&gt;&lt;/span&gt;AJM&lt;/li&gt;\n",
       "                &lt;li&gt;&lt;span style=&#x27;background:#1f77b4&#x27;&gt;&lt;/span&gt;AJU&lt;/li&gt;\n",
       "                &lt;li&gt;&lt;span style=&#x27;background:#aec7e8&#x27;&gt;&lt;/span&gt;ATI&lt;/li&gt;\n",
       "                &lt;li&gt;&lt;span style=&#x27;background:#ff7f0e&#x27;&gt;&lt;/span&gt;CAM&lt;/li&gt;\n",
       "                &lt;li&gt;&lt;span style=&#x27;background:#ff7f0e&#x27;&gt;&lt;/span&gt;CCA&lt;/li&gt;\n",
       "                &lt;li&gt;&lt;span style=&#x27;background:#ffbb78&#x27;&gt;&lt;/span&gt;COY&lt;/li&gt;\n",
       "                &lt;li&gt;&lt;span style=&#x27;background:#2ca02c&#x27;&gt;&lt;/span&gt;CUA&lt;/li&gt;\n",
       "                &lt;li&gt;&lt;span style=&#x27;background:#2ca02c&#x27;&gt;&lt;/span&gt;FAC&lt;/li&gt;\n",
       "                &lt;li&gt;&lt;span style=&#x27;background:#98df8a&#x27;&gt;&lt;/span&gt;FAR&lt;/li&gt;\n",
       "                &lt;li&gt;&lt;span style=&#x27;background:#d62728&#x27;&gt;&lt;/span&gt;GAM&lt;/li&gt;\n",
       "                &lt;li&gt;&lt;span style=&#x27;background:#d62728&#x27;&gt;&lt;/span&gt;HGM&lt;/li&gt;\n",
       "                &lt;li&gt;&lt;span style=&#x27;background:#ff9896&#x27;&gt;&lt;/span&gt;IZT&lt;/li&gt;\n",
       "                &lt;li&gt;&lt;span style=&#x27;background:#9467bd&#x27;&gt;&lt;/span&gt;LLA&lt;/li&gt;\n",
       "                &lt;li&gt;&lt;span style=&#x27;background:#9467bd&#x27;&gt;&lt;/span&gt;LPR&lt;/li&gt;\n",
       "                &lt;li&gt;&lt;span style=&#x27;background:#c5b0d5&#x27;&gt;&lt;/span&gt;MER&lt;/li&gt;\n",
       "                &lt;li&gt;&lt;span style=&#x27;background:#8c564b&#x27;&gt;&lt;/span&gt;MGH&lt;/li&gt;\n",
       "                &lt;li&gt;&lt;span style=&#x27;background:#8c564b&#x27;&gt;&lt;/span&gt;MPA&lt;/li&gt;\n",
       "                &lt;li&gt;&lt;span style=&#x27;background:#c49c94&#x27;&gt;&lt;/span&gt;NEZ&lt;/li&gt;\n",
       "                &lt;li&gt;&lt;span style=&#x27;background:#e377c2&#x27;&gt;&lt;/span&gt;PED&lt;/li&gt;\n",
       "                &lt;li&gt;&lt;span style=&#x27;background:#e377c2&#x27;&gt;&lt;/span&gt;SAC&lt;/li&gt;\n",
       "                &lt;li&gt;&lt;span style=&#x27;background:#f7b6d2&#x27;&gt;&lt;/span&gt;SAG&lt;/li&gt;\n",
       "                &lt;li&gt;&lt;span style=&#x27;background:#7f7f7f&#x27;&gt;&lt;/span&gt;SFE&lt;/li&gt;\n",
       "                &lt;li&gt;&lt;span style=&#x27;background:#7f7f7f&#x27;&gt;&lt;/span&gt;SJA&lt;/li&gt;\n",
       "                &lt;li&gt;&lt;span style=&#x27;background:#c7c7c7&#x27;&gt;&lt;/span&gt;SUR&lt;/li&gt;\n",
       "                &lt;li&gt;&lt;span style=&#x27;background:#bcbd22&#x27;&gt;&lt;/span&gt;TAH&lt;/li&gt;\n",
       "                &lt;li&gt;&lt;span style=&#x27;background:#bcbd22&#x27;&gt;&lt;/span&gt;TEC&lt;/li&gt;\n",
       "                &lt;li&gt;&lt;span style=&#x27;background:#dbdb8d&#x27;&gt;&lt;/span&gt;TLA&lt;/li&gt;\n",
       "                &lt;li&gt;&lt;span style=&#x27;background:#17becf&#x27;&gt;&lt;/span&gt;TPN&lt;/li&gt;\n",
       "                &lt;li&gt;&lt;span style=&#x27;background:#17becf&#x27;&gt;&lt;/span&gt;UAX&lt;/li&gt;\n",
       "                &lt;li&gt;&lt;span style=&#x27;background:#9edae5&#x27;&gt;&lt;/span&gt;UIZ&lt;/li&gt;\n",
       "                &lt;li&gt;&lt;span style=&#x27;background:#9edae5&#x27;&gt;&lt;/span&gt;XAL&lt;/li&gt;\n",
       "            &lt;/ul&gt;\n",
       "        &lt;/div&gt;\n",
       "    &lt;/div&gt;\n",
       "    \n",
       "    \n",
       "            &lt;div class=&quot;folium-map&quot; id=&quot;map_331818a0a8a1e750b705893223710973&quot; &gt;&lt;/div&gt;\n",
       "        \n",
       "&lt;/body&gt;\n",
       "&lt;script&gt;\n",
       "    \n",
       "    \n",
       "            var map_331818a0a8a1e750b705893223710973 = L.map(\n",
       "                &quot;map_331818a0a8a1e750b705893223710973&quot;,\n",
       "                {\n",
       "                    center: [19.31740875721451, -99.16538008819566],\n",
       "                    crs: L.CRS.EPSG3857,\n",
       "                    ...{\n",
       "  &quot;zoom&quot;: 10,\n",
       "  &quot;zoomControl&quot;: true,\n",
       "  &quot;preferCanvas&quot;: false,\n",
       "}\n",
       "\n",
       "                }\n",
       "            );\n",
       "            L.control.scale().addTo(map_331818a0a8a1e750b705893223710973);\n",
       "\n",
       "            \n",
       "\n",
       "        \n",
       "    \n",
       "            var tile_layer_4df2ff2d624035e48e337d87f466088b = L.tileLayer(\n",
       "                &quot;https://tile.openstreetmap.org/{z}/{x}/{y}.png&quot;,\n",
       "                {\n",
       "  &quot;minZoom&quot;: 0,\n",
       "  &quot;maxZoom&quot;: 19,\n",
       "  &quot;maxNativeZoom&quot;: 19,\n",
       "  &quot;noWrap&quot;: false,\n",
       "  &quot;attribution&quot;: &quot;\\u0026copy; \\u003ca href=\\&quot;https://www.openstreetmap.org/copyright\\&quot;\\u003eOpenStreetMap\\u003c/a\\u003e contributors&quot;,\n",
       "  &quot;subdomains&quot;: &quot;abc&quot;,\n",
       "  &quot;detectRetina&quot;: false,\n",
       "  &quot;tms&quot;: false,\n",
       "  &quot;opacity&quot;: 1,\n",
       "}\n",
       "\n",
       "            );\n",
       "        \n",
       "    \n",
       "            tile_layer_4df2ff2d624035e48e337d87f466088b.addTo(map_331818a0a8a1e750b705893223710973);\n",
       "        \n",
       "    \n",
       "            map_331818a0a8a1e750b705893223710973.fitBounds(\n",
       "                [[19.046105392983804, -99.36800233959013], [19.588712121445216, -98.96275783680119]],\n",
       "                {}\n",
       "            );\n",
       "        \n",
       "    \n",
       "        function geo_json_24fe59836247a503c66b6ab6403ab17d_styler(feature) {\n",
       "            switch(feature.id) {\n",
       "                default:\n",
       "                    return {&quot;color&quot;: &quot;black&quot;, &quot;fillColor&quot;: &quot;black&quot;, &quot;fillOpacity&quot;: 0, &quot;weight&quot;: 2};\n",
       "            }\n",
       "        }\n",
       "        function geo_json_24fe59836247a503c66b6ab6403ab17d_highlighter(feature) {\n",
       "            switch(feature.id) {\n",
       "                default:\n",
       "                    return {&quot;fillOpacity&quot;: 0.75};\n",
       "            }\n",
       "        }\n",
       "        function geo_json_24fe59836247a503c66b6ab6403ab17d_pointToLayer(feature, latlng) {\n",
       "            var opts = {&quot;bubblingMouseEvents&quot;: true, &quot;color&quot;: &quot;#3388ff&quot;, &quot;dashArray&quot;: null, &quot;dashOffset&quot;: null, &quot;fill&quot;: true, &quot;fillColor&quot;: &quot;#3388ff&quot;, &quot;fillOpacity&quot;: 0.2, &quot;fillRule&quot;: &quot;evenodd&quot;, &quot;lineCap&quot;: &quot;round&quot;, &quot;lineJoin&quot;: &quot;round&quot;, &quot;opacity&quot;: 1.0, &quot;radius&quot;: 2, &quot;stroke&quot;: true, &quot;weight&quot;: 3};\n",
       "            \n",
       "            let style = geo_json_24fe59836247a503c66b6ab6403ab17d_styler(feature)\n",
       "            Object.assign(opts, style)\n",
       "            \n",
       "            return new L.CircleMarker(latlng, opts)\n",
       "        }\n",
       "\n",
       "        function geo_json_24fe59836247a503c66b6ab6403ab17d_onEachFeature(feature, layer) {\n",
       "            layer.on({\n",
       "                mouseout: function(e) {\n",
       "                    if(typeof e.target.setStyle === &quot;function&quot;){\n",
       "                            geo_json_24fe59836247a503c66b6ab6403ab17d.resetStyle(e.target);\n",
       "                    }\n",
       "                },\n",
       "                mouseover: function(e) {\n",
       "                    if(typeof e.target.setStyle === &quot;function&quot;){\n",
       "                        const highlightStyle = geo_json_24fe59836247a503c66b6ab6403ab17d_highlighter(e.target.feature)\n",
       "                        e.target.setStyle(highlightStyle);\n",
       "                    }\n",
       "                },\n",
       "            });\n",
       "        };\n",
       "        var geo_json_24fe59836247a503c66b6ab6403ab17d = L.geoJson(null, {\n",
       "                onEachFeature: geo_json_24fe59836247a503c66b6ab6403ab17d_onEachFeature,\n",
       "            \n",
       "                style: geo_json_24fe59836247a503c66b6ab6403ab17d_styler,\n",
       "                pointToLayer: geo_json_24fe59836247a503c66b6ab6403ab17d_pointToLayer,\n",
       "            ...{\n",
       "}\n",
       "        });\n",
       "\n",
       "        function geo_json_24fe59836247a503c66b6ab6403ab17d_add (data) {\n",
       "            geo_json_24fe59836247a503c66b6ab6403ab17d\n",
       "                .addData(data);\n",
       "        }\n",
       "            geo_json_24fe59836247a503c66b6ab6403ab17d_add({&quot;bbox&quot;: [-99.36800233959013, 19.046105392983804, -98.96275783680119, 19.588712121445216], &quot;features&quot;: [{&quot;bbox&quot;: [-99.36680073356715, 19.046105392983804, -99.36203899271047, 19.050633500481155], &quot;geometry&quot;: {&quot;coordinates&quot;: [[[-99.36203899271047, 19.04611477187144], [-99.36204879246304, 19.050633500481155], [-99.36680073356715, 19.050624119201622], [-99.3667908051984, 19.046105392983804], [-99.36203899271047, 19.04611477187144]]], &quot;type&quot;: &quot;Polygon&quot;}, &quot;id&quot;: &quot;0&quot;, &quot;properties&quot;: {&quot;__folium_color&quot;: &quot;black&quot;}, &quot;type&quot;: &quot;Feature&quot;}, {&quot;bbox&quot;: [-99.33353708895875, 19.04616847708148, -99.32877622980375, 19.050695744407502], &quot;geometry&quot;: {&quot;coordinates&quot;: [[[-99.32877622980375, 19.046176999927766], [-99.32878512923395, 19.050695744407502], [-99.33353708895875, 19.05068721938763], [-99.33352806091008, 19.04616847708148], [-99.32877622980375, 19.046176999927766]]], &quot;type&quot;: &quot;Polygon&quot;}, &quot;id&quot;: &quot;1&quot;, &quot;properties&quot;: {&quot;__folium_color&quot;: &quot;black&quot;}, &quot;type&quot;: &quot;Feature&quot;}, {&quot;bbox&quot;: [-99.30027331934788, 19.046225568847657, -99.29551334369073, 19.05075199446038], &quot;geometry&quot;: {&quot;coordinates&quot;: [[[-99.29551334369073, 19.046233235638848], [-99.2955213427832, 19.05075199446038], [-99.30027331934788, 19.05074432571393], [-99.30026519163485, 19.046225568847657], [-99.29551334369073, 19.046233235638848]]], &quot;type&quot;: &quot;Polygon&quot;}, &quot;id&quot;: &quot;2&quot;, &quot;properties&quot;: {&quot;__folium_color&quot;: &quot;black&quot;}, &quot;type&quot;: &quot;Feature&quot;}, {&quot;bbox&quot;: [-99.26700943720046, 19.046276668190238, -99.2622503468358, 19.050802250549054], &quot;geometry&quot;: {&quot;coordinates&quot;: [[[-99.2622503468358, 19.04628347891396], [-99.26225744557676, 19.050802250549054], [-99.26700943720046, 19.050795438088397], [-99.26700220983707, 19.046276668190238], [-99.2622503468358, 19.04628347891396]]], &quot;type&quot;: &quot;Polygon&quot;}, &quot;id&quot;: &quot;3&quot;, &quot;properties&quot;: {&quot;__folium_color&quot;: &quot;black&quot;}, &quot;type&quot;: &quot;Feature&quot;}, {&quot;bbox&quot;: [-99.23374545498264, 19.04632177502679, -99.22898725170361, 19.050846512592436], &quot;geometry&quot;: {&quot;coordinates&quot;: [[[-99.22898725170361, 19.04632772967205], [-99.22899345008085, 19.050846512592436], [-99.23374545498264, 19.05084055642856], [-99.23373912798134, 19.04632177502679], [-99.22898725170361, 19.04632772967205]]], &quot;type&quot;: &quot;Polygon&quot;}, &quot;id&quot;: &quot;4&quot;, &quot;properties&quot;: {&quot;__folium_color&quot;: &quot;black&quot;}, &quot;type&quot;: &quot;Feature&quot;}, {&quot;bbox&quot;: [-99.2004813851608, 19.046360889284536, -99.195724070759, 19.050884780519127], &quot;geometry&quot;: {&quot;coordinates&quot;: [[[-99.195724070759, 19.04636598784174], [-99.19572936876182, 19.050884780519127], [-99.2004813851608, 19.050879680661637], [-99.20047595853248, 19.046360889284536], [-99.195724070759, 19.04636598784174]]], &quot;type&quot;: &quot;Polygon&quot;}, &quot;id&quot;: &quot;5&quot;, &quot;properties&quot;: {&quot;__folium_color&quot;: &quot;black&quot;}, &quot;type&quot;: &quot;Feature&quot;}, {&quot;bbox&quot;: [-99.16721724020148, 19.046394010900386, -99.16246081646699, 19.050917054267384], &quot;geometry&quot;: {&quot;coordinates&quot;: [[[-99.16246081646699, 19.046398253361296], [-99.16246521408625, 19.050917054267384], [-99.16721724020148, 19.050912810724512], [-99.1672127139555, 19.046394010900386], [-99.16246081646699, 19.046398253361296]]], &quot;type&quot;: &quot;Polygon&quot;}, &quot;id&quot;: &quot;6&quot;, &quot;properties&quot;: {&quot;__folium_color&quot;: &quot;black&quot;}, &quot;type&quot;: &quot;Feature&quot;}, {&quot;bbox&quot;: [-99.1339530325714, 19.046421139820904, -99.12919750129275, 19.050943333785145], &quot;geometry&quot;: {&quot;coordinates&quot;: [[[-99.12919750129275, 19.046424526178686], [-99.12920099852091, 19.050943333785145], [-99.1339530325714, 19.050939946563737], [-99.13394940671554, 19.046421139820904], [-99.12919750129275, 19.046424526178686]]], &quot;type&quot;: &quot;Polygon&quot;}, &quot;id&quot;: &quot;7&quot;, &quot;properties&quot;: {&quot;__folium_color&quot;: &quot;black&quot;}, &quot;type&quot;: &quot;Feature&quot;}, {&quot;bbox&quot;: [-99.1006887747374, 19.046442276002317, -99.09593413770162, 19.050963619030007], &quot;geometry&quot;: {&quot;coordinates&quot;: [[[-99.09593413770162, 19.046444806251504], [-99.09593673453263, 19.050963619030007], [-99.1006887747374, 19.050961088135526], [-99.10068604927793, 19.046442276002317], [-99.09593413770162, 19.046444806251504]]], &quot;type&quot;: &quot;Polygon&quot;}, &quot;id&quot;: &quot;8&quot;, &quot;properties&quot;: {&quot;__folium_color&quot;: &quot;black&quot;}, &quot;type&quot;: &quot;Feature&quot;}, {&quot;bbox&quot;: [-99.06742447916643, 19.046457419410533, -99.06267073815899, 19.050977909969248], &quot;geometry&quot;: {&quot;coordinates&quot;: [[[-99.06267073815899, 19.046459093547046], [-99.06267243458838, 19.050977909969248], [-99.06742447916643, 19.050976235405788], [-99.06742265410803, 19.046457419410533], [-99.06267073815899, 19.046459093547046]]], &quot;type&quot;: &quot;Polygon&quot;}, &quot;id&quot;: &quot;9&quot;, &quot;properties&quot;: {&quot;__folium_color&quot;: &quot;black&quot;}, &quot;type&quot;: &quot;Feature&quot;}, {&quot;bbox&quot;: [-99.03416015832553, 19.046466570021124, -99.02940731513036, 19.050986206579818], &quot;geometry&quot;: {&quot;coordinates&quot;: [[[-99.02940731513036, 19.04646738804226], [-99.0294081111552, 19.050986206579818], [-99.03416015832553, 19.050985388350057], [-99.03415923367133, 19.046466570021124], [-99.02940731513036, 19.04646738804226]]], &quot;type&quot;: &quot;Polygon&quot;}, &quot;id&quot;: &quot;10&quot;, &quot;properties&quot;: {&quot;__folium_color&quot;: &quot;black&quot;}, &quot;type&quot;: &quot;Feature&quot;}, {&quot;bbox&quot;: [-99.00089582468176, 19.046469689723757, -98.99614377670018, 19.050988546953594], &quot;geometry&quot;: {&quot;coordinates&quot;: [[[-98.99614388108125, 19.046469689723757], [-98.99614377670018, 19.05098850884832], [-99.00089582468176, 19.050988546953594], [-99.0008958004334, 19.04646972781932], [-98.99614388108125, 19.046469689723757]]], &quot;type&quot;: &quot;Polygon&quot;}, &quot;id&quot;: &quot;11&quot;, &quot;properties&quot;: {&quot;__folium_color&quot;: &quot;black&quot;}, &quot;type&quot;: &quot;Feature&quot;}, {&quot;bbox&quot;: [-98.96763236685975, 19.046465998587838, -98.96287944369044, 19.050985711211293], &quot;geometry&quot;: {&quot;coordinates&quot;: [[[-98.96288044847725, 19.046465998587838], [-98.96287944369044, 19.05098481677104], [-98.96763149070226, 19.050985711211293], [-98.96763236685975, 19.04646689280004], [-98.96288044847725, 19.046465998587838]]], &quot;type&quot;: &quot;Polygon&quot;}, &quot;id&quot;: &quot;12&quot;, &quot;properties&quot;: {&quot;__folium_color&quot;: &quot;black&quot;}, &quot;type&quot;: &quot;Feature&quot;}, {&quot;bbox&quot;: [-99.36687031072108, 19.077736429983517, -99.3621076491424, 19.082264538715158], &quot;geometry&quot;: {&quot;coordinates&quot;: [[[-99.3621076491424, 19.077745825617058], [-99.36211746828614, 19.082264538715158], [-99.36687031072108, 19.08225514068884], [-99.3668603627067, 19.077736429983517], [-99.3621076491424, 19.077745825617058]]], &quot;type&quot;: &quot;Polygon&quot;}, &quot;id&quot;: &quot;13&quot;, &quot;properties&quot;: {&quot;__folium_color&quot;: &quot;black&quot;}, &quot;type&quot;: &quot;Feature&quot;}, {&quot;bbox&quot;: [-99.33360035674716, 19.0777996267172, -99.3288385786354, 19.08232689375489], &quot;geometry&quot;: {&quot;coordinates&quot;: [[[-99.3288385786354, 19.077808164780958], [-99.32884749567528, 19.08232689375489], [-99.33360035674716, 19.082318353516758], [-99.33359131083434, 19.0777996267172], [-99.3288385786354, 19.077808164780958]]], &quot;type&quot;: &quot;Polygon&quot;}, &quot;id&quot;: &quot;14&quot;, &quot;properties&quot;: {&quot;__folium_color&quot;: &quot;black&quot;}, &quot;type&quot;: &quot;Feature&quot;}, {&quot;bbox&quot;: [-99.30033027766174, 19.077856820420223, -99.29556938481466, 19.082383244221393], &quot;geometry&quot;: {&quot;coordinates&quot;: [[[-99.29556938481466, 19.077864500900404], [-99.29557739973528, 19.082383244221393], [-99.30033027766174, 19.08237556178523], [-99.30032213386605, 19.077856820420223], [-99.29556938481466, 19.077864500900404]]], &quot;type&quot;: &quot;Polygon&quot;}, &quot;id&quot;: &quot;15&quot;, &quot;properties&quot;: {&quot;__folium_color&quot;: &quot;black&quot;}, &quot;type&quot;: &quot;Feature&quot;}, {&quot;bbox&quot;: [-99.26706008594161, 19.077908011000286, -99.26230008015541, 19.082433590023747], &quot;geometry&quot;: {&quot;coordinates&quot;: [[[-99.26230008015541, 19.077914833884503], [-99.262307192943, 19.082433590023747], [-99.26706008594161, 19.082426765401948], [-99.26705284427709, 19.077908011000286], [-99.26230008015541, 19.077914833884503]]], &quot;type&quot;: &quot;Polygon&quot;}, &quot;id&quot;: &quot;16&quot;, &quot;properties&quot;: {&quot;__folium_color&quot;: &quot;black&quot;}, &quot;type&quot;: &quot;Feature&quot;}, {&quot;bbox&quot;: [-99.23378979406378, 19.07795319837478, -99.22903067713322, 19.082477931080696], &quot;geometry&quot;: {&quot;coordinates&quot;: [[[-99.22903067713322, 19.077959163652025], [-99.22903688777548, 19.082477931080696], [-99.23378979406378, 19.08247196428428], [-99.23378345454293, 19.07795319837478], [-99.22903067713322, 19.077959163652025]]], &quot;type&quot;: &quot;Polygon&quot;}, &quot;id&quot;: &quot;17&quot;, &quot;properties&quot;: {&quot;__folium_color&quot;: &quot;black&quot;}, &quot;type&quot;: &quot;Feature&quot;}, {&quot;bbox&quot;: [-99.20051941450551, 19.077992382470807, -99.19576118822377, 19.0825162673207], &quot;geometry&quot;: {&quot;coordinates&quot;: [[[-99.19576118822377, 19.077997490131455], [-99.19576649671001, 19.0825162673207], [-99.20051941450551, 19.08251115835929], [-99.20051397713925, 19.077992382470807], [-99.19576118822377, 19.077997490131455]]], &quot;type&quot;: &quot;Polygon&quot;}, &quot;id&quot;: &quot;18&quot;, &quot;properties&quot;: {&quot;__folium_color&quot;: &quot;black&quot;}, &quot;type&quot;: &quot;Feature&quot;}, {&quot;bbox&quot;: [-99.16724895974424, 19.07802556322513, -99.16249162590294, 19.082548598681896], &quot;geometry&quot;: {&quot;coordinates&quot;: [[[-99.16249162590294, 19.078029813260937], [-99.16249603222401, 19.082548598681896], [-99.16724895974424, 19.082544347563736], [-99.16724442454193, 19.07802556322513], [-99.16249162590294, 19.078029813260937]]], &quot;type&quot;: &quot;Polygon&quot;}, &quot;id&quot;: &quot;19&quot;, &quot;properties&quot;: {&quot;__folium_color&quot;: &quot;black&quot;}, &quot;type&quot;: &quot;Feature&quot;}, {&quot;bbox&quot;: [-99.13397844225754, 19.07805274058421, -99.12922200264684, 19.082574925112112], &quot;geometry&quot;: {&quot;coordinates&quot;: [[[-99.12922200264684, 19.078056132988316], [-99.12922550679514, 19.082574925112112], [-99.13397844225754, 19.08257153184406], [-99.13397480922701, 19.07805274058421], [-99.12922200264684, 19.078056132988316]]], &quot;type&quot;: &quot;Polygon&quot;}, &quot;id&quot;: &quot;20&quot;, &quot;properties&quot;: {&quot;__folium_color&quot;: &quot;black&quot;}, &quot;type&quot;: &quot;Feature&quot;}, {&quot;bbox&quot;: [-99.10070787452314, 19.07807391450419, -99.09595233093158, 19.08259524656886], &quot;geometry&quot;: {&quot;coordinates&quot;: [[[-99.09595233093158, 19.07807644927113], [-99.09595493290108, 19.08259524656886], [-99.10070787452314, 19.082592711156398], [-99.10070514367065, 19.07807391450419], [-99.09595233093158, 19.07807644927113]]], &quot;type&quot;: &quot;Polygon&quot;}, &quot;id&quot;: &quot;21&quot;, &quot;properties&quot;: {&quot;__folium_color&quot;: &quot;black&quot;}, &quot;type&quot;: &quot;Feature&quot;}, {&quot;bbox&quot;: [-99.06743726901885, 19.07808908495091, -99.06268262323348, 19.082609563019354], &quot;geometry&quot;: {&quot;coordinates&quot;: [[[-99.06268262323348, 19.078090762076584], [-99.0626843230197, 19.082609563019354], [-99.06743726901885, 19.08260788546656], [-99.0674354403491, 19.07808908495091], [-99.06268262323348, 19.078090762076584]]], &quot;type&quot;: &quot;Polygon&quot;}, &quot;id&quot;: &quot;22&quot;, &quot;properties&quot;: {&quot;__folium_color&quot;: &quot;black&quot;}, &quot;type&quot;: &quot;Feature&quot;}, {&quot;bbox&quot;: [-99.03416663822256, 19.07809825189988, -99.0294128920289, 19.082617874440487], &quot;geometry&quot;: {&quot;coordinates&quot;: [[[-99.0294128920289, 19.078099071381594], [-99.02941368962888, 19.082617874440487], [-99.03416663822256, 19.08261705475008], [-99.03416571173872, 19.07809825189988], [-99.0294128920289, 19.078099071381594]]], &quot;type&quot;: &quot;Polygon&quot;}, &quot;id&quot;: &quot;23&quot;, &quot;properties&quot;: {&quot;__folium_color&quot;: &quot;black&quot;}, &quot;type&quot;: &quot;Feature&quot;}, {&quot;bbox&quot;: [-99.00089599461228, 19.078101377172736, -98.99614304520662, 19.082620218992147], &quot;geometry&quot;: {&quot;coordinates&quot;: [[[-98.99614314979425, 19.078101377172736], [-98.99614304520662, 19.082620180818846], [-99.00089599461228, 19.082620218992147], [-99.00089597031592, 19.07810141533632], [-98.99614314979425, 19.078101377172736]]], &quot;type&quot;: &quot;Polygon&quot;}, &quot;id&quot;: &quot;24&quot;, &quot;properties&quot;: {&quot;__folium_color&quot;: &quot;black&quot;}, &quot;type&quot;: &quot;Feature&quot;}, {&quot;bbox&quot;: [-98.96762622855712, 19.078097679446305, -98.9628724022309, 19.08261737818767], &quot;geometry&quot;: {&quot;coordinates&quot;: [[[-98.96287340900592, 19.078097679446305], [-98.9628724022309, 19.082616482150712], [-98.96762535066594, 19.08261737818767], [-98.96762622855712, 19.078098575255115], [-98.96287340900592, 19.078097679446305]]], &quot;type&quot;: &quot;Polygon&quot;}, &quot;id&quot;: &quot;25&quot;, &quot;properties&quot;: {&quot;__folium_color&quot;: &quot;black&quot;}, &quot;type&quot;: &quot;Feature&quot;}, {&quot;bbox&quot;: [-99.36694002546311, 19.109367358330488, -99.36217644136316, 19.1138954682808], &quot;geometry&quot;: {&quot;coordinates&quot;: [[[-99.36217644136316, 19.109376770716075], [-99.362186279915, 19.1138954682808], [-99.36694002546311, 19.113886053501563], [-99.36693005778595, 19.109367358330488], [-99.36217644136316, 19.109376770716075]]], &quot;type&quot;: &quot;Polygon&quot;}, &quot;id&quot;: &quot;26&quot;, &quot;properties&quot;: {&quot;__folium_color&quot;: &quot;black&quot;}, &quot;type&quot;: &quot;Feature&quot;}, {&quot;bbox&quot;: [-99.33366374964713, 19.1094306677415, -99.32890105078084, 19.113957934474676], &quot;geometry&quot;: {&quot;coordinates&quot;: [[[-99.32890105078084, 19.109439221028286], [-99.32890998544576, 19.113957934474676], [-99.33366374964713, 19.11394937901271], [-99.33365468585453, 19.1094306677415], [-99.32890105078084, 19.109439221028286]]], &quot;type&quot;: &quot;Polygon&quot;}, &quot;id&quot;: &quot;27&quot;, &quot;properties&quot;: {&quot;__folium_color&quot;: &quot;black&quot;}, &quot;type&quot;: &quot;Feature&quot;}, {&quot;bbox&quot;: [-99.30038734861034, 19.109487963418736, -99.29562553677708, 19.11401438539164], &quot;geometry&quot;: {&quot;coordinates&quot;: [[[-99.29562553677708, 19.10949565759293], [-99.2956335675397, 19.11401438539164], [-99.30038734861034, 19.114006689260744], [-99.30037918871795, 19.109487963418736], [-99.29562553677708, 19.10949565759293]]], &quot;type&quot;: &quot;Polygon&quot;}, &quot;id&quot;: &quot;28&quot;, &quot;properties&quot;: {&quot;__folium_color&quot;: &quot;black&quot;}, &quot;type&quot;: &quot;Feature&quot;}, {&quot;bbox&quot;: [-99.26711083484045, 19.10953924526973, -99.26234991183804, 19.114064820940577], &quot;geometry&quot;: {&quot;coordinates&quot;: [[[-99.26234991183804, 19.109546080318907], [-99.26235703868448, 19.114064820940577], [-99.26711083484045, 19.11405798415318], [-99.26710357886233, 19.10953924526973], [-99.26234991183804, 19.109546080318907]]], &quot;type&quot;: &quot;Polygon&quot;}, &quot;id&quot;: &quot;29&quot;, &quot;properties&quot;: {&quot;__folium_color&quot;: &quot;black&quot;}, &quot;type&quot;: &quot;Feature&quot;}, {&quot;bbox&quot;: [-99.23383422082537, 19.109584513211715, -99.22907418845011, 19.114109241040083], &quot;geometry&quot;: {&quot;coordinates&quot;: [[[-99.22907418845011, 19.109590489124837], [-99.2290804113681, 19.114109241040083], [-99.23383422082537, 19.114103263607223], [-99.23382786877404, 19.109584513211715], [-99.22907418845011, 19.109590489124837]]], &quot;type&quot;: &quot;Polygon&quot;}, &quot;id&quot;: &quot;30&quot;, &quot;properties&quot;: {&quot;__folium_color&quot;: &quot;black&quot;}, &quot;type&quot;: &quot;Feature&quot;}, {&quot;bbox&quot;: [-99.20055751905326, 19.10962376717163, -99.19579837909993, 19.11414764561846], &quot;geometry&quot;: {&quot;coordinates&quot;: [[[-99.19579837909993, 19.10962888393906], [-99.19580369807873, 19.11414764561846], [-99.20055751905326, 19.11414252754979], [-99.2005520709397, 19.10962376717163], [-99.19579837909993, 19.10962888393906]]], &quot;type&quot;: &quot;Polygon&quot;}, &quot;id&quot;: &quot;31&quot;, &quot;properties&quot;: {&quot;__folium_color&quot;: &quot;black&quot;}, &quot;type&quot;: &quot;Feature&quot;}, {&quot;bbox&quot;: [-99.16728074201245, 19.109657007086113, -99.16252249627426, 19.114180034613728], &quot;geometry&quot;: {&quot;coordinates&quot;: [[[-99.16252249627426, 19.109661264699593], [-99.16252691130472, 19.114180034613728], [-99.16728074201245, 19.114175775917495], [-99.16727619784602, 19.109657007086113], [-99.16252249627426, 19.109661264699593]]], &quot;type&quot;: &quot;Polygon&quot;}, &quot;id&quot;: &quot;32&quot;, &quot;properties&quot;: {&quot;__folium_color&quot;: &quot;black&quot;}, &quot;type&quot;: &quot;Feature&quot;}, {&quot;bbox&quot;: [-99.13400390219141, 19.10968423290152, -99.12924655246006, 19.1142064079736], &quot;geometry&quot;: {&quot;coordinates&quot;: [[[-99.12924655246006, 19.109687631354177], [-99.12925006353454, 19.1142064079736], [-99.13400390219141, 19.114203008656695], [-99.13400026197995, 19.10968423290152], [-99.12924655246006, 19.109687631354177]]], &quot;type&quot;: &quot;Polygon&quot;}, &quot;id&quot;: &quot;33&quot;, &quot;properties&quot;: {&quot;__folium_color&quot;: &quot;black&quot;}, &quot;type&quot;: &quot;Feature&quot;}, {&quot;bbox&quot;: [-99.10072701207878, 19.10970544457391, -99.09597056014441, 19.11422676565552], &quot;geometry&quot;: {&quot;coordinates&quot;: [[[-99.09597056014441, 19.10970798386025], [-99.09597316725687, 19.11422676565552], [-99.10072701207878, 19.11422422572341], [-99.10072427582855, 19.10970544457391], [-99.09597056014441, 19.10970798386025]]], &quot;type&quot;: &quot;Polygon&quot;}, &quot;id&quot;: &quot;34&quot;, &quot;properties&quot;: {&quot;__folium_color&quot;: &quot;black&quot;}, &quot;type&quot;: &quot;Feature&quot;}, {&quot;bbox&quot;: [-99.06745008416324, 19.109720642069046, -99.06269453181449, 19.11424110762662], &quot;geometry&quot;: {&quot;coordinates&quot;: [[[-99.06269453181449, 19.109722322184986], [-99.06269623496043, 19.11424110762662], [-99.06745008416324, 19.114239427083415], [-99.067448251879, 19.109720642069046], [-99.06269453181449, 19.109722322184986]]], &quot;type&quot;: &quot;Polygon&quot;}, &quot;id&quot;: &quot;35&quot;, &quot;properties&quot;: {&quot;__folium_color&quot;: &quot;black&quot;}, &quot;type&quot;: &quot;Feature&quot;}, {&quot;bbox&quot;: [-99.03417313093364, 19.109729825362393, -99.02941847995753, 19.114249433863755], &quot;geometry&quot;: {&quot;coordinates&quot;: [[[-99.02941847995753, 19.10973064630521], [-99.02941927913403, 19.114249433863755], [-99.03417313093364, 19.114248612712164], [-99.03417220261852, 19.109729825362393], [-99.02941847995753, 19.10973064630521]]], &quot;type&quot;: &quot;Polygon&quot;}, &quot;id&quot;: &quot;36&quot;, &quot;properties&quot;: {&quot;__folium_color&quot;: &quot;black&quot;}, &quot;type&quot;: &quot;Feature&quot;}, {&quot;bbox&quot;: [-99.00089616487882, 19.109732956207505, -98.99614231226654, 19.114251782594835], &quot;geometry&quot;: {&quot;coordinates&quot;: [[[-98.99614241706087, 19.109732956207505], [-98.99614231226654, 19.114251744353485], [-99.00089616487882, 19.114251782594835], [-99.00089614053444, 19.10973299443914], [-98.99614241706087, 19.109732956207505]]], &quot;type&quot;: &quot;Polygon&quot;}, &quot;id&quot;: &quot;37&quot;, &quot;properties&quot;: {&quot;__folium_color&quot;: &quot;black&quot;}, &quot;type&quot;: &quot;Feature&quot;}, {&quot;bbox&quot;: [-98.96762007811407, 19.109729251888155, -98.96286534684684, 19.114248936726312], &quot;geometry&quot;: {&quot;coordinates&quot;: [[[-98.96286635561182, 19.109729251888155], [-98.96286534684684, 19.114248039092082], [-98.96761919848767, 19.114248936726312], [-98.96762007811407, 19.109730149294162], [-98.96286635561182, 19.109729251888155]]], &quot;type&quot;: &quot;Polygon&quot;}, &quot;id&quot;: &quot;38&quot;, &quot;properties&quot;: {&quot;__folium_color&quot;: &quot;black&quot;}, &quot;type&quot;: &quot;Feature&quot;}, {&quot;bbox&quot;: [-99.36700987791342, 19.140998177872415, -99.36224536949133, 19.14552628902579], &quot;geometry&quot;: {&quot;coordinates&quot;: [[[-99.36224536949133, 19.1410076070162], [-99.3622552274682, 19.14552628902579], [-99.36700987791342, 19.14551685748748], [-99.36699989055626, 19.140998177872415], [-99.36224536949133, 19.1410076070162]]], &quot;type&quot;: &quot;Polygon&quot;}, &quot;id&quot;: &quot;39&quot;, &quot;properties&quot;: {&quot;__folium_color&quot;: &quot;black&quot;}, &quot;type&quot;: &quot;Feature&quot;}, {&quot;bbox&quot;: [-99.33372726776793, 19.141061600002136, -99.32896364634779, 19.14558886641466], &quot;geometry&quot;: {&quot;coordinates&quot;: [[[-99.32896364634779, 19.14107016851756], [-99.32897259865317, 19.14558886641466], [-99.33372726776793, 19.14558029572326], [-99.33371818607993, 19.141061600002136], [-99.32896364634779, 19.14107016851756]]], &quot;type&quot;: &quot;Polygon&quot;}, &quot;id&quot;: &quot;40&quot;, &quot;properties&quot;: {&quot;__folium_color&quot;: &quot;black&quot;}, &quot;type&quot;: &quot;Feature&quot;}, {&quot;bbox&quot;: [-99.30044453229209, 19.141118997691056, -99.29568179967484, 19.145645417818997], &quot;geometry&quot;: {&quot;coordinates&quot;: [[[-99.29568179967484, 19.141126705564293], [-99.29568984629327, 19.145645417818997], [-99.30044453229209, 19.145637707988342], [-99.30043635628893, 19.141118997691056], [-99.29568179967484, 19.141126705564293]]], &quot;type&quot;: &quot;Polygon&quot;}, &quot;id&quot;: &quot;41&quot;, &quot;properties&quot;: {&quot;__folium_color&quot;: &quot;black&quot;}, &quot;type&quot;: &quot;Feature&quot;}, {&quot;bbox&quot;: [-99.26716168398451, 19.14117037084652, -99.26239984196958, 19.145695943147498], &quot;geometry&quot;: {&quot;coordinates&quot;: [[[-99.26239984196958, 19.141177218065128], [-99.26240698288717, 19.145695943147498], [-99.26716168398451, 19.145689094190043], [-99.26715441368029, 19.14117037084652], [-99.26239984196958, 19.141177218065128]]], &quot;type&quot;: &quot;Polygon&quot;}, &quot;id&quot;: &quot;42&quot;, &quot;properties&quot;: {&quot;__folium_color&quot;: &quot;black&quot;}, &quot;type&quot;: &quot;Feature&quot;}, {&quot;bbox&quot;: [-99.23387873534404, 19.141215719385592, -99.22911778572933, 19.14574044231861], &quot;geometry&quot;: {&quot;coordinates&quot;: [[[-99.22911778572933, 19.141221705938506], [-99.22912402093377, 19.14574044231861], [-99.23387873534404, 19.145734454245403], [-99.2338723707513, 19.141215719385592], [-99.22911778572933, 19.141221705938506]]], &quot;type&quot;: &quot;Polygon&quot;}, &quot;id&quot;: &quot;43&quot;, &quot;properties&quot;: {&quot;__folium_color&quot;: &quot;black&quot;}, &quot;type&quot;: &quot;Feature&quot;}, {&quot;bbox&quot;: [-99.20059569886975, 19.14125504323506, -99.19583564345159, 19.145778915260472], &quot;geometry&quot;: {&quot;coordinates&quot;: [[[-99.19583564345159, 19.14126016911262], [-99.19584097293213, 19.145778915260472], [-99.20059569886975, 19.14577378808119], [-99.20059023999947, 19.14125504323506], [-99.19583564345159, 19.14126016911262]]], &quot;type&quot;: &quot;Polygon&quot;}, &quot;id&quot;: &quot;44&quot;, &quot;properties&quot;: {&quot;__folium_color&quot;: &quot;black&quot;}, &quot;type&quot;: &quot;Feature&quot;}, {&quot;bbox&quot;: [-99.16731258706092, 19.14128834233144, -99.16255342763411, 19.145811361910987], &quot;geometry&quot;: {&quot;coordinates&quot;: [[[-99.16255342763411, 19.141292607525376], [-99.16255785138156, 19.145811361910987], [-99.16731258706092, 19.145807095633902], [-99.16730803392251, 19.14128834233144], [-99.16255342763411, 19.141292607525376]]], &quot;type&quot;: &quot;Polygon&quot;}, &quot;id&quot;: &quot;45&quot;, &quot;properties&quot;: {&quot;__folium_color&quot;: &quot;black&quot;}, &quot;type&quot;: &quot;Feature&quot;}, {&quot;bbox&quot;: [-99.13402941241691, 19.14131561662098, -99.12927115077476, 19.145837782217775], &quot;geometry&quot;: {&quot;coordinates&quot;: [[[-99.12927115077476, 19.1413190211244], [-99.12927466878149, 19.145837782217775], [-99.13402941241691, 19.145834376849777], [-99.13402576501824, 19.14131561662098], [-99.12927115077476, 19.1413190211244]]], &quot;type&quot;: &quot;Polygon&quot;}, &quot;id&quot;: &quot;46&quot;, &quot;properties&quot;: {&quot;__folium_color&quot;: &quot;black&quot;}, &quot;type&quot;: &quot;Feature&quot;}, {&quot;bbox&quot;: [-99.1007461874373, 19.141336866059643, -99.09598882537152, 19.145858176138173], &quot;geometry&quot;: {&quot;coordinates&quot;: [[[-99.09598882537152, 19.141339409867058], [-99.09599143763144, 19.145858176138173], [-99.1007461874373, 19.14585563168476], [-99.10074344578464, 19.141336866059643], [-99.09598882537152, 19.141339409867058]]], &quot;type&quot;: &quot;Polygon&quot;}, &quot;id&quot;: &quot;47&quot;, &quot;properties&quot;: {&quot;__folium_color&quot;: &quot;black&quot;}, &quot;type&quot;: &quot;Feature&quot;}, {&quot;bbox&quot;: [-99.06746292462172, 19.141352090613132, -99.0627064639225, 19.145872543639257], &quot;geometry&quot;: {&quot;coordinates&quot;: [[[-99.0627064639225, 19.14135377372043], [-99.06270817043112, 19.145872543639257], [-99.06746292462172, 19.145870860104534], [-99.06746108871984, 19.141352090613132], [-99.0627064639225, 19.14135377372043]]], &quot;type&quot;: &quot;Polygon&quot;}, &quot;id&quot;: &quot;48&quot;, &quot;properties&quot;: {&quot;__folium_color&quot;: &quot;black&quot;}, &quot;type&quot;: &quot;Feature&quot;}, {&quot;bbox&quot;: [-99.03417963646993, 19.141361290256864, -99.02942407892589, 19.145880884697846], &quot;geometry&quot;: {&quot;coordinates&quot;: [[[-99.02942407892589, 19.141362112661326], [-99.02942487968026, 19.145880884697846], [-99.03417963646993, 19.145880062084526], [-99.03417870632197, 19.141361290256864], [-99.02942407892589, 19.141362112661326]]], &quot;type&quot;: &quot;Polygon&quot;}, &quot;id&quot;: &quot;49&quot;, &quot;properties&quot;: {&quot;__folium_color&quot;: &quot;black&quot;}, &quot;type&quot;: &quot;Feature&quot;}, {&quot;bbox&quot;: [-99.0008963354817, 19.14136442667629, -98.99614157787865, 19.145883237609876], &quot;geometry&quot;: {&quot;coordinates&quot;: [[[-98.9961416828799, 19.14136442667629], [-98.99614157787865, 19.14588319930045], [-99.0008963354817, 19.145883237609876], [-99.00089631108926, 19.141364464975986], [-98.9961416828799, 19.14136442667629]]], &quot;type&quot;: &quot;Polygon&quot;}, &quot;id&quot;: &quot;50&quot;, &quot;properties&quot;: {&quot;__folium_color&quot;: &quot;black&quot;}, &quot;type&quot;: &quot;Feature&quot;}, {&quot;bbox&quot;: [-98.96761391551998, 19.14136071576158, -98.9628582775261, 19.145880386675444], &quot;geometry&quot;: {&quot;coordinates&quot;: [[[-98.96285928828279, 19.14136071576158], [-98.9628582775261, 19.145879487443345], [-98.96761303415684, 19.145880386675444], [-98.96761391551998, 19.14136161476537], [-98.96285928828279, 19.14136071576158]]], &quot;type&quot;: &quot;Polygon&quot;}, &quot;id&quot;: &quot;51&quot;, &quot;properties&quot;: {&quot;__folium_color&quot;: &quot;black&quot;}, &quot;type&quot;: &quot;Feature&quot;}, {&quot;bbox&quot;: [-99.36707986819246, 19.172628888457098, -99.36231443364578, 19.177157000797997], &quot;geometry&quot;: {&quot;coordinates&quot;: [[[-99.36231443364578, 19.17263833436525], [-99.3623243110647, 19.177157000797997], [-99.36707986819246, 19.177147552494436], [-99.3670698611381, 19.172628888457098], [-99.36231443364578, 19.17263833436525]]], &quot;type&quot;: &quot;Polygon&quot;}, &quot;id&quot;: &quot;52&quot;, &quot;properties&quot;: {&quot;__folium_color&quot;: &quot;black&quot;}, &quot;type&quot;: &quot;Feature&quot;}, {&quot;bbox&quot;: [-99.33379091121914, 19.172692423347023, -99.3290263654442, 19.177219689422795], &quot;geometry&quot;: {&quot;coordinates&quot;: [[[-99.3290263654442, 19.172701007096688], [-99.32903533540545, 19.177219689422795], [-99.33379091121914, 19.177211103496347], [-99.33378181162009, 19.172692423347023], [-99.3290263654442, 19.172701007096688]]], &quot;type&quot;: &quot;Polygon&quot;}, &quot;id&quot;: &quot;53&quot;, &quot;properties&quot;: {&quot;__folium_color&quot;: &quot;black&quot;}, &quot;type&quot;: &quot;Feature&quot;}, {&quot;bbox&quot;: [-99.30050182880562, 19.172749923085178, -99.29573817360496, 19.17727634135149], &quot;geometry&quot;: {&quot;coordinates&quot;: [[[-99.29573817360496, 19.172757644662493], [-99.2957462360931, 19.17727634135149], [-99.30050182880562, 19.177268617816033], [-99.30049363667759, 19.172749923085178], [-99.29573817360496, 19.172757644662493]]], &quot;type&quot;: &quot;Polygon&quot;}, &quot;id&quot;: &quot;54&quot;, &quot;properties&quot;: {&quot;__folium_color&quot;: &quot;black&quot;}, &quot;type&quot;: &quot;Feature&quot;}, {&quot;bbox&quot;: [-99.2672126334615, 19.17280138757871, -99.26244987063615, 19.177326956492614], &quot;geometry&quot;: {&quot;coordinates&quot;: [[[-99.26244987063615, 19.172808246971215], [-99.26245702563722, 19.177326956492614], [-99.2672126334615, 19.17732009536061], [-99.26720534881862, 19.17280138757871], [-99.26244987063615, 19.172808246971215]]], &quot;type&quot;: &quot;Polygon&quot;}, &quot;id&quot;: &quot;55&quot;, &quot;properties&quot;: {&quot;__folium_color&quot;: &quot;black&quot;}, &quot;type&quot;: &quot;Feature&quot;}, {&quot;bbox&quot;: [-99.23392333769657, 19.172846816744524, -99.229161469046, 19.177371534764426], &quot;geometry&quot;: {&quot;coordinates&quot;: [[[-99.229161469046, 19.17285281394114], [-99.22916771654768, 19.177371534764426], [-99.23392333769657, 19.177365536046963], [-99.23391696055141, 19.172846816744524], [-99.229161469046, 19.17285281394114]]], &quot;type&quot;: &quot;Polygon&quot;}, &quot;id&quot;: &quot;56&quot;, &quot;properties&quot;: {&quot;__folium_color&quot;: &quot;black&quot;}, &quot;type&quot;: &quot;Feature&quot;}, {&quot;bbox&quot;: [-99.20063395402084, 19.172886210509272, -99.19587298134303, 19.17741007609495], &quot;geometry&quot;: {&quot;coordinates&quot;: [[[-99.19587298134303, 19.172891345500314], [-99.19587832133452, 19.17741007609495], [-99.20063395402084, 19.177404939801704], [-99.20062848438444, 19.172886210509272], [-99.19587298134303, 19.172891345500314]]], &quot;type&quot;: &quot;Polygon&quot;}, &quot;id&quot;: &quot;57&quot;, &quot;properties&quot;: {&quot;__folium_color&quot;: &quot;black&quot;}, &quot;type&quot;: &quot;Feature&quot;}, {&quot;bbox&quot;: [-99.16734449494454, 19.172919568809338, -99.16258442003586, 19.177442580421946], &quot;geometry&quot;: {&quot;coordinates&quot;: [[[-99.16258442003586, 19.172923841586517], [-99.16258885250795, 19.177442580421946], [-99.16734449494454, 19.177438306561218], [-99.16733993282631, 19.172919568809338], [-99.16258442003586, 19.172923841586517]]], &quot;type&quot;: &quot;Polygon&quot;}, &quot;id&quot;: &quot;58&quot;, &quot;properties&quot;: {&quot;__folium_color&quot;: &quot;black&quot;}, &quot;type&quot;: &quot;Feature&quot;}, {&quot;bbox&quot;: [-99.13405497297803, 19.172946891590847, -99.12929579763333, 19.177469047692924], &quot;geometry&quot;: {&quot;coordinates&quot;: [[[-99.12929579763333, 19.172950302147264], [-99.12929932257839, 19.177469047692924], [-99.13405497297803, 19.17746563627161], [-99.13405131838584, 19.172946891590847], [-99.12929579763333, 19.172950302147264]]], &quot;type&quot;: &quot;Polygon&quot;}, &quot;id&quot;: &quot;59&quot;, &quot;properties&quot;: {&quot;__folium_color&quot;: &quot;black&quot;}, &quot;type&quot;: &quot;Feature&quot;}, {&quot;bbox&quot;: [-99.10076540063179, 19.17296817880969, -99.09600712664441, 19.17748947786514], &quot;geometry&quot;: {&quot;coordinates&quot;: [[[-99.09600712664441, 19.17297072713983], [-99.09600974405632, 19.17748947786514], [-99.10076540063179, 19.17748692888876], [-99.10076265357196, 19.17296817880969], [-99.09600712664441, 19.17297072713983]]], &quot;type&quot;: &quot;Polygon&quot;}, &quot;id&quot;: &quot;60&quot;, &quot;properties&quot;: {&quot;__folium_color&quot;: &quot;black&quot;}, &quot;type&quot;: &quot;Feature&quot;}, {&quot;bbox&quot;: [-99.06747579041644, 19.17298343043149, -99.06271841957812, 19.17750387090562], &quot;geometry&quot;: {&quot;coordinates&quot;: [[[-99.06271841957812, 19.172985116531244], [-99.06272012945237, 19.17750387090562], [-99.06747579041644, 19.177502184378277], [-99.06747395089373, 19.17298343043149], [-99.06271841957812, 19.172985116531244]]], &quot;type&quot;: &quot;Polygon&quot;}, &quot;id&quot;: &quot;61&quot;, &quot;properties&quot;: {&quot;__folium_color&quot;: &quot;black&quot;}, &quot;type&quot;: &quot;Feature&quot;}, {&quot;bbox&quot;: [-99.03418615484267, 19.17299264643162, -99.0294296889436, 19.1775122267911], &quot;geometry&quot;: {&quot;coordinates&quot;: [[[-99.0294296889436, 19.172993470298263], [-99.02943049127725, 19.1775122267911], [-99.03418615484267, 19.177511402715524], [-99.03418522286023, 19.17299264643162], [-99.0294296889436, 19.172993470298263]]], &quot;type&quot;: &quot;Polygon&quot;}, &quot;id&quot;: &quot;62&quot;, &quot;properties&quot;: {&quot;__folium_color&quot;: &quot;black&quot;}, &quot;type&quot;: &quot;Feature&quot;}, {&quot;bbox&quot;: [-99.0008965064212, 19.172995788427404, -98.9961408420417, 19.17751458388562], &quot;geometry&quot;: {&quot;coordinates&quot;: [[[-98.99614094725003, 19.172995788427404], [-98.9961408420417, 19.1775145455081], [-99.0008965064212, 19.17751458388562], [-99.00089648198065, 19.172995826795198], [-98.99614094725003, 19.172995788427404]]], &quot;type&quot;: &quot;Polygon&quot;}, &quot;id&quot;: &quot;63&quot;, &quot;properties&quot;: {&quot;__folium_color&quot;: &quot;black&quot;}, &quot;type&quot;: &quot;Feature&quot;}, {&quot;bbox&quot;: [-98.96760774076421, 19.172992070914916, -98.96285119425647, 19.17751172788343], &quot;geometry&quot;: {&quot;coordinates&quot;: [[[-98.9628522070066, 19.172992070914916], [-98.96285119425647, 19.177510827052874], [-98.96760685766283, 19.17751172788343], [-98.96760774076421, 19.172992971517083], [-98.9628522070066, 19.172992070914916]]], &quot;type&quot;: &quot;Polygon&quot;}, &quot;id&quot;: &quot;64&quot;, &quot;properties&quot;: {&quot;__folium_color&quot;: &quot;black&quot;}, &quot;type&quot;: &quot;Feature&quot;}, {&quot;bbox&quot;: [-99.36714999642105, 19.204259489932507, -99.36238363394568, 19.20878760344539], &quot;geometry&quot;: {&quot;coordinates&quot;: [[[-99.36238363394568, 19.204268952611205], [-99.36239353082368, 19.20878760344539], [-99.36714999642105, 19.208778138370395], [-99.3671399696522, 19.204259489932507], [-99.36238363394568, 19.204268952611205]]], &quot;type&quot;: &quot;Polygon&quot;}, &quot;id&quot;: &quot;65&quot;, &quot;properties&quot;: {&quot;__folium_color&quot;: &quot;black&quot;}, &quot;type&quot;: &quot;Feature&quot;}, {&quot;bbox&quot;: [-99.33385468011055, 19.204323137624204, -99.32908920817826, 19.208850403347135], &quot;geometry&quot;: {&quot;coordinates&quot;: [[[-99.32908920817826, 19.204331736613725], [-99.3290981958109, 19.208850403347135], [-99.33385468011055, 19.208841802180032], [-99.33384556258474, 19.204323137624204], [-99.32908920817826, 19.204331736613725]]], &quot;type&quot;: &quot;Polygon&quot;}, &quot;id&quot;: &quot;66&quot;, &quot;properties&quot;: {&quot;__folium_color&quot;: &quot;black&quot;}, &quot;type&quot;: &quot;Feature&quot;}, {&quot;bbox&quot;: [-99.30055923824979, 19.204380739449213, -99.29579465866472, 19.208907155837277], &quot;geometry&quot;: {&quot;coordinates&quot;: [[[-99.29579465866472, 19.20438847473567], [-99.29580273703645, 19.208907155837277], [-99.30055923824979, 19.208899418591955], [-99.30055102998276, 19.204380739449213], [-99.29579465866472, 19.20438847473567]]], &quot;type&quot;: &quot;Polygon&quot;}, &quot;id&quot;: &quot;67&quot;, &quot;properties&quot;: {&quot;__folium_color&quot;: &quot;black&quot;}, &quot;type&quot;: &quot;Feature&quot;}, {&quot;bbox&quot;: [-99.26726368335932, 19.2044322953145, -99.26249999792407, 19.20895786082414], &quot;geometry&quot;: {&quot;coordinates&quot;: [[[-99.26249999792407, 19.2044391668854], [-99.26250716702097, 19.20895786082414], [-99.26726368335932, 19.208950987513102], [-99.26725638436523, 19.2044322953145], [-99.26249999792407, 19.2044391668854]]], &quot;type&quot;: &quot;Polygon&quot;}, &quot;id&quot;: &quot;68&quot;, &quot;properties&quot;: {&quot;__folium_color&quot;: &quot;black&quot;}, &quot;type&quot;: &quot;Feature&quot;}, {&quot;bbox&quot;: [-99.23396802795989, 19.204477805136793, -99.22920523847557, 19.209002518225837], &quot;geometry&quot;: {&quot;coordinates&quot;: [[[-99.22920523847557, 19.204483812981042], [-99.22921149828525, 19.209002518225837], [-99.23396802795989, 19.20899650886018], [-99.23396163825134, 19.204477805136793], [-99.22920523847557, 19.204483812981042]]], &quot;type&quot;: &quot;Polygon&quot;}, &quot;id&quot;: &quot;69&quot;, &quot;properties&quot;: {&quot;__folium_color&quot;: &quot;black&quot;}, &quot;type&quot;: &quot;Feature&quot;}, {&quot;bbox&quot;: [-99.20067228457253, 19.204517268842597, -99.19591039283867, 19.20904112797024], &quot;geometry&quot;: {&quot;coordinates&quot;: [[[-99.19591039283867, 19.204522412950485], [-99.19591574335031, 19.20904112797024], [-99.20067228457253, 19.209035982559673], [-99.20066680416056, 19.204517268842597], [-99.19591039283867, 19.204522412950485]]], &quot;type&quot;: &quot;Polygon&quot;}, &quot;id&quot;: &quot;70&quot;, &quot;properties&quot;: {&quot;__folium_color&quot;: &quot;black&quot;}, &quot;type&quot;: &quot;Feature&quot;}, {&quot;bbox&quot;: [-99.16737646571842, 19.20455068636817, -99.162615473533, 19.209073689994984], &quot;geometry&quot;: {&quot;coordinates&quot;: [[[-99.162615473533, 19.20455496673139], [-99.16261991473738, 19.209073689994984], [-99.16737646571842, 19.209069408547816], [-99.16737189461249, 19.20455068636817], [-99.162615473533, 19.20455496673139]]], &quot;type&quot;: &quot;Polygon&quot;}, &quot;id&quot;: &quot;71&quot;, &quot;properties&quot;: {&quot;__folium_color&quot;: &quot;black&quot;}, &quot;type&quot;: &quot;Feature&quot;}, {&quot;bbox&quot;: [-99.13408058391887, 19.204578057659536, -99.12932049307835, 19.209100204247477], &quot;geometry&quot;: {&quot;coordinates&quot;: [[[-99.12932049307835, 19.204581474271173], [-99.1293240249678, 19.209100204247477], [-99.13408058391887, 19.209096786770623], [-99.13407692212688, 19.204578057659536], [-99.12932049307835, 19.204581474271173]]], &quot;type&quot;: &quot;Polygon&quot;}, &quot;id&quot;: &quot;72&quot;, &quot;properties&quot;: {&quot;__folium_color&quot;: &quot;black&quot;}, &quot;type&quot;: &quot;Feature&quot;}, {&quot;bbox&quot;: [-99.10078465169542, 19.204599382672484, -99.09602546399468, 19.20912067068489], &quot;geometry&quot;: {&quot;coordinates&quot;: [[[-99.09602546399468, 19.20460193552703], [-99.09602808656308, 19.20912067068489], [-99.10078465169542, 19.20911811718387], [-99.10078189922369, 19.204599382672484], [-99.09602546399468, 19.20460193552703]]], &quot;type&quot;: &quot;Polygon&quot;}, &quot;id&quot;: &quot;73&quot;, &quot;properties&quot;: {&quot;__folium_color&quot;: &quot;black&quot;}, &quot;type&quot;: &quot;Feature&quot;}, {&quot;bbox&quot;: [-99.0674886815696, 19.204614661372574, -99.06273039880197, 19.20913508927417], &quot;geometry&quot;: {&quot;coordinates&quot;: [[[-99.06273039880197, 19.2046163504659], [-99.06273211204481, 19.20913508927417], [-99.0674886815696, 19.209133399753107], [-99.06748683842288, 19.204614661372574], [-99.06273039880197, 19.2046163504659]]], &quot;type&quot;: &quot;Polygon&quot;}, &quot;id&quot;: &quot;74&quot;, &quot;properties&quot;: {&quot;__folium_color&quot;: &quot;black&quot;}, &quot;type&quot;: &quot;Feature&quot;}, {&quot;bbox&quot;: [-99.0341926860631, 19.204623893735135, -99.02943531002038, 19.20914345999202], &quot;geometry&quot;: {&quot;coordinates&quot;: [[[-99.02943531002038, 19.20462471906451], [-99.0294361139347, 19.20914345999202], [-99.0341926860631, 19.209142634453645], [-99.03419175224458, 19.204623893735135], [-99.02943531002038, 19.20462471906451]]], &quot;type&quot;: &quot;Polygon&quot;}, &quot;id&quot;: &quot;75&quot;, &quot;properties&quot;: {&quot;__folium_color&quot;: &quot;black&quot;}, &quot;type&quot;: &quot;Feature&quot;}, {&quot;bbox&quot;: [-99.00089667769764, 19.20462704130934, -98.9961401047544, 19.209145821270578], &quot;geometry&quot;: {&quot;coordinates&quot;: [[[-98.99614021017001, 19.20462704130934], [-98.9961401047544, 19.209145782824933], [-99.00089667769764, 19.209145821270578], [-99.00089665320893, 19.204627079745247], [-98.99614021017001, 19.20462704130934]]], &quot;type&quot;: &quot;Polygon&quot;}, &quot;id&quot;: &quot;76&quot;, &quot;properties&quot;: {&quot;__folium_color&quot;: &quot;black&quot;}, &quot;type&quot;: &quot;Feature&quot;}, {&quot;bbox&quot;: [-98.96760155383612, 19.20462331719664, -98.96284409702575, 19.209142960198754], &quot;geometry&quot;: {&quot;coordinates&quot;: [[[-98.96284511177107, 19.20462331719664], [-98.96284409702575, 19.20914205776915], [-98.96760066899495, 19.209142960198754], [-98.96760155383612, 19.204624219397775], [-98.96284511177107, 19.20462331719664]]], &quot;type&quot;: &quot;Polygon&quot;}, &quot;id&quot;: &quot;77&quot;, &quot;properties&quot;: {&quot;__folium_color&quot;: &quot;black&quot;}, &quot;type&quot;: &quot;Feature&quot;}, {&quot;bbox&quot;: [-99.36722026272022, 19.235889982146713, -99.3624529705105, 19.24041809681609], &quot;geometry&quot;: {&quot;coordinates&quot;: [[[-99.3624529705105, 19.235899461602155], [-99.3624628868647, 19.24041809681609], [-99.36722026272022, 19.240408614963467], [-99.36721021621959, 19.235889982146713], [-99.3624529705105, 19.235899461602155]]], &quot;type&quot;: &quot;Polygon&quot;}, &quot;id&quot;: &quot;78&quot;, &quot;properties&quot;: {&quot;__folium_color&quot;: &quot;black&quot;}, &quot;type&quot;: &quot;Feature&quot;}, {&quot;bbox&quot;: [-99.3339185745523, 19.235953742681858, -99.32915217465849, 19.240481008035903], &quot;geometry&quot;: {&quot;coordinates&quot;: [[[-99.32915217465849, 19.23596235691687], [-99.32916117997802, 19.240481008035903], [-99.3339185745523, 19.2404723916225], [-99.33390943908397, 19.235953742681858], [-99.32915217465849, 19.23596235691687]]], &quot;type&quot;: &quot;Polygon&quot;}, &quot;id&quot;: &quot;79&quot;, &quot;properties&quot;: {&quot;__folium_color&quot;: &quot;black&quot;}, &quot;type&quot;: &quot;Feature&quot;}, {&quot;bbox&quot;: [-99.30061676072374, 19.23601144663143, -99.29585125495163, 19.240537861124633], &quot;geometry&quot;: {&quot;coordinates&quot;: [[[-99.29585125495163, 19.23601919563209], [-99.29585934922093, 19.240537861124633], [-99.30061676072374, 19.240530110164386], [-99.30060853630351, 19.23601144663143], [-99.29585125495163, 19.23601919563209]]], &quot;type&quot;: &quot;Polygon&quot;}, &quot;id&quot;: &quot;80&quot;, &quot;properties&quot;: {&quot;__folium_color&quot;: &quot;black&quot;}, &quot;type&quot;: &quot;Feature&quot;}, {&quot;bbox&quot;: [-99.26731483376612, 19.236063093902214, -99.26255022391989, 19.24058865599044], &quot;geometry&quot;: {&quot;coordinates&quot;: [[[-99.26255022391989, 19.236069977656012], [-99.262557407125, 19.24058865599044], [-99.26731483376612, 19.240581770495858], [-99.2673075204082, 19.236063093902214], [-99.26255022391989, 19.236069977656012]]], &quot;type&quot;: &quot;Polygon&quot;}, &quot;id&quot;: &quot;81&quot;, &quot;properties&quot;: {&quot;__folium_color&quot;: &quot;black&quot;}, &quot;type&quot;: &quot;Feature&quot;}, {&quot;bbox&quot;: [-99.2340128062112, 19.236108684410787, -99.22924909409357, 19.240633392551263], &quot;geometry&quot;: {&quot;coordinates&quot;: [[[-99.22924909409357, 19.236114702906594], [-99.22925536622206, 19.240633392551263], [-99.2340128062112, 19.240627372533474], [-99.2340064039282, 19.236108684410787], [-99.22924909409357, 19.236114702906594]]], &quot;type&quot;: &quot;Polygon&quot;}, &quot;id&quot;: &quot;82&quot;, &quot;properties&quot;: {&quot;__folium_color&quot;: &quot;black&quot;}, &quot;type&quot;: &quot;Feature&quot;}, {&quot;bbox&quot;: [-99.200710690591, 19.236148218083486, -99.1959478780031, 19.240672070734814], &quot;geometry&quot;: {&quot;coordinates&quot;: [[[-99.1959478780031, 19.236153371311588], [-99.19595323904414, 19.240672070734814], [-99.200710690591, 19.240666916203555], [-99.20070519939401, 19.236148218083486], [-99.1959478780031, 19.236153371311588]]], &quot;type&quot;: &quot;Polygon&quot;}, &quot;id&quot;: &quot;83&quot;, &quot;properties&quot;: {&quot;__folium_color&quot;: &quot;black&quot;}, &quot;type&quot;: &quot;Feature&quot;}, {&quot;bbox&quot;: [-99.16740849943771, 19.236181694856437, -99.16264658817911, 19.240704690478633], &quot;geometry&quot;: {&quot;coordinates&quot;: [[[-99.16264658817911, 19.236185982808507], [-99.16265103812346, 19.240704690478633], [-99.16740849943771, 19.240700401442215], [-99.1674039193362, 19.236181694856437], [-99.16264658817911, 19.236185982808507]]], &quot;type&quot;: &quot;Polygon&quot;}, &quot;id&quot;: &quot;84&quot;, &quot;properties&quot;: {&quot;__folium_color&quot;: &quot;black&quot;}, &quot;type&quot;: &quot;Feature&quot;}, {&quot;bbox&quot;: [-99.13410624528369, 19.236209114675574, -99.12934523715244, 19.240731251729994], &quot;geometry&quot;: {&quot;coordinates&quot;: [[[-99.12934523715244, 19.236212537344684], [-99.12934877599237, 19.240731251729994], [-99.13410624528369, 19.240727828195354], [-99.13410257628556, 19.236209114675574], [-99.12934523715244, 19.236212537344684]]], &quot;type&quot;: &quot;Polygon&quot;}, &quot;id&quot;: &quot;85&quot;, &quot;properties&quot;: {&quot;__folium_color&quot;: &quot;black&quot;}, &quot;type&quot;: &quot;Feature&quot;}, {&quot;bbox&quot;: [-99.1008039406614, 19.236230477496598, -99.09604383745398, 19.240751754446006], &quot;geometry&quot;: {&quot;coordinates&quot;: [[[-99.09604383745398, 19.236233034877213], [-99.09604646518339, 19.240751754446006], [-99.1008039406614, 19.240749196418673], [-99.10080118277301, 19.236230477496598], [-99.09604383745398, 19.236233034877213]]], &quot;type&quot;: &quot;Polygon&quot;}, &quot;id&quot;: &quot;86&quot;, &quot;properties&quot;: {&quot;__folium_color&quot;: &quot;black&quot;}, &quot;type&quot;: &quot;Feature&quot;}, {&quot;bbox&quot;: [-99.06750159810343, 19.236245783284986, -99.06274240161476, 19.240766198593526], &quot;geometry&quot;: {&quot;coordinates&quot;: [[[-99.06274240161476, 19.23624747537298], [-99.06274411822913, 19.240766198593526], [-99.06750159810343, 19.240764506077635], [-99.06749975132955, 19.236245783284986], [-99.06274240161476, 19.23624747537298]]], &quot;type&quot;: &quot;Polygon&quot;}, &quot;id&quot;: &quot;87&quot;, &quot;properties&quot;: {&quot;__folium_color&quot;: &quot;black&quot;}, &quot;type&quot;: &quot;Feature&quot;}, {&quot;bbox&quot;: [-99.03419923014249, 19.23625503201602, -99.02944094216592, 19.240774584149232], &quot;geometry&quot;: {&quot;coordinates&quot;: [[[-99.02944094216592, 19.236255858808658], [-99.02944174766226, 19.240774584149232], [-99.03419923014249, 19.24077375714752], [-99.03419829448629, 19.23625503201602], [-99.02944094216592, 19.236255858808658]]], &quot;type&quot;: &quot;Polygon&quot;}, &quot;id&quot;: &quot;88&quot;, &quot;properties&quot;: {&quot;__folium_color&quot;: &quot;black&quot;}, &quot;type&quot;: &quot;Feature&quot;}, {&quot;bbox&quot;: [-99.00089684931127, 19.2362581851707, -98.99613936601553, 19.240776949613366], &quot;geometry&quot;: {&quot;coordinates&quot;: [[[-98.99613947163857, 19.2362581851707], [-98.99613936601553, 19.240776911099577], [-99.00089684931127, 19.240776949613366], [-99.00089682477439, 19.236258223674763], [-98.99613947163857, 19.2362581851707]]], &quot;type&quot;: &quot;Polygon&quot;}, &quot;id&quot;: &quot;89&quot;, &quot;properties&quot;: {&quot;__folium_color&quot;: &quot;black&quot;}, &quot;type&quot;: &quot;Feature&quot;}, {&quot;bbox&quot;: [-98.967595354725, 19.236254454455352, -98.96283698582167, 19.240774083470033], &quot;geometry&quot;: {&quot;coordinates&quot;: [[[-98.96283800256394, 19.236254454455352], [-98.96283698582167, 19.240773179440794], [-98.96759446814255, 19.240774083470033], [-98.967595354725, 19.236255358256038], [-98.96283800256394, 19.236254454455352]]], &quot;type&quot;: &quot;Polygon&quot;}, &quot;id&quot;: &quot;90&quot;, &quot;properties&quot;: {&quot;__folium_color&quot;: &quot;black&quot;}, &quot;type&quot;: &quot;Feature&quot;}, {&quot;bbox&quot;: [-99.36729066721136, 19.26752036494795, -99.36252244345998, 19.272048480758354], &quot;geometry&quot;: {&quot;coordinates&quot;: [[[-99.36252244345998, 19.267529861186336], [-99.3625323793075, 19.272048480758354], [-99.36729066721136, 19.272038982121895], [-99.36728060096158, 19.26752036494795], [-99.36252244345998, 19.267529861186336]]], &quot;type&quot;: &quot;Polygon&quot;}, &quot;id&quot;: &quot;91&quot;, &quot;properties&quot;: {&quot;__folium_color&quot;: &quot;black&quot;}, &quot;type&quot;: &quot;Feature&quot;}, {&quot;bbox&quot;: [-99.33398259465471, 19.26758423836829, -99.32921526499364, 19.272111503337435], &quot;geometry&quot;: {&quot;coordinates&quot;: [[[-99.32921526499364, 19.26759286785442], [-99.32922428801561, 19.272111503337435], [-99.33398259465471, 19.2721028716721], [-99.3339734412281, 19.26758423836829], [-99.32921526499364, 19.26759286785442]]], &quot;type&quot;: &quot;Polygon&quot;}, &quot;id&quot;: &quot;92&quot;, &quot;properties&quot;: {&quot;__folium_color&quot;: &quot;black&quot;}, &quot;type&quot;: &quot;Feature&quot;}, {&quot;bbox&quot;: [-99.30067439632681, 19.267642044480215, -99.29590796256342, 19.272168457061998], &quot;geometry&quot;: {&quot;coordinates&quot;: [[[-99.29590796256342, 19.267649807200154], [-99.29591607274426, 19.272168457061998], [-99.30067439632681, 19.272160692381746], [-99.3006661557392, 19.267642044480215], [-99.29590796256342, 19.267649807200154]]], &quot;type&quot;: &quot;Polygon&quot;}, &quot;id&quot;: &quot;93&quot;, &quot;properties&quot;: {&quot;__folium_color&quot;: &quot;black&quot;}, &quot;type&quot;: &quot;Feature&quot;}, {&quot;bbox&quot;: [-99.26736608477025, 19.26769378319033, -99.26260054871035, 19.27221934184001], &quot;geometry&quot;: {&quot;coordinates&quot;: [[[-99.26260054871035, 19.267700679131533], [-99.26260774603607, 19.27221934184001], [-99.26736608477025, 19.27221244415739], [-99.26735875703585, 19.26769378319033], [-99.26260054871035, 19.267700679131533]]], &quot;type&quot;: &quot;Polygon&quot;}, &quot;id&quot;: &quot;94&quot;, &quot;properties&quot;: {&quot;__folium_color&quot;: &quot;black&quot;}, &quot;type&quot;: &quot;Feature&quot;}, {&quot;bbox&quot;: [-99.23405767252783, 19.26773945441503, -99.22929303597574, 19.27226415758926], &quot;geometry&quot;: {&quot;coordinates&quot;: [[[-99.22929303597574, 19.267745483566344], [-99.22929932043387, 19.27226415758926], [-99.23405767252783, 19.272258126915403], [-99.23405125765933, 19.26773945441503], [-99.22929303597574, 19.267745483566344]]], &quot;type&quot;: &quot;Polygon&quot;}, &quot;id&quot;: &quot;95&quot;, &quot;properties&quot;: {&quot;__folium_color&quot;: &quot;black&quot;}, &quot;type&quot;: &quot;Feature&quot;}, {&quot;bbox&quot;: [-99.2007491721426, 19.267779058080514, -99.19598543690105, 19.272302904237307], &quot;geometry&quot;: {&quot;coordinates&quot;: [[[-99.19598543690105, 19.267784220432198], [-99.19599080848074, 19.272302904237307], [-99.2007491721426, 19.272297740581973], [-99.20074367015108, 19.267779058080514], [-99.19598543690105, 19.267784220432198]]], &quot;type&quot;: &quot;Polygon&quot;}, &quot;id&quot;: &quot;96&quot;, &quot;properties&quot;: {&quot;__folium_color&quot;: &quot;black&quot;}, &quot;type&quot;: &quot;Feature&quot;}, {&quot;bbox&quot;: [-99.16744059615777, 19.267812594122788, -99.16267776402798, 19.272335581721553], &quot;geometry&quot;: {&quot;coordinates&quot;: [[[-99.16267776402798, 19.267816889666502], [-99.16268222271994, 19.272335581721553], [-99.16744059615777, 19.27233128509308], [-99.16743600705277, 19.267812594122788], [-99.16267776402798, 19.267816889666502]]], &quot;type&quot;: &quot;Polygon&quot;}, &quot;id&quot;: &quot;97&quot;, &quot;properties&quot;: {&quot;__folium_color&quot;: &quot;black&quot;}, &quot;type&quot;: &quot;Feature&quot;}, {&quot;bbox&quot;: [-99.13413195711675, 19.26784006248765, -99.12937002989831, 19.272362189989185], &quot;geometry&quot;: {&quot;coordinates&quot;: [[[-99.12937002989831, 19.267843491216457], [-99.12937357569486, 19.272362189989185], [-99.13413195711675, 19.272358760394525], [-99.13412828090617, 19.26784006248765], [-99.12937002989831, 19.267843491216457]]], &quot;type&quot;: &quot;Polygon&quot;}, &quot;id&quot;: &quot;98&quot;, &quot;properties&quot;: {&quot;__folium_color&quot;: &quot;black&quot;}, &quot;type&quot;: &quot;Feature&quot;}, {&quot;bbox&quot;: [-99.10082326756304, 19.26786146313073, -99.09606224705404, 19.27238272899722], &quot;geometry&quot;: {&quot;coordinates&quot;: [[[-99.09606224705404, 19.267864025039096], [-99.09606487994901, 19.27238272899722], [-99.10082326756304, 19.272380166441895], [-99.10082050425325, 19.26786146313073], [-99.09606224705404, 19.267864025039096]]], &quot;type&quot;: &quot;Polygon&quot;}, &quot;id&quot;: &quot;99&quot;, &quot;properties&quot;: {&quot;__folium_color&quot;: &quot;black&quot;}, &quot;type&quot;: &quot;Feature&quot;}, {&quot;bbox&quot;: [-99.06751454004028, 19.267876796017443, -99.06275442803718, 19.272397198712447], &quot;geometry&quot;: {&quot;coordinates&quot;: [[[-99.06275442803718, 19.26787849110121], [-99.06275614802607, 19.272397198712447], [-99.06751454004028, 19.272395503200617], [-99.06751268963602, 19.267876796017443], [-99.06275442803718, 19.26787849110121]]], &quot;type&quot;: &quot;Polygon&quot;}, &quot;id&quot;: &quot;100&quot;, &quot;properties&quot;: {&quot;__folium_color&quot;: &quot;black&quot;}, &quot;type&quot;: &quot;Feature&quot;}, {&quot;bbox&quot;: [-99.03420578709216, 19.267886061123008, -99.02944658538992, 19.272405599111497], &quot;geometry&quot;: {&quot;coordinates&quot;: [[[-99.02944658538992, 19.26788688937945], [-99.02944739246972, 19.272405599111497], [-99.03420578709216, 19.2724047706459], [-99.03420484959665, 19.267886061123008], [-99.02944658538992, 19.26788688937945]]], &quot;type&quot;: &quot;Polygon&quot;}, &quot;id&quot;: &quot;101&quot;, &quot;properties&quot;: {&quot;__folium_color&quot;: &quot;black&quot;}, &quot;type&quot;: &quot;Feature&quot;}, {&quot;bbox&quot;: [-99.00089702126243, 19.26788921986023, -98.99613862582376, 19.272407968762764], &quot;geometry&quot;: {&quot;coordinates&quot;: [[[-98.99613873165444, 19.26788921986023], [-98.99613862582376, 19.272407930180798], [-99.00089702126243, 19.272407968762764], [-99.00089699667731, 19.267889258432458], [-98.99613873165444, 19.26788921986023]]], &quot;type&quot;: &quot;Polygon&quot;}, &quot;id&quot;: &quot;102&quot;, &quot;properties&quot;: {&quot;__folium_color&quot;: &quot;black&quot;}, &quot;type&quot;: &quot;Feature&quot;}, {&quot;bbox&quot;: [-98.96758914342018, 19.26788548253979, -98.96282986063194, 19.272405097546045], &quot;geometry&quot;: {&quot;coordinates&quot;: [[[-98.96283087937292, 19.26788548253979], [-98.96282986063194, 19.272404191916568], [-98.96758825509491, 19.272405097546045], [-98.96758914342018, 19.267886387940624], [-98.96283087937292, 19.26788548253979]]], &quot;type&quot;: &quot;Polygon&quot;}, &quot;id&quot;: &quot;103&quot;, &quot;properties&quot;: {&quot;__folium_color&quot;: &quot;black&quot;}, &quot;type&quot;: &quot;Feature&quot;}, {&quot;bbox&quot;: [-99.36736121001613, 19.29915063818456, -99.36259205291417, 19.303678755120576], &quot;geometry&quot;: {&quot;coordinates&quot;: [[[-99.36259205291417, 19.299160151212124], [-99.36260200827216, 19.303678755120576], [-99.36736121001613, 19.30366923969405], [-99.36735112399978, 19.29915063818456], [-99.36259205291417, 19.299160151212124]]], &quot;type&quot;: &quot;Polygon&quot;}, &quot;id&quot;: &quot;104&quot;, &quot;properties&quot;: {&quot;__folium_color&quot;: &quot;black&quot;}, &quot;type&quot;: &quot;Feature&quot;}, {&quot;bbox&quot;: [-99.33404674052842, 19.29921462453195, -99.3292784792927, 19.303741889100216], &quot;geometry&quot;: {&quot;coordinates&quot;: [[[-99.3292784792927, 19.29922326927487], [-99.32928752003272, 19.303741889100216], [-99.33404674052842, 19.303733242177294], [-99.33403756912769, 19.29921462453195], [-99.3292784792927, 19.29922326927487]]], &quot;type&quot;: &quot;Polygon&quot;}, &quot;id&quot;: &quot;105&quot;, &quot;properties&quot;: {&quot;__folium_color&quot;: &quot;black&quot;}, &quot;type&quot;: &quot;Feature&quot;}, {&quot;bbox&quot;: [-99.30073214515858, 19.29927253284411, -99.29596478159807, 19.303798943497927], &quot;geometry&quot;: {&quot;coordinates&quot;: [[[-99.29596478159807, 19.299280309288413], [-99.2959729077045, 19.303798943497927], [-99.30073214515858, 19.303791165092587], [-99.30072388838931, 19.29927253284411], [-99.29596478159807, 19.299280309288413]]], &quot;type&quot;: &quot;Polygon&quot;}, &quot;id&quot;: &quot;106&quot;, &quot;properties&quot;: {&quot;__folium_color&quot;: &quot;black&quot;}, &quot;type&quot;: &quot;Feature&quot;}, {&quot;bbox&quot;: [-99.26741743646024, 19.299324363027452, -99.26265097238242, 19.303849918221488], &quot;geometry&quot;: {&quot;coordinates&quot;: [[[-99.26265097238242, 19.299331271160575], [-99.26265818384117, 19.303849918221488], [-99.26741743646024, 19.303843008346306], [-99.26741009433673, 19.299324363027452], [-99.26265097238242, 19.299331271160575]]], &quot;type&quot;: &quot;Polygon&quot;}, &quot;id&quot;: &quot;107&quot;, &quot;properties&quot;: {&quot;__folium_color&quot;: &quot;black&quot;}, &quot;type&quot;: &quot;Feature&quot;}, {&quot;bbox&quot;: [-99.23410262698728, 19.299370114998208, -99.22933706419802, 19.30389481318852], &quot;geometry&quot;: {&quot;coordinates&quot;: [[[-99.22933706419802, 19.299376154808975], [-99.22934336099667, 19.30389481318852], [-99.23410262698728, 19.303888771854652], [-99.2340961995222, 19.299370114998208], [-99.22933706419802, 19.299376154808975]]], &quot;type&quot;: &quot;Polygon&quot;}, &quot;id&quot;: &quot;108&quot;, &quot;properties&quot;: {&quot;__folium_color&quot;: &quot;black&quot;}, &quot;type&quot;: &quot;Feature&quot;}, {&quot;bbox&quot;: [-99.20078772929381, 19.299409788682418, -99.19602306959744, 19.303933628326448], &quot;geometry&quot;: {&quot;coordinates&quot;: [[[-99.19602306959744, 19.299414960161084], [-99.19602845172508, 19.303933628326448], [-99.20078772929381, 19.30392845554367], [-99.20078221649827, 19.299409788682418], [-99.19602306959744, 19.299414960161084]]], &quot;type&quot;: &quot;Polygon&quot;}, &quot;id&quot;: &quot;109&quot;, &quot;properties&quot;: {&quot;__folium_color&quot;: &quot;black&quot;}, &quot;type&quot;: &quot;Feature&quot;}, {&quot;bbox&quot;: [-99.16747275593407, 19.299443384015976, -99.16270900113342, 19.30396636357254], &quot;geometry&quot;: {&quot;coordinates&quot;: [[[-99.16270900113342, 19.29944768715416], [-99.16271346858075, 19.30396636357254], [-99.16747275593407, 19.3039620593492], [-99.16746815781762, 19.299443384015976], [-99.16270900113342, 19.29944768715416]]], &quot;type&quot;: &quot;Polygon&quot;}, &quot;id&quot;: &quot;110&quot;, &quot;properties&quot;: {&quot;__folium_color&quot;: &quot;black&quot;}, &quot;type&quot;: &quot;Feature&quot;}, {&quot;bbox&quot;: [-99.13415771946254, 19.299470900944574, -99.12939487135881, 19.303993018873882], &quot;geometry&quot;: {&quot;coordinates&quot;: [[[-99.12939487135881, 19.29947433573533], [-99.12939842411811, 19.303993018873882], [-99.13415771946254, 19.303989583216943], [-99.13415403603314, 19.299470900944574], [-99.12939487135881, 19.29947433573533]]], &quot;type&quot;: &quot;Polygon&quot;}, &quot;id&quot;: &quot;111&quot;, &quot;properties&quot;: {&quot;__folium_color&quot;: &quot;black&quot;}, &quot;type&quot;: &quot;Feature&quot;}, {&quot;bbox&quot;: [-99.10084263243378, 19.299492339423733, -99.09608069282665, 19.304013594187392], &quot;geometry&quot;: {&quot;coordinates&quot;: [[[-99.09608069282665, 19.29949490586152], [-99.09608333089176, 19.304013594187392], [-99.10084263243378, 19.304011027102405], [-99.10083986369779, 19.299492339423733], [-99.09608069282665, 19.29949490586152]]], &quot;type&quot;: &quot;Polygon&quot;}, &quot;id&quot;: &quot;112&quot;, &quot;properties&quot;: {&quot;__folium_color&quot;: &quot;black&quot;}, &quot;type&quot;: &quot;Feature&quot;}, {&quot;bbox&quot;: [-99.06752750740249, 19.299507699418818, -99.06276647809005, 19.30402808947981], &quot;geometry&quot;: {&quot;coordinates&quot;: [[[-99.06276647809005, 19.299509397499474], [-99.0627682014564, 19.30402808947981], [-99.06752750740249, 19.30402639097093], [-99.06752565336467, 19.299507699418818], [-99.06276647809005, 19.299509397499474]]], &quot;type&quot;: &quot;Polygon&quot;}, &quot;id&quot;: &quot;113&quot;, &quot;properties&quot;: {&quot;__folium_color&quot;: &quot;black&quot;}, &quot;type&quot;: &quot;Feature&quot;}, {&quot;bbox&quot;: [-99.03421235692342, 19.29951698090498, -99.0294522397022, 19.30403650472771], &quot;geometry&quot;: {&quot;coordinates&quot;: [[[-99.0294522397022, 19.299517810625773], [-99.02945304836682, 19.30403650472771], [-99.03421235692342, 19.304035674797678], [-99.034211417587, 19.29951698090498], [-99.0294522397022, 19.299517810625773]]], &quot;type&quot;: &quot;Polygon&quot;}, &quot;id&quot;: &quot;114&quot;, &quot;properties&quot;: {&quot;__folium_color&quot;: &quot;black&quot;}, &quot;type&quot;: &quot;Feature&quot;}, {&quot;bbox&quot;: [-99.00089719355141, 19.29952014522682, -98.99613788417783, 19.304038878567653], &quot;geometry&quot;: {&quot;coordinates&quot;: [[[-98.99613799021633, 19.29952014522682], [-98.99613788417783, 19.30403883991749], [-99.00089719355141, 19.304038878567653], [-99.000897168918, 19.29952018386724], [-98.99613799021633, 19.29952014522682]]], &quot;type&quot;: &quot;Polygon&quot;}, &quot;id&quot;: &quot;115&quot;, &quot;properties&quot;: {&quot;__folium_color&quot;: &quot;black&quot;}, &quot;type&quot;: &quot;Feature&quot;}, {&quot;bbox&quot;: [-98.96758291991092, 19.29951640129884, -98.96282272144428, 19.30403600227567], &quot;geometry&quot;: {&quot;coordinates&quot;: [[[-98.96282374218572, 19.29951640129884], [-98.96282272144428, 19.304035095045375], [-98.96758202984127, 19.30403600227567], [-98.96758291991092, 19.29951730830041], [-98.96282374218572, 19.29951640129884]]], &quot;type&quot;: &quot;Polygon&quot;}, &quot;id&quot;: &quot;116&quot;, &quot;properties&quot;: {&quot;__folium_color&quot;: &quot;black&quot;}, &quot;type&quot;: &quot;Feature&quot;}, {&quot;bbox&quot;: [-99.36743189125643, 19.33078080170505, -99.36266179899337, 19.33530891975127], &quot;geometry&quot;: {&quot;coordinates&quot;: [[[-99.36266179899337, 19.33079033152802], [-99.36267177387906, 19.33530891975127], [-99.36743189125643, 19.335299387528444], [-99.3674217854561, 19.33078080170505], [-99.36266179899337, 19.33079033152802]]], &quot;type&quot;: &quot;Polygon&quot;}, &quot;id&quot;: &quot;117&quot;, &quot;properties&quot;: {&quot;__folium_color&quot;: &quot;black&quot;}, &quot;type&quot;: &quot;Feature&quot;}, {&quot;bbox&quot;: [-99.33411101228431, 19.330844901021422, -99.32934181766494, 19.335372165172853], &quot;geometry&quot;: {&quot;coordinates&quot;: [[[-99.32934181766494, 19.330853561026792], [-99.32935087613863, 19.335372165172853], [-99.33411101228431, 19.335363502986677], [-99.33410182289362, 19.330844901021422], [-99.32934181766494, 19.330853561026792]]], &quot;type&quot;: &quot;Polygon&quot;}, &quot;id&quot;: &quot;118&quot;, &quot;properties&quot;: {&quot;__folium_color&quot;: &quot;black&quot;}, &quot;type&quot;: &quot;Feature&quot;}, {&quot;bbox&quot;: [-99.3007900073189, 19.330902911571773, -99.29602171215383, 19.335429320281108], &quot;geometry&quot;: {&quot;coordinates&quot;: [[[-99.29602171215383, 19.330910701745534], [-99.29602985419987, 19.335429320281108], [-99.3007900073189, 19.33542152814558], [-99.30078173435372, 19.330902911571773], [-99.29602171215383, 19.330910701745534]]], &quot;type&quot;: &quot;Polygon&quot;}, &quot;id&quot;: &quot;119&quot;, &quot;properties&quot;: {&quot;__folium_color&quot;: &quot;black&quot;}, &quot;type&quot;: &quot;Feature&quot;}, {&quot;bbox&quot;: [-99.26746888892491, 19.33095483326231, -99.26270149502321, 19.33548038498364], &quot;geometry&quot;: {&quot;coordinates&quot;: [[[-99.26270149502321, 19.330961753591875], [-99.2627087206275, 19.33548038498364], [-99.26746888892491, 19.335473462911352], [-99.26746153239955, 19.33095483326231], [-99.26270149502321, 19.330961753591875]]], &quot;type&quot;: &quot;Polygon&quot;}, &quot;id&quot;: &quot;120&quot;, &quot;properties&quot;: {&quot;__folium_color&quot;: &quot;black&quot;}, &quot;type&quot;: &quot;Feature&quot;}, {&quot;bbox&quot;: [-99.23414766966731, 19.331000666009103, -99.2293811788365, 19.335525359197884], &quot;geometry&quot;: {&quot;coordinates&quot;: [[[-99.2293811788365, 19.331006716483287], [-99.22938748798654, 19.335525359197884], [-99.23414766966731, 19.335519307200034], [-99.23414122959453, 19.331000666009103], [-99.2293811788365, 19.331006716483287]]], &quot;type&quot;: &quot;Polygon&quot;}, &quot;id&quot;: &quot;121&quot;, &quot;properties&quot;: {&quot;__folium_color&quot;: &quot;black&quot;}, &quot;type&quot;: &quot;Feature&quot;}, {&quot;bbox&quot;: [-99.20082636211127, 19.331040409738062, -99.19606077615731, 19.335564242851135], &quot;geometry&quot;: {&quot;coordinates&quot;: [[[-99.19606077615731, 19.331045590347074], [-99.1960661688422, 19.335564242851135], [-99.20082636211127, 19.335559060937506], [-99.2008208385022, 19.331040409738062], [-99.19606077615731, 19.331045590347074]]], &quot;type&quot;: &quot;Polygon&quot;}, &quot;id&quot;: &quot;122&quot;, &quot;properties&quot;: {&quot;__folium_color&quot;: &quot;black&quot;}, &quot;type&quot;: &quot;Feature&quot;}, {&quot;bbox&quot;: [-99.1675049788222, 19.33107406438492, -99.16274029954945, 19.33559703588053], &quot;geometry&quot;: {&quot;coordinates&quot;: [[[-99.16274029954945, 19.33107837512039], [-99.16274477575986, 19.33559703588053], [-99.1675049788222, 19.3355927240595], [-99.16750037168636, 19.33107406438492], [-99.16274029954945, 19.33107837512039]]], &quot;type&quot;: &quot;Polygon&quot;}, &quot;id&quot;: &quot;123&quot;, &quot;properties&quot;: {&quot;__folium_color&quot;: &quot;black&quot;}, &quot;type&quot;: &quot;Feature&quot;}, {&quot;bbox&quot;: [-99.13418353236557, 19.331101629895283, -99.12941976157691, 19.33562373823305], &quot;geometry&quot;: {&quot;coordinates&quot;: [[[-99.12941976157691, 19.331105070750244], [-99.12942332130507, 19.33562373823305], [-99.13418353236557, 19.33562029651159], [-99.13417984171096, 19.331101629895283], [-99.12941976157691, 19.331105070750244]]], &quot;type&quot;: &quot;Polygon&quot;}, &quot;id&quot;: &quot;124&quot;, &quot;properties&quot;: {&quot;__folium_color&quot;: &quot;black&quot;}, &quot;type&quot;: &quot;Feature&quot;}, {&quot;bbox&quot;: [-99.10086203530707, 19.331123106224577, -99.09609917480374, 19.33564434986552], &quot;geometry&quot;: {&quot;coordinates&quot;: [[[-99.09609917480374, 19.33112567719347], [-99.09610181804351, 19.33564434986552], [-99.10086203530707, 19.335641778249194], [-99.10085926114009, 19.331123106224577], [-99.09609917480374, 19.33112567719347]]], &quot;type&quot;: &quot;Polygon&quot;}, &quot;id&quot;: &quot;125&quot;, &quot;properties&quot;: {&quot;__folium_color&quot;: &quot;black&quot;}, &quot;type&quot;: &quot;Feature&quot;}, {&quot;bbox&quot;: [-99.06754050021249, 19.331138493338095, -99.06277855179417, 19.335658870744634], &quot;geometry&quot;: {&quot;coordinates&quot;: [[[-99.06277855179417, 19.331140194416754], [-99.06278027854098, 19.335658870744634], [-99.06754050021249, 19.335657169237596], [-99.0675386425379, 19.331138493338095], [-99.06277855179417, 19.331140194416754]]], &quot;type&quot;: &quot;Polygon&quot;}, &quot;id&quot;: &quot;126&quot;, &quot;properties&quot;: {&quot;__folium_color&quot;: &quot;black&quot;}, &quot;type&quot;: &quot;Feature&quot;}, {&quot;bbox&quot;: [-99.03421893964766, 19.331147791210952, -99.02945790511247, 19.335667300846897], &quot;geometry&quot;: {&quot;coordinates&quot;: [[[-99.02945790511247, 19.33114862239663], [-99.02945871536332, 19.335667300846897], [-99.03421893964766, 19.3356664694519], [-99.03421799846869, 19.331147791210952], [-99.02945790511247, 19.33114862239663]]], &quot;type&quot;: &quot;Polygon&quot;}, &quot;id&quot;: &quot;127&quot;, &quot;properties&quot;: {&quot;__folium_color&quot;: &quot;black&quot;}, &quot;type&quot;: &quot;Feature&quot;}, {&quot;bbox&quot;: [-99.00089736617848, 19.33115096111947, -98.99613714107646, 19.335669678877082], &quot;geometry&quot;: {&quot;coordinates&quot;: [[[-98.99613724732295, 19.33115096111947], [-98.99613714107646, 19.335669640158688], [-99.00089736617848, 19.335669678877082], [-99.00089734149675, 19.331150999828115], [-98.99613724732295, 19.33115096111947]]], &quot;type&quot;: &quot;Polygon&quot;}, &quot;id&quot;: &quot;128&quot;, &quot;properties&quot;: {&quot;__folium_color&quot;: &quot;black&quot;}, &quot;type&quot;: &quot;Feature&quot;}, {&quot;bbox&quot;: [-98.96757668418647, 19.331147210581495, -98.96281556824633, 19.33566679750794], &quot;geometry&quot;: {&quot;coordinates&quot;: [[[-98.96281659098999, 19.331147210581495], [-98.96281556824633, 19.335665888676225], [-98.9675757923709, 19.33566679750794], [-98.96757668418647, 19.331148119184395], [-98.96281659098999, 19.331147210581495]]], &quot;type&quot;: &quot;Polygon&quot;}, &quot;id&quot;: &quot;129&quot;, &quot;properties&quot;: {&quot;__folium_color&quot;: &quot;black&quot;}, &quot;type&quot;: &quot;Feature&quot;}, {&quot;bbox&quot;: [-99.36750271105454, 19.362410855358043, -99.36273168181822, 19.366938974499096], &quot;geometry&quot;: {&quot;coordinates&quot;: [[[-99.36273168181822, 19.362420401982668], [-99.36274167624886, 19.366938974499096], [-99.36750271105454, 19.366929425473725], [-99.36749258545275, 19.362410855358043], [-99.36273168181822, 19.362420401982668]]], &quot;type&quot;: &quot;Polygon&quot;}, &quot;id&quot;: &quot;130&quot;, &quot;properties&quot;: {&quot;__folium_color&quot;: &quot;black&quot;}, &quot;type&quot;: &quot;Feature&quot;}, {&quot;bbox&quot;: [-99.33417541003354, 19.362475067685434, -99.32940528021992, 19.3670023314041], &quot;geometry&quot;: {&quot;coordinates&quot;: [[[-99.32940528021992, 19.36248374295892], [-99.32941435644295, 19.3670023314041], [-99.33417541003354, 19.36699365394899], [-99.33416620263698, 19.362475067685434], [-99.32940528021992, 19.36248374295892]]], &quot;type&quot;: &quot;Polygon&quot;}, &quot;id&quot;: &quot;131&quot;, &quot;properties&quot;: {&quot;__folium_color&quot;: &quot;black&quot;}, &quot;type&quot;: &quot;Feature&quot;}, {&quot;bbox&quot;: [-99.30084798290781, 19.362533180512, -99.29607875432913, 19.367059587260385], &quot;geometry&quot;: {&quot;coordinates&quot;: [[[-99.29607875432913, 19.36254098442033], [-99.29608691232887, 19.367059587260385], [-99.30084798290781, 19.367051781389563], [-99.30083969373241, 19.362533180512], [-99.29607875432913, 19.36254098442033]]], &quot;type&quot;: &quot;Polygon&quot;}, &quot;id&quot;: &quot;132&quot;, &quot;properties&quot;: {&quot;__folium_color&quot;: &quot;black&quot;}, &quot;type&quot;: &quot;Feature&quot;}, {&quot;bbox&quot;: [-99.2675204422532, 19.36258519374379, -99.26275211672016, 19.36711074197537], &quot;geometry&quot;: {&quot;coordinates&quot;: [[[-99.26275211672016, 19.362592126274336], [-99.26275935648246, 19.36711074197537], [-99.2675204422532, 19.367103807701447], [-99.26751307131332, 19.36258519374379], [-99.26275211672016, 19.362592126274336]]], &quot;type&quot;: &quot;Polygon&quot;}, &quot;id&quot;: &quot;133&quot;, &quot;properties&quot;: {&quot;__folium_color&quot;: &quot;black&quot;}, &quot;type&quot;: &quot;Feature&quot;}, {&quot;bbox&quot;: [-99.23419280064579, 19.36263110729668, -99.2294253799675, 19.367155795466317], &quot;geometry&quot;: {&quot;coordinates&quot;: [[[-99.2294253799675, 19.36263716843824], [-99.22943170147984, 19.367155795466317], [-99.23419280064579, 19.36714973280052], [-99.23418634795415, 19.36263110729668], [-99.2294253799675, 19.36263716843824]]], &quot;type&quot;: &quot;Polygon&quot;}, &quot;id&quot;: &quot;134&quot;, &quot;properties&quot;: {&quot;__folium_color&quot;: &quot;black&quot;}, &quot;type&quot;: &quot;Feature&quot;}, {&quot;bbox&quot;: [-99.20086507066185, 19.362670921096427, -99.19609855664588, 19.367194747660392], &quot;geometry&quot;: {&quot;coordinates&quot;: [[[-99.19609855664588, 19.362676110839203], [-99.19610395989733, 19.367194747660392], [-99.20086507066185, 19.36718955661252], [-99.20085953622964, 19.362670921096427], [-99.19609855664588, 19.362676110839203]]], &quot;type&quot;: &quot;Polygon&quot;}, &quot;id&quot;: &quot;135&quot;, &quot;properties&quot;: {&quot;__folium_color&quot;: &quot;black&quot;}, &quot;type&quot;: &quot;Feature&quot;}, {&quot;bbox&quot;: [-99.16753726487786, 19.362704635078664, -99.16277165933022, 19.36722759849459], &quot;geometry&quot;: {&quot;coordinates&quot;: [[[-99.16277165933022, 19.362708953414252], [-99.16277614431144, 19.36722759849459], [-99.16753726487786, 19.36722327907304], [-99.16753264871467, 19.362704635078664], [-99.16277165933022, 19.362708953414252]]], &quot;type&quot;: &quot;Polygon&quot;}, &quot;id&quot;: &quot;136&quot;, &quot;properties&quot;: {&quot;__folium_color&quot;: &quot;black&quot;}, &quot;type&quot;: &quot;Feature&quot;}, {&quot;bbox&quot;: [-99.13420939587049, 19.36273224918887, -99.12944470059563, 19.3672543479158], &quot;geometry&quot;: {&quot;coordinates&quot;: [[[-99.12944470059563, 19.362735696110292], [-99.12944826729881, 19.3672543479158], [-99.13420939587049, 19.36725090012756], [-99.13420569798429, 19.36273224918887], [-99.12944470059563, 19.362735696110292]]], &quot;type&quot;: &quot;Polygon&quot;}, &quot;id&quot;: &quot;137&quot;, &quot;properties&quot;: {&quot;__folium_color&quot;: &quot;black&quot;}, &quot;type&quot;: &quot;Feature&quot;}, {&quot;bbox&quot;: [-99.10088147621649, 19.362753763382383, -99.09611769301725, 19.367274995880756], &quot;geometry&quot;: {&quot;coordinates&quot;: [[[-99.09611769301725, 19.36275633888407], [-99.09612034143626, 19.367274995880756], [-99.10088147621649, 19.3672724197314], [-99.10087869661369, 19.362753763382383], [-99.09611769301725, 19.36275633888407]]], &quot;type&quot;: &quot;Polygon&quot;}, &quot;id&quot;: &quot;138&quot;, &quot;properties&quot;: {&quot;__folium_color&quot;: &quot;black&quot;}, &quot;type&quot;: &quot;Feature&quot;}, {&quot;bbox&quot;: [-99.06755351849274, 19.362769177624426, -99.06279064917044, 19.36728954235608], &quot;geometry&quot;: {&quot;coordinates&quot;: [[[-99.06279064917044, 19.3627708817022], [-99.06279237930067, 19.36728954235608], [-99.06755351849274, 19.367287837849773], [-99.06755165717816, 19.362769177624426], [-99.06279064917044, 19.3627708817022]]], &quot;type&quot;: &quot;Polygon&quot;}, &quot;id&quot;: &quot;139&quot;, &quot;properties&quot;: {&quot;__folium_color&quot;: &quot;black&quot;}, &quot;type&quot;: &quot;Feature&quot;}, {&quot;bbox&quot;: [-99.03422553527622, 19.362778491890065, -99.02946358163055, 19.36729798731824], &quot;geometry&quot;: {&quot;coordinates&quot;: [[[-99.02946358163055, 19.36277932454118], [-99.02946439346903, 19.36729798731824], [-99.03422553527622, 19.367297154457727], [-99.03422459225308, 19.362778491890065], [-99.02946358163055, 19.36277932454118]]], &quot;type&quot;: &quot;Polygon&quot;}, &quot;id&quot;: &quot;140&quot;, &quot;properties&quot;: {&quot;__folium_color&quot;: &quot;black&quot;}, &quot;type&quot;: &quot;Feature&quot;}, {&quot;bbox&quot;: [-99.00089753914396, 19.36278166738735, -98.99613639651835, 19.367300369540217], &quot;geometry&quot;: {&quot;coordinates&quot;: [[[-98.99613650297303, 19.36278166738735], [-98.99613639651835, 19.367300330753576], [-99.00089753914396, 19.367300369540217], [-99.00089751441388, 19.362781706164238], [-98.99613650297303, 19.36278166738735]]], &quot;type&quot;: &quot;Polygon&quot;}, &quot;id&quot;: &quot;141&quot;, &quot;properties&quot;: {&quot;__folium_color&quot;: &quot;black&quot;}, &quot;type&quot;: &quot;Feature&quot;}, {&quot;bbox&quot;: [-98.96757043623602, 19.362777910236915, -98.9628084010257, 19.367297483092038], &quot;geometry&quot;: {&quot;coordinates&quot;: [[[-98.96280942577336, 19.362777910236915], [-98.9628084010257, 19.367296572658308], [-98.96756954267299, 19.367297483092038], [-98.96757043623602, 19.36277882044175], [-98.96280942577336, 19.362777910236915]]], &quot;type&quot;: &quot;Polygon&quot;}, &quot;id&quot;: &quot;142&quot;, &quot;properties&quot;: {&quot;__folium_color&quot;: &quot;black&quot;}, &quot;type&quot;: &quot;Feature&quot;}, {&quot;bbox&quot;: [-99.36757366953297, 19.394040798992293, -99.3628017015096, 19.39856891921286], &quot;geometry&quot;: {&quot;coordinates&quot;: [[[-99.3628017015096, 19.394050362424828], [-99.3628117155025, 19.39856891921286], [-99.36757366953297, 19.398559353378676], [-99.3675635241122, 19.394040798992293], [-99.3628017015096, 19.394050362424828]]], &quot;type&quot;: &quot;Polygon&quot;}, &quot;id&quot;: &quot;143&quot;, &quot;properties&quot;: {&quot;__folium_color&quot;: &quot;black&quot;}, &quot;type&quot;: &quot;Feature&quot;}, {&quot;bbox&quot;: [-99.33423993388753, 19.394105124372818, -99.32946886706742, 19.398632387642845], &quot;geometry&quot;: {&quot;coordinates&quot;: [[[-99.32946886706742, 19.394113814920125], [-99.32947796105552, 19.398632387642845], [-99.33423993388753, 19.398623694913102], [-99.33423070846918, 19.394105124372818], [-99.32946886706742, 19.394113814920125]]], &quot;type&quot;: &quot;Polygon&quot;}, &quot;id&quot;: &quot;144&quot;, &quot;properties&quot;: {&quot;__folium_color&quot;: &quot;black&quot;}, &quot;type&quot;: &quot;Feature&quot;}, {&quot;bbox&quot;: [-99.30090607202567, 19.394163339513735, -99.29613590822268, 19.39868974428472], &quot;geometry&quot;: {&quot;coordinates&quot;: [[[-99.29613590822268, 19.394171157161757], [-99.29614408219024, 19.39868974428472], [-99.30090607202567, 19.398681924673472], [-99.3008977666257, 19.394163339513735], [-99.29613590822268, 19.394171157161757]]], &quot;type&quot;: &quot;Polygon&quot;}, &quot;id&quot;: &quot;145&quot;, &quot;properties&quot;: {&quot;__folium_color&quot;: &quot;black&quot;}, &quot;type&quot;: &quot;Feature&quot;}, {&quot;bbox&quot;: [-99.26757209653437, 19.394215444320885, -99.26280283756081, 19.398740989045706], &quot;geometry&quot;: {&quot;coordinates&quot;: [[[-99.26280283756081, 19.39422238905697], [-99.26281009149366, 19.398740989045706], [-99.26757209653437, 19.3987340425656], [-99.26756471116717, 19.394215444320885], [-99.26280283756081, 19.39422238905697]]], &quot;type&quot;: &quot;Polygon&quot;}, &quot;id&quot;: &quot;146&quot;, &quot;properties&quot;: {&quot;__folium_color&quot;: &quot;black&quot;}, &quot;type&quot;: &quot;Feature&quot;}, {&quot;bbox&quot;: [-99.23423802000082, 19.394261438709993, -99.22946966766747, 19.39878612184292], &quot;geometry&quot;: {&quot;coordinates&quot;: [[[-99.22946966766747, 19.394267510522905], [-99.22947600155307, 19.39878612184292], [-99.23423802000082, 19.3987800485052], [-99.23423155467918, 19.394261438709993], [-99.22946966766747, 19.394267510522905]]], &quot;type&quot;: &quot;Polygon&quot;}, &quot;id&quot;: &quot;147&quot;, &quot;properties&quot;: {&quot;__folium_color&quot;: &quot;black&quot;}, &quot;type&quot;: &quot;Feature&quot;}, {&quot;bbox&quot;: [-99.20090385501248, 19.394301322606662, -99.19613641112849, 19.398825142603368], &quot;geometry&quot;: {&quot;coordinates&quot;: [[[-99.19613641112849, 19.39430652148659], [-99.19614182495589, 19.398825142603368], [-99.20090385501248, 19.398819942417852], [-99.20089830974759, 19.394301322606662], [-99.19613641112849, 19.39430652148659]]], &quot;type&quot;: &quot;Polygon&quot;}, &quot;id&quot;: &quot;148&quot;, &quot;properties&quot;: {&quot;__folium_color&quot;: &quot;black&quot;}, &quot;type&quot;: &quot;Feature&quot;}, {&quot;bbox&quot;: [-99.16756961415696, 19.39433509594639, -99.16280308052998, 19.39885805126393], &quot;geometry&quot;: {&quot;coordinates&quot;: [[[-99.16280308052998, 19.394339421884922], [-99.16280757428976, 19.39885805126393], [-99.16756961415696, 19.39885372423903], [-99.16756498895843, 19.39433509594639], [-99.16280308052998, 19.394339421884922]]], &quot;type&quot;: &quot;Polygon&quot;}, &quot;id&quot;: &quot;149&quot;, &quot;properties&quot;: {&quot;__folium_color&quot;: &quot;black&quot;}, &quot;type&quot;: &quot;Feature&quot;}, {&quot;bbox&quot;: [-99.13423531002205, 19.394362758674543, -99.1294696884581, 19.398884847771374], &quot;geometry&quot;: {&quot;coordinates&quot;: [[[-99.1294696884581, 19.394366211664693], [-99.12947326214253, 19.398884847771374], [-99.13423531002205, 19.39888139391409], [-99.13423160489786, 19.394362758674543], [-99.1294696884581, 19.394366211664693]]], &quot;type&quot;: &quot;Polygon&quot;}, &quot;id&quot;: &quot;150&quot;, &quot;properties&quot;: {&quot;__folium_color&quot;: &quot;black&quot;}, &quot;type&quot;: &quot;Feature&quot;}, {&quot;bbox&quot;: [-99.10090095519564, 19.394384310746393, -99.09613624749922, 19.398905532082367], &quot;geometry&quot;: {&quot;coordinates&quot;: [[[-99.09613624749922, 19.394386890782556], [-99.09613890110205, 19.398905532082367], [-99.10090095519564, 19.39890295139828], [-99.10089817015225, 19.394384310746393], [-99.09613624749922, 19.394386890782556]]], &quot;type&quot;: &quot;Polygon&quot;}, &quot;id&quot;: &quot;151&quot;, &quot;properties&quot;: {&quot;__folium_color&quot;: &quot;black&quot;}, &quot;type&quot;: &quot;Feature&quot;}, {&quot;bbox&quot;: [-99.06756656226577, 19.394399752127068, -99.06280277023977, 19.39892010416344], &quot;geometry&quot;: {&quot;coordinates&quot;: [[[-99.06280277023977, 19.39440145920508], [-99.06280450375644, 19.39892010416344], [-99.06756656226577, 19.39891839665673], [-99.06756469730799, 19.394399752127068], [-99.06280277023977, 19.39440145920508]]], &quot;type&quot;: &quot;Polygon&quot;}, &quot;id&quot;: &quot;152&quot;, &quot;properties&quot;: {&quot;__folium_color&quot;: &quot;black&quot;}, &quot;type&quot;: &quot;Feature&quot;}, {&quot;bbox&quot;: [-99.03423214382056, 19.3944090827916, -99.02946926926627, 19.398928563991035], &quot;geometry&quot;: {&quot;coordinates&quot;: [[[-99.02946926926627, 19.394409916908703], [-99.02947008269379, 19.398928563991035], [-99.03423214382056, 19.39892772966446], [-99.0342311989516, 19.3944090827916], [-99.02946926926627, 19.394409916908703]]], &quot;type&quot;: &quot;Polygon&quot;}, &quot;id&quot;: &quot;153&quot;, &quot;properties&quot;: {&quot;__folium_color&quot;: &quot;black&quot;}, &quot;type&quot;: &quot;Feature&quot;}, {&quot;bbox&quot;: [-99.00089771244815, 19.394412263879737, -98.99613565050224, 19.398930950406378], &quot;geometry&quot;: {&quot;coordinates&quot;: [[[-98.99613575716529, 19.394412263879737], [-98.99613565050224, 19.39893091155146], [-99.00089771244815, 19.398930950406378], [-99.00089768766966, 19.394412302724895], [-98.99613575716529, 19.394412263879737]]], &quot;type&quot;: &quot;Polygon&quot;}, &quot;id&quot;: &quot;154&quot;, &quot;properties&quot;: {&quot;__folium_color&quot;: &quot;black&quot;}, &quot;type&quot;: &quot;Feature&quot;}, {&quot;bbox&quot;: [-98.96756417604875, 19.394408500114388, -98.96280121977, 19.39892805887726], &quot;geometry&quot;: {&quot;coordinates&quot;: [[[-98.96280224652344, 19.394408500114388], [-98.96280121977, 19.39892714684092], [-98.96756328073673, 19.39892805887726], [-98.96756417604875, 19.394409411921743], [-98.96280224652344, 19.394408500114388]]], &quot;type&quot;: &quot;Polygon&quot;}, &quot;id&quot;: &quot;155&quot;, &quot;properties&quot;: {&quot;__folium_color&quot;: &quot;black&quot;}, &quot;type&quot;: &quot;Feature&quot;}, {&quot;bbox&quot;: [-99.36764476681459, 19.425670632456697, -99.36287185818874, 19.430198753741493], &quot;geometry&quot;: {&quot;coordinates&quot;: [[[-99.36287185818874, 19.425680212703437], [-99.36288189176123, 19.430198753741493], [-99.36764476681459, 19.430189171092216], [-99.36763460155727, 19.425670632456697], [-99.36287185818874, 19.425680212703437]]], &quot;type&quot;: &quot;Polygon&quot;}, &quot;id&quot;: &quot;156&quot;, &quot;properties&quot;: {&quot;__folium_color&quot;: &quot;black&quot;}, &quot;type&quot;: &quot;Feature&quot;}, {&quot;bbox&quot;: [-99.334304583958, 19.425735070932582, -99.32953257831751, 19.430262333738114], &quot;geometry&quot;: {&quot;coordinates&quot;: [[[-99.32953257831751, 19.42574377675941], [-99.32954169008642, 19.430262333738114], [-99.334304583958, 19.430253625728028], [-99.33429534050187, 19.425735070932582], [-99.32953257831751, 19.42574377675941]]], &quot;type&quot;: &quot;Polygon&quot;}, &quot;id&quot;: &quot;157&quot;, &quot;properties&quot;: {&quot;__folium_color&quot;: &quot;black&quot;}, &quot;type&quot;: &quot;Feature&quot;}, {&quot;bbox&quot;: [-99.30096427477301, 19.425793388426047, -99.29619317393339, 19.43031979120321], &quot;geometry&quot;: {&quot;coordinates&quot;: [[[-99.29619317393339, 19.425801219818883], [-99.29620136388293, 19.43031979120321], [-99.30096427477301, 19.43031195784641], [-99.30095595313409, 19.425793388426047], [-99.29619317393339, 19.425801219818883]]], &quot;type&quot;: &quot;Polygon&quot;}, &quot;id&quot;: &quot;158&quot;, &quot;properties&quot;: {&quot;__folium_color&quot;: &quot;black&quot;}, &quot;type&quot;: &quot;Feature&quot;}, {&quot;bbox&quot;: [-99.26762385185778, 19.425845584842754, -99.26285365763297, 19.43037112604384], &quot;geometry&quot;: {&quot;coordinates&quot;: [[[-99.26285365763297, 19.42585254178893], [-99.26286092574895, 19.43037112604384], [-99.26762385185778, 19.430364167352987], [-99.26761645205049, 19.425845584842754], [-99.26285365763297, 19.42585254178893]]], &quot;type&quot;: &quot;Polygon&quot;}, &quot;id&quot;: &quot;159&quot;, &quot;properties&quot;: {&quot;__folium_color&quot;: &quot;black&quot;}, &quot;type&quot;: &quot;Feature&quot;}, {&quot;bbox&quot;: [-99.23428332781069, 19.42589166009826, -99.22951404201308, 19.43041633817694], &quot;geometry&quot;: {&quot;coordinates&quot;: [[[-99.22951404201308, 19.42589774258652], [-99.2295203882829, 19.43041633817694], [-99.23428332781069, 19.430410254163306], [-99.23427684984784, 19.42589166009826], [-99.22951404201308, 19.42589774258652]]], &quot;type&quot;: &quot;Polygon&quot;}, &quot;id&quot;: &quot;160&quot;, &quot;properties&quot;: {&quot;__folium_color&quot;: &quot;black&quot;}, &quot;type&quot;: &quot;Feature&quot;}, {&quot;bbox&quot;: [-99.20094271523033, 19.425931614118024, -99.19617433967072, 19.430455427529367], &quot;geometry&quot;: {&quot;coordinates&quot;: [[[-99.19617433967072, 19.425936822138524], [-99.1961797640834, 19.430455427529367], [-99.20094271523033, 19.43045021820279], [-99.20093715912314, 19.425931614118024], [-99.19617433967072, 19.425936822138524]]], &quot;type&quot;: &quot;Polygon&quot;}, &quot;id&quot;: &quot;161&quot;, &quot;properties&quot;: {&quot;__folium_color&quot;: &quot;black&quot;}, &quot;type&quot;: &quot;Feature&quot;}, {&quot;bbox&quot;: [-99.16760202671547, 19.42596544683741, -99.1628345632031, 19.430488394037887], &quot;geometry&quot;: {&quot;coordinates&quot;: [[[-99.1628345632031, 19.425969780381724], [-99.16283906574925, 19.430488394037887], [-99.16760202671547, 19.430484059406794], [-99.1675973924736, 19.42596544683741], [-99.1628345632031, 19.425969780381724]]], &quot;type&quot;: &quot;Polygon&quot;}, &quot;id&quot;: &quot;162&quot;, &quot;properties&quot;: {&quot;__folium_color&quot;: &quot;black&quot;}, &quot;type&quot;: &quot;Feature&quot;}, {&quot;bbox&quot;: [-99.1342612748651, 19.42599315820167, -99.12949472520762, 19.43051523764916], &quot;geometry&quot;: {&quot;coordinates&quot;: [[[-99.12949472520762, 19.4259966172628], [-99.12949830587944, 19.43051523764916], [-99.1342612748651, 19.430511777720564], [-99.13425756249653, 19.42599315820167], [-99.12949472520762, 19.4259966172628]]], &quot;type&quot;: &quot;Polygon&quot;}, &quot;id&quot;: &quot;163&quot;, &quot;properties&quot;: {&quot;__folium_color&quot;: &quot;black&quot;}, &quot;type&quot;: &quot;Feature&quot;}, {&quot;bbox&quot;: [-99.10092047227826, 19.426014748165993, -99.09615483828176, 19.43053595831976], &quot;geometry&quot;: {&quot;coordinates&quot;: [[[-99.09615483828176, 19.42601733273833], [-99.09615749707304, 19.43053595831976], [-99.10092047227826, 19.43053337309925], [-99.10091768178945, 19.426014748165993], [-99.09615483828176, 19.42601733273833]]], &quot;type&quot;: &quot;Polygon&quot;}, &quot;id&quot;: &quot;164&quot;, &quot;properties&quot;: {&quot;__folium_color&quot;: &quot;black&quot;}, &quot;type&quot;: &quot;Feature&quot;}, {&quot;bbox&quot;: [-99.06757963155417, 19.42603021669544, -99.06281491502315, 19.43055055601615], &quot;geometry&quot;: {&quot;coordinates&quot;: [[[-99.06281491502315, 19.42603192677481], [-99.06281665192927, 19.43055055601615], [-99.06757963155417, 19.43054884550792], [-99.06757776294995, 19.42603021669544], [-99.06281491502315, 19.42603192677481]]], &quot;type&quot;: &quot;Polygon&quot;}, &quot;id&quot;: &quot;165&quot;, &quot;properties&quot;: {&quot;__folium_color&quot;: &quot;black&quot;}, &quot;type&quot;: &quot;Feature&quot;}, {&quot;bbox&quot;: [-99.03423876529209, 19.426039563764988, -99.02947496802945, 19.43055903071473], &quot;geometry&quot;: {&quot;coordinates&quot;: [[[-99.02947496802945, 19.426040399348622], [-99.02947578304742, 19.43055903071473], [-99.03423876529209, 19.430558194921552], [-99.03423781857569, 19.426039563764988], [-99.02947496802945, 19.426040399348622]]], &quot;type&quot;: &quot;Polygon&quot;}, &quot;id&quot;: &quot;166&quot;, &quot;properties&quot;: {&quot;__folium_color&quot;: &quot;black&quot;}, &quot;type&quot;: &quot;Feature&quot;}, {&quot;bbox&quot;: [-99.00089788609135, 19.42604275044606, -98.99613490302681, 19.430561421324995], &quot;geometry&quot;: {&quot;coordinates&quot;: [[[-98.99613500989842, 19.42604275044606], [-98.99613490302681, 19.430561382401777], [-99.00089788609135, 19.430561421324995], [-99.0008978612644, 19.426042789359517], [-98.99613500989842, 19.42604275044606]]], &quot;type&quot;: &quot;Polygon&quot;}, &quot;id&quot;: &quot;167&quot;, &quot;properties&quot;: {&quot;__folium_color&quot;: &quot;black&quot;}, &quot;type&quot;: &quot;Feature&quot;}, {&quot;bbox&quot;: [-98.96755790361387, 19.426038980063318, -98.96279402446682, 19.43055852471305], &quot;geometry&quot;: {&quot;coordinates&quot;: [[[-98.9627950532278, 19.426038980063318], [-98.96279402446682, 19.430557611073496], [-98.96755700655129, 19.43055852471305], [-98.96755790361387, 19.426039893473803], [-98.9627950532278, 19.426038980063318]]], &quot;type&quot;: &quot;Polygon&quot;}, &quot;id&quot;: &quot;168&quot;, &quot;properties&quot;: {&quot;__folium_color&quot;: &quot;black&quot;}, &quot;type&quot;: &quot;Feature&quot;}, {&quot;bbox&quot;: [-99.36771600302252, 19.457300355600314, -99.36294215197712, 19.461828477934056], &quot;geometry&quot;: {&quot;coordinates&quot;: [[[-99.36294215197712, 19.457309952667526], [-99.36295220514658, 19.461828477934056], [-99.36771600302252, 19.46181887846339], [-99.36770581791102, 19.457300355600314], [-99.36294215197712, 19.457309952667526]]], &quot;type&quot;: &quot;Polygon&quot;}, &quot;id&quot;: &quot;169&quot;, &quot;properties&quot;: {&quot;__folium_color&quot;: &quot;black&quot;}, &quot;type&quot;: &quot;Feature&quot;}, {&quot;bbox&quot;: [-99.33436936035689, 19.457364907213847, -99.32959641408053, 19.461892169539045], &quot;geometry&quot;: {&quot;coordinates&quot;: [[[-99.32959641408053, 19.457373628325907], [-99.32960554364603, 19.461892169539045], [-99.33436936035689, 19.461883446242915], [-99.33436009884696, 19.457364907213847], [-99.32959641408053, 19.457373628325907]]], &quot;type&quot;: &quot;Polygon&quot;}, &quot;id&quot;: &quot;170&quot;, &quot;properties&quot;: {&quot;__folium_color&quot;: &quot;black&quot;}, &quot;type&quot;: &quot;Feature&quot;}, {&quot;bbox&quot;: [-99.30102259125063, 19.457423327098148, -99.29625055156046, 19.461949727865104], &quot;geometry&quot;: {&quot;coordinates&quot;: [[[-99.29625055156046, 19.457431172240945], [-99.29625875750615, 19.461949727865104], [-99.30102259125063, 19.461941880757607], [-99.30101425335835, 19.457423327098148], [-99.29625055156046, 19.457431172240945]]], &quot;type&quot;: &quot;Polygon&quot;}, &quot;id&quot;: &quot;171&quot;, &quot;properties&quot;: {&quot;__folium_color&quot;: &quot;black&quot;}, &quot;type&quot;: &quot;Feature&quot;}, {&quot;bbox&quot;: [-99.26767570831309, 19.45747561515868, -99.26290457702468, 19.462001152819074], &quot;geometry&quot;: {&quot;coordinates&quot;: [[[-99.26290457702468, 19.457482584319514], [-99.26291185933634, 19.462001152819074], [-99.26767570831309, 19.46199418191292], [-99.2676682940529, 19.45747561515868], [-99.26290457702468, 19.457482584319514]]], &quot;type&quot;: &quot;Polygon&quot;}, &quot;id&quot;: &quot;172&quot;, &quot;properties&quot;: {&quot;__folium_color&quot;: &quot;black&quot;}, &quot;type&quot;: &quot;Feature&quot;}, {&quot;bbox&quot;: [-99.23432872415384, 19.457521771310834, -99.22955850308118, 19.46204644431775], &quot;geometry&quot;: {&quot;coordinates&quot;: [[[-99.22955850308118, 19.457527864478426], [-99.22956486174623, 19.46204644431775], [-99.23432872415384, 19.462040349624207], [-99.23432223353858, 19.457521771310834], [-99.22955850308118, 19.457527864478426]]], &quot;type&quot;: &quot;Polygon&quot;}, &quot;id&quot;: &quot;173&quot;, &quot;properties&quot;: {&quot;__folium_color&quot;: &quot;black&quot;}, &quot;type&quot;: &quot;Feature&quot;}, {&quot;bbox&quot;: [-99.20098165138268, 19.45756179547992, -99.1962123423382, 19.46208560228782], &quot;geometry&quot;: {&quot;coordinates&quot;: [[[-99.1962123423382, 19.457567012644407], [-99.19621777734558, 19.46208560228782], [-99.20098165138268, 19.462080383816765], [-99.20097608442357, 19.45756179547992], [-99.1962123423382, 19.457567012644407]]], &quot;type&quot;: &quot;Polygon&quot;}, &quot;id&quot;: &quot;174&quot;, &quot;properties&quot;: {&quot;__folium_color&quot;: &quot;black&quot;}, &quot;type&quot;: &quot;Feature&quot;}, {&quot;bbox&quot;: [-99.16763450260954, 19.45759568760117, -99.16286610740413, 19.462118626665948], &quot;geometry&quot;: {&quot;coordinates&quot;: [[[-99.16286610740413, 19.457600028754122], [-99.16287061874442, 19.462118626665948], [-99.16763450260954, 19.462114284425816], [-99.16762985931629, 19.45759568760117], [-99.16286610740413, 19.457600028754122]]], &quot;type&quot;: &quot;Polygon&quot;}, &quot;id&quot;: &quot;175&quot;, &quot;properties&quot;: {&quot;__folium_color&quot;: &quot;black&quot;}, &quot;type&quot;: &quot;Feature&quot;}, {&quot;bbox&quot;: [-99.13428729044462, 19.457623447619742, -99.12951981088753, 19.46214551739867], &quot;geometry&quot;: {&quot;coordinates&quot;: [[[-99.12951981088753, 19.457626912754126], [-99.12952339855295, 19.46214551739867], [-99.13428729044462, 19.46214205139649], [-99.13428357082523, 19.457623447619742], [-99.12951981088753, 19.457626912754126]]], &quot;type&quot;: &quot;Polygon&quot;}, &quot;id&quot;: &quot;176&quot;, &quot;properties&quot;: {&quot;__folium_color&quot;: &quot;black&quot;}, &quot;type&quot;: &quot;Feature&quot;}, {&quot;bbox&quot;: [-99.10094002749817, 19.457645075490714, -99.0961734653971, 19.46216627444247], &quot;geometry&quot;: {&quot;coordinates&quot;: [[[-99.0961734653971, 19.45764766460092], [-99.09617612938139, 19.46216627444247], [-99.10094002749817, 19.46216368468386], [-99.1009372315591, 19.457645075490714], [-99.0961734653971, 19.45764766460092]]], &quot;type&quot;: &quot;Polygon&quot;}, &quot;id&quot;: &quot;177&quot;, &quot;properties&quot;: {&quot;__folium_color&quot;: &quot;black&quot;}, &quot;type&quot;: &quot;Feature&quot;}, {&quot;bbox&quot;: [-99.06759272638057, 19.457660571179087, -99.06282708354162, 19.462180897763773], &quot;geometry&quot;: {&quot;coordinates&quot;: [[[-99.06282708354162, 19.457662284260934], [-99.06282882384019, 19.462180897763773], [-99.06759272638057, 19.462179184252907], [-99.06759085412666, 19.457660571179087], [-99.06282708354162, 19.457662284260934]]], &quot;type&quot;: &quot;Polygon&quot;}, &quot;id&quot;: &quot;178&quot;, &quot;properties&quot;: {&quot;__folium_color&quot;: &quot;black&quot;}, &quot;type&quot;: &quot;Feature&quot;}, {&quot;bbox&quot;: [-99.03424539970229, 19.45766993465979, -99.02948067793, 19.4621893873389], &quot;geometry&quot;: {&quot;coordinates&quot;: [[[-99.02948067793, 19.4576707717105], [-99.02948149453982, 19.4621893873389], [-99.03424539970229, 19.462188550078565], [-99.0342444511368, 19.45766993465979], [-99.02948067793, 19.4576707717105]]], &quot;type&quot;: &quot;Polygon&quot;}, &quot;id&quot;: &quot;179&quot;, &quot;properties&quot;: {&quot;__folium_color&quot;: &quot;black&quot;}, &quot;type&quot;: &quot;Feature&quot;}, {&quot;bbox&quot;: [-99.00089806007385, 19.457673126935887, -98.9961341540908, 19.46219178214566], &quot;geometry&quot;: {&quot;coordinates&quot;: [[[-98.99613426117112, 19.457673126935887], [-98.9961341540908, 19.462191743154122], [-99.00089806007385, 19.46219178214566], [-99.0008980351984, 19.45767316591767], [-98.99613426117112, 19.457673126935887]]], &quot;type&quot;: &quot;Polygon&quot;}, &quot;id&quot;: &quot;180&quot;, &quot;properties&quot;: {&quot;__folium_color&quot;: &quot;black&quot;}, &quot;type&quot;: &quot;Feature&quot;}, {&quot;bbox&quot;: [-98.96755161892047, 19.457669349933283, -98.96278681510366, 19.46218888044898], &quot;geometry&quot;: {&quot;coordinates&quot;: [[[-98.96278784587398, 19.457669349933283], [-98.96278681510366, 19.46218796520562], [-98.9675507201058, 19.46218888044898], [-98.96755161892047, 19.457670264947495], [-98.96278784587398, 19.457669349933283]]], &quot;type&quot;: &quot;Polygon&quot;}, &quot;id&quot;: &quot;181&quot;, &quot;properties&quot;: {&quot;__folium_color&quot;: &quot;black&quot;}, &quot;type&quot;: &quot;Feature&quot;}, {&quot;bbox&quot;: [-99.36778737828017, 19.488929968272284, -99.36301258299655, 19.49345809163975], &quot;geometry&quot;: {&quot;coordinates&quot;: [[[-99.36301258299655, 19.488939582166285], [-99.36302265578038, 19.49345809163975], [-99.36778737828017, 19.4934484753414], [-99.36777717329684, 19.488929968272284], [-99.36301258299655, 19.488939582166285]]], &quot;type&quot;: &quot;Polygon&quot;}, &quot;id&quot;: &quot;182&quot;, &quot;properties&quot;: {&quot;__folium_color&quot;: &quot;black&quot;}, &quot;type&quot;: &quot;Feature&quot;}, {&quot;bbox&quot;: [-99.33443426319643, 19.48899463306587, -99.32966037446708, 19.49352189489495], &quot;geometry&quot;: {&quot;coordinates&quot;: [[[-99.32966037446708, 19.4890033694689], [-99.32966952184496, 19.49352189489495], [-99.33443426319643, 19.493513156307035], [-99.33442498361667, 19.48899463306587], [-99.32966037446708, 19.4890033694689]]], &quot;type&quot;: &quot;Polygon&quot;}, &quot;id&quot;: &quot;183&quot;, &quot;properties&quot;: {&quot;__folium_color&quot;: &quot;black&quot;}, &quot;type&quot;: &quot;Feature&quot;}, {&quot;bbox&quot;: [-99.30108102155958, 19.489053155379377, -99.29630804120328, 19.493579554119762], &quot;geometry&quot;: {&quot;coordinates&quot;: [[[-99.29630804120328, 19.489061014277286], [-99.29631626315934, 19.493579554119762], [-99.30108102155958, 19.493571693256417], [-99.30107266739948, 19.489053155379377], [-99.29630804120328, 19.489061014277286]]], &quot;type&quot;: &quot;Polygon&quot;}, &quot;id&quot;: &quot;184&quot;, &quot;properties&quot;: {&quot;__folium_color&quot;: &quot;black&quot;}, &quot;type&quot;: &quot;Feature&quot;}, {&quot;bbox&quot;: [-99.26772766599017, 19.48910553511808, -99.26295559582411, 19.493631069220857], &quot;geometry&quot;: {&quot;coordinates&quot;: [[[-99.26295559582411, 19.48911251649815], [-99.26296289234409, 19.493631069220857], [-99.26772766599017, 19.493624086094812], [-99.2677202372642, 19.48910553511808], [-99.26295559582411, 19.48911251649815]]], &quot;type&quot;: &quot;Polygon&quot;}, &quot;id&quot;: &quot;185&quot;, &quot;properties&quot;: {&quot;__folium_color&quot;: &quot;black&quot;}, &quot;type&quot;: &quot;Feature&quot;}, {&quot;bbox&quot;: [-99.23437420910896, 19.489151772197193, -99.2296030509488, 19.493676440114847], &quot;geometry&quot;: {&quot;coordinates&quot;: [[[-99.2296030509488, 19.489157876048125], [-99.22960942202008, 19.493676440114847], [-99.23437420910896, 19.493670334737395], [-99.23436770583002, 19.489151772197193], [-99.2296030509488, 19.489157876048125]]], &quot;type&quot;: &quot;Polygon&quot;}, &quot;id&quot;: &quot;186&quot;, &quot;properties&quot;: {&quot;__folium_color&quot;: &quot;black&quot;}, &quot;type&quot;: &quot;Feature&quot;}, {&quot;bbox&quot;: [-99.20102066353698, 19.48919186654189, -99.1962504191968, 19.493715666728296], &quot;geometry&quot;: {&quot;coordinates&quot;: [[[-99.1962504191968, 19.489197092853804], [-99.1962558648083, 19.493715666728296], [-99.20102066353698, 19.49371043910933], [-99.20101508571635, 19.48919186654189], [-99.1962504191968, 19.489197092853804]]], &quot;type&quot;: &quot;Polygon&quot;}, &quot;id&quot;: &quot;187&quot;, &quot;properties&quot;: {&quot;__folium_color&quot;: &quot;black&quot;}, &quot;type&quot;: &quot;Feature&quot;}, {&quot;bbox&quot;: [-99.16766704189546, 19.48922581808727, -99.16289771318769, 19.493748748997714], &quot;geometry&quot;: {&quot;coordinates&quot;: [[[-99.16289771318769, 19.489230166851705], [-99.16290223332997, 19.493748748997714], [-99.16766704189546, 19.49374439914569], [-99.16766238954277, 19.48922581808727], [-99.16289771318769, 19.489230166851705]]], &quot;type&quot;: &quot;Polygon&quot;}, &quot;id&quot;: &quot;188&quot;, &quot;properties&quot;: {&quot;__folium_color&quot;: &quot;black&quot;}, &quot;type&quot;: &quot;Feature&quot;}, {&quot;bbox&quot;: [-99.13431335680569, 19.48925362677838, -99.12954494554128, 19.493775686869547], &quot;geometry&quot;: {&quot;coordinates&quot;: [[[-99.12954494554128, 19.489257097988297], [-99.12954854020651, 19.493775686869547], [-99.13431335680569, 19.49377221479151], [-99.13430962992904, 19.48925362677838], [-99.12954494554128, 19.489257097988297]]], &quot;type&quot;: &quot;Polygon&quot;}, &quot;id&quot;: &quot;189&quot;, &quot;properties&quot;: {&quot;__folium_color&quot;: &quot;black&quot;}, &quot;type&quot;: &quot;Feature&quot;}, {&quot;bbox&quot;: [-99.10095962088921, 19.489275292570202, -99.09619212887748, 19.493796480300198], &quot;geometry&quot;: {&quot;coordinates&quot;: [[[-99.09619212887748, 19.48927788621999], [-99.09619479805941, 19.493796480300198], [-99.10095962088921, 19.493793886001757], [-99.10095681949507, 19.489275292570202], [-99.09619212887748, 19.48927788621999]]], &quot;type&quot;: &quot;Polygon&quot;}, &quot;id&quot;: &quot;190&quot;, &quot;properties&quot;: {&quot;__folium_color&quot;: &quot;black&quot;}, &quot;type&quot;: &quot;Feature&quot;}, {&quot;bbox&quot;: [-99.06760584676763, 19.489290815427687, -99.06283927581627, 19.493811129256006], &quot;geometry&quot;: {&quot;coordinates&quot;: [[[-99.06283927581627, 19.489292531513136], [-99.0628410195103, 19.493811129256006], [-99.06760584676763, 19.49380941274138], [-99.06760397086083, 19.489290815427687], [-99.06283927581627, 19.489292531513136]]], &quot;type&quot;: &quot;Polygon&quot;}, &quot;id&quot;: &quot;191&quot;, &quot;properties&quot;: {&quot;__folium_color&quot;: &quot;black&quot;}, &quot;type&quot;: &quot;Feature&quot;}, {&quot;bbox&quot;: [-99.03425204706264, 19.48930019532569, -99.02948639897778, 19.49381963371326], &quot;geometry&quot;: {&quot;coordinates&quot;: [[[-99.02948639897778, 19.489301033844033], [-99.02948721718087, 19.49381963371326], [-99.03425204706264, 19.493818794985213], [-99.03425109664641, 19.48930019532569], [-99.02948639897778, 19.489301033844033]]], &quot;type&quot;: &quot;Polygon&quot;}, &quot;id&quot;: &quot;192&quot;, &quot;properties&quot;: {&quot;__folium_color&quot;: &quot;black&quot;}, &quot;type&quot;: &quot;Feature&quot;}, {&quot;bbox&quot;: [-99.00089823439595, 19.489303393198913, -98.99613340369287, 19.49382203271809], &quot;geometry&quot;: {&quot;coordinates&quot;: [[[-98.99613351098213, 19.489303393198913], [-98.99613340369287, 19.493821993658194], [-99.00089823439595, 19.49382203271809], [-99.000898209472, 19.489303432249038], [-98.99613351098213, 19.489303393198913]]], &quot;type&quot;: &quot;Polygon&quot;}, &quot;id&quot;: &quot;193&quot;, &quot;properties&quot;: {&quot;__folium_color&quot;: &quot;black&quot;}, &quot;type&quot;: &quot;Feature&quot;}, {&quot;bbox&quot;: [-98.96754532195769, 19.489299609573965, -98.96277959166807, 19.493819125934763], &quot;geometry&quot;: {&quot;coordinates&quot;: [[[-98.96278062444948, 19.489299609573965], [-98.96277959166807, 19.493818209086996], [-98.96754442138936, 19.493819125934763], [-98.96754532195769, 19.489300526192494], [-98.96278062444948, 19.489299609573965]]], &quot;type&quot;: &quot;Polygon&quot;}, &quot;id&quot;: &quot;194&quot;, &quot;properties&quot;: {&quot;__folium_color&quot;: &quot;black&quot;}, &quot;type&quot;: &quot;Feature&quot;}, {&quot;bbox&quot;: [-99.36785889271125, 19.520559470321928, -99.36308315136905, 19.525087594707912], &quot;geometry&quot;: {&quot;coordinates&quot;: [[[-99.36308315136905, 19.520569101049034], [-99.36309324378475, 19.525087594707912], [-99.36785889271125, 19.525077961575562], [-99.36784866783843, 19.520559470321928], [-99.36308315136905, 19.520569101049034]]], &quot;type&quot;: &quot;Polygon&quot;}, &quot;id&quot;: &quot;195&quot;, &quot;properties&quot;: {&quot;__folium_color&quot;: &quot;black&quot;}, &quot;type&quot;: &quot;Feature&quot;}, {&quot;bbox&quot;: [-99.33449929258914, 19.520624248338056, -99.32972445958801, 19.525151509655256], &quot;geometry&quot;: {&quot;coordinates&quot;: [[[-99.32972445958801, 19.520633000037787], [-99.32973362479416, 19.525151509655256], [-99.33449929258914, 19.52514275576981], [-99.33448999492347, 19.520624248338056], [-99.32972445958801, 19.520633000037787]]], &quot;type&quot;: &quot;Polygon&quot;}, &quot;id&quot;: &quot;196&quot;, &quot;properties&quot;: {&quot;__folium_color&quot;: &quot;black&quot;}, &quot;type&quot;: &quot;Feature&quot;}, {&quot;bbox&quot;: [-99.30113956580114, 19.520682873119217, -99.29636564296149, 19.525209269816717], &quot;geometry&quot;: {&quot;coordinates&quot;: [[[-99.29636564296149, 19.520690745777404], [-99.29637388094218, 19.525209269816717], [-99.30113956580114, 19.525201395192358], [-99.30113119535875, 19.520682873119217], [-99.29636564296149, 19.520690745777404]]], &quot;type&quot;: &quot;Polygon&quot;}, &quot;id&quot;: &quot;197&quot;, &quot;properties&quot;: {&quot;__folium_color&quot;: &quot;black&quot;}, &quot;type&quot;: &quot;Feature&quot;}, {&quot;bbox&quot;: [-99.26777972497905, 19.520735344570504, -99.26300671411973, 19.52526087509878], &quot;geometry&quot;: {&quot;coordinates&quot;: [[[-99.26300671411973, 19.520742338174394], [-99.26301402486068, 19.52526087509878], [-99.26777972497905, 19.525253879748252], [-99.26777228177446, 19.520735344570504], [-99.26300671411973, 19.520742338174394]]], &quot;type&quot;: &quot;Polygon&quot;}, &quot;id&quot;: &quot;198&quot;, &quot;properties&quot;: {&quot;__folium_color&quot;: &quot;black&quot;}, &quot;type&quot;: &quot;Feature&quot;}, {&quot;bbox&quot;: [-99.23441978275488, 19.520781662606964, -99.22964768569318, 19.5253063254179], &quot;geometry&quot;: {&quot;coordinates&quot;: [[[-99.22964768569318, 19.520787777145244], [-99.2296540691817, 19.5253063254179], [-99.23441978275488, 19.525300209352533], [-99.234413266801, 19.520781662606964], [-99.22964768569318, 19.520787777145244]]], &quot;type&quot;: &quot;Polygon&quot;}, &quot;id&quot;: &quot;199&quot;, &quot;properties&quot;: {&quot;__folium_color&quot;: &quot;black&quot;}, &quot;type&quot;: &quot;Feature&quot;}, {&quot;bbox&quot;: [-99.20105975176092, 19.520821827153615, -99.19628857031252, 19.5253456207005], &quot;geometry&quot;: {&quot;coordinates&quot;: [[[-99.19628857031252, 19.520827062616384], [-99.19629402653756, 19.5253456207005], [-99.20105975176092, 19.52534038393019], [-99.20105416306903, 19.520821827153615], [-99.19628857031252, 19.520827062616384]]], &quot;type&quot;: &quot;Polygon&quot;}, &quot;id&quot;: &quot;200&quot;, &quot;properties&quot;: {&quot;__folium_color&quot;: &quot;black&quot;}, &quot;type&quot;: &quot;Feature&quot;}, {&quot;bbox&quot;: [-99.16769964462958, 19.52085583814543, -99.1629293806086, 19.525378760882944], &quot;geometry&quot;: {&quot;coordinates&quot;: [[[-99.1629293806086, 19.520860194524204], [-99.16293390956069, 19.525378760882944], [-99.16769964462958, 19.525374403416176], [-99.1676949832094, 19.52085583814543], [-99.1629293806086, 19.520860194524204]]], &quot;type&quot;: &quot;Polygon&quot;}, &quot;id&quot;: &quot;201&quot;, &quot;properties&quot;: {&quot;__folium_color&quot;: &quot;black&quot;}, &quot;type&quot;: &quot;Feature&quot;}, {&quot;bbox&quot;: [-99.13433947399349, 19.52088369552735, -99.12957012921245, 19.525405745911595], &quot;geometry&quot;: {&quot;coordinates&quot;: [[[-99.12957012921245, 19.520887172815083], [-99.12957373088373, 19.525405745911595], [-99.13433947399349, 19.525402267755418], [-99.1343357398531, 19.52088369552735], [-99.12957012921245, 19.520887172815083]]], &quot;type&quot;: &quot;Polygon&quot;}, &quot;id&quot;: &quot;202&quot;, &quot;properties&quot;: {&quot;__folium_color&quot;: &quot;black&quot;}, &quot;type&quot;: &quot;Feature&quot;}, {&quot;bbox&quot;: [-99.1009792524854, 19.52090539925427, -99.09621082875525, 19.525426575742756], &quot;geometry&quot;: {&quot;coordinates&quot;: [[[-99.09621082875525, 19.520907997445327], [-99.09621350313947, 19.525426575742756], [-99.1009792524854, 19.525423976902797], [-99.10097644563128, 19.52090539925427], [-99.09621082875525, 19.520907997445327]]], &quot;type&quot;: &quot;Polygon&quot;}, &quot;id&quot;: &quot;203&quot;, &quot;properties&quot;: {&quot;__folium_color&quot;: &quot;black&quot;}, &quot;type&quot;: &quot;Feature&quot;}, {&quot;bbox&quot;: [-99.06761899273815, 19.52092094929105, -99.06285149186823, 19.525441250342695], &quot;geometry&quot;: {&quot;coordinates&quot;: [[[-99.06285149186823, 19.520922668381235], [-99.06285323896074, 19.525441250342695], [-99.06761899273815, 19.525439530823178], [-99.06761711317516, 19.52092094929105], [-99.06285149186823, 19.520922668381235]]], &quot;type&quot;: &quot;Polygon&quot;}, &quot;id&quot;: &quot;204&quot;, &quot;properties&quot;: {&quot;__folium_color&quot;: &quot;black&quot;}, &quot;type&quot;: &quot;Feature&quot;}, {&quot;bbox&quot;: [-99.03425870738468, 19.520930345612523, -99.02949213118272, 19.52544976968767], &quot;geometry&quot;: {&quot;coordinates&quot;: [[[-99.02949213118272, 19.520931185599046], [-99.0294929509805, 19.52544976968767], [-99.03425870738468, 19.52544892949136], [-99.0342577551161, 19.520930345612523], [-99.02949213118272, 19.520931185599046]]], &quot;type&quot;: &quot;Polygon&quot;}, &quot;id&quot;: &quot;205&quot;, &quot;properties&quot;: {&quot;__folium_color&quot;: &quot;black&quot;}, &quot;type&quot;: &quot;Feature&quot;}, {&quot;bbox&quot;: [-99.00089840905798, 19.520933549084976, -98.99613265183174, 19.52545217289214], &quot;geometry&quot;: {&quot;coordinates&quot;: [[[-98.99613275933011, 19.520933549084976], [-98.99613265183174, 19.525452133763874], [-99.00089840905798, 19.52545217289214], [-99.00089838408543, 19.520933588203473], [-98.99613275933011, 19.520933549084976]]], &quot;type&quot;: &quot;Polygon&quot;}, &quot;id&quot;: &quot;206&quot;, &quot;properties&quot;: {&quot;__folium_color&quot;: &quot;black&quot;}, &quot;type&quot;: &quot;Feature&quot;}, {&quot;bbox&quot;: [-98.96753901271461, 19.520929758835194, -98.96277235414749, 19.525449261020267], &quot;geometry&quot;: {&quot;coordinates&quot;: [[[-98.96277338894183, 19.520929758835194], [-98.96277235414749, 19.525448342567483], [-98.96753811039106, 19.525449261020267], [-98.96753901271461, 19.520930677058654], [-98.96277338894183, 19.520929758835194]]], &quot;type&quot;: &quot;Polygon&quot;}, &quot;id&quot;: &quot;207&quot;, &quot;properties&quot;: {&quot;__folium_color&quot;: &quot;black&quot;}, &quot;type&quot;: &quot;Feature&quot;}, {&quot;bbox&quot;: [-99.3679305464398, 19.55218886159869, -99.36315385721703, 19.55671698698804], &quot;geometry&quot;: {&quot;coordinates&quot;: [[[-99.36315385721703, 19.552198509165233], [-99.3631639692821, 19.55671698698804], [-99.3679305464398, 19.556707337015347], [-99.36792030165974, 19.55218886159869], [-99.36315385721703, 19.552198509165233]]], &quot;type&quot;: &quot;Polygon&quot;}, &quot;id&quot;: &quot;208&quot;, &quot;properties&quot;: {&quot;__folium_color&quot;: &quot;black&quot;}, &quot;type&quot;: &quot;Feature&quot;}, {&quot;bbox&quot;: [-99.3345644486478, 19.55225375287994, -99.32978866955445, 19.556781013669525], &quot;geometry&quot;: {&quot;coordinates&quot;: [[[-99.32978866955445, 19.55226251988212], [-99.32979785260476, 19.556781013669525], [-99.3345644486478, 19.556772244480808], [-99.33455513288007, 19.55225375287994], [-99.32978866955445, 19.55226251988212]]], &quot;type&quot;: &quot;Polygon&quot;}, &quot;id&quot;: &quot;209&quot;, &quot;properties&quot;: {&quot;__folium_color&quot;: &quot;black&quot;}, &quot;type&quot;: &quot;Feature&quot;}, {&quot;bbox&quot;: [-99.30119822407684, 19.55231248016729, -99.29642335693498, 19.5568388748056], &quot;geometry&quot;: {&quot;coordinates&quot;: [[[-99.29642335693498, 19.552320366590923], [-99.29643161095461, 19.5568388748056], [-99.30119822407684, 19.55683098641505], [-99.30118983733763, 19.55231248016729], [-99.29642335693498, 19.552320366590923]]], &quot;type&quot;: &quot;Polygon&quot;}, &quot;id&quot;: &quot;210&quot;, &quot;properties&quot;: {&quot;__folium_color&quot;: &quot;black&quot;}, &quot;type&quot;: &quot;Feature&quot;}, {&quot;bbox&quot;: [-99.26783188537003, 19.552365043365654, -99.26305793200017, 19.556890570302564], &quot;geometry&quot;: {&quot;coordinates&quot;: [[[-99.26305793200017, 19.552372049197963], [-99.26306525697477, 19.556890570302564], [-99.26783188537003, 19.556883562722955], [-99.26782442767389, 19.552365043365654], [-99.26305793200017, 19.552372049197963]]], &quot;type&quot;: &quot;Polygon&quot;}, &quot;id&quot;: &quot;211&quot;, &quot;properties&quot;: {&quot;__folium_color&quot;: &quot;black&quot;}, &quot;type&quot;: &quot;Feature&quot;}, {&quot;bbox&quot;: [-99.23446544517064, 19.552411442389907, -99.22969240739168, 19.55693610007669], &quot;geometry&quot;: {&quot;coordinates&quot;: [[[-99.22969240739168, 19.552417567619546], [-99.22969880330858, 19.55693610007669], [-99.23446544517064, 19.55692997331938], [-99.2344589165305, 19.552411442389907], [-99.22969240739168, 19.552417567619546]]], &quot;type&quot;: &quot;Polygon&quot;}, &quot;id&quot;: &quot;212&quot;, &quot;properties&quot;: {&quot;__folium_color&quot;: &quot;black&quot;}, &quot;type&quot;: &quot;Feature&quot;}, {&quot;bbox&quot;: [-99.20109891612223, 19.55245167716491, -99.1963267957515, 19.556975464054265], &quot;geometry&quot;: {&quot;coordinates&quot;: [[[-99.1963267957515, 19.552456921781967], [-99.19633226259957, 19.556975464054265], [-99.20109891612223, 19.55697021812917], [-99.20109331654942, 19.55245167716491], [-99.1963267957515, 19.552456921781967]]], &quot;type&quot;: &quot;Polygon&quot;}, &quot;id&quot;: &quot;213&quot;, &quot;properties&quot;: {&quot;__folium_color&quot;: &quot;black&quot;}, &quot;type&quot;: &quot;Feature&quot;}, {&quot;bbox&quot;: [-99.1677323108685, 19.55248574762552, -99.16296110972175, 19.557008662171537], &quot;geometry&quot;: {&quot;coordinates&quot;: [[[-99.16296110972175, 19.552490111621502], [-99.16296564749152, 19.557008662171537], [-99.1677323108685, 19.55700429708715], [-99.16772764037273, 19.55248574762552], [-99.16296110972175, 19.552490111621502]]], &quot;type&quot;: &quot;Polygon&quot;}, &quot;id&quot;: &quot;214&quot;, &quot;properties&quot;: {&quot;__folium_color&quot;: &quot;black&quot;}, &quot;type&quot;: &quot;Feature&quot;}, {&quot;bbox&quot;: [-99.13436564205333, 19.55251365371656, -99.12959536194474, 19.557035694374736], &quot;geometry&quot;: {&quot;coordinates&quot;: [[[-99.12959536194474, 19.552517137084394], [-99.12959897062831, 19.557035694374736], [-99.13436564205333, 19.55703221013813], [-99.13436190064274, 19.55251365371656], [-99.12959536194474, 19.552517137084394]]], &quot;type&quot;: &quot;Polygon&quot;}, &quot;id&quot;: &quot;215&quot;, &quot;properties&quot;: {&quot;__folium_color&quot;: &quot;black&quot;}, &quot;type&quot;: &quot;Feature&quot;}, {&quot;bbox&quot;: [-99.10099892232076, 19.552535395392837, -99.09622956506286, 19.557056560620097], &quot;geometry&quot;: {&quot;coordinates&quot;: [[[-99.09622956506286, 19.552537998126883], [-99.09623224465399, 19.557056560620097], [-99.10099892232076, 19.55705395723691], [-99.10099611000182, 19.552535395392837], [-99.09622956506286, 19.552537998126883]]], &quot;type&quot;: &quot;Polygon&quot;}, &quot;id&quot;: &quot;216&quot;, &quot;properties&quot;: {&quot;__folium_color&quot;: &quot;black&quot;}, &quot;type&quot;: &quot;Feature&quot;}, {&quot;bbox&quot;: [-99.06763216431489, 19.55255097261915, -99.06286373171866, 19.557071260873823], &quot;geometry&quot;: {&quot;coordinates&quot;: [[[-99.06286373171866, 19.552552694715192], [-99.06286548221269, 19.557071260873823], [-99.06763216431489, 19.557069538348276], [-99.06763028109248, 19.55255097261915], [-99.06286373171866, 19.552552694715192]]], &quot;type&quot;: &quot;Polygon&quot;}, &quot;id&quot;: &quot;217&quot;, &quot;properties&quot;: {&quot;__folium_color&quot;: &quot;black&quot;}, &quot;type&quot;: &quot;Feature&quot;}, {&quot;bbox&quot;: [-99.03426538067995, 19.552560385370263, -99.02949787455475, 19.557079795112106], &quot;geometry&quot;: {&quot;coordinates&quot;: [[[-99.02949787455475, 19.552561226825517], [-99.02949869594865, 19.557079795112106], [-99.03426538067995, 19.55707895344699], [-99.03426442655734, 19.552560385370263], [-99.02949787455475, 19.552561226825517]]], &quot;type&quot;: &quot;Polygon&quot;}, &quot;id&quot;: &quot;218&quot;, &quot;properties&quot;: {&quot;__folium_color&quot;: &quot;black&quot;}, &quot;type&quot;: &quot;Feature&quot;}, {&quot;bbox&quot;: [-99.00089858406022, 19.55256359444405, -98.9961318985061, 19.55708220251781], &quot;geometry&quot;: {&quot;coordinates&quot;: [[[-98.99613200621377, 19.55256359444405], [-98.9961318985061, 19.557082163321137], [-99.00089858406022, 19.55708220251781], [-99.00089855903904, 19.55256363363095], [-98.99613200621377, 19.55256359444405]]], &quot;type&quot;: &quot;Polygon&quot;}, &quot;id&quot;: &quot;219&quot;, &quot;properties&quot;: {&quot;__folium_color&quot;: &quot;black&quot;}, &quot;type&quot;: &quot;Feature&quot;}, {&quot;bbox&quot;: [-98.96753269118028, 19.552559797566943, -98.96276510252939, 19.557079285555467], &quot;geometry&quot;: {&quot;coordinates&quot;: [[[-98.96276613933841, 19.552559797566943], [-98.96276510252939, 19.557078365497066], [-98.96753178709994, 19.557079285555467], [-98.96753269118028, 19.552560717395934], [-98.96276613933841, 19.552559797566943]]], &quot;type&quot;: &quot;Polygon&quot;}, &quot;id&quot;: &quot;220&quot;, &quot;properties&quot;: {&quot;__folium_color&quot;: &quot;black&quot;}, &quot;type&quot;: &quot;Feature&quot;}, {&quot;bbox&quot;: [-99.36800233959013, 19.583818141952143, -99.36322470066315, 19.58834626832972], &quot;geometry&quot;: {&quot;coordinates&quot;: [[[-99.36322470066315, 19.583827806364464], [-99.36323483239514, 19.58834626832972], [-99.36800233959013, 19.58833660151034], [-99.36799207488507, 19.583818141952143], [-99.36322470066315, 19.583827806364464]]], &quot;type&quot;: &quot;Polygon&quot;}, &quot;id&quot;: &quot;221&quot;, &quot;properties&quot;: {&quot;__folium_color&quot;: &quot;black&quot;}, &quot;type&quot;: &quot;Feature&quot;}, {&quot;bbox&quot;: [-99.33462973148544, 19.583883146541183, -99.3298530044778, 19.58841040678746], &quot;geometry&quot;: {&quot;coordinates&quot;: [[[-99.3298530044778, 19.58389192885159], [-99.32986220538821, 19.58841040678746], [-99.33462973148544, 19.588401622289695], [-99.33462039759951, 19.583883146541183], [-99.3298530044778, 19.58389192885159]]], &quot;type&quot;: &quot;Polygon&quot;}, &quot;id&quot;: &quot;222&quot;, &quot;properties&quot;: {&quot;__folium_color&quot;: &quot;black&quot;}, &quot;type&quot;: &quot;Feature&quot;}, {&quot;bbox&quot;: [-99.30125699648846, 19.583941976373346, -99.2964811832239, 19.588468368936205], &quot;geometry&quot;: {&quot;coordinates&quot;: [[[-99.2964811832239, 19.58394987656762], [-99.29648945329677, 19.588468368936205], [-99.30125699648846, 19.588460466774272], [-99.30124859343789, 19.583941976373346], [-99.2964811832239, 19.58394987656762]]], &quot;type&quot;: &quot;Polygon&quot;}, &quot;id&quot;: &quot;223&quot;, &quot;properties&quot;: {&quot;__folium_color&quot;: &quot;black&quot;}, &quot;type&quot;: &quot;Feature&quot;}, {&quot;bbox&quot;: [-99.26788414725361, 19.583994631353345, -99.26310924955428, 19.588520154682055], &quot;geometry&quot;: {&quot;coordinates&quot;: [[[-99.26310924955428, 19.584001649418685], [-99.26311658877525, 19.588520154682055], [-99.26788414725361, 19.588513134868766], [-99.26787667505296, 19.583994631353345], [-99.26310924955428, 19.584001649418685]]], &quot;type&quot;: &quot;Polygon&quot;}, &quot;id&quot;: &quot;224&quot;, &quot;properties&quot;: {&quot;__folium_color&quot;: &quot;black&quot;}, &quot;type&quot;: &quot;Feature&quot;}, {&quot;bbox&quot;: [-99.23451119643546, 19.5840411113959, -99.2297372161219, 19.58856576394114], &quot;geometry&quot;: {&quot;coordinates&quot;: [[[-99.2297372161219, 19.584047247320942], [-99.22974362447825, 19.58856576394114], [-99.23451119643546, 19.58855962648786], [-99.23450465509775, 19.5840411113959], [-99.2297372161219, 19.584047247320942]]], &quot;type&quot;: &quot;Polygon&quot;}, &quot;id&quot;: &quot;225&quot;, &quot;properties&quot;: {&quot;__folium_color&quot;: &quot;black&quot;}, &quot;type&quot;: &quot;Feature&quot;}, {&quot;bbox&quot;: [-99.20113815668887, 19.584081416425725, -99.19636509558009, 19.588605196639577], &quot;geometry&quot;: {&quot;coordinates&quot;: [[[-99.19636509558009, 19.584086670200527], [-99.19637057306066, 19.588605196639577], [-99.20113815668887, 19.588599941556247], [-99.20113254622544, 19.584081416425725], [-99.19636509558009, 19.584086670200527]]], &quot;type&quot;: &quot;Polygon&quot;}, &quot;id&quot;: &quot;226&quot;, &quot;properties&quot;: {&quot;__folium_color&quot;: &quot;black&quot;}, &quot;type&quot;: &quot;Feature&quot;}, {&quot;bbox&quot;: [-99.16776504066885, 19.584115546377532, -99.1629929005822, 19.5886384527135], &quot;geometry&quot;: {&quot;coordinates&quot;: [[[-99.1629929005822, 19.584119917993586], [-99.16299744717752, 19.5886384527135], [-99.16776504066885, 19.58863408000863], [-99.16776036108944, 19.584115546377532], [-99.1629929005822, 19.584119917993586]]], &quot;type&quot;: &quot;Polygon&quot;}, &quot;id&quot;: &quot;227&quot;, &quot;properties&quot;: {&quot;__folium_color&quot;: &quot;black&quot;}, &quot;type&quot;: &quot;Feature&quot;}, {&quot;bbox&quot;: [-99.1343918610306, 19.584143501196046, -99.12962064378186, 19.588665532109033], &quot;geometry&quot;: {&quot;coordinates&quot;: [[[-99.12962064378186, 19.584146990646264], [-99.129624259484, 19.588665532109033], [-99.1343918610306, 19.58866204178971], [-99.1343881123433, 19.584143501196046], [-99.12962064378186, 19.584146990646264]]], &quot;type&quot;: &quot;Polygon&quot;}, &quot;id&quot;: &quot;228&quot;, &quot;properties&quot;: {&quot;__folium_color&quot;: &quot;black&quot;}, &quot;type&quot;: &quot;Feature&quot;}, {&quot;bbox&quot;: [-99.10101863042941, 19.58416528083598, -99.0962483378328, 19.588686434782314], &quot;geometry&quot;: {&quot;coordinates&quot;: [[[-99.0962483378328, 19.58416788811472], [-99.09625102263549, 19.588686434782314], [-99.10101863042941, 19.58868382685419], [-99.10101581264075, 19.58416528083598], [-99.0962483378328, 19.58416788811472]]], &quot;type&quot;: &quot;Polygon&quot;}, &quot;id&quot;: &quot;229&quot;, &quot;properties&quot;: {&quot;__folium_color&quot;: &quot;black&quot;}, &quot;type&quot;: &quot;Feature&quot;}, {&quot;bbox&quot;: [-99.06764536152072, 19.58418088526206, -99.06287599538882, 19.58870116069949], &quot;geometry&quot;: {&quot;coordinates&quot;: [[[-99.06287599538882, 19.584182610365097], [-99.06287774928741, 19.58870116069949], [-99.06764536152072, 19.588699435166795], [-99.0676434746356, 19.58418088526206], [-99.06287599538882, 19.584182610365097]]], &quot;type&quot;: &quot;Polygon&quot;}, &quot;id&quot;: &quot;230&quot;, &quot;properties&quot;: {&quot;__folium_color&quot;: &quot;black&quot;}, &quot;type&quot;: &quot;Feature&quot;}, {&quot;bbox&quot;: [-99.03427206696004, 19.584190314449007, -99.02950362910383, 19.58870970983671], &quot;geometry&quot;: {&quot;coordinates&quot;: [[[-99.02950362910383, 19.584191157373546], [-99.02950445209527, 19.58870970983671], [-99.03427206696004, 19.588708866702227], [-99.03427111098176, 19.584190314449007], [-99.02950362910383, 19.584191157373546]]], &quot;type&quot;: &quot;Polygon&quot;}, &quot;id&quot;: &quot;231&quot;, &quot;properties&quot;: {&quot;__folium_color&quot;: &quot;black&quot;}, &quot;type&quot;: &quot;Feature&quot;}, {&quot;bbox&quot;: [-99.00089875940296, 19.58419352912623, -98.99613114371466, 19.588712121445216], &quot;geometry&quot;: {&quot;coordinates&quot;: [[[-98.99613125163182, 19.58419352912623], [-98.99613114371466, 19.588712082180113], [-99.00089875940296, 19.588712121445216], [-99.00089873433315, 19.584193568381565], [-98.99613125163182, 19.58419352912623]]], &quot;type&quot;: &quot;Polygon&quot;}, &quot;id&quot;: &quot;232&quot;, &quot;properties&quot;: {&quot;__folium_color&quot;: &quot;black&quot;}, &quot;type&quot;: &quot;Feature&quot;}, {&quot;bbox&quot;: [-98.96752635734376, 19.58418972561931, -98.96275783680119, 19.58870919939049], &quot;geometry&quot;: {&quot;coordinates&quot;: [[[-98.96275887562672, 19.58418972561931], [-98.96275783680119, 19.588708277725864], [-98.96752545150505, 19.58870919939049], [-98.96752635734376, 19.584190647054434], [-98.96275887562672, 19.58418972561931]]], &quot;type&quot;: &quot;Polygon&quot;}, &quot;id&quot;: &quot;233&quot;, &quot;properties&quot;: {&quot;__folium_color&quot;: &quot;black&quot;}, &quot;type&quot;: &quot;Feature&quot;}], &quot;type&quot;: &quot;FeatureCollection&quot;});\n",
       "\n",
       "        \n",
       "    \n",
       "    geo_json_24fe59836247a503c66b6ab6403ab17d.bindTooltip(\n",
       "    function(layer){\n",
       "    let div = L.DomUtil.create(&#x27;div&#x27;);\n",
       "    \n",
       "    return div\n",
       "    }\n",
       "    ,{\n",
       "  &quot;sticky&quot;: true,\n",
       "  &quot;className&quot;: &quot;foliumtooltip&quot;,\n",
       "});\n",
       "                     \n",
       "    \n",
       "            geo_json_24fe59836247a503c66b6ab6403ab17d.addTo(map_331818a0a8a1e750b705893223710973);\n",
       "        \n",
       "    \n",
       "        function geo_json_b98ebf5a7e768dd0749f8e1be731a34d_styler(feature) {\n",
       "            switch(feature.id) {\n",
       "                default:\n",
       "                    return {&quot;color&quot;: &quot;red&quot;, &quot;fill&quot;: false, &quot;fillColor&quot;: &quot;red&quot;, &quot;fillOpacity&quot;: 0.5, &quot;weight&quot;: 2};\n",
       "            }\n",
       "        }\n",
       "        function geo_json_b98ebf5a7e768dd0749f8e1be731a34d_highlighter(feature) {\n",
       "            switch(feature.id) {\n",
       "                default:\n",
       "                    return {&quot;fillOpacity&quot;: 0.75};\n",
       "            }\n",
       "        }\n",
       "        function geo_json_b98ebf5a7e768dd0749f8e1be731a34d_pointToLayer(feature, latlng) {\n",
       "            var opts = {&quot;bubblingMouseEvents&quot;: true, &quot;color&quot;: &quot;#3388ff&quot;, &quot;dashArray&quot;: null, &quot;dashOffset&quot;: null, &quot;fill&quot;: true, &quot;fillColor&quot;: &quot;#3388ff&quot;, &quot;fillOpacity&quot;: 0.2, &quot;fillRule&quot;: &quot;evenodd&quot;, &quot;lineCap&quot;: &quot;round&quot;, &quot;lineJoin&quot;: &quot;round&quot;, &quot;opacity&quot;: 1.0, &quot;radius&quot;: 2, &quot;stroke&quot;: true, &quot;weight&quot;: 3};\n",
       "            \n",
       "            let style = geo_json_b98ebf5a7e768dd0749f8e1be731a34d_styler(feature)\n",
       "            Object.assign(opts, style)\n",
       "            \n",
       "            return new L.CircleMarker(latlng, opts)\n",
       "        }\n",
       "\n",
       "        function geo_json_b98ebf5a7e768dd0749f8e1be731a34d_onEachFeature(feature, layer) {\n",
       "            layer.on({\n",
       "                mouseout: function(e) {\n",
       "                    if(typeof e.target.setStyle === &quot;function&quot;){\n",
       "                            geo_json_b98ebf5a7e768dd0749f8e1be731a34d.resetStyle(e.target);\n",
       "                    }\n",
       "                },\n",
       "                mouseover: function(e) {\n",
       "                    if(typeof e.target.setStyle === &quot;function&quot;){\n",
       "                        const highlightStyle = geo_json_b98ebf5a7e768dd0749f8e1be731a34d_highlighter(e.target.feature)\n",
       "                        e.target.setStyle(highlightStyle);\n",
       "                    }\n",
       "                },\n",
       "            });\n",
       "        };\n",
       "        var geo_json_b98ebf5a7e768dd0749f8e1be731a34d = L.geoJson(null, {\n",
       "                onEachFeature: geo_json_b98ebf5a7e768dd0749f8e1be731a34d_onEachFeature,\n",
       "            \n",
       "                style: geo_json_b98ebf5a7e768dd0749f8e1be731a34d_styler,\n",
       "                pointToLayer: geo_json_b98ebf5a7e768dd0749f8e1be731a34d_pointToLayer,\n",
       "            ...{\n",
       "}\n",
       "        });\n",
       "\n",
       "        function geo_json_b98ebf5a7e768dd0749f8e1be731a34d_add (data) {\n",
       "            geo_json_b98ebf5a7e768dd0749f8e1be731a34d\n",
       "                .addData(data);\n",
       "        }\n",
       "            geo_json_b98ebf5a7e768dd0749f8e1be731a34d_add({&quot;bbox&quot;: [-99.3649242, 19.048718699999995, -98.9403028, 19.592757200000005], &quot;features&quot;: [{&quot;bbox&quot;: [-99.3649242, 19.048718699999995, -98.9403028, 19.592757200000005], &quot;geometry&quot;: {&quot;coordinates&quot;: [[[[-99.3649242, 19.27776929999998], [-99.3619219, 19.27574189999999], [-99.3561284, 19.274989399999995], [-99.3482137, 19.273960899999995], [-99.3475125, 19.273026700000003], [-99.346479, 19.2722294], [-99.3462968, 19.272022100000004], [-99.3461511, 19.2713079], [-99.3458457, 19.270806800000003], [-99.34552450000001, 19.27043739999999], [-99.3451284, 19.269992199999983], [-99.3446866, 19.2694752], [-99.3440752, 19.269115799999998], [-99.3437085, 19.26896199999999], [-99.3434912, 19.26887230000001], [-99.3430597, 19.268547699999996], [-99.3427776, 19.268474699999985], [-99.3422544, 19.268291400000006], [-99.3419107, 19.268178699999996], [-99.341552, 19.268094299999998], [-99.340939, 19.267797799999983], [-99.3391599, 19.2676971], [-99.3389115, 19.267103399999993], [-99.3376298, 19.26404], [-99.3398572, 19.2596529], [-99.3413169, 19.252149500000005], [-99.3420687, 19.247539199999995], [-99.3421984, 19.244483299999995], [-99.342341, 19.241122399999995], [-99.335971, 19.239381499999993], [-99.335772, 19.239327100000008], [-99.3327165, 19.238468199999996], [-99.3308215, 19.237935300000004], [-99.330474, 19.2374805], [-99.3294573, 19.236149599999997], [-99.3267196, 19.232565600000004], [-99.325262, 19.2325893], [-99.3243175, 19.2326047], [-99.3241042, 19.2326092], [-99.3233557, 19.232624799999996], [-99.3222549, 19.232647799999988], [-99.32135170000001, 19.232663999999996], [-99.321297, 19.232664999999994], [-99.3201219, 19.23198039999999], [-99.3177757, 19.2306136], [-99.3154275, 19.229245500000005], [-99.3153434, 19.2291965], [-99.3155555, 19.227395300000005], [-99.3156826, 19.226274500000002], [-99.3162498, 19.221501699999994], [-99.3133657, 19.218967399999997], [-99.312366, 19.218088899999994], [-99.3123003, 19.21803109999999], [-99.3082997, 19.214512399999993], [-99.3081331, 19.2143689], [-99.308028, 19.2143014], [-99.3071355, 19.213728499999984], [-99.3067847, 19.211080799999994], [-99.3065979, 19.209671199999995], [-99.3061306, 19.206143699999988], [-99.3046865, 19.2026454], [-99.3044448, 19.200522], [-99.3039651, 19.198263500000007], [-99.3039156, 19.197179200000004], [-99.3032433, 19.193655799999984], [-99.3030062, 19.192274499999996], [-99.3027626, 19.1908551], [-99.3013314, 19.188417399999988], [-99.3004681, 19.185531200000003], [-99.3001831, 19.184578500000004], [-99.3001211, 19.184420499999995], [-99.2955969, 19.172882799999993], [-99.2939044, 19.167711], [-99.2936952, 19.1670717], [-99.2931151, 19.1652991], [-99.2919841, 19.161461099999997], [-99.2891957, 19.151998399999997], [-99.2879088, 19.1476308], [-99.2876875, 19.14688000000001], [-99.2876052, 19.14660059999999], [-99.2857037, 19.1434211], [-99.2825888, 19.138212800000005], [-99.2792552, 19.132638100000005], [-99.27869520000002, 19.131701700000004], [-99.2566297, 19.1165578], [-99.2535791, 19.114463199999996], [-99.247802, 19.1104965], [-99.2417132, 19.1063157], [-99.23740900000001, 19.103360199999987], [-99.2304122, 19.0985557], [-99.2267778, 19.096059999999994], [-99.2240527, 19.0958591], [-99.2238439, 19.095843699999993], [-99.2237303, 19.0958353], [-99.2210843, 19.095640299999996], [-99.2173683, 19.09536579999999], [-99.2102963, 19.094843299999994], [-99.204967, 19.0944496], [-99.1925249, 19.0935304], [-99.1829554, 19.092823400000007], [-99.1782307, 19.092474299999985], [-99.1364814, 19.089377899999995], [-99.135379, 19.089296], [-99.1352126, 19.0888406], [-99.13509510000002, 19.088518999999994], [-99.1254841, 19.06220439999999], [-99.1254331, 19.0620647], [-99.1183717, 19.06057809999999], [-99.1169651, 19.060281999999994], [-99.11059400000002, 19.0589407], [-99.1051286, 19.0577901], [-99.1049691, 19.057756499999993], [-99.1044539, 19.057648], [-99.1020296, 19.057137099999984], [-99.0685829, 19.050087999999995], [-99.0620857, 19.048718699999995], [-99.0614773, 19.049075099999982], [-99.0586844, 19.0507112], [-99.0566504, 19.053462000000007], [-99.0487287, 19.066601499999997], [-99.0486053, 19.066806099999997], [-99.04320890000001, 19.075755500000003], [-99.0301949, 19.08455649999999], [-99.0290253, 19.0853474], [-99.02899370000002, 19.0853688], [-98.98359450000001, 19.078763300000002], [-98.9823614, 19.0776084], [-98.9789954, 19.074455999999998], [-98.9736966, 19.07955319999999], [-98.9713723, 19.081218399999997], [-98.9682836, 19.083140899999997], [-98.9657215, 19.085861200000007], [-98.9632658, 19.092062799999997], [-98.9612398, 19.0955832], [-98.9590635, 19.104278], [-98.9590606, 19.10440699999999], [-98.9589567, 19.109042699999993], [-98.9586765, 19.110094599999996], [-98.9586064, 19.110413899999994], [-98.9584098, 19.111309400000007], [-98.9586905, 19.112567899999984], [-98.958692, 19.1127052], [-98.95870200000002, 19.1136385], [-98.9585627, 19.114508099999995], [-98.9585002, 19.114897900000003], [-98.9580704, 19.117580999999998], [-98.95800280000002, 19.117915399999994], [-98.957656, 19.119631000000012], [-98.9575075, 19.122383200000005], [-98.9577974, 19.123203599999986], [-98.958529, 19.1252738], [-98.9587295, 19.125841199999975], [-98.9595422, 19.128314100000004], [-98.9604325, 19.131022799999997], [-98.9605098, 19.131258100000007], [-98.960854, 19.132305200000005], [-98.9610919, 19.133029099999995], [-98.9614784, 19.1338234], [-98.9616256, 19.1341259], [-98.9617154, 19.134310499999994], [-98.9618172, 19.1345197], [-98.9619455, 19.1347834], [-98.9622727, 19.135455799999995], [-98.962377, 19.135670199999996], [-98.9624771, 19.135834099999993], [-98.9626262, 19.1360782], [-98.9628977, 19.136522599999985], [-98.9631754, 19.13697709999999], [-98.9634876, 19.1374881], [-98.9637603, 19.137934499999997], [-98.9638887, 19.1382175], [-98.964458, 19.139471899999997], [-98.9646056, 19.139797000000005], [-98.9646453, 19.13984539999999], [-98.96508910000001, 19.140386], [-98.9651127, 19.140414799999995], [-98.9654937, 19.14139490000001], [-98.9656632, 19.141831000000003], [-98.9659561, 19.14258449999999], [-98.9664559, 19.143870499999988], [-98.963037, 19.14564259999999], [-98.9626042, 19.145866899999994], [-98.9598955, 19.14710879999999], [-98.9594819, 19.1472984], [-98.9546263, 19.149524399999997], [-98.9583185, 19.1538471], [-98.9584844, 19.1540413], [-98.9594683, 19.155193200000003], [-98.9598605, 19.155652299999996], [-98.9600175, 19.1558361], [-98.9605706, 19.1564836], [-98.9610844, 19.157085099999996], [-98.96201930000001, 19.158179499999992], [-98.9626974, 19.158973400000004], [-98.9631227, 19.159471200000006], [-98.9637382, 19.1601917], [-98.964616, 19.161219299999985], [-98.9651636, 19.1618602], [-98.9652503, 19.16196169999999], [-98.96736640000002, 19.164438699999998], [-98.9656122, 19.164930499999997], [-98.9578643, 19.1671021], [-98.9570865, 19.167320099999998], [-98.9559173, 19.1676478], [-98.9523856, 19.1686376], [-98.9549157, 19.17406339999999], [-98.9561747, 19.1767631], [-98.9565217, 19.1766352], [-98.9598491, 19.179167899999996], [-98.96592050000001, 19.186444699999992], [-98.9664103, 19.187031699999995], [-98.9676939, 19.18974309999999], [-98.9669787, 19.1979217], [-98.9669881, 19.198356800000003], [-98.9670141, 19.199427], [-98.9670258, 19.1999099], [-98.9676097, 19.202689700000004], [-98.9676803, 19.203025899999997], [-98.9677019, 19.2031288], [-98.9696786, 19.204252900000004], [-98.968572, 19.205208199999994], [-98.9679792, 19.20572], [-98.9675094, 19.206125499999988], [-98.9674045, 19.2061724], [-98.9672287, 19.206251100000003], [-98.9671685, 19.206617599999998], [-98.9671814, 19.207042199999993], [-98.967424, 19.2073272], [-98.9670518, 19.2076286], [-98.967006, 19.2078994], [-98.9668635, 19.208742699999995], [-98.9668265, 19.208961300000002], [-98.9668378, 19.209006599999995], [-98.9676573, 19.2097961], [-98.9683766, 19.210488799999997], [-98.9685279, 19.210571100000006], [-98.9685239, 19.210571299999998], [-98.9684404, 19.210576399999997], [-98.9680668, 19.210599], [-98.9678293, 19.210705800000003], [-98.9675537, 19.21109089999999], [-98.9672781, 19.211475900000003], [-98.96725870000002, 19.211503], [-98.9671568, 19.211645399999984], [-98.964654, 19.213047399999997], [-98.9643116, 19.21323919999999], [-98.9635353, 19.2130443], [-98.962694, 19.214142599999995], [-98.962583, 19.2141324], [-98.96254210000001, 19.214128600000002], [-98.9624996, 19.214124699999996], [-98.9611294, 19.2139985], [-98.9597449, 19.213870900000003], [-98.9600302, 19.214413200000006], [-98.9592267, 19.2146391], [-98.9591326, 19.21466559999999], [-98.9584495, 19.214857700000003], [-98.9574613, 19.215135500000002], [-98.9569089, 19.215058499999994], [-98.9553077, 19.214835399999995], [-98.9539483, 19.2146458], [-98.9538365, 19.214967599999994], [-98.9536718, 19.215441600000005], [-98.9532831, 19.2153558], [-98.9528947, 19.215269899999996], [-98.9532752, 19.215495999999995], [-98.9523924, 19.216246400000006], [-98.95216500000001, 19.21658359999999], [-98.9521546, 19.216599], [-98.9510855, 19.218183699999997], [-98.9509094, 19.218130699999996], [-98.9425532, 19.215614900000006], [-98.9418588, 19.217967600000005], [-98.9403028, 19.22323959999998], [-98.9429495, 19.224076700000005], [-98.9441593, 19.224429199999992], [-98.94476, 19.224620299999998], [-98.9452434, 19.224912299999993], [-98.9457703, 19.22495429999998], [-98.9459273, 19.22496679999999], [-98.9466437, 19.2251961], [-98.9476448, 19.2255166], [-98.9522602, 19.226993700000005], [-98.955874, 19.228150299999996], [-98.9561131, 19.2282268], [-98.9566271, 19.228391300000002], [-98.9586475, 19.229037800000008], [-98.9604168, 19.229603999999988], [-98.9621351, 19.230153799999993], [-98.9624829, 19.2302651], [-98.962483, 19.230265099999993], [-98.9640442, 19.2307647], [-98.9661341, 19.2314333], [-98.9678755, 19.231990499999988], [-98.9679203, 19.2320048], [-98.9683667, 19.232147599999998], [-98.9685865, 19.232217899999995], [-98.9679678, 19.23643629999999], [-98.967311, 19.24091419999999], [-98.9659869, 19.249941], [-98.9765306, 19.25312539999999], [-98.9754132, 19.257534999999987], [-98.9749176, 19.2594905], [-98.9733629, 19.267699099999998], [-98.9733629, 19.2676992], [-98.9717455, 19.276629499999995], [-98.9714309, 19.2783667], [-98.9702779, 19.285798099999997], [-98.9696071, 19.290200299999984], [-98.9695799, 19.290378799999996], [-98.9689156, 19.294738899999995], [-98.9689046, 19.2948112], [-98.9682424, 19.299156099999998], [-98.9682422, 19.299157799999993], [-98.9675564, 19.303744999999996], [-98.9672241, 19.305968399999998], [-98.9672238, 19.3059698], [-98.9662764, 19.30596249999999], [-98.9662757, 19.305962499999996], [-98.9653868, 19.306335899999997], [-98.9647761, 19.30688079999999], [-98.9644107, 19.3078869], [-98.9643933, 19.30793469999999], [-98.9642301, 19.308949400000007], [-98.9642298, 19.308950999999997], [-98.9640549, 19.310038800000004], [-98.9640534, 19.310047700000002], [-98.9639728, 19.310549200000004], [-98.96389560000001, 19.311096899999992], [-98.9638954, 19.3110983], [-98.9637478, 19.312146199999997], [-98.9637472, 19.312150699999993], [-98.9637466, 19.3121553], [-98.9635565, 19.313504799999986], [-98.9634485, 19.314271400000003], [-98.9634428, 19.3143113], [-98.9634155, 19.314505699999994], [-98.9633413, 19.315032200000005], [-98.96299060000001, 19.316615599999995], [-98.9629658, 19.316727399999994], [-98.9625621, 19.31725], [-98.9618761, 19.318137999999998], [-98.9613991, 19.318755500000005], [-98.9611311, 19.319102399999995], [-98.9608604, 19.3194528], [-98.9591555, 19.321659699999998], [-98.9590015, 19.3218591], [-98.9579026, 19.323227599999996], [-98.9583587, 19.323611800000005], [-98.9604482, 19.325372199999986], [-98.9608808, 19.325736499999998], [-98.9639967, 19.328361299999997], [-98.9652869, 19.329432699999998], [-98.96537320000002, 19.329504299999996], [-98.9654481, 19.32956659999999], [-98.9660633, 19.3300774], [-98.96651930000002, 19.330456099999996], [-98.9667784, 19.3306712], [-98.9669169, 19.33078619999999], [-98.9672028, 19.331029699999995], [-98.9672754, 19.331091599999986], [-98.9676739, 19.331430999999995], [-98.9680292, 19.3317337], [-98.9681085, 19.3318013], [-98.9683786, 19.33203129999999], [-98.9705556, 19.333885699999986], [-98.9716335, 19.334809], [-98.9725575, 19.335547099999996], [-98.9727882, 19.335731299999992], [-98.9728689, 19.3357994], [-98.9742953, 19.337026499999997], [-98.974637, 19.337378599999997], [-98.9749597, 19.337742899999995], [-98.9752155, 19.338031599999983], [-98.9754797, 19.338329799999997], [-98.9758246, 19.338864200000007], [-98.9761125, 19.339310299999987], [-98.9764563, 19.339843000000002], [-98.9771621, 19.341033399999986], [-98.9772775, 19.3412282], [-98.9775273, 19.341649700000005], [-98.9778084, 19.34212399999999], [-98.9780634, 19.342425699999996], [-98.9780775, 19.342442399999992], [-98.9785425, 19.342992500000005], [-98.9787933, 19.343289299999995], [-98.9789958, 19.34348569999998], [-98.9790222, 19.343511399999993], [-98.9791941, 19.343678099999988], [-98.979501, 19.343975699999994], [-98.97963100000001, 19.3441019], [-98.9796726, 19.344142200000004], [-98.9798699, 19.344333599999995], [-98.9806602, 19.3451003], [-98.9812732, 19.3456949], [-98.9814992, 19.345914199999978], [-98.98223, 19.346610100000007], [-98.9823879, 19.34676049999999], [-98.9825604, 19.346924700000002], [-98.9838616, 19.34816389999999], [-98.984485, 19.348757600000006], [-98.9847044, 19.34896959999999], [-98.9848174, 19.349078799999987], [-98.9852102, 19.34945859999999], [-98.9854573, 19.3496975], [-98.9858683, 19.3500948], [-98.9860387, 19.3502595], [-98.9875836, 19.351752899999994], [-98.9876135, 19.35178179999999], [-98.98809330000002, 19.3522455], [-98.988777, 19.35289769999999], [-98.9891758, 19.35327810000001], [-98.989625, 19.353706699999986], [-98.9901064, 19.3541659], [-98.9905936, 19.354630599999997], [-98.9907309, 19.354761599999996], [-98.9908861, 19.3549097], [-98.9909924, 19.355011000000005], [-98.9913619, 19.3553636], [-98.9914674, 19.35546419999999], [-98.9916062, 19.355580600000003], [-98.9924724, 19.356306999999997], [-98.9925032, 19.3563328], [-98.9937268, 19.357358899999998], [-98.99375180000001, 19.357379899999998], [-98.994272, 19.357851799999985], [-98.9945567, 19.358141299999996], [-98.9945473, 19.358566399999997], [-98.9944478, 19.358846100000008], [-98.9941753, 19.3590482], [-98.9940623, 19.359261400000005], [-98.9935937, 19.36014579999998], [-98.9935156, 19.3602932], [-98.9934676, 19.360383700000003], [-98.9933852, 19.360690899999998], [-98.9931453, 19.361585299999994], [-98.9931101, 19.361716599999994], [-98.99302, 19.362052299999995], [-98.9929736, 19.36222570000001], [-98.9929273, 19.362398299999995], [-98.9929082, 19.362469200000003], [-98.9928678, 19.362620000000003], [-98.9928586, 19.3626541], [-98.9927768, 19.362988700000002], [-98.9927732, 19.36300329999999], [-98.9927392, 19.3631425], [-98.9926775, 19.363394700000015], [-98.99262540000001, 19.363607399999996], [-98.9925958, 19.363728799999997], [-98.9925763, 19.363808300000006], [-98.9924973, 19.364131099999987], [-98.9924667, 19.36425640000001], [-98.9924184, 19.364453999999984], [-98.9923391, 19.36477779999999], [-98.9922867, 19.3649922], [-98.9922514, 19.36513649999999], [-98.9921846, 19.365409599999982], [-98.9920547, 19.365940399999992], [-98.992037, 19.366012800000004], [-98.9919865, 19.366219299999997], [-98.991958, 19.366335899999985], [-98.9919477, 19.366377799999988], [-98.9919178, 19.3665001], [-98.9918836, 19.366639800000005], [-98.9918701, 19.366694999999993], [-98.991807, 19.366865000000008], [-98.99175540000002, 19.367003799999996], [-98.99180000000001, 19.36746109999999], [-98.9918939, 19.3675539], [-98.9919392, 19.367598699999995], [-99.0000807, 19.372393999999993], [-99.0001575, 19.372438300000002], [-99.0042339, 19.374791099999996], [-99.0057653, 19.375704299999988], [-99.0092751, 19.377793699999998], [-99.0101647, 19.378325199999992], [-99.0151222, 19.3809361], [-99.0164198, 19.381612599999997], [-99.0171665, 19.3820036], [-99.019572, 19.38325629999999], [-99.0203484, 19.383640099999997], [-99.0235018, 19.38506], [-99.0276674, 19.386935499999993], [-99.03080730000002, 19.388349299999994], [-99.04160710000001, 19.393318899999997], [-99.0444736, 19.3946228], [-99.047785, 19.396115200000004], [-99.0505085, 19.397362699999988], [-99.052906, 19.398448999999996], [-99.0539285, 19.3989183], [-99.0549608, 19.399389499999998], [-99.0581357, 19.400692199999988], [-99.0581329, 19.400719600000002], [-99.0581193, 19.40084999999999], [-99.0581067, 19.400972099999997], [-99.0579246, 19.402726399999988], [-99.0578582, 19.403365900000008], [-99.0578078, 19.403850699999992], [-99.0577576, 19.4043345], [-99.0577161, 19.4047344], [-99.057703, 19.404860299999992], [-99.0576517, 19.405355299999986], [-99.0576049, 19.405806199999986], [-99.0575501, 19.40633359999999], [-99.05752500000001, 19.4065753], [-99.057509, 19.406729999999996], [-99.0574762, 19.407045100000005], [-99.0573864, 19.40790999999999], [-99.0573561, 19.408201899999995], [-99.0573177, 19.4085724], [-99.057237, 19.4093496], [-99.0572052, 19.4096563], [-99.0571915, 19.409787499999997], [-99.0571562, 19.410118699999995], [-99.0570911, 19.410728399999982], [-99.057075, 19.4108788], [-99.0569223, 19.412308699999997], [-99.0569095, 19.4124286], [-99.0568466, 19.4130178], [-99.0568229, 19.413239699999988], [-99.056791, 19.413538600000003], [-99.0567649, 19.41378279999999], [-99.0567274, 19.4141337], [-99.0566766, 19.4146095], [-99.0566563, 19.41479959999999], [-99.0566387, 19.414986599999995], [-99.0565757, 19.4156546], [-99.0565524, 19.4159022], [-99.0564747, 19.416726199999992], [-99.05644400000001, 19.4170519], [-99.0564011, 19.41750740000001], [-99.0564119, 19.417527400000008], [-99.0563115, 19.418214], [-99.0563115, 19.418214099999993], [-99.05617880000001, 19.419260199999993], [-99.0561676, 19.419348300000003], [-99.0561155, 19.41975929999998], [-99.0560186, 19.4205235], [-99.0560168, 19.420537999999983], [-99.0558883, 19.42155049999999], [-99.0558363, 19.421961199999995], [-99.0557864, 19.422141000000003], [-99.0556219, 19.4227359], [-99.05529550000001, 19.4239155], [-99.0551964, 19.4242734], [-99.0549344, 19.424832099999993], [-99.0547306, 19.425266500000014], [-99.054683, 19.425367999999985], [-99.0543995, 19.4259724], [-99.0543938, 19.4259846], [-99.0540576, 19.426701399999995], [-99.0539981, 19.4268282], [-99.052602, 19.429960800000003], [-99.0524341, 19.430332799999984], [-99.0523322, 19.430558699999995], [-99.050562, 19.434723299999998], [-99.0484514, 19.439131199999995], [-99.0482091, 19.4396371], [-99.0477786, 19.440307899999997], [-99.0468706, 19.441722899999995], [-99.0466521, 19.442063499999986], [-99.0464592, 19.442364100000002], [-99.0464589, 19.442364499999993], [-99.0464588, 19.442364599999998], [-99.0464592, 19.442365], [-99.0471408, 19.4431309], [-99.047386, 19.443830800000004], [-99.04749110000002, 19.444022499999985], [-99.047895, 19.444759099999985], [-99.0479285, 19.4448201], [-99.0487226, 19.446268200000006], [-99.0488158, 19.446438199999992], [-99.0488963, 19.446585], [-99.0497508, 19.448143099999996], [-99.0498063, 19.4482443], [-99.0508329, 19.4501163], [-99.0508687, 19.450180600000007], [-99.0509036, 19.4502451], [-99.0511197, 19.4506391], [-99.0511471, 19.45070360000001], [-99.0517333, 19.4520807], [-99.051811, 19.452263200000008], [-99.0518112, 19.452263599999995], [-99.0518385, 19.452327899999997], [-99.0519626, 19.452619499999997], [-99.0519802, 19.452660800000004], [-99.0521202, 19.45298959999999], [-99.0521542, 19.453069600000006], [-99.0523136, 19.453444099999995], [-99.0523165, 19.4534508], [-99.0524901, 19.45385849999999], [-99.0524923, 19.4538638], [-99.05253600000002, 19.45396639999999], [-99.0526681, 19.454268], [-99.05266940000001, 19.454270899999994], [-99.05284260000002, 19.454666299999996], [-99.0528565, 19.45469799999999], [-99.0530258, 19.455084499999998], [-99.0530273, 19.455087699999993], [-99.0530287, 19.455091000000003], [-99.0532114, 19.455508], [-99.0532137, 19.45551329999999], [-99.053216, 19.455518599999998], [-99.0533873, 19.455909499999997], [-99.05340080000002, 19.4559403], [-99.0534982, 19.456162499999998], [-99.0535777, 19.4563439], [-99.0535863, 19.456363599999996], [-99.0537487, 19.456734299999994], [-99.0537754, 19.45678959999998], [-99.0539382, 19.457166899999997], [-99.0539653, 19.457206699999997], [-99.0541163, 19.45757339999999], [-99.0541335, 19.457615399999995], [-99.0542906, 19.4579712], [-99.0543076, 19.458009899999993], [-99.0544391, 19.458309999999997], [-99.0544989, 19.458450599999995], [-99.0546282, 19.458742600000008], [-99.0546695, 19.45883589999999], [-99.054686, 19.4588652], [-99.0547868, 19.459103600000002], [-99.0548665, 19.4592809], [-99.0550448, 19.459701299999985], [-99.0552886, 19.460248800000002], [-99.0559395, 19.461806299999996], [-99.0559531, 19.461839], [-99.055985, 19.461915300000005], [-99.0560641, 19.462104399999994], [-99.0561902, 19.462406099999995], [-99.0562931, 19.4626524], [-99.0565452, 19.463255600000004], [-99.0565797, 19.463331800000006], [-99.0571824, 19.4646621], [-99.0575107, 19.465345200000012], [-99.05755, 19.465441699999992], [-99.0577361, 19.465836399999997], [-99.0579118, 19.466209000000003], [-99.0591173, 19.468889999999977], [-99.0591183, 19.46889229999999], [-99.0591194, 19.468894700000007], [-99.059204, 19.469082799999992], [-99.0594545, 19.469639800000003], [-99.060397, 19.471833999999998], [-99.0608003, 19.472772900000002], [-99.0608593, 19.472910100000004], [-99.0614121, 19.474196899999995], [-99.061442, 19.474266599999986], [-99.06183090000002, 19.47517179999999], [-99.0624771, 19.47662359999999], [-99.0624833, 19.476637499999992], [-99.062502, 19.476679499999992], [-99.0626317, 19.47697079999999], [-99.0629963, 19.477789899999998], [-99.063361, 19.478609299999995], [-99.0637168, 19.479522399999997], [-99.063981, 19.480018799999986], [-99.0642442, 19.480728499999994], [-99.0642795, 19.480811299999996], [-99.0644927, 19.481310499999996], [-99.0645497, 19.4815395], [-99.0646997, 19.48165639999999], [-99.0648529, 19.48183600000001], [-99.06514500000002, 19.482527899999994], [-99.0651529, 19.482546499999994], [-99.065377, 19.4830773], [-99.0653855, 19.483097599999997], [-99.0654084, 19.4831518], [-99.0654641, 19.483283799999995], [-99.0656628, 19.483754399999988], [-99.0657847, 19.484043], [-99.0659296, 19.4843864], [-99.0660614, 19.4846986], [-99.0660729, 19.48472579999999], [-99.0661868, 19.484995499999993], [-99.0662929, 19.485246799999995], [-99.06631960000001, 19.485310099999996], [-99.0664606, 19.485644199999996], [-99.0665837, 19.485935799999993], [-99.0667143, 19.4862451], [-99.0667258, 19.486272299999996], [-99.0669881, 19.48689359999999], [-99.0670364, 19.4870079], [-99.0671182, 19.4872016], [-99.0672781, 19.48758039999999], [-99.0673101, 19.4876563], [-99.0674868, 19.488074700000002], [-99.0675133, 19.4881377], [-99.0675845, 19.488306299999998], [-99.0676224, 19.488395999999995], [-99.0678507, 19.4889367], [-99.0679226, 19.48901159999999], [-99.0679913, 19.48908319999999], [-99.0679526, 19.48917759999999], [-99.06744120000002, 19.49042329999999], [-99.0672497, 19.490889699999997], [-99.0671051, 19.491241899999995], [-99.06694650000001, 19.49162829999999], [-99.06679260000001, 19.492003299999993], [-99.066702, 19.492223899999985], [-99.0666669, 19.492309399999996], [-99.0666338, 19.4923901], [-99.066301, 19.4932007], [-99.0661087, 19.49366909999998], [-99.066107, 19.493673299999983], [-99.0661052, 19.493677600000005], [-99.0659349, 19.4940923], [-99.065524, 19.495021599999983], [-99.0654485, 19.495192400000004], [-99.0652715, 19.4955927], [-99.0652528, 19.495635], [-99.0652265, 19.495694399999998], [-99.0651187, 19.49593810000001], [-99.0649612, 19.496294199999994], [-99.0648445, 19.4965581], [-99.0647073, 19.496868499999998], [-99.0646533, 19.496990500000003], [-99.0643218, 19.4977402], [-99.0643097, 19.497767599999985], [-99.0642053, 19.498003699999998], [-99.0638625, 19.498778700000006], [-99.06463, 19.4990698], [-99.065212, 19.499290499999997], [-99.0653048, 19.49932569999999], [-99.0659789, 19.499581299999996], [-99.066947, 19.499948399999987], [-99.0673599, 19.50010839999998], [-99.0680919, 19.500382599999984], [-99.068425, 19.500508900000003], [-99.0688187, 19.500641300000005], [-99.0691928, 19.500800100000003], [-99.0701256, 19.501159099999988], [-99.070683, 19.501373699999988], [-99.0714332, 19.50166249999999], [-99.0723409, 19.5020118], [-99.0728228, 19.5021973], [-99.0729824, 19.502258799999996], [-99.0732226, 19.50235120000001], [-99.0733291, 19.502392199999992], [-99.073505, 19.5024599], [-99.0740221, 19.5026589], [-99.0741386, 19.502703799999978], [-99.0742783, 19.5027576], [-99.0747713, 19.502947299999988], [-99.07490200000001, 19.502997599999997], [-99.0752275, 19.503122900000005], [-99.0756882, 19.503300199999998], [-99.0759976, 19.503419299999994], [-99.0760482, 19.503438799999994], [-99.0764391, 19.503588099999995], [-99.0772154, 19.503884599999996], [-99.0774749, 19.50400520000001], [-99.077653, 19.5040879], [-99.0778986, 19.50420199999999], [-99.0788524, 19.504608799999996], [-99.0792152, 19.504763499999985], [-99.0796298, 19.50494039999999], [-99.0800419, 19.505121400000007], [-99.0800865, 19.505141], [-99.0805647, 19.505351100000002], [-99.0810097, 19.505546599999988], [-99.0814493, 19.5057397], [-99.0817738, 19.505882299999996], [-99.0818879, 19.505932400000003], [-99.082336, 19.506129299999984], [-99.0827954, 19.506331099999997], [-99.08279930000002, 19.5063328], [-99.0832504, 19.506531000000003], [-99.0837151, 19.506735099999997], [-99.0841474, 19.50692499999999], [-99.0846233, 19.507134099999995], [-99.0848995, 19.507255399999988], [-99.0850706, 19.507330599999996], [-99.0854039, 19.507476999999998], [-99.0856849, 19.507593], [-99.0857221, 19.5076084], [-99.0864802, 19.507921299999985], [-99.0869214, 19.5081035], [-99.0872697, 19.508247299999983], [-99.0873715, 19.508289299999998], [-99.087558, 19.5083663], [-99.087824, 19.508476099999996], [-99.0882974, 19.508671599999996], [-99.0889434, 19.508938199999992], [-99.0893434, 19.5091034], [-99.0894927, 19.509154900000006], [-99.0899607, 19.5093165], [-99.0902564, 19.509418499999985], [-99.0903529, 19.509461899999987], [-99.0903857, 19.509476599999992], [-99.0905124, 19.509533700000002], [-99.0905303, 19.509541699999996], [-99.090558, 19.509554200000004], [-99.090888, 19.509702599999997], [-99.0918938, 19.510154999999997], [-99.0928973, 19.510606399999993], [-99.093179, 19.510733099999996], [-99.0945096, 19.5113315], [-99.0948956, 19.5115051], [-99.0950217, 19.5115618], [-99.0956129, 19.511827700000005], [-99.0958107, 19.511916700000004], [-99.09716160000002, 19.512524199999998], [-99.0973995, 19.51263119999999], [-99.097857, 19.5125189], [-99.09827190000001, 19.5124169], [-99.0983546, 19.512396599999995], [-99.0986225, 19.512330800000004], [-99.0988888, 19.5122654], [-99.0992003, 19.512188899999984], [-99.0994326, 19.5121318], [-99.0994907, 19.5121175], [-99.0997225, 19.51205869999999], [-99.1005205, 19.511864499999987], [-99.1005885, 19.511847799999998], [-99.1009715, 19.511772199999992], [-99.1010839, 19.511749999999992], [-99.1013952, 19.511688399999997], [-99.1021654, 19.511536300000003], [-99.1023247, 19.5115048], [-99.1024148, 19.511486999999995], [-99.1027241, 19.511425899999995], [-99.1028283, 19.511405299999996], [-99.1034307, 19.511286199999983], [-99.1038601, 19.511088899999994], [-99.10420290000002, 19.51093139999999], [-99.10480930000001, 19.510652799999995], [-99.1055157, 19.510328100000002], [-99.1059316, 19.509886399999992], [-99.1060266, 19.509993099999996], [-99.1061228, 19.5101549], [-99.1062243, 19.510243100000007], [-99.1064299, 19.5103211], [-99.1065819, 19.510426199999994], [-99.106933, 19.510270199999994], [-99.10704240000001, 19.51017839999999], [-99.1070939, 19.5100639], [-99.1073043, 19.509684999999994], [-99.107372, 19.509933399999998], [-99.1073886, 19.510023700000005], [-99.1074482, 19.510286799999992], [-99.1074631, 19.510406600000003], [-99.1075119, 19.51068979999999], [-99.1076355, 19.5110266], [-99.1076807, 19.5109062], [-99.1076999, 19.510855100000004], [-99.1078386, 19.51046249999999], [-99.1086456, 19.510491299999995], [-99.108668, 19.510567699999985], [-99.1087491, 19.5107062], [-99.1087412, 19.510708899999997], [-99.1087633, 19.510751599999995], [-99.1088687, 19.51093099999999], [-99.10897410000001, 19.511110400000003], [-99.1091448, 19.5107424], [-99.1092274, 19.51058139999999], [-99.1094331, 19.51031199999999], [-99.1098979, 19.510458399999997], [-99.1099898, 19.5106189], [-99.1102319, 19.5110416], [-99.1105598, 19.5111623], [-99.1105903, 19.5111726], [-99.1125188, 19.511084200000003], [-99.1144071, 19.511060800000017], [-99.1159288, 19.513051799999996], [-99.1168819, 19.513236900000003], [-99.1208195, 19.5161175], [-99.1208732, 19.516186999999995], [-99.1210147, 19.516246699999993], [-99.1210294, 19.516252899999994], [-99.1238884, 19.51912939999999], [-99.1240061, 19.5192456], [-99.1241277, 19.519365699999998], [-99.1242475, 19.519483999999995], [-99.1243419, 19.519577099999992], [-99.1247495, 19.5200242], [-99.1247682, 19.5200063], [-99.1250628, 19.520289100000003], [-99.1250697, 19.520283699999993], [-99.1252764, 19.520499899999994], [-99.1257376, 19.521024999999987], [-99.1258985, 19.521208200000004], [-99.1259084, 19.5212273], [-99.1261642, 19.521721299999985], [-99.1261666, 19.521726], [-99.1264147, 19.522205199999995], [-99.1264406, 19.522255200000004], [-99.1267214, 19.522797499999996], [-99.1267399, 19.5228343], [-99.1270635, 19.52345810000001], [-99.1270903, 19.523509899999993], [-99.1272439, 19.523806599999997], [-99.1272977, 19.523910399999988], [-99.1272983, 19.523911500000015], [-99.1273504, 19.524012199999998], [-99.1273844, 19.52406759999999], [-99.1274122, 19.524092999999997], [-99.1274976, 19.524170799999997], [-99.1275774, 19.524218700000002], [-99.12773310000001, 19.524311999999995], [-99.1277964, 19.524363100000002], [-99.1280046, 19.52453109999999], [-99.1281056, 19.525293099999985], [-99.12818360000001, 19.525881299999998], [-99.128083, 19.526609399999995], [-99.1277895, 19.528732500000004], [-99.1275716, 19.5303088], [-99.1273779, 19.53171069999998], [-99.1273677, 19.535083899999997], [-99.1285165, 19.53544129999999], [-99.12965680000002, 19.535802899999982], [-99.13004900000001, 19.5358415], [-99.1305746, 19.536091300000002], [-99.1302773, 19.536495299999995], [-99.1299105, 19.536993899999988], [-99.1296614, 19.5373323], [-99.1294612, 19.5376044], [-99.1281464, 19.539391499999997], [-99.1274346, 19.54013109999999], [-99.1273598, 19.5402088], [-99.1264865, 19.5411162], [-99.1262755, 19.541335399999983], [-99.1259818, 19.5416405], [-99.1256926, 19.541997199999994], [-99.1256526, 19.542046599999995], [-99.1253747, 19.542389199999995], [-99.1252882, 19.5425114], [-99.1246929, 19.5433513], [-99.1246428, 19.54342199999999], [-99.1242139, 19.5440273], [-99.1241909, 19.544049300000005], [-99.123584, 19.5446297], [-99.1235072, 19.54470319999999], [-99.12341920000001, 19.5447873], [-99.1232303, 19.54496799999999], [-99.1232272, 19.544971], [-99.122733, 19.5454437], [-99.1226374, 19.545624699999998], [-99.1225657, 19.545760700000002], [-99.1222366, 19.5463845], [-99.1221535, 19.546542], [-99.1219788, 19.54687310000001], [-99.1218826, 19.54710349999999], [-99.1217469, 19.54742849999999], [-99.1216337, 19.5476996], [-99.12146300000002, 19.5481086], [-99.1213097, 19.548475699999997], [-99.1212176, 19.548696299999982], [-99.1210357, 19.549132], [-99.1204363, 19.5498481], [-99.1203735, 19.549923200000002], [-99.1186315, 19.552004299999993], [-99.1184801, 19.552185199999986], [-99.1175073, 19.5528163], [-99.1156215, 19.55403959999999], [-99.1156851, 19.55575569999999], [-99.1156857, 19.555772100000002], [-99.115694, 19.55599569999999], [-99.1157186, 19.55666029999999], [-99.114853, 19.55759559999999], [-99.1130419, 19.5595523], [-99.1128371, 19.559773599999993], [-99.1112411, 19.561497800000005], [-99.1080972, 19.564888499999984], [-99.110079, 19.5668037], [-99.111818, 19.56872689999999], [-99.1124805, 19.5716288], [-99.1128531, 19.573261100000007], [-99.112966, 19.573742], [-99.114662, 19.579796], [-99.116906, 19.581445], [-99.1180552, 19.583494100000006], [-99.118598, 19.584462000000002], [-99.117885, 19.590590800000005], [-99.1183533, 19.590933599999993], [-99.118768, 19.591316599999995], [-99.1194622, 19.591991999999987], [-99.1202559, 19.592159199999994], [-99.1207844, 19.592230399999984], [-99.1237019, 19.592757200000005], [-99.1245409, 19.591691899999994], [-99.1251477, 19.590898699999997], [-99.1253378, 19.590650099999994], [-99.1269885, 19.58850769999998], [-99.1283585, 19.5880072], [-99.1296582, 19.5875183], [-99.130196, 19.587306399999992], [-99.1304562, 19.5872183], [-99.1306925, 19.587140399999996], [-99.1318913, 19.58679319999999], [-99.1331072, 19.586423300000003], [-99.133743, 19.586234499999996], [-99.1337452, 19.585816499999996], [-99.1337424, 19.585433299999977], [-99.13375570000001, 19.5848881], [-99.13403540000002, 19.584613200000003], [-99.134515, 19.584184499999996], [-99.13483710000001, 19.583908799999993], [-99.1379003, 19.581134699999993], [-99.1381757, 19.580502299999996], [-99.1382383, 19.5803523], [-99.1385906, 19.579507599999992], [-99.1389134, 19.578379899999998], [-99.141448, 19.57442299999999], [-99.1420218, 19.5735272], [-99.1426736, 19.57298969999999], [-99.14306830000001, 19.572664099999997], [-99.1434527, 19.572347099999995], [-99.1436652, 19.5721838], [-99.1447605, 19.570827399999995], [-99.1451015, 19.570149899999993], [-99.1458074, 19.568748099999993], [-99.14589050000001, 19.567490699999993], [-99.1458928, 19.5674559], [-99.1458898, 19.56742259999999], [-99.14581780000002, 19.566624199999996], [-99.1459955, 19.565901300000004], [-99.1468048, 19.564635500000005], [-99.1489956, 19.562374499999997], [-99.1491309, 19.561963499999994], [-99.1508913, 19.560555599999997], [-99.1516164, 19.561378299999994], [-99.1528087, 19.5619647], [-99.1533327, 19.561557599999993], [-99.1542382, 19.561376099999993], [-99.1561443, 19.560155899999998], [-99.1563927, 19.5597821], [-99.1580405, 19.557302000000004], [-99.158047, 19.556492899999995], [-99.15770550000002, 19.555901599999995], [-99.1575273, 19.555452799999998], [-99.157569, 19.5550474], [-99.1577459, 19.5545162], [-99.15803700000001, 19.5536421], [-99.1586505, 19.552765300000004], [-99.1592269, 19.551833699999996], [-99.16077, 19.549460799999995], [-99.1609, 19.549260900000004], [-99.160075, 19.5491079], [-99.1596777, 19.549219500000003], [-99.1592083, 19.5492023], [-99.15920720000001, 19.549165799999983], [-99.1593486, 19.5490882], [-99.1593802, 19.548980300000007], [-99.15852850000002, 19.548821100000012], [-99.1586458, 19.5483203], [-99.1553544, 19.54686849999999], [-99.153037, 19.5457705], [-99.1528919, 19.545703299999992], [-99.1510849, 19.5448457], [-99.153333, 19.541237399999996], [-99.1541078, 19.540080099999997], [-99.1570757, 19.536468499999994], [-99.158045, 19.535288999999995], [-99.158503, 19.533941899999995], [-99.1558367, 19.5324614], [-99.1562945, 19.531811599999987], [-99.1566838, 19.531388], [-99.15704280000001, 19.530868699999996], [-99.1573793, 19.530486099999994], [-99.157401, 19.530417399999997], [-99.1585987, 19.5288579], [-99.15679810000002, 19.52809079999999], [-99.1588291, 19.5272543], [-99.1590144, 19.527056999999992], [-99.1591587, 19.526903300000004], [-99.1607, 19.527328299999997], [-99.1676725, 19.529250799999996], [-99.1699874, 19.530033799999998], [-99.1741567, 19.53144410000001], [-99.1745264, 19.531713499999995], [-99.1749541, 19.531878099999986], [-99.1754237, 19.531977100000002], [-99.175969, 19.5320427], [-99.1763495, 19.53071639999998], [-99.1762833, 19.5306536], [-99.1770387, 19.529432899999993], [-99.1770457, 19.529328499999988], [-99.1761536, 19.52887349999998], [-99.1753609, 19.530094599999995], [-99.1713673, 19.527188499999998], [-99.1742064, 19.524513699999996], [-99.1748391, 19.5238686], [-99.1745107, 19.523646799999998], [-99.1741823, 19.523465599999998], [-99.1708475, 19.522402000000003], [-99.1699627, 19.522055399999996], [-99.1629752, 19.5179615], [-99.16106900000001, 19.5129899], [-99.1570286, 19.502797100000006], [-99.1672642, 19.5061236], [-99.1687723, 19.506845699999992], [-99.1704126, 19.5076282], [-99.1708085, 19.5078178], [-99.1730501, 19.508608399999996], [-99.1735652, 19.508257099999998], [-99.1737308, 19.5081162], [-99.1740007, 19.507950799999982], [-99.1741126, 19.507886600000003], [-99.1744537, 19.50771969999999], [-99.1749106, 19.507550399999996], [-99.1753536, 19.507438799999992], [-99.1754408, 19.5074109], [-99.1766806, 19.506461699999996], [-99.1770504, 19.506194899999983], [-99.1773092, 19.5062638], [-99.1821981, 19.507530399999986], [-99.182386, 19.50752], [-99.18289, 19.507755099999997], [-99.184599, 19.5083332], [-99.185143, 19.50853789999998], [-99.186141, 19.509039199999997], [-99.1885653, 19.509964700000005], [-99.1889495, 19.5099783], [-99.19147700000002, 19.510594400000002], [-99.191835, 19.511150399999995], [-99.19663960000001, 19.512712299999986], [-99.204688, 19.515131600000004], [-99.2049306, 19.515008199999986], [-99.2051402, 19.51485760000001], [-99.2052373, 19.514799899999996], [-99.2055228, 19.5146035], [-99.20602090000001, 19.514288699999994], [-99.2086578, 19.512884999999997], [-99.2087936, 19.512794999999993], [-99.20894000000001, 19.512666999999997], [-99.2090833, 19.512493699999997], [-99.2100669, 19.511056300000003], [-99.2101658, 19.510896800000005], [-99.21023560000002, 19.51068170000001], [-99.2103358, 19.510277799999997], [-99.2106121, 19.509289099999997], [-99.2107334, 19.5089787], [-99.2109562, 19.508435499999994], [-99.2110212, 19.50829249999999], [-99.2111521, 19.50796869999999], [-99.211219, 19.507730500000008], [-99.2113534, 19.507182199999995], [-99.2114473, 19.506703900000012], [-99.2117503, 19.504668599999995], [-99.2119013, 19.50374089999999], [-99.2119438, 19.5035588], [-99.2122903, 19.502352999999992], [-99.2134771, 19.498353700000006], [-99.2136844, 19.4977197], [-99.2138389, 19.497252099999997], [-99.2138909, 19.49709470000001], [-99.21410300000001, 19.49639199999999], [-99.2145859, 19.494929499999998], [-99.2148061, 19.494289399999996], [-99.2154747, 19.49234619999999], [-99.2157874, 19.491487900000003], [-99.2172239, 19.4874057], [-99.2181482, 19.484592099999986], [-99.2184832, 19.4836221], [-99.2188288, 19.482685899999993], [-99.2200699, 19.4791199], [-99.2203163, 19.478434299999993], [-99.2204175, 19.4781215], [-99.22072680000001, 19.476824599999997], [-99.2209667, 19.475898299999997], [-99.2211341, 19.475041599999987], [-99.2151825, 19.473442399999993], [-99.2144943, 19.4732473], [-99.2142212, 19.473176799999997], [-99.2126257, 19.472772600000003], [-99.2113876, 19.472455199999995], [-99.2107856, 19.472307], [-99.2079889, 19.4715252], [-99.20673300000001, 19.4711567], [-99.2071696, 19.469575799999987], [-99.2076869, 19.469723999999996], [-99.2081983, 19.4698956], [-99.2085798, 19.470022], [-99.2086841, 19.4700565], [-99.2087428, 19.470076599999985], [-99.2088555, 19.4700346], [-99.2099121, 19.469381599999988], [-99.2104506, 19.468785799999974], [-99.2105646, 19.468658299999998], [-99.2107234, 19.46848079999999], [-99.2109607, 19.468267500000003], [-99.2111204, 19.46812239999999], [-99.2113072, 19.467982200000005], [-99.2114602, 19.4679508], [-99.2116392, 19.467406199999996], [-99.2117288, 19.467137900000008], [-99.2117853, 19.4670819], [-99.2119419, 19.467079199999997], [-99.2121484, 19.467113900000005], [-99.2123931, 19.466378699999996], [-99.2135444, 19.46291900000001], [-99.2129639, 19.46262159999999], [-99.2126362, 19.462438099999996], [-99.2139394, 19.4604058], [-99.2140446, 19.459518099999997], [-99.2142236, 19.458673799999996], [-99.2142479, 19.458558799999988], [-99.2142801, 19.458486599999997], [-99.2148155, 19.457284600000005], [-99.2151659, 19.456542899999995], [-99.215202, 19.45644619999999], [-99.2152208, 19.4563958], [-99.215265, 19.456315899999996], [-99.2153205, 19.456207199999994], [-99.2157195, 19.45572169999998], [-99.2159906, 19.455428], [-99.2161407, 19.455254499999995], [-99.2163199, 19.455024499999997], [-99.216515, 19.454799399999995], [-99.2168975, 19.454369499999988], [-99.21706950000001, 19.454168599999996], [-99.2171642, 19.454040499999994], [-99.2175772, 19.45356599999999], [-99.217862, 19.453426799999992], [-99.2179948, 19.453369], [-99.2181081, 19.453329799999985], [-99.2182338, 19.453281399999995], [-99.2185318, 19.45318189999999], [-99.2185854, 19.453161599999994], [-99.2188918, 19.453045499999984], [-99.2190513, 19.45300380000001], [-99.2192604, 19.452921199999995], [-99.2197717, 19.4528839], [-99.2199728, 19.452880099999994], [-99.2199629, 19.452154499999992], [-99.2199245, 19.451828600000002], [-99.2199547, 19.451549300000003], [-99.2201157, 19.44899819999999], [-99.2201276, 19.447987299999994], [-99.22013610000002, 19.4472773], [-99.220146, 19.44644129999999], [-99.2201474, 19.44627180000001], [-99.2201487, 19.446116399999998], [-99.2201129, 19.445970999999993], [-99.2200603, 19.445759199999998], [-99.2199766, 19.445556799999995], [-99.2198532, 19.445361499999997], [-99.2197609, 19.445249800000003], [-99.2196378, 19.445119899999995], [-99.2195362, 19.4450172], [-99.2192258, 19.4447741], [-99.2183048, 19.444299099999984], [-99.2182163, 19.444234999999992], [-99.2181538, 19.44415619999999], [-99.218133, 19.444111800000005], [-99.2181797, 19.44405749999999], [-99.2186893, 19.44397309999999], [-99.2195058, 19.443868500000004], [-99.2197375, 19.443847299999998], [-99.2201358, 19.4438108], [-99.2206199, 19.443675799999994], [-99.22093820000002, 19.443434], [-99.2219788, 19.442708999999997], [-99.2235843, 19.4415637], [-99.22443750000001, 19.44077290000001], [-99.2254213, 19.440070299999995], [-99.2276647, 19.43852379999998], [-99.2278651, 19.4383705], [-99.2279671, 19.43825399999999], [-99.2280336, 19.438153299999996], [-99.2280692, 19.437988299999997], [-99.2280315, 19.43782309999998], [-99.2272652, 19.436755899999994], [-99.2271901, 19.436201999999987], [-99.2272116, 19.436017399999983], [-99.2272404, 19.435906999999997], [-99.2272978, 19.435686699999998], [-99.2274562, 19.435374], [-99.2274682, 19.435260099999994], [-99.2274175, 19.434978499999993], [-99.2273639, 19.434864], [-99.2272785, 19.434768999999996], [-99.2271753, 19.43470009999999], [-99.2270053, 19.43459719999999], [-99.2263932, 19.4342095], [-99.2262956, 19.4341308], [-99.2262251, 19.434061300000003], [-99.2261714, 19.433965299999997], [-99.226152, 19.4338595], [-99.2261811, 19.433749999999996], [-99.2264157, 19.4327641], [-99.2266646, 19.43227109999999], [-99.2268016, 19.4318919], [-99.2268681, 19.431630700000007], [-99.22687360000002, 19.4315405], [-99.22685990000001, 19.431444199999998], [-99.226818, 19.431338199999995], [-99.2267251, 19.431250099999996], [-99.22668510000001, 19.431205699999996], [-99.2266219, 19.431154099999983], [-99.2266133, 19.431150699999996], [-99.2264809, 19.431053800000004], [-99.2259563, 19.430819199999995], [-99.2251927, 19.430458999999995], [-99.2251618, 19.430442800000005], [-99.2251048, 19.430424300000006], [-99.2247907, 19.430262999999997], [-99.2247683, 19.4302515], [-99.2244308, 19.430076599999996], [-99.224299, 19.430008400000006], [-99.2236978, 19.429719799999997], [-99.2236624, 19.429702799999994], [-99.22362980000001, 19.4296829], [-99.2235486, 19.429625499999997], [-99.2233783, 19.429505099999997], [-99.2232858, 19.42941389999999], [-99.22321030000002, 19.429306899999997], [-99.2231527, 19.42918329999999], [-99.2231437, 19.42916059999999], [-99.2231065, 19.429066099999993], [-99.2230834, 19.428978399999995], [-99.2230483, 19.428844999999995], [-99.2229709, 19.428587999999994], [-99.22293340000002, 19.428463599999997], [-99.2228941, 19.428341299999996], [-99.2228517, 19.428250899999995], [-99.2228218, 19.42813290000001], [-99.2227975, 19.42803319999999], [-99.22278870000001, 19.427984400000003], [-99.2227078, 19.427668199999992], [-99.2226737, 19.4275735], [-99.2226487, 19.427503799999993], [-99.2225777, 19.4273506], [-99.2222839, 19.427092599999998], [-99.2223101, 19.4269835], [-99.22237160000002, 19.426887699999998], [-99.2225222, 19.426775799999998], [-99.22267180000001, 19.426597399999995], [-99.2227388, 19.426431099999984], [-99.2236238, 19.4267704], [-99.223837, 19.42685219999999], [-99.2239458, 19.4268939], [-99.2242502, 19.4270181], [-99.2243829, 19.427072199999994], [-99.2246403, 19.426965799999998], [-99.2248472, 19.4268491], [-99.2251598, 19.4267139], [-99.2254834, 19.426651799999984], [-99.2257944, 19.426509], [-99.2259534, 19.426244300000008], [-99.2261337, 19.425605800000003], [-99.22633070000002, 19.425238200000003], [-99.2266995, 19.424665899999997], [-99.2267965, 19.424539099999997], [-99.2270172, 19.424319599999993], [-99.2271894, 19.424257299999994], [-99.2274214, 19.4242531], [-99.2275384, 19.424249800000002], [-99.22763870000001, 19.424221100000004], [-99.227729, 19.42418299999998], [-99.2277857, 19.424128999999997], [-99.22783240000001, 19.424062299999992], [-99.2278491, 19.423973499999995], [-99.2278621, 19.42379269999999], [-99.2278553, 19.423678499999998], [-99.2278519, 19.423645], [-99.2278752, 19.4236038], [-99.2279387, 19.423565599999993], [-99.22806910000001, 19.423543299999995], [-99.2281661, 19.423536799999997], [-99.2283031, 19.42351129999999], [-99.2284568, 19.423419099999983], [-99.2284953, 19.42332599999999], [-99.2286523, 19.423192599999997], [-99.2287388, 19.422976800000004], [-99.2288689, 19.422729299999997], [-99.2289691, 19.42262449999999], [-99.2291695, 19.4224593], [-99.2293631, 19.422237], [-99.22954190000002, 19.422159699999995], [-99.2297619, 19.42199509999999], [-99.2300982, 19.421825700000003], [-99.2302856, 19.421810399999995], [-99.2303896, 19.4217985], [-99.230533, 19.421760699999997], [-99.2306639, 19.421742799999993], [-99.23077000000002, 19.42173379999999], [-99.2308435, 19.421706899999993], [-99.2308912, 19.42163710000001], [-99.2309262, 19.421546699999997], [-99.230958, 19.421366800000005], [-99.2309686, 19.421260499999995], [-99.2310246, 19.4210699], [-99.2310607, 19.4209795], [-99.2311125, 19.4209337], [-99.231216, 19.420857699999992], [-99.2313068, 19.420809899999995], [-99.2315072, 19.420755699999987], [-99.2315591, 19.4207369], [-99.2315697, 19.420599599999985], [-99.2316262, 19.4203062], [-99.2316755, 19.420165299999987], [-99.2318171, 19.419990499999997], [-99.2321046, 19.419873100000007], [-99.2323568, 19.419792799999993], [-99.2323567, 19.41968479999999], [-99.2323763, 19.419567399999995], [-99.2324166, 19.419473499999985], [-99.2324664, 19.419420499999998], [-99.2325456, 19.4193911], [-99.2326352, 19.4193799], [-99.2329106, 19.41942989999999], [-99.232974, 19.419395000000005], [-99.2329872, 19.41926309999999], [-99.2329708, 19.419023], [-99.232991, 19.418894], [-99.2330562, 19.4186604], [-99.2330909, 19.418586], [-99.233069, 19.418482699999995], [-99.2330602, 19.418387700000004], [-99.2331218, 19.4182719], [-99.2331535, 19.4181771], [-99.2331599, 19.418157799999992], [-99.2331912, 19.418046800000003], [-99.2332005, 19.41789600000001], [-99.2331768, 19.417732700000002], [-99.2331533, 19.417592599999985], [-99.233115, 19.4172769], [-99.2334677, 19.41702409999999], [-99.2335065, 19.416990600000002], [-99.2336168, 19.41689549999999], [-99.2337222, 19.416801999999997], [-99.2338392, 19.416691199999995], [-99.23398360000002, 19.4166852], [-99.234105, 19.416633999999988], [-99.2342387, 19.4165135], [-99.2343936, 19.416368499999997], [-99.23464, 19.41606969999999], [-99.2349645, 19.415803299999986], [-99.2354472, 19.415435799999997], [-99.2355741, 19.415241699999996], [-99.2356701, 19.415013399999992], [-99.235934, 19.414496899999996], [-99.2362029, 19.414085099999998], [-99.2364974, 19.413595799999996], [-99.2367475, 19.413078700000003], [-99.2369149, 19.412706599999996], [-99.2370471, 19.4125548], [-99.2373047, 19.4123596], [-99.2376138, 19.412202200000007], [-99.2381051, 19.412080499999995], [-99.2384003, 19.412007299999996], [-99.2386381, 19.4120116], [-99.2389182, 19.412041799999997], [-99.2396225, 19.41220379999999], [-99.2399118, 19.412193700000003], [-99.2401651, 19.4121386], [-99.2408303, 19.411918299999986], [-99.2418808, 19.41148059999999], [-99.2423313, 19.4113015], [-99.2426815, 19.4110569], [-99.2430148, 19.410803799999993], [-99.243362, 19.410719699999998], [-99.2437002, 19.410526699999995], [-99.24399140000001, 19.4102049], [-99.244226, 19.4099416], [-99.2450242, 19.409669499999996], [-99.246062, 19.4092842], [-99.2466188, 19.4090781], [-99.2475316, 19.408813700000003], [-99.2479708, 19.408780399999998], [-99.248312, 19.408648599999992], [-99.24851630000002, 19.40847319999999], [-99.2486795, 19.408266799999996], [-99.2489548, 19.408020399999984], [-99.2491818, 19.407729399999997], [-99.2494136, 19.40751979999999], [-99.2497427, 19.407370099999987], [-99.2500714, 19.407232600000007], [-99.2503434, 19.406991100000003], [-99.25057060000002, 19.406698599999988], [-99.2509417, 19.40641640000001], [-99.2516686, 19.406232699999993], [-99.2522171, 19.40604309999999], [-99.2528389, 19.405739100000012], [-99.2533366, 19.4050945], [-99.2537165, 19.40501149999999], [-99.25434680000001, 19.404863099999996], [-99.2548574, 19.404554299999997], [-99.2553096, 19.4041279], [-99.2558079, 19.403572400000005], [-99.2560381, 19.4035615], [-99.2560341, 19.403392600000004], [-99.2560276, 19.403124499999997], [-99.2560135, 19.402535799999992], [-99.2561225, 19.402222299999995], [-99.2561376, 19.402178799999998], [-99.2561867, 19.402037699999997], [-99.2563829, 19.401522099999987], [-99.2565286, 19.401139199999985], [-99.2566728, 19.4007199], [-99.2568058, 19.400575199999995], [-99.2568919, 19.400481499999998], [-99.2569356, 19.400456599999988], [-99.2569794, 19.40043169999999], [-99.2573757, 19.401120199999998], [-99.25762230000001, 19.401525199999995], [-99.2576634, 19.4015927], [-99.2577797, 19.401790499999997], [-99.2581545, 19.402427800000005], [-99.2582337, 19.4025264], [-99.25826850000001, 19.402684199999992], [-99.2582425, 19.403089799999993], [-99.2580054, 19.403964399999996], [-99.2577787, 19.404284799999996], [-99.25772400000001, 19.404508599999993], [-99.2577229, 19.404679299999998], [-99.2576977, 19.404847999999994], [-99.2578842, 19.4048432], [-99.25813, 19.404763499999994], [-99.258679, 19.404060400000002], [-99.2588254, 19.403748899999997], [-99.2589409, 19.4032767], [-99.2590422, 19.402484299999998], [-99.2592258, 19.401765], [-99.2590742, 19.4014628], [-99.2592671, 19.4011852], [-99.2594816, 19.400931899999993], [-99.2598705, 19.400540099999994], [-99.2604532, 19.400251000000004], [-99.2609093, 19.3999582], [-99.2611402, 19.399647299999994], [-99.2613035, 19.39932919999999], [-99.2616214, 19.3992687], [-99.2617409, 19.399270199999997], [-99.2618252, 19.399300099999994], [-99.2618833, 19.39934829999999], [-99.2620654, 19.39959400000001], [-99.2621559, 19.399666299999996], [-99.2624108, 19.3997085], [-99.2627558, 19.399664799999996], [-99.2631875, 19.3995353], [-99.2635602, 19.399503099999993], [-99.26391580000002, 19.3994269], [-99.2640722, 19.3992314], [-99.2639933, 19.3990134], [-99.2639931, 19.398899199999995], [-99.2640089, 19.3987621], [-99.2640959, 19.398692699999998], [-99.2642518, 19.3986946], [-99.2644044, 19.3986889], [-99.2645893, 19.398713799999992], [-99.2647222, 19.398758599999994], [-99.2648598, 19.398852299999994], [-99.2649563, 19.398958699999994], [-99.2650766, 19.3989509], [-99.2653812, 19.398684], [-99.2657608, 19.3981903], [-99.2661153, 19.397344800000003], [-99.2662836, 19.3966236], [-99.2664385, 19.3960804], [-99.2667484, 19.3955492], [-99.2672371, 19.394912499999997], [-99.2673855, 19.394746999999995], [-99.2679738, 19.394090999999996], [-99.2680512, 19.393610399999993], [-99.2680667, 19.3933935], [-99.2680723, 19.3933157], [-99.2680985, 19.392970200000004], [-99.2681056, 19.392651499999996], [-99.268312, 19.392134899999988], [-99.2685625, 19.3919349], [-99.2689937, 19.39167979999999], [-99.2692527, 19.3915627], [-99.2694774, 19.391362300000004], [-99.2696187, 19.39100659999999], [-99.2695907, 19.390787499999995], [-99.2695381, 19.3906318], [-99.26956950000002, 19.390383799999984], [-99.2697714, 19.390266599999997], [-99.27022370000002, 19.390111599999997], [-99.27029320000001, 19.39009619999999], [-99.2710405, 19.389930999999997], [-99.2718371, 19.38973620000001], [-99.2724325, 19.3896784], [-99.2727758, 19.38937989999999], [-99.27290610000001, 19.3890217], [-99.2729747, 19.388549699999995], [-99.2730025, 19.388351999999994], [-99.273215, 19.387586899999995], [-99.2736028, 19.387239899999997], [-99.2736851, 19.3870367], [-99.2756714, 19.385500000000004], [-99.2760694, 19.385192099999998], [-99.276043, 19.385582199999998], [-99.2784737, 19.383723799999995], [-99.2787152, 19.383539099999997], [-99.2788432, 19.3829761], [-99.2793949, 19.382564199999994], [-99.2799581, 19.3820818], [-99.2806762, 19.381598699999987], [-99.2817729, 19.381476099999997], [-99.2818472, 19.381471099999995], [-99.2826649, 19.381415299999997], [-99.2828305, 19.381404], [-99.2832978, 19.3804403], [-99.2837711, 19.379977900000004], [-99.2838113, 19.379668], [-99.2842312, 19.379791499999993], [-99.2844605, 19.379760899999994], [-99.28456870000001, 19.379688300000005], [-99.28467640000001, 19.379349799999986], [-99.2848457, 19.379111400000003], [-99.285044, 19.37905089999999], [-99.2851109, 19.378869100000003], [-99.2850719, 19.377999200000005], [-99.2856686, 19.3776311], [-99.2857079, 19.377246499999995], [-99.285697, 19.376439099999985], [-99.2858773, 19.3764328], [-99.2861348, 19.376431899999996], [-99.2862231, 19.3764304], [-99.2863962, 19.376433599999995], [-99.2869093, 19.3765021], [-99.2876679, 19.376682199999998], [-99.2878083, 19.3763564], [-99.2878463, 19.3762682], [-99.2880525, 19.375789599999997], [-99.2881074, 19.375726999999998], [-99.2882827, 19.3755271], [-99.2886445, 19.375114599999986], [-99.2886322, 19.375094299999997], [-99.2889467, 19.375139100000005], [-99.2892707, 19.375165400000004], [-99.28957220000001, 19.375189799999994], [-99.2897154, 19.374996599999992], [-99.2897976, 19.374998999999992], [-99.2900262, 19.375005599999994], [-99.2901258, 19.375008499999993], [-99.2906139, 19.37502249999999], [-99.2907693, 19.3743173], [-99.2910696, 19.374020899999994], [-99.2911369, 19.373841100000003], [-99.2911757, 19.37348719999999], [-99.2916774, 19.3734859], [-99.2918308, 19.3733968], [-99.2920552, 19.373283599999997], [-99.2922377, 19.3730793], [-99.2922378, 19.373079199999992], [-99.2922993, 19.37301029999999], [-99.292612, 19.372660100000004], [-99.2929217, 19.372336700000005], [-99.2931554, 19.3720221], [-99.2932332, 19.371917399999997], [-99.2934157, 19.371206799999996], [-99.2936475, 19.370688199999996], [-99.293758, 19.370441199999984], [-99.2938894, 19.370147199999984], [-99.2940796, 19.370071299999992], [-99.29414050000001, 19.370047], [-99.29420080000001, 19.37002289999999], [-99.2944478, 19.369924400000016], [-99.2947713, 19.369864699999994], [-99.2949459, 19.369713099999988], [-99.29507720000001, 19.369585100000005], [-99.2953129, 19.369377599999996], [-99.2955873, 19.3690773], [-99.2957619, 19.3691054], [-99.2962384, 19.369182099999982], [-99.2965572, 19.36923339999999], [-99.2969473, 19.369310400000003], [-99.2974726, 19.369413999999985], [-99.2979171, 19.369324999999986], [-99.2981665, 19.3691866], [-99.2982684, 19.369071600000005], [-99.2984384, 19.368879799999995], [-99.2986242, 19.368494000000002], [-99.2987168, 19.368301699999996], [-99.2990198, 19.367515300000004], [-99.299683, 19.3681705], [-99.299831, 19.368316700000005], [-99.3004151, 19.3688939], [-99.3004163, 19.368894999999988], [-99.3004174, 19.36889609999998], [-99.3005823, 19.369059], [-99.3012316, 19.3697004], [-99.3009962, 19.370101699999996], [-99.3008867, 19.37061809999999], [-99.3009442, 19.371222300000003], [-99.3009631, 19.371769199999992], [-99.3009966, 19.371943100000006], [-99.3011504, 19.3722331], [-99.3012589, 19.3730203], [-99.3013574, 19.3738353], [-99.3015572, 19.374924300000004], [-99.3019384, 19.3757569], [-99.30185010000001, 19.3759433], [-99.301309, 19.3770838], [-99.3015567, 19.3771688], [-99.3034834, 19.37783], [-99.3042766, 19.377310599999998], [-99.3050053, 19.376833399999995], [-99.3061269, 19.373599899999995], [-99.3077649, 19.371561200000002], [-99.30928080000001, 19.3715848], [-99.3097775, 19.371174799999984], [-99.3107069, 19.370407700000012], [-99.3118309, 19.370303], [-99.3125588, 19.370215199999997], [-99.3134194, 19.369935400000006], [-99.3138084, 19.36930109999999], [-99.3140636, 19.368392800000002], [-99.3145284, 19.367240599999995], [-99.3154173, 19.3660802], [-99.3168616, 19.3663065], [-99.3176076, 19.365729499999986], [-99.3180495, 19.364820899999994], [-99.3181182, 19.3641565], [-99.3195428, 19.363618], [-99.3211415, 19.360924599999986], [-99.3184916, 19.358475300000002], [-99.318134, 19.358156399999974], [-99.3185449, 19.3579949], [-99.3187649, 19.357845100000002], [-99.3191522, 19.3576281], [-99.3201083, 19.357714999999985], [-99.3201436, 19.357741599999997], [-99.3204378, 19.357962499999992], [-99.3207523, 19.35819869999998], [-99.321555, 19.358508499999996], [-99.3220421, 19.35862029999999], [-99.3222191, 19.358660899999997], [-99.3228287, 19.35849919999999], [-99.3232858, 19.358337700000007], [-99.3237635, 19.357952599999997], [-99.3241457, 19.357335], [-99.3246763, 19.356415999999996], [-99.3250386, 19.3560251], [-99.3250547, 19.355720399999992], [-99.3253008, 19.355534499999997], [-99.3255277, 19.355258199999998], [-99.3257121, 19.355001199999993], [-99.3258466, 19.354593099999995], [-99.326392, 19.353671599999988], [-99.3267309, 19.353822299999987], [-99.3274313, 19.354133699999995], [-99.327668, 19.354043400000002], [-99.3277046, 19.353636299999998], [-99.3280412, 19.3533584], [-99.3284844, 19.353092399999998], [-99.3286741, 19.352679999999978], [-99.3288242, 19.3521047], [-99.3286461, 19.351381499999988], [-99.3287176, 19.351007599999996], [-99.3287568, 19.350643199999997], [-99.3288516, 19.350356200000004], [-99.328636, 19.3499653], [-99.3284221, 19.349706399999995], [-99.3283269, 19.349487299999996], [-99.3283934, 19.3491388], [-99.3284578, 19.348903699999997], [-99.3285852, 19.348499599999997], [-99.3286207, 19.348307499999997], [-99.3286965, 19.347896599999984], [-99.3285311, 19.347608800000014], [-99.3284473, 19.346819200000002], [-99.3287982, 19.346038499999988], [-99.32888130000002, 19.345624399999995], [-99.3282723, 19.3452024], [-99.3284799, 19.344717099999986], [-99.3287069, 19.344251], [-99.32875430000001, 19.34385689999999], [-99.3289372, 19.343615599999996], [-99.3290279, 19.343379299999988], [-99.32916140000002, 19.3429173], [-99.3294878, 19.342269699999985], [-99.3297274, 19.341622500000003], [-99.3302006, 19.341124099999988], [-99.3303305, 19.340987199999994], [-99.3306664, 19.3400632], [-99.3311519, 19.339775599999996], [-99.3311916, 19.33942789999999], [-99.3311904, 19.338792200000004], [-99.3314648, 19.338426599999984], [-99.33159180000001, 19.338109099999986], [-99.3316882, 19.337793499999993], [-99.3316433, 19.3366322], [-99.3318206, 19.3355372], [-99.331915, 19.334954199999995], [-99.332307, 19.3335181], [-99.3327948, 19.332415699999995], [-99.33342790000002, 19.331371100000002], [-99.3338421, 19.330590400000006], [-99.3381805, 19.32603329999998], [-99.3440339, 19.319884700000003], [-99.3566078, 19.30667579999999], [-99.3563686, 19.3033334], [-99.3562742, 19.302014499999995], [-99.3499853, 19.296837199999995], [-99.3534978, 19.297401799999996], [-99.3529238, 19.2960474], [-99.3512559, 19.294966199999998], [-99.3513923, 19.294496099999993], [-99.3514921, 19.29415240000001], [-99.3519543, 19.294140499999987], [-99.3524138, 19.293994099999992], [-99.3529984, 19.293649300000002], [-99.35327670000001, 19.293476800000004], [-99.3534716, 19.293383900000013], [-99.3537158, 19.293361899999994], [-99.354536, 19.29328799999999], [-99.35358130000002, 19.291934299999998], [-99.3648513, 19.277860399999998], [-99.3649242, 19.27776929999998]]]], &quot;type&quot;: &quot;MultiPolygon&quot;}, &quot;id&quot;: &quot;0&quot;, &quot;properties&quot;: {&quot;__folium_color&quot;: &quot;red&quot;, &quot;address&quot;: &quot;\\&quot;city\\&quot;=\\u003e\\&quot;mexico city\\&quot;,\\&quot;iso3166-2-lvl4\\&quot;=\\u003e\\&quot;mx-cmx\\&quot;,\\&quot;country\\&quot;=\\u003e\\&quot;mexico\\&quot;,\\&quot;country_code\\&quot;=\\u003e\\&quot;mx\\&quot;&quot;, &quot;class&quot;: &quot;boundary&quot;, &quot;extratags&quot;: &quot;\\&quot;ele\\&quot;=\\u003e\\&quot;2250\\&quot;,\\&quot;rank\\&quot;=\\u003e\\&quot;0\\&quot;,\\&quot;place\\&quot;=\\u003e\\&quot;city\\&quot;,\\&quot;capital\\&quot;=\\u003e\\&quot;yes\\&quot;,\\&quot;wikidata\\&quot;=\\u003e\\&quot;q1489\\&quot;,\\&quot;wikipedia\\&quot;=\\u003e\\&quot;en:mexico city\\&quot;,\\&quot;importance\\&quot;=\\u003e\\&quot;international\\&quot;,\\&quot;population\\&quot;=\\u003e\\&quot;8555500\\&quot;,\\&quot;ref:locode\\&quot;=\\u003e\\&quot;mxmex\\&quot;,\\&quot;linked_place\\&quot;=\\u003e\\&quot;city\\&quot;,\\&quot;boundary_type\\&quot;=\\u003e\\&quot;state\\&quot;,\\&quot;date:population\\&quot;=\\u003e\\&quot;2015\\&quot;,\\&quot;capital_iso3166-1\\&quot;=\\u003e\\&quot;yes\\&quot;&quot;, &quot;lat&quot;: 19.276894295573236, &quot;lon&quot;: -99.13941422379277, &quot;name&quot;: &quot;mexico city, mexico&quot;, &quot;osm_id&quot;: 1376330, &quot;type&quot;: &quot;administrative&quot;}, &quot;type&quot;: &quot;Feature&quot;}], &quot;type&quot;: &quot;FeatureCollection&quot;});\n",
       "\n",
       "        \n",
       "    \n",
       "    geo_json_b98ebf5a7e768dd0749f8e1be731a34d.bindTooltip(\n",
       "    function(layer){\n",
       "    let div = L.DomUtil.create(&#x27;div&#x27;);\n",
       "    \n",
       "    let handleObject = feature=&gt;typeof(feature)==&#x27;object&#x27; ? JSON.stringify(feature) : feature;\n",
       "    let fields = [&quot;osm_id&quot;, &quot;class&quot;, &quot;type&quot;, &quot;name&quot;, &quot;address&quot;, &quot;extratags&quot;, &quot;lat&quot;, &quot;lon&quot;];\n",
       "    let aliases = [&quot;osm_id&quot;, &quot;class&quot;, &quot;type&quot;, &quot;name&quot;, &quot;address&quot;, &quot;extratags&quot;, &quot;lat&quot;, &quot;lon&quot;];\n",
       "    let table = &#x27;&lt;table&gt;&#x27; +\n",
       "        String(\n",
       "        fields.map(\n",
       "        (v,i)=&gt;\n",
       "        `&lt;tr&gt;\n",
       "            &lt;th&gt;${aliases[i]}&lt;/th&gt;\n",
       "            \n",
       "            &lt;td&gt;${handleObject(layer.feature.properties[v])}&lt;/td&gt;\n",
       "        &lt;/tr&gt;`).join(&#x27;&#x27;))\n",
       "    +&#x27;&lt;/table&gt;&#x27;;\n",
       "    div.innerHTML=table;\n",
       "    \n",
       "    return div\n",
       "    }\n",
       "    ,{\n",
       "  &quot;sticky&quot;: true,\n",
       "  &quot;className&quot;: &quot;foliumtooltip&quot;,\n",
       "});\n",
       "                     \n",
       "    \n",
       "            geo_json_b98ebf5a7e768dd0749f8e1be731a34d.addTo(map_331818a0a8a1e750b705893223710973);\n",
       "        \n",
       "    \n",
       "        function geo_json_99171c84a3e5480256a3b690064e6cda_styler(feature) {\n",
       "            switch(feature.id) {\n",
       "                case &quot;1&quot;: case &quot;2&quot;: \n",
       "                    return {&quot;color&quot;: &quot;#1f77b4&quot;, &quot;fillColor&quot;: &quot;#1f77b4&quot;, &quot;fillOpacity&quot;: 0.25, &quot;weight&quot;: 2};\n",
       "                case &quot;59&quot;: case &quot;60&quot;: \n",
       "                    return {&quot;color&quot;: &quot;#17becf&quot;, &quot;fillColor&quot;: &quot;#17becf&quot;, &quot;fillOpacity&quot;: 0.25, &quot;weight&quot;: 2};\n",
       "                case &quot;52&quot;: \n",
       "                    return {&quot;color&quot;: &quot;#c7c7c7&quot;, &quot;fillColor&quot;: &quot;#c7c7c7&quot;, &quot;fillOpacity&quot;: 0.25, &quot;weight&quot;: 2};\n",
       "                case &quot;43&quot;: case &quot;68&quot;: \n",
       "                    return {&quot;color&quot;: &quot;#e377c2&quot;, &quot;fillColor&quot;: &quot;#e377c2&quot;, &quot;fillOpacity&quot;: 0.25, &quot;weight&quot;: 2};\n",
       "                case &quot;13&quot;: \n",
       "                    return {&quot;color&quot;: &quot;#ffbb78&quot;, &quot;fillColor&quot;: &quot;#ffbb78&quot;, &quot;fillOpacity&quot;: 0.25, &quot;weight&quot;: 2};\n",
       "                case &quot;48&quot;: case &quot;50&quot;: \n",
       "                    return {&quot;color&quot;: &quot;#7f7f7f&quot;, &quot;fillColor&quot;: &quot;#7f7f7f&quot;, &quot;fillOpacity&quot;: 0.25, &quot;weight&quot;: 2};\n",
       "                case &quot;14&quot;: case &quot;20&quot;: \n",
       "                    return {&quot;color&quot;: &quot;#2ca02c&quot;, &quot;fillColor&quot;: &quot;#2ca02c&quot;, &quot;fillOpacity&quot;: 0.25, &quot;weight&quot;: 2};\n",
       "                case &quot;40&quot;: case &quot;37&quot;: \n",
       "                    return {&quot;color&quot;: &quot;#8c564b&quot;, &quot;fillColor&quot;: &quot;#8c564b&quot;, &quot;fillOpacity&quot;: 0.25, &quot;weight&quot;: 2};\n",
       "                case &quot;54&quot;: case &quot;56&quot;: \n",
       "                    return {&quot;color&quot;: &quot;#bcbd22&quot;, &quot;fillColor&quot;: &quot;#bcbd22&quot;, &quot;fillOpacity&quot;: 0.25, &quot;weight&quot;: 2};\n",
       "                case &quot;61&quot;: case &quot;65&quot;: \n",
       "                    return {&quot;color&quot;: &quot;#9edae5&quot;, &quot;fillColor&quot;: &quot;#9edae5&quot;, &quot;fillOpacity&quot;: 0.25, &quot;weight&quot;: 2};\n",
       "                case &quot;28&quot;: \n",
       "                    return {&quot;color&quot;: &quot;#ff9896&quot;, &quot;fillColor&quot;: &quot;#ff9896&quot;, &quot;fillOpacity&quot;: 0.25, &quot;weight&quot;: 2};\n",
       "                case &quot;42&quot;: \n",
       "                    return {&quot;color&quot;: &quot;#c49c94&quot;, &quot;fillColor&quot;: &quot;#c49c94&quot;, &quot;fillOpacity&quot;: 0.25, &quot;weight&quot;: 2};\n",
       "                case &quot;24&quot;: case &quot;22&quot;: \n",
       "                    return {&quot;color&quot;: &quot;#d62728&quot;, &quot;fillColor&quot;: &quot;#d62728&quot;, &quot;fillOpacity&quot;: 0.25, &quot;weight&quot;: 2};\n",
       "                case &quot;36&quot;: \n",
       "                    return {&quot;color&quot;: &quot;#c5b0d5&quot;, &quot;fillColor&quot;: &quot;#c5b0d5&quot;, &quot;fillOpacity&quot;: 0.25, &quot;weight&quot;: 2};\n",
       "                case &quot;57&quot;: \n",
       "                    return {&quot;color&quot;: &quot;#dbdb8d&quot;, &quot;fillColor&quot;: &quot;#dbdb8d&quot;, &quot;fillOpacity&quot;: 0.25, &quot;weight&quot;: 2};\n",
       "                case &quot;4&quot;: \n",
       "                    return {&quot;color&quot;: &quot;#aec7e8&quot;, &quot;fillColor&quot;: &quot;#aec7e8&quot;, &quot;fillOpacity&quot;: 0.25, &quot;weight&quot;: 2};\n",
       "                case &quot;67&quot;: \n",
       "                    return {&quot;color&quot;: &quot;#98df8a&quot;, &quot;fillColor&quot;: &quot;#98df8a&quot;, &quot;fillOpacity&quot;: 0.25, &quot;weight&quot;: 2};\n",
       "                case &quot;47&quot;: \n",
       "                    return {&quot;color&quot;: &quot;#f7b6d2&quot;, &quot;fillColor&quot;: &quot;#f7b6d2&quot;, &quot;fillOpacity&quot;: 0.25, &quot;weight&quot;: 2};\n",
       "                case &quot;33&quot;: case &quot;31&quot;: \n",
       "                    return {&quot;color&quot;: &quot;#9467bd&quot;, &quot;fillColor&quot;: &quot;#9467bd&quot;, &quot;fillOpacity&quot;: 0.25, &quot;weight&quot;: 2};\n",
       "                default:\n",
       "                    return {&quot;color&quot;: &quot;#ff7f0e&quot;, &quot;fillColor&quot;: &quot;#ff7f0e&quot;, &quot;fillOpacity&quot;: 0.25, &quot;weight&quot;: 2};\n",
       "            }\n",
       "        }\n",
       "        function geo_json_99171c84a3e5480256a3b690064e6cda_highlighter(feature) {\n",
       "            switch(feature.id) {\n",
       "                default:\n",
       "                    return {&quot;fillOpacity&quot;: 0.75};\n",
       "            }\n",
       "        }\n",
       "        function geo_json_99171c84a3e5480256a3b690064e6cda_pointToLayer(feature, latlng) {\n",
       "            var opts = {&quot;bubblingMouseEvents&quot;: true, &quot;color&quot;: &quot;#3388ff&quot;, &quot;dashArray&quot;: null, &quot;dashOffset&quot;: null, &quot;fill&quot;: true, &quot;fillColor&quot;: &quot;#3388ff&quot;, &quot;fillOpacity&quot;: 0.2, &quot;fillRule&quot;: &quot;evenodd&quot;, &quot;lineCap&quot;: &quot;round&quot;, &quot;lineJoin&quot;: &quot;round&quot;, &quot;opacity&quot;: 1.0, &quot;radius&quot;: 2, &quot;stroke&quot;: true, &quot;weight&quot;: 3};\n",
       "            \n",
       "            let style = geo_json_99171c84a3e5480256a3b690064e6cda_styler(feature)\n",
       "            Object.assign(opts, style)\n",
       "            \n",
       "            return new L.CircleMarker(latlng, opts)\n",
       "        }\n",
       "\n",
       "        function geo_json_99171c84a3e5480256a3b690064e6cda_onEachFeature(feature, layer) {\n",
       "            layer.on({\n",
       "                mouseout: function(e) {\n",
       "                    if(typeof e.target.setStyle === &quot;function&quot;){\n",
       "                            geo_json_99171c84a3e5480256a3b690064e6cda.resetStyle(e.target);\n",
       "                    }\n",
       "                },\n",
       "                mouseover: function(e) {\n",
       "                    if(typeof e.target.setStyle === &quot;function&quot;){\n",
       "                        const highlightStyle = geo_json_99171c84a3e5480256a3b690064e6cda_highlighter(e.target.feature)\n",
       "                        e.target.setStyle(highlightStyle);\n",
       "                    }\n",
       "                },\n",
       "            });\n",
       "        };\n",
       "        var geo_json_99171c84a3e5480256a3b690064e6cda = L.geoJson(null, {\n",
       "                onEachFeature: geo_json_99171c84a3e5480256a3b690064e6cda_onEachFeature,\n",
       "            \n",
       "                style: geo_json_99171c84a3e5480256a3b690064e6cda_styler,\n",
       "                pointToLayer: geo_json_99171c84a3e5480256a3b690064e6cda_pointToLayer,\n",
       "            ...{\n",
       "  &quot;alpha&quot;: 0.5,\n",
       "}\n",
       "        });\n",
       "\n",
       "        function geo_json_99171c84a3e5480256a3b690064e6cda_add (data) {\n",
       "            geo_json_99171c84a3e5480256a3b690064e6cda\n",
       "                .addData(data);\n",
       "        }\n",
       "            geo_json_99171c84a3e5480256a3b690064e6cda_add({&quot;bbox&quot;: [-99.29852095726608, 19.14354986749929, -98.96522285790697, 19.586450028128294], &quot;features&quot;: [{&quot;bbox&quot;: [-99.16496442507867, 19.14354986749929, -99.13165024924784, 19.175207985102297], &quot;geometry&quot;: {&quot;coordinates&quot;: [[[-99.13165024924784, 19.143576714852156], [-99.13167535289391, 19.175207985102297], [-99.16496442507867, 19.175181090021326], [-99.16493297499977, 19.14354986749929], [-99.13165024924784, 19.143576714852156]]], &quot;type&quot;: &quot;Polygon&quot;}, &quot;id&quot;: &quot;1&quot;, &quot;properties&quot;: {&quot;__folium_color&quot;: &quot;#1f77b4&quot;, &quot;cve_estac&quot;: &quot;AJU&quot;}, &quot;type&quot;: &quot;Feature&quot;}, {&quot;bbox&quot;: [-99.19836727191887, 19.238410159815306, -99.16502751126912, 19.27007410341075], &quot;geometry&quot;: {&quot;coordinates&quot;: [[[-99.16502751126912, 19.238443208128473], [-99.16505914748961, 19.27007410341075], [-99.19836727191887, 19.270040996592687], [-99.19832925175807, 19.238410159815306], [-99.16502751126912, 19.238443208128473]]], &quot;type&quot;: &quot;Polygon&quot;}, &quot;id&quot;: &quot;59&quot;, &quot;properties&quot;: {&quot;__folium_color&quot;: &quot;#17becf&quot;, &quot;cve_estac&quot;: &quot;TPN&quot;}, &quot;type&quot;: &quot;Feature&quot;}, {&quot;bbox&quot;: [-99.23171981292604, 19.270001821381104, -99.19836727191887, 19.301671723965843], &quot;geometry&quot;: {&quot;coordinates&quot;: [[[-99.19836727191887, 19.270040996592687], [-99.19840536677866, 19.301671723965843], [-99.23171981292604, 19.301632479499933], [-99.23167532164919, 19.270001821381104], [-99.19836727191887, 19.270040996592687]]], &quot;type&quot;: &quot;Polygon&quot;}, &quot;id&quot;: &quot;2&quot;, &quot;properties&quot;: {&quot;__folium_color&quot;: &quot;#1f77b4&quot;, &quot;cve_estac&quot;: &quot;AJM&quot;}, &quot;type&quot;: &quot;Feature&quot;}, {&quot;bbox&quot;: [-99.16512260645446, 19.301704889310493, -99.13177626274314, 19.33336269966289], &quot;geometry&quot;: {&quot;coordinates&quot;: [[[-99.13177626274314, 19.301731975480276], [-99.13180161423962, 19.33336269966289], [-99.16512260645446, 19.33333556567662], [-99.16509084586646, 19.301704889310493], [-99.13177626274314, 19.301731975480276]]], &quot;type&quot;: &quot;Polygon&quot;}, &quot;id&quot;: &quot;52&quot;, &quot;properties&quot;: {&quot;__folium_color&quot;: &quot;#c7c7c7&quot;, &quot;cve_estac&quot;: &quot;SUR&quot;}, &quot;type&quot;: &quot;Feature&quot;}, {&quot;bbox&quot;: [-99.23176439152122, 19.301632479499933, -99.19840536677866, 19.333302341783643], &quot;geometry&quot;: {&quot;coordinates&quot;: [[[-99.19840536677866, 19.301671723965843], [-99.19844353640325, 19.333302341783643], [-99.23176439152122, 19.33326302803768], [-99.23171981292604, 19.301632479499933], [-99.19840536677866, 19.301671723965843]]], &quot;type&quot;: &quot;Polygon&quot;}, &quot;id&quot;: &quot;43&quot;, &quot;properties&quot;: {&quot;__folium_color&quot;: &quot;#e377c2&quot;, &quot;cve_estac&quot;: &quot;PED&quot;}, &quot;type&quot;: &quot;Feature&quot;}, {&quot;bbox&quot;: [-99.19844353640325, 19.301671723965843, -99.16509084586646, 19.33333556567662], &quot;geometry&quot;: {&quot;coordinates&quot;: [[[-99.16509084586646, 19.301704889310493], [-99.16512260645446, 19.33333556567662], [-99.19844353640325, 19.333302341783643], [-99.19840536677866, 19.301671723965843], [-99.16509084586646, 19.301704889310493]]], &quot;type&quot;: &quot;Polygon&quot;}, &quot;id&quot;: &quot;8&quot;, &quot;properties&quot;: {&quot;__folium_color&quot;: &quot;#ff7f0e&quot;, &quot;cve_estac&quot;: &quot;CCA&quot;}, &quot;type&quot;: &quot;Feature&quot;}, {&quot;bbox&quot;: [-99.16515442930854, 19.33333556567662, -99.13180161423962, 19.36499331417875], &quot;geometry&quot;: {&quot;coordinates&quot;: [[[-99.13180161423962, 19.33336269966289], [-99.13182701543731, 19.36499331417875], [-99.16515442930854, 19.364966132358198], [-99.16512260645446, 19.33333556567662], [-99.13180161423962, 19.33336269966289]]], &quot;type&quot;: &quot;Polygon&quot;}, &quot;id&quot;: &quot;13&quot;, &quot;properties&quot;: {&quot;__folium_color&quot;: &quot;#ffbb78&quot;, &quot;cve_estac&quot;: &quot;COY&quot;}, &quot;type&quot;: &quot;Feature&quot;}, {&quot;bbox&quot;: [-99.26513624669228, 19.33321762450229, -99.23176439152122, 19.36489346684332], &quot;geometry&quot;: {&quot;coordinates&quot;: [[[-99.23176439152122, 19.33326302803768], [-99.23180905751182, 19.36489346684332], [-99.26513624669228, 19.3648479832665], [-99.2650851592438, 19.33321762450229], [-99.23176439152122, 19.33326302803768]]], &quot;type&quot;: &quot;Polygon&quot;}, &quot;id&quot;: &quot;48&quot;, &quot;properties&quot;: {&quot;__folium_color&quot;: &quot;#7f7f7f&quot;, &quot;cve_estac&quot;: &quot;SFE&quot;}, &quot;type&quot;: &quot;Feature&quot;}, {&quot;bbox&quot;: [-99.29852095726608, 19.364796399238212, -99.26513624669228, 19.396478232117843], &quot;geometry&quot;: {&quot;coordinates&quot;: [[[-99.26513624669228, 19.3648479832665], [-99.265187434189, 19.396478232117843], [-99.29852095726608, 19.396426557278843], [-99.29846333582456, 19.364796399238212], [-99.26513624669228, 19.3648479832665]]], &quot;type&quot;: &quot;Polygon&quot;}, &quot;id&quot;: &quot;14&quot;, &quot;properties&quot;: {&quot;__folium_color&quot;: &quot;#2ca02c&quot;, &quot;cve_estac&quot;: &quot;CUA&quot;}, &quot;type&quot;: &quot;Feature&quot;}, {&quot;bbox&quot;: [-98.9985186944234, 19.17525191501882, -98.96522285790697, 19.206886446992], &quot;geometry&quot;: {&quot;coordinates&quot;: [[[-98.96522949992253, 19.17525191501882], [-98.96522285790697, 19.20688315434505], [-98.99851841145775, 19.206886446992], [-98.9985186944234, 19.175255201830833], [-98.96522949992253, 19.17525191501882]]], &quot;type&quot;: &quot;Polygon&quot;}, &quot;id&quot;: &quot;40&quot;, &quot;properties&quot;: {&quot;__folium_color&quot;: &quot;#8c564b&quot;, &quot;cve_estac&quot;: &quot;MPA&quot;}, &quot;type&quot;: &quot;Feature&quot;}, {&quot;bbox&quot;: [-99.03182615363711, 19.23851482376256, -98.99851784385449, 19.270148610069015], &quot;geometry&quot;: {&quot;coordinates&quot;: [[[-98.99851812793494, 19.23851758312181], [-98.99851784385449, 19.270148610069015], [-99.03182615363711, 19.27014584582491], [-99.03182005361424, 19.23851482376256], [-98.99851812793494, 19.23851758312181]]], &quot;type&quot;: &quot;Polygon&quot;}, &quot;id&quot;: &quot;54&quot;, &quot;properties&quot;: {&quot;__folium_color&quot;: &quot;#bcbd22&quot;, &quot;cve_estac&quot;: &quot;TAH&quot;}, &quot;type&quot;: &quot;Feature&quot;}, {&quot;bbox&quot;: [-99.13180161423962, 19.301731975480276, -99.0984616299625, 19.333383743698594], &quot;geometry&quot;: {&quot;coordinates&quot;: [[[-99.0984616299625, 19.301752982431402], [-99.09848057232361, 19.333383743698594], [-99.13180161423962, 19.33336269966289], [-99.13177626274314, 19.301731975480276], [-99.0984616299625, 19.301752982431402]]], &quot;type&quot;: &quot;Polygon&quot;}, &quot;id&quot;: &quot;60&quot;, &quot;properties&quot;: {&quot;__folium_color&quot;: &quot;#17becf&quot;, &quot;cve_estac&quot;: &quot;UAX&quot;}, &quot;type&quot;: &quot;Feature&quot;}, {&quot;bbox&quot;: [-99.03184452565722, 19.333407561792054, -98.99851698826231, 19.365041034304586], &quot;geometry&quot;: {&quot;coordinates&quot;: [[[-98.99851727401867, 19.333410335811305], [-98.99851698826231, 19.365041034304586], [-99.03184452565722, 19.365038255395035], [-99.03183838964803, 19.333407561792054], [-98.99851727401867, 19.333410335811305]]], &quot;type&quot;: &quot;Polygon&quot;}, &quot;id&quot;: &quot;68&quot;, &quot;properties&quot;: {&quot;__folium_color&quot;: &quot;#e377c2&quot;, &quot;cve_estac&quot;: &quot;SAC&quot;}, &quot;type&quot;: &quot;Feature&quot;}, {&quot;bbox&quot;: [-99.09849955182092, 19.333383743698594, -99.06515949327138, 19.36502937572633], &quot;geometry&quot;: {&quot;coordinates&quot;: [[[-99.06515949327138, 19.333398697749708], [-99.0651720510355, 19.36502937572633], [-99.09849955182092, 19.36501439531283], [-99.09848057232361, 19.333383743698594], [-99.06515949327138, 19.333398697749708]]], &quot;type&quot;: &quot;Polygon&quot;}, &quot;id&quot;: &quot;61&quot;, &quot;properties&quot;: {&quot;__folium_color&quot;: &quot;#9edae5&quot;, &quot;cve_estac&quot;: &quot;UIZ&quot;}, &quot;type&quot;: &quot;Feature&quot;}, {&quot;bbox&quot;: [-99.13185246638014, 19.36499331417875, -99.09849955182092, 19.39664493712336], &quot;geometry&quot;: {&quot;coordinates&quot;: [[[-99.09849955182092, 19.36501439531283], [-99.0985185684873, 19.39664493712336], [-99.13185246638014, 19.39662381887708], [-99.13182701543731, 19.36499331417875], [-99.09849955182092, 19.36501439531283]]], &quot;type&quot;: &quot;Polygon&quot;}, &quot;id&quot;: &quot;28&quot;, &quot;properties&quot;: {&quot;__folium_color&quot;: &quot;#ff9896&quot;, &quot;cve_estac&quot;: &quot;IZT&quot;}, &quot;type&quot;: &quot;Feature&quot;}, {&quot;bbox&quot;: [-99.03185067368305, 19.365038255395035, -98.99851670194633, 19.396671623011642], &quot;geometry&quot;: {&quot;coordinates&quot;: [[[-98.99851698826231, 19.365041034304586], [-98.99851670194633, 19.396671623011642], [-99.03185067368305, 19.39666883920997], [-99.03184452565722, 19.365038255395035], [-98.99851698826231, 19.365041034304586]]], &quot;type&quot;: &quot;Polygon&quot;}, &quot;id&quot;: &quot;42&quot;, &quot;properties&quot;: {&quot;__folium_color&quot;: &quot;#c49c94&quot;, &quot;cve_estac&quot;: &quot;NEZ&quot;}, &quot;type&quot;: &quot;Feature&quot;}, {&quot;bbox&quot;: [-99.09855671345895, 19.428275368979584, -99.06519724036413, 19.459920750290763], &quot;geometry&quot;: {&quot;coordinates&quot;: [[[-99.06519724036413, 19.42829040214737], [-99.06520987197227, 19.459920750290763], [-99.09855671345895, 19.45990569073104], [-99.09853762235564, 19.428275368979584], [-99.06519724036413, 19.42829040214737]]], &quot;type&quot;: &quot;Polygon&quot;}, &quot;id&quot;: &quot;50&quot;, &quot;properties&quot;: {&quot;__folium_color&quot;: &quot;#7f7f7f&quot;, &quot;cve_estac&quot;: &quot;SJA&quot;}, &quot;type&quot;: &quot;Feature&quot;}, {&quot;bbox&quot;: [-99.23189865198863, 19.396523795765916, -99.19852010021111, 19.428193536395725], &quot;geometry&quot;: {&quot;coordinates&quot;: [[[-99.19852010021111, 19.396563248149377], [-99.19855849452689, 19.428193536395725], [-99.23189865198863, 19.42815401465471], [-99.23185381097514, 19.396523795765916], [-99.19852010021111, 19.396563248149377]]], &quot;type&quot;: &quot;Polygon&quot;}, &quot;id&quot;: &quot;37&quot;, &quot;properties&quot;: {&quot;__folium_color&quot;: &quot;#8c564b&quot;, &quot;cve_estac&quot;: &quot;MGH&quot;}, &quot;type&quot;: &quot;Feature&quot;}, {&quot;bbox&quot;: [-99.16521826203535, 19.396596589204407, -99.13185246638014, 19.428254213607246], &quot;geometry&quot;: {&quot;coordinates&quot;: [[[-99.13185246638014, 19.39662381887708], [-99.13187796711217, 19.428254213607246], [-99.16521826203535, 19.428226936064583], [-99.16518631448378, 19.396596589204407], [-99.13185246638014, 19.39662381887708]]], &quot;type&quot;: &quot;Polygon&quot;}, &quot;id&quot;: &quot;24&quot;, &quot;properties&quot;: {&quot;__folium_color&quot;: &quot;#d62728&quot;, &quot;cve_estac&quot;: &quot;HGM&quot;}, &quot;type&quot;: &quot;Feature&quot;}, {&quot;bbox&quot;: [-99.13187796711217, 19.39662381887708, -99.0985185684873, 19.428275368979584], &quot;geometry&quot;: {&quot;coordinates&quot;: [[[-99.0985185684873, 19.39664493712336], [-99.09853762235564, 19.428275368979584], [-99.13187796711217, 19.428254213607246], [-99.13185246638014, 19.39662381887708], [-99.0985185684873, 19.39664493712336]]], &quot;type&quot;: &quot;Polygon&quot;}, &quot;id&quot;: &quot;36&quot;, &quot;properties&quot;: {&quot;__folium_color&quot;: &quot;#c5b0d5&quot;, &quot;cve_estac&quot;: &quot;MER&quot;}, &quot;type&quot;: &quot;Feature&quot;}, {&quot;bbox&quot;: [-99.19863550831461, 19.45982371448358, -99.16525027201861, 19.491487299224833], &quot;geometry&quot;: {&quot;coordinates&quot;: [[[-99.16525027201861, 19.459857172788194], [-99.16528234448897, 19.491487299224833], [-99.19863550831461, 19.49145378226249], [-99.19859696387252, 19.45982371448358], [-99.16525027201861, 19.459857172788194]]], &quot;type&quot;: &quot;Polygon&quot;}, &quot;id&quot;: &quot;7&quot;, &quot;properties&quot;: {&quot;__folium_color&quot;: &quot;#ff7f0e&quot;, &quot;cve_estac&quot;: &quot;CAM&quot;}, &quot;type&quot;: &quot;Feature&quot;}, {&quot;bbox&quot;: [-99.26534159785564, 19.459738399478688, -99.23194358062996, 19.491414121728454], &quot;geometry&quot;: {&quot;coordinates&quot;: [[[-99.23194358062996, 19.459784123359057], [-99.23198859697696, 19.491414121728454], [-99.26534159785564, 19.491368317686927], [-99.26529010968176, 19.459738399478688], [-99.23194358062996, 19.459784123359057]]], &quot;type&quot;: &quot;Polygon&quot;}, &quot;id&quot;: &quot;20&quot;, &quot;properties&quot;: {&quot;__folium_color&quot;: &quot;#2ca02c&quot;, &quot;cve_estac&quot;: &quot;FAC&quot;}, &quot;type&quot;: &quot;Feature&quot;}, {&quot;bbox&quot;: [-99.23207889310035, 19.523044009612544, -99.19867412792, 19.554713586292397], &quot;geometry&quot;: {&quot;coordinates&quot;: [[[-99.19867412792, 19.523083739582155], [-99.19871282275568, 19.554713586292397], [-99.23207889310035, 19.5546737868611], [-99.2320337011077, 19.523044009612544], [-99.19867412792, 19.523083739582155]]], &quot;type&quot;: &quot;Polygon&quot;}, &quot;id&quot;: &quot;57&quot;, &quot;properties&quot;: {&quot;__folium_color&quot;: &quot;#dbdb8d&quot;, &quot;cve_estac&quot;: &quot;TLA&quot;}, &quot;type&quot;: &quot;Feature&quot;}, {&quot;bbox&quot;: [-99.26549666515903, 19.55462782240689, -99.23207889310035, 19.58630345332402], &quot;geometry&quot;: {&quot;coordinates&quot;: [[[-99.23207889310035, 19.5546737868611], [-99.23212417303334, 19.58630345332402], [-99.26549666515903, 19.58625740861816], [-99.2654448755047, 19.55462782240689], [-99.23207889310035, 19.5546737868611]]], &quot;type&quot;: &quot;Polygon&quot;}, &quot;id&quot;: &quot;4&quot;, &quot;properties&quot;: {&quot;__folium_color&quot;: &quot;#aec7e8&quot;, &quot;cve_estac&quot;: &quot;ATI&quot;}, &quot;type&quot;: &quot;Feature&quot;}, {&quot;bbox&quot;: [-99.06522252823875, 19.459920750290763, -99.03186300582722, 19.491559930421467], &quot;geometry&quot;: {&quot;coordinates&quot;: [[[-99.03186300582722, 19.45992967687355], [-99.03186918996693, 19.491559930421467], [-99.06522252823875, 19.49155098818895], [-99.06520987197227, 19.459920750290763], [-99.03186300582722, 19.45992967687355]]], &quot;type&quot;: &quot;Polygon&quot;}, &quot;id&quot;: &quot;67&quot;, &quot;properties&quot;: {&quot;__folium_color&quot;: &quot;#98df8a&quot;, &quot;cve_estac&quot;: &quot;FAR&quot;}, &quot;type&quot;: &quot;Feature&quot;}, {&quot;bbox&quot;: [-99.09857584183028, 19.45990569073104, -99.06520987197227, 19.49155098818895], &quot;geometry&quot;: {&quot;coordinates&quot;: [[[-99.06520987197227, 19.459920750290763], [-99.06522252823875, 19.49155098818895], [-99.09857584183028, 19.4915359022274], [-99.09855671345895, 19.45990569073104], [-99.06520987197227, 19.459920750290763]]], &quot;type&quot;: &quot;Polygon&quot;}, &quot;id&quot;: &quot;22&quot;, &quot;properties&quot;: {&quot;__folium_color&quot;: &quot;#d62728&quot;, &quot;cve_estac&quot;: &quot;GAM&quot;}, &quot;type&quot;: &quot;Feature&quot;}, {&quot;bbox&quot;: [-99.13192911812064, 19.459884498218756, -99.09855671345895, 19.4915359022274], &quot;geometry&quot;: {&quot;coordinates&quot;: [[[-99.09855671345895, 19.45990569073104], [-99.09857584183028, 19.4915359022274], [-99.13192911812064, 19.491514672561244], [-99.13190351767759, 19.459884498218756], [-99.09855671345895, 19.45990569073104]]], &quot;type&quot;: &quot;Polygon&quot;}, &quot;id&quot;: &quot;56&quot;, &quot;properties&quot;: {&quot;__folium_color&quot;: &quot;#bcbd22&quot;, &quot;cve_estac&quot;: &quot;TEC&quot;}, &quot;type&quot;: &quot;Feature&quot;}, {&quot;bbox&quot;: [-99.09861421050985, 19.523166003318472, -99.06523520918557, 19.55481113264916], &quot;geometry&quot;: {&quot;coordinates&quot;: [[[-99.06523520918557, 19.523181115691763], [-99.06524791483467, 19.55481113264916], [-99.09861421050985, 19.554795993854203], [-99.09859500750285, 19.523166003318472], [-99.06523520918557, 19.523181115691763]]], &quot;type&quot;: &quot;Polygon&quot;}, &quot;id&quot;: &quot;65&quot;, &quot;properties&quot;: {&quot;__folium_color&quot;: &quot;#9edae5&quot;, &quot;cve_estac&quot;: &quot;XAL&quot;}, &quot;type&quot;: &quot;Feature&quot;}, {&quot;bbox&quot;: [-99.03188159443516, 19.523190073579897, -98.9985152619548, 19.554822914488568], &quot;geometry&quot;: {&quot;coordinates&quot;: [[[-98.99851555107632, 19.523192876968363], [-98.9985152619548, 19.554822914488568], [-99.03188159443516, 19.5548201061988], [-99.03187538616599, 19.523190073579897], [-98.99851555107632, 19.523192876968363]]], &quot;type&quot;: &quot;Polygon&quot;}, &quot;id&quot;: &quot;47&quot;, &quot;properties&quot;: {&quot;__folium_color&quot;: &quot;#f7b6d2&quot;, &quot;cve_estac&quot;: &quot;SAG&quot;}, &quot;type&quot;: &quot;Feature&quot;}, {&quot;bbox&quot;: [-99.13198046881728, 19.523144736484493, -99.09859500750285, 19.554795993854203], &quot;geometry&quot;: {&quot;coordinates&quot;: [[[-99.09859500750285, 19.523166003318472], [-99.09861421050985, 19.554795993854203], [-99.13198046881728, 19.55477468983842], [-99.13195476848571, 19.523144736484493], [-99.09859500750285, 19.523166003318472]]], &quot;type&quot;: &quot;Polygon&quot;}, &quot;id&quot;: &quot;33&quot;, &quot;properties&quot;: {&quot;__folium_color&quot;: &quot;#9467bd&quot;, &quot;cve_estac&quot;: &quot;LPR&quot;}, &quot;type&quot;: &quot;Feature&quot;}, {&quot;bbox&quot;: [-99.06526064520814, 19.55481113264916, -99.03188159443516, 19.586450028128294], &quot;geometry&quot;: {&quot;coordinates&quot;: [[[-99.03188159443516, 19.5548201061988], [-99.03188781478522, 19.586450028128294], [-99.06526064520814, 19.586441038911257], [-99.06524791483467, 19.55481113264916], [-99.03188159443516, 19.5548201061988]]], &quot;type&quot;: &quot;Polygon&quot;}, &quot;id&quot;: &quot;31&quot;, &quot;properties&quot;: {&quot;__folium_color&quot;: &quot;#9467bd&quot;, &quot;cve_estac&quot;: &quot;LLA&quot;}, &quot;type&quot;: &quot;Feature&quot;}], &quot;type&quot;: &quot;FeatureCollection&quot;});\n",
       "\n",
       "        \n",
       "    \n",
       "    geo_json_99171c84a3e5480256a3b690064e6cda.bindTooltip(\n",
       "    function(layer){\n",
       "    let div = L.DomUtil.create(&#x27;div&#x27;);\n",
       "    \n",
       "    let handleObject = feature=&gt;typeof(feature)==&#x27;object&#x27; ? JSON.stringify(feature) : feature;\n",
       "    let fields = [&quot;cve_estac&quot;];\n",
       "    let aliases = [&quot;cve_estac&quot;];\n",
       "    let table = &#x27;&lt;table&gt;&#x27; +\n",
       "        String(\n",
       "        fields.map(\n",
       "        (v,i)=&gt;\n",
       "        `&lt;tr&gt;\n",
       "            &lt;th&gt;${aliases[i]}&lt;/th&gt;\n",
       "            \n",
       "            &lt;td&gt;${handleObject(layer.feature.properties[v])}&lt;/td&gt;\n",
       "        &lt;/tr&gt;`).join(&#x27;&#x27;))\n",
       "    +&#x27;&lt;/table&gt;&#x27;;\n",
       "    div.innerHTML=table;\n",
       "    \n",
       "    return div\n",
       "    }\n",
       "    ,{\n",
       "  &quot;sticky&quot;: true,\n",
       "  &quot;className&quot;: &quot;foliumtooltip&quot;,\n",
       "});\n",
       "                     \n",
       "    \n",
       "            geo_json_99171c84a3e5480256a3b690064e6cda.addTo(map_331818a0a8a1e750b705893223710973);\n",
       "        \n",
       "    \n",
       "        function geo_json_c3942d0c06e813111ed3a381c9278ca0_styler(feature) {\n",
       "            switch(feature.id) {\n",
       "                case &quot;1&quot;: case &quot;2&quot;: \n",
       "                    return {&quot;color&quot;: &quot;#1f77b4&quot;, &quot;fillColor&quot;: &quot;#1f77b4&quot;, &quot;fillOpacity&quot;: 1, &quot;weight&quot;: 2};\n",
       "                case &quot;59&quot;: case &quot;60&quot;: \n",
       "                    return {&quot;color&quot;: &quot;#17becf&quot;, &quot;fillColor&quot;: &quot;#17becf&quot;, &quot;fillOpacity&quot;: 1, &quot;weight&quot;: 2};\n",
       "                case &quot;52&quot;: \n",
       "                    return {&quot;color&quot;: &quot;#c7c7c7&quot;, &quot;fillColor&quot;: &quot;#c7c7c7&quot;, &quot;fillOpacity&quot;: 1, &quot;weight&quot;: 2};\n",
       "                case &quot;43&quot;: case &quot;68&quot;: \n",
       "                    return {&quot;color&quot;: &quot;#e377c2&quot;, &quot;fillColor&quot;: &quot;#e377c2&quot;, &quot;fillOpacity&quot;: 1, &quot;weight&quot;: 2};\n",
       "                case &quot;13&quot;: \n",
       "                    return {&quot;color&quot;: &quot;#ffbb78&quot;, &quot;fillColor&quot;: &quot;#ffbb78&quot;, &quot;fillOpacity&quot;: 1, &quot;weight&quot;: 2};\n",
       "                case &quot;48&quot;: case &quot;50&quot;: \n",
       "                    return {&quot;color&quot;: &quot;#7f7f7f&quot;, &quot;fillColor&quot;: &quot;#7f7f7f&quot;, &quot;fillOpacity&quot;: 1, &quot;weight&quot;: 2};\n",
       "                case &quot;14&quot;: case &quot;20&quot;: \n",
       "                    return {&quot;color&quot;: &quot;#2ca02c&quot;, &quot;fillColor&quot;: &quot;#2ca02c&quot;, &quot;fillOpacity&quot;: 1, &quot;weight&quot;: 2};\n",
       "                case &quot;40&quot;: case &quot;37&quot;: \n",
       "                    return {&quot;color&quot;: &quot;#8c564b&quot;, &quot;fillColor&quot;: &quot;#8c564b&quot;, &quot;fillOpacity&quot;: 1, &quot;weight&quot;: 2};\n",
       "                case &quot;54&quot;: case &quot;56&quot;: \n",
       "                    return {&quot;color&quot;: &quot;#bcbd22&quot;, &quot;fillColor&quot;: &quot;#bcbd22&quot;, &quot;fillOpacity&quot;: 1, &quot;weight&quot;: 2};\n",
       "                case &quot;61&quot;: case &quot;65&quot;: \n",
       "                    return {&quot;color&quot;: &quot;#9edae5&quot;, &quot;fillColor&quot;: &quot;#9edae5&quot;, &quot;fillOpacity&quot;: 1, &quot;weight&quot;: 2};\n",
       "                case &quot;28&quot;: \n",
       "                    return {&quot;color&quot;: &quot;#ff9896&quot;, &quot;fillColor&quot;: &quot;#ff9896&quot;, &quot;fillOpacity&quot;: 1, &quot;weight&quot;: 2};\n",
       "                case &quot;42&quot;: \n",
       "                    return {&quot;color&quot;: &quot;#c49c94&quot;, &quot;fillColor&quot;: &quot;#c49c94&quot;, &quot;fillOpacity&quot;: 1, &quot;weight&quot;: 2};\n",
       "                case &quot;24&quot;: case &quot;22&quot;: \n",
       "                    return {&quot;color&quot;: &quot;#d62728&quot;, &quot;fillColor&quot;: &quot;#d62728&quot;, &quot;fillOpacity&quot;: 1, &quot;weight&quot;: 2};\n",
       "                case &quot;36&quot;: \n",
       "                    return {&quot;color&quot;: &quot;#c5b0d5&quot;, &quot;fillColor&quot;: &quot;#c5b0d5&quot;, &quot;fillOpacity&quot;: 1, &quot;weight&quot;: 2};\n",
       "                case &quot;57&quot;: \n",
       "                    return {&quot;color&quot;: &quot;#dbdb8d&quot;, &quot;fillColor&quot;: &quot;#dbdb8d&quot;, &quot;fillOpacity&quot;: 1, &quot;weight&quot;: 2};\n",
       "                case &quot;4&quot;: \n",
       "                    return {&quot;color&quot;: &quot;#aec7e8&quot;, &quot;fillColor&quot;: &quot;#aec7e8&quot;, &quot;fillOpacity&quot;: 1, &quot;weight&quot;: 2};\n",
       "                case &quot;67&quot;: \n",
       "                    return {&quot;color&quot;: &quot;#98df8a&quot;, &quot;fillColor&quot;: &quot;#98df8a&quot;, &quot;fillOpacity&quot;: 1, &quot;weight&quot;: 2};\n",
       "                case &quot;47&quot;: \n",
       "                    return {&quot;color&quot;: &quot;#f7b6d2&quot;, &quot;fillColor&quot;: &quot;#f7b6d2&quot;, &quot;fillOpacity&quot;: 1, &quot;weight&quot;: 2};\n",
       "                case &quot;33&quot;: case &quot;31&quot;: \n",
       "                    return {&quot;color&quot;: &quot;#9467bd&quot;, &quot;fillColor&quot;: &quot;#9467bd&quot;, &quot;fillOpacity&quot;: 1, &quot;weight&quot;: 2};\n",
       "                default:\n",
       "                    return {&quot;color&quot;: &quot;#ff7f0e&quot;, &quot;fillColor&quot;: &quot;#ff7f0e&quot;, &quot;fillOpacity&quot;: 1, &quot;weight&quot;: 2};\n",
       "            }\n",
       "        }\n",
       "        function geo_json_c3942d0c06e813111ed3a381c9278ca0_highlighter(feature) {\n",
       "            switch(feature.id) {\n",
       "                default:\n",
       "                    return {&quot;fillOpacity&quot;: 0.75};\n",
       "            }\n",
       "        }\n",
       "        function geo_json_c3942d0c06e813111ed3a381c9278ca0_pointToLayer(feature, latlng) {\n",
       "            var opts = {&quot;bubblingMouseEvents&quot;: true, &quot;color&quot;: &quot;#3388ff&quot;, &quot;dashArray&quot;: null, &quot;dashOffset&quot;: null, &quot;fill&quot;: true, &quot;fillColor&quot;: &quot;#3388ff&quot;, &quot;fillOpacity&quot;: 0.2, &quot;fillRule&quot;: &quot;evenodd&quot;, &quot;lineCap&quot;: &quot;round&quot;, &quot;lineJoin&quot;: &quot;round&quot;, &quot;opacity&quot;: 1.0, &quot;radius&quot;: 5, &quot;stroke&quot;: true, &quot;weight&quot;: 3};\n",
       "            \n",
       "            let style = geo_json_c3942d0c06e813111ed3a381c9278ca0_styler(feature)\n",
       "            Object.assign(opts, style)\n",
       "            \n",
       "            return new L.CircleMarker(latlng, opts)\n",
       "        }\n",
       "\n",
       "        function geo_json_c3942d0c06e813111ed3a381c9278ca0_onEachFeature(feature, layer) {\n",
       "            layer.on({\n",
       "                mouseout: function(e) {\n",
       "                    if(typeof e.target.setStyle === &quot;function&quot;){\n",
       "                            geo_json_c3942d0c06e813111ed3a381c9278ca0.resetStyle(e.target);\n",
       "                    }\n",
       "                },\n",
       "                mouseover: function(e) {\n",
       "                    if(typeof e.target.setStyle === &quot;function&quot;){\n",
       "                        const highlightStyle = geo_json_c3942d0c06e813111ed3a381c9278ca0_highlighter(e.target.feature)\n",
       "                        e.target.setStyle(highlightStyle);\n",
       "                    }\n",
       "                },\n",
       "            });\n",
       "        };\n",
       "        var geo_json_c3942d0c06e813111ed3a381c9278ca0 = L.geoJson(null, {\n",
       "                onEachFeature: geo_json_c3942d0c06e813111ed3a381c9278ca0_onEachFeature,\n",
       "            \n",
       "                style: geo_json_c3942d0c06e813111ed3a381c9278ca0_styler,\n",
       "                pointToLayer: geo_json_c3942d0c06e813111ed3a381c9278ca0_pointToLayer,\n",
       "            ...{\n",
       "}\n",
       "        });\n",
       "\n",
       "        function geo_json_c3942d0c06e813111ed3a381c9278ca0_add (data) {\n",
       "            geo_json_c3942d0c06e813111ed3a381c9278ca0\n",
       "                .addData(data);\n",
       "        }\n",
       "            geo_json_c3942d0c06e813111ed3a381c9278ca0_add({&quot;bbox&quot;: [-99.291705, 19.154286, -98.990189, 19.578792], &quot;features&quot;: [{&quot;bbox&quot;: [-99.162611, 19.154286, -99.162611, 19.154286], &quot;geometry&quot;: {&quot;coordinates&quot;: [-99.162611, 19.154286], &quot;type&quot;: &quot;Point&quot;}, &quot;id&quot;: &quot;1&quot;, &quot;properties&quot;: {&quot;__folium_color&quot;: &quot;#1f77b4&quot;, &quot;alt&quot;: 2942.0, &quot;cve_estac&quot;: &quot;AJU&quot;, &quot;first_date&quot;: &quot;2015-01-01 00:00:00&quot;, &quot;id_station&quot;: 484090120400, &quot;last_date&quot;: &quot;2025-01-31 23:00:00&quot;, &quot;latitud&quot;: 19.154286, &quot;longitud&quot;: -99.162611, &quot;nom_estac&quot;: &quot;Ajusco&quot;, &quot;obs_estac&quot;: &quot;Activa&quot;, &quot;pollutants&quot;: &quot;[\\u0027co\\u0027, \\u0027no\\u0027, \\u0027no2\\u0027, \\u0027nox\\u0027, \\u0027o3\\u0027, \\u0027pm10\\u0027, \\u0027pm2\\u0027, \\u0027rh\\u0027, \\u0027so2\\u0027, \\u0027tmp\\u0027, \\u0027wdr\\u0027, \\u0027wsp\\u0027]&quot;}, &quot;type&quot;: &quot;Feature&quot;}, {&quot;bbox&quot;: [-99.184177, 19.257041, -99.184177, 19.257041], &quot;geometry&quot;: {&quot;coordinates&quot;: [-99.184177, 19.257041], &quot;type&quot;: &quot;Point&quot;}, &quot;id&quot;: &quot;59&quot;, &quot;properties&quot;: {&quot;__folium_color&quot;: &quot;#17becf&quot;, &quot;alt&quot;: 2522.0, &quot;cve_estac&quot;: &quot;TPN&quot;, &quot;first_date&quot;: &quot;2005-07-31 21:00:00&quot;, &quot;id_station&quot;: 484090120209, &quot;last_date&quot;: &quot;2016-12-31 23:00:00&quot;, &quot;latitud&quot;: 19.257041, &quot;longitud&quot;: -99.184177, &quot;nom_estac&quot;: &quot;Tlalpan&quot;, &quot;obs_estac&quot;: &quot;Activa&quot;, &quot;pollutants&quot;: &quot;[\\u0027co\\u0027, \\u0027no\\u0027, \\u0027no2\\u0027, \\u0027nox\\u0027, \\u0027o3\\u0027, \\u0027pm10\\u0027, \\u0027pm2\\u0027, \\u0027rh\\u0027, \\u0027so2\\u0027, \\u0027tmp\\u0027, \\u0027wdr\\u0027, \\u0027wsp\\u0027]&quot;}, &quot;type&quot;: &quot;Feature&quot;}, {&quot;bbox&quot;: [-99.207744, 19.272161, -99.207744, 19.272161], &quot;geometry&quot;: {&quot;coordinates&quot;: [-99.207744, 19.272161], &quot;type&quot;: &quot;Point&quot;}, &quot;id&quot;: &quot;2&quot;, &quot;properties&quot;: {&quot;__folium_color&quot;: &quot;#1f77b4&quot;, &quot;alt&quot;: 2548.0, &quot;cve_estac&quot;: &quot;AJM&quot;, &quot;first_date&quot;: &quot;2015-01-01 00:00:00&quot;, &quot;id_station&quot;: 484090120609, &quot;last_date&quot;: &quot;2025-01-31 23:00:00&quot;, &quot;latitud&quot;: 19.272161, &quot;longitud&quot;: -99.207744, &quot;nom_estac&quot;: &quot;Ajusco Medio&quot;, &quot;obs_estac&quot;: &quot;Activa&quot;, &quot;pollutants&quot;: &quot;[\\u0027co\\u0027, \\u0027no\\u0027, \\u0027no2\\u0027, \\u0027nox\\u0027, \\u0027o3\\u0027, \\u0027pm10\\u0027, \\u0027pm2\\u0027, \\u0027rh\\u0027, \\u0027so2\\u0027, \\u0027tmp\\u0027, \\u0027wdr\\u0027, \\u0027wsp\\u0027]&quot;}, &quot;type&quot;: &quot;Feature&quot;}, {&quot;bbox&quot;: [-99.149994, 19.31448, -99.149994, 19.31448], &quot;geometry&quot;: {&quot;coordinates&quot;: [-99.149994, 19.31448], &quot;type&quot;: &quot;Point&quot;}, &quot;id&quot;: &quot;52&quot;, &quot;properties&quot;: {&quot;__folium_color&quot;: &quot;#c7c7c7&quot;, &quot;alt&quot;: 2279.0, &quot;cve_estac&quot;: &quot;SUR&quot;, &quot;first_date&quot;: &quot;2005-01-01 00:00:00&quot;, &quot;id_station&quot;: 484090030109, &quot;last_date&quot;: &quot;2016-12-31 23:00:00&quot;, &quot;latitud&quot;: 19.31448, &quot;longitud&quot;: -99.149994, &quot;nom_estac&quot;: &quot;Santa Ursula&quot;, &quot;obs_estac&quot;: &quot;Activa&quot;, &quot;pollutants&quot;: &quot;[\\u0027co\\u0027, \\u0027no\\u0027, \\u0027no2\\u0027, \\u0027nox\\u0027, \\u0027o3\\u0027, \\u0027pm10\\u0027, \\u0027pm2\\u0027, \\u0027rh\\u0027, \\u0027so2\\u0027, \\u0027tmp\\u0027, \\u0027wdr\\u0027, \\u0027wsp\\u0027]&quot;}, &quot;type&quot;: &quot;Feature&quot;}, {&quot;bbox&quot;: [-99.204136, 19.325146, -99.204136, 19.325146], &quot;geometry&quot;: {&quot;coordinates&quot;: [-99.204136, 19.325146], &quot;type&quot;: &quot;Point&quot;}, &quot;id&quot;: &quot;43&quot;, &quot;properties&quot;: {&quot;__folium_color&quot;: &quot;#e377c2&quot;, &quot;alt&quot;: 2326.0, &quot;cve_estac&quot;: &quot;PED&quot;, &quot;first_date&quot;: &quot;2005-01-01 00:00:00&quot;, &quot;id_station&quot;: 484090100127, &quot;last_date&quot;: &quot;2025-01-31 23:00:00&quot;, &quot;latitud&quot;: 19.325146, &quot;longitud&quot;: -99.204136, &quot;nom_estac&quot;: &quot;Pedregal&quot;, &quot;obs_estac&quot;: &quot;Activa&quot;, &quot;pollutants&quot;: &quot;[\\u0027co\\u0027, \\u0027no\\u0027, \\u0027no2\\u0027, \\u0027nox\\u0027, \\u0027o3\\u0027, \\u0027pm10\\u0027, \\u0027pm2\\u0027, \\u0027rh\\u0027, \\u0027so2\\u0027, \\u0027tmp\\u0027, \\u0027wdr\\u0027, \\u0027wsp\\u0027]&quot;}, &quot;type&quot;: &quot;Feature&quot;}, {&quot;bbox&quot;: [-99.176111, 19.326111000000004, -99.176111, 19.326111000000004], &quot;geometry&quot;: {&quot;coordinates&quot;: [-99.176111, 19.326111000000004], &quot;type&quot;: &quot;Point&quot;}, &quot;id&quot;: &quot;8&quot;, &quot;properties&quot;: {&quot;__folium_color&quot;: &quot;#ff7f0e&quot;, &quot;alt&quot;: 2294.0, &quot;cve_estac&quot;: &quot;CCA&quot;, &quot;first_date&quot;: &quot;2014-08-01 00:00:00&quot;, &quot;id_station&quot;: 484090030501, &quot;last_date&quot;: &quot;2025-01-31 23:00:00&quot;, &quot;latitud&quot;: 19.326111, &quot;longitud&quot;: -99.176111, &quot;nom_estac&quot;: &quot;Centro de Ciencias de la Atm\\u00f3sfera&quot;, &quot;obs_estac&quot;: &quot;Activa&quot;, &quot;pollutants&quot;: &quot;[\\u0027co\\u0027, \\u0027no\\u0027, \\u0027no2\\u0027, \\u0027nox\\u0027, \\u0027o3\\u0027, \\u0027pm10\\u0027, \\u0027pm2\\u0027, \\u0027rh\\u0027, \\u0027so2\\u0027, \\u0027tmp\\u0027, \\u0027wdr\\u0027, \\u0027wsp\\u0027]&quot;}, &quot;type&quot;: &quot;Feature&quot;}, {&quot;bbox&quot;: [-99.157101, 19.350258, -99.157101, 19.350258], &quot;geometry&quot;: {&quot;coordinates&quot;: [-99.157101, 19.350258], &quot;type&quot;: &quot;Point&quot;}, &quot;id&quot;: &quot;13&quot;, &quot;properties&quot;: {&quot;__folium_color&quot;: &quot;#ffbb78&quot;, &quot;alt&quot;: 2260.0, &quot;cve_estac&quot;: &quot;COY&quot;, &quot;first_date&quot;: &quot;2005-01-01 00:00:00&quot;, &quot;id_station&quot;: 484090030303, &quot;last_date&quot;: &quot;2017-09-18 23:00:00&quot;, &quot;latitud&quot;: 19.350258, &quot;longitud&quot;: -99.157101, &quot;nom_estac&quot;: &quot;Coyoac\\u00e1n&quot;, &quot;obs_estac&quot;: &quot;Activa&quot;, &quot;pollutants&quot;: &quot;[\\u0027co\\u0027, \\u0027no\\u0027, \\u0027no2\\u0027, \\u0027nox\\u0027, \\u0027o3\\u0027, \\u0027pm10\\u0027, \\u0027pm2\\u0027, \\u0027rh\\u0027, \\u0027so2\\u0027, \\u0027tmp\\u0027, \\u0027wdr\\u0027, \\u0027wsp\\u0027]&quot;}, &quot;type&quot;: &quot;Feature&quot;}, {&quot;bbox&quot;: [-99.262865, 19.357357, -99.262865, 19.357357], &quot;geometry&quot;: {&quot;coordinates&quot;: [-99.262865, 19.357357], &quot;type&quot;: &quot;Point&quot;}, &quot;id&quot;: &quot;48&quot;, &quot;properties&quot;: {&quot;__folium_color&quot;: &quot;#7f7f7f&quot;, &quot;alt&quot;: 2599.0, &quot;cve_estac&quot;: &quot;SFE&quot;, &quot;first_date&quot;: &quot;2012-02-12 23:00:00&quot;, &quot;id_station&quot;: 484090040309, &quot;last_date&quot;: &quot;2021-12-31 23:00:00&quot;, &quot;latitud&quot;: 19.357357, &quot;longitud&quot;: -99.262865, &quot;nom_estac&quot;: &quot;Santa fe&quot;, &quot;obs_estac&quot;: &quot;Activa&quot;, &quot;pollutants&quot;: &quot;[\\u0027co\\u0027, \\u0027no\\u0027, \\u0027no2\\u0027, \\u0027nox\\u0027, \\u0027o3\\u0027, \\u0027pm10\\u0027, \\u0027pm2\\u0027, \\u0027rh\\u0027, \\u0027so2\\u0027, \\u0027tmp\\u0027, \\u0027wdr\\u0027, \\u0027wsp\\u0027]&quot;}, &quot;type&quot;: &quot;Feature&quot;}, {&quot;bbox&quot;: [-99.291705, 19.365312999999993, -99.291705, 19.365312999999993], &quot;geometry&quot;: {&quot;coordinates&quot;: [-99.291705, 19.365312999999993], &quot;type&quot;: &quot;Point&quot;}, &quot;id&quot;: &quot;14&quot;, &quot;properties&quot;: {&quot;__folium_color&quot;: &quot;#2ca02c&quot;, &quot;alt&quot;: 2704.0, &quot;cve_estac&quot;: &quot;CUA&quot;, &quot;first_date&quot;: &quot;2005-01-01 00:00:00&quot;, &quot;id_station&quot;: 484090040109, &quot;last_date&quot;: &quot;2025-01-31 23:00:00&quot;, &quot;latitud&quot;: 19.365313, &quot;longitud&quot;: -99.291705, &quot;nom_estac&quot;: &quot;Cuajimalpa&quot;, &quot;obs_estac&quot;: &quot;Activa&quot;, &quot;pollutants&quot;: &quot;[\\u0027co\\u0027, \\u0027no\\u0027, \\u0027no2\\u0027, \\u0027nox\\u0027, \\u0027o3\\u0027, \\u0027pm10\\u0027, \\u0027pm2\\u0027, \\u0027rh\\u0027, \\u0027so2\\u0027, \\u0027tmp\\u0027, \\u0027wdr\\u0027, \\u0027wsp\\u0027]&quot;}, &quot;type&quot;: &quot;Feature&quot;}, {&quot;bbox&quot;: [-98.990189, 19.1769, -98.990189, 19.1769], &quot;geometry&quot;: {&quot;coordinates&quot;: [-98.990189, 19.1769], &quot;type&quot;: &quot;Point&quot;}, &quot;id&quot;: &quot;40&quot;, &quot;properties&quot;: {&quot;__folium_color&quot;: &quot;#8c564b&quot;, &quot;alt&quot;: 2594.0, &quot;cve_estac&quot;: &quot;MPA&quot;, &quot;first_date&quot;: &quot;2016-01-19 23:00:00&quot;, &quot;id_station&quot;: 484090090104, &quot;last_date&quot;: &quot;2025-01-31 23:00:00&quot;, &quot;latitud&quot;: 19.1769, &quot;longitud&quot;: -98.990189, &quot;nom_estac&quot;: &quot;Milpa Alta&quot;, &quot;obs_estac&quot;: &quot;Activa&quot;, &quot;pollutants&quot;: &quot;[\\u0027co\\u0027, \\u0027no2\\u0027, \\u0027o3\\u0027, \\u0027pm10\\u0027, \\u0027pm2\\u0027, \\u0027rh\\u0027, \\u0027so2\\u0027, \\u0027tmp\\u0027, \\u0027wdr\\u0027, \\u0027wsp\\u0027]&quot;}, &quot;type&quot;: &quot;Feature&quot;}, {&quot;bbox&quot;: [-99.010564, 19.246459, -99.010564, 19.246459], &quot;geometry&quot;: {&quot;coordinates&quot;: [-99.010564, 19.246459], &quot;type&quot;: &quot;Point&quot;}, &quot;id&quot;: &quot;54&quot;, &quot;properties&quot;: {&quot;__folium_color&quot;: &quot;#bcbd22&quot;, &quot;alt&quot;: 2297.0, &quot;cve_estac&quot;: &quot;TAH&quot;, &quot;first_date&quot;: &quot;2005-01-01 00:00:00&quot;, &quot;id_station&quot;: 484090130309, &quot;last_date&quot;: &quot;2025-01-31 23:00:00&quot;, &quot;latitud&quot;: 19.246459, &quot;longitud&quot;: -99.010564, &quot;nom_estac&quot;: &quot;Tlahuac&quot;, &quot;obs_estac&quot;: &quot;Activa&quot;, &quot;pollutants&quot;: &quot;[\\u0027co\\u0027, \\u0027no\\u0027, \\u0027no2\\u0027, \\u0027nox\\u0027, \\u0027o3\\u0027, \\u0027pm10\\u0027, \\u0027pm2\\u0027, \\u0027rh\\u0027, \\u0027so2\\u0027, \\u0027tmp\\u0027, \\u0027wdr\\u0027, \\u0027wsp\\u0027]&quot;}, &quot;type&quot;: &quot;Feature&quot;}, {&quot;bbox&quot;: [-99.103629, 19.304440999999997, -99.103629, 19.304440999999997], &quot;geometry&quot;: {&quot;coordinates&quot;: [-99.103629, 19.304440999999997], &quot;type&quot;: &quot;Point&quot;}, &quot;id&quot;: &quot;60&quot;, &quot;properties&quot;: {&quot;__folium_color&quot;: &quot;#17becf&quot;, &quot;alt&quot;: 2246.0, &quot;cve_estac&quot;: &quot;UAX&quot;, &quot;first_date&quot;: &quot;2012-02-20 08:00:00&quot;, &quot;id_station&quot;: 484090030401, &quot;last_date&quot;: &quot;2025-01-31 23:00:00&quot;, &quot;latitud&quot;: 19.304441, &quot;longitud&quot;: -99.103629, &quot;nom_estac&quot;: &quot;UAM Xochimilco&quot;, &quot;obs_estac&quot;: &quot;Activa&quot;, &quot;pollutants&quot;: &quot;[\\u0027co\\u0027, \\u0027no\\u0027, \\u0027no2\\u0027, \\u0027nox\\u0027, \\u0027o3\\u0027, \\u0027pm10\\u0027, \\u0027pm2\\u0027, \\u0027rh\\u0027, \\u0027so2\\u0027, \\u0027tmp\\u0027, \\u0027wdr\\u0027, \\u0027wsp\\u0027]&quot;}, &quot;type&quot;: &quot;Feature&quot;}, {&quot;bbox&quot;: [-99.009381, 19.345609999999994, -99.009381, 19.345609999999994], &quot;geometry&quot;: {&quot;coordinates&quot;: [-99.009381, 19.345609999999994], &quot;type&quot;: &quot;Point&quot;}, &quot;id&quot;: &quot;68&quot;, &quot;properties&quot;: {&quot;__folium_color&quot;: &quot;#e377c2&quot;, &quot;alt&quot;: 2293.0, &quot;cve_estac&quot;: &quot;SAC&quot;, &quot;first_date&quot;: &quot;2019-03-01 00:00:00&quot;, &quot;id_station&quot;: 484800090073, &quot;last_date&quot;: &quot;2025-01-31 23:00:00&quot;, &quot;latitud&quot;: 19.34561, &quot;longitud&quot;: -99.009381, &quot;nom_estac&quot;: &quot;Santiago Acahualtepec&quot;, &quot;obs_estac&quot;: &quot;Activa&quot;, &quot;pollutants&quot;: &quot;[\\u0027co\\u0027, \\u0027no\\u0027, \\u0027no2\\u0027, \\u0027nox\\u0027, \\u0027o3\\u0027, \\u0027pm2\\u0027, \\u0027rh\\u0027, \\u0027so2\\u0027, \\u0027tmp\\u0027, \\u0027wdr\\u0027, \\u0027wsp\\u0027]&quot;}, &quot;type&quot;: &quot;Feature&quot;}, {&quot;bbox&quot;: [-99.07388, 19.360793999999995, -99.07388, 19.360793999999995], &quot;geometry&quot;: {&quot;coordinates&quot;: [-99.07388, 19.360793999999995], &quot;type&quot;: &quot;Point&quot;}, &quot;id&quot;: &quot;61&quot;, &quot;properties&quot;: {&quot;__folium_color&quot;: &quot;#9edae5&quot;, &quot;alt&quot;: 2221.0, &quot;cve_estac&quot;: &quot;UIZ&quot;, &quot;first_date&quot;: &quot;2005-01-01 00:00:00&quot;, &quot;id_station&quot;: 484090070219, &quot;last_date&quot;: &quot;2025-01-31 23:00:00&quot;, &quot;latitud&quot;: 19.360794, &quot;longitud&quot;: -99.07388, &quot;nom_estac&quot;: &quot;UAM Iztapalapa&quot;, &quot;obs_estac&quot;: &quot;Activa&quot;, &quot;pollutants&quot;: &quot;[\\u0027co\\u0027, \\u0027no\\u0027, \\u0027no2\\u0027, \\u0027nox\\u0027, \\u0027o3\\u0027, \\u0027pm10\\u0027, \\u0027pm2\\u0027, \\u0027rh\\u0027, \\u0027so2\\u0027, \\u0027tmp\\u0027, \\u0027wdr\\u0027, \\u0027wsp\\u0027]&quot;}, &quot;type&quot;: &quot;Feature&quot;}, {&quot;bbox&quot;: [-99.117641, 19.384412999999995, -99.117641, 19.384412999999995], &quot;geometry&quot;: {&quot;coordinates&quot;: [-99.117641, 19.384412999999995], &quot;type&quot;: &quot;Point&quot;}, &quot;id&quot;: &quot;28&quot;, &quot;properties&quot;: {&quot;__folium_color&quot;: &quot;#ff9896&quot;, &quot;alt&quot;: 2238.0, &quot;cve_estac&quot;: &quot;IZT&quot;, &quot;first_date&quot;: &quot;2007-07-20 08:00:00&quot;, &quot;id_station&quot;: 484090060101, &quot;last_date&quot;: &quot;2025-01-31 23:00:00&quot;, &quot;latitud&quot;: 19.384413, &quot;longitud&quot;: -99.117641, &quot;nom_estac&quot;: &quot;Iztacalco&quot;, &quot;obs_estac&quot;: &quot;Activa&quot;, &quot;pollutants&quot;: &quot;[\\u0027co\\u0027, \\u0027no\\u0027, \\u0027no2\\u0027, \\u0027nox\\u0027, \\u0027o3\\u0027, \\u0027pm10\\u0027, \\u0027pm2\\u0027, \\u0027rh\\u0027, \\u0027so2\\u0027, \\u0027tmp\\u0027, \\u0027wdr\\u0027, \\u0027wsp\\u0027]&quot;}, &quot;type&quot;: &quot;Feature&quot;}, {&quot;bbox&quot;: [-99.028212, 19.393733999999995, -99.028212, 19.393733999999995], &quot;geometry&quot;: {&quot;coordinates&quot;: [-99.028212, 19.393733999999995], &quot;type&quot;: &quot;Point&quot;}, &quot;id&quot;: &quot;42&quot;, &quot;properties&quot;: {&quot;__folium_color&quot;: &quot;#c49c94&quot;, &quot;alt&quot;: 2235.0, &quot;cve_estac&quot;: &quot;NEZ&quot;, &quot;first_date&quot;: &quot;2008-01-01 00:00:00&quot;, &quot;id_station&quot;: 484150580115, &quot;last_date&quot;: &quot;2025-01-31 23:00:00&quot;, &quot;latitud&quot;: 19.393734, &quot;longitud&quot;: -99.028212, &quot;nom_estac&quot;: &quot;Nezahualc\\u00f3yotl&quot;, &quot;obs_estac&quot;: &quot;Activa&quot;, &quot;pollutants&quot;: &quot;[\\u0027co\\u0027, \\u0027no\\u0027, \\u0027no2\\u0027, \\u0027nox\\u0027, \\u0027o3\\u0027, \\u0027pm10\\u0027, \\u0027pm2\\u0027, \\u0027rh\\u0027, \\u0027so2\\u0027, \\u0027tmp\\u0027, \\u0027wdr\\u0027, \\u0027wsp\\u0027]&quot;}, &quot;type&quot;: &quot;Feature&quot;}, {&quot;bbox&quot;: [-99.086095, 19.452591999999996, -99.086095, 19.452591999999996], &quot;geometry&quot;: {&quot;coordinates&quot;: [-99.086095, 19.452591999999996], &quot;type&quot;: &quot;Point&quot;}, &quot;id&quot;: &quot;50&quot;, &quot;properties&quot;: {&quot;__folium_color&quot;: &quot;#7f7f7f&quot;, &quot;alt&quot;: 2258.0, &quot;cve_estac&quot;: &quot;SJA&quot;, &quot;first_date&quot;: &quot;2005-01-01 00:00:00&quot;, &quot;id_station&quot;: 484090050701, &quot;last_date&quot;: &quot;2017-09-18 23:00:00&quot;, &quot;latitud&quot;: 19.452592, &quot;longitud&quot;: -99.086095, &quot;nom_estac&quot;: &quot;San Juan Arag\\u00f3n&quot;, &quot;obs_estac&quot;: &quot;Activa&quot;, &quot;pollutants&quot;: &quot;[\\u0027co\\u0027, \\u0027no\\u0027, \\u0027no2\\u0027, \\u0027nox\\u0027, \\u0027o3\\u0027, \\u0027pm10\\u0027, \\u0027pm2\\u0027, \\u0027rh\\u0027, \\u0027so2\\u0027, \\u0027tmp\\u0027, \\u0027wdr\\u0027, \\u0027wsp\\u0027]&quot;}, &quot;type&quot;: &quot;Feature&quot;}, {&quot;bbox&quot;: [-99.20266, 19.40405, -99.20266, 19.40405], &quot;geometry&quot;: {&quot;coordinates&quot;: [-99.20266, 19.40405], &quot;type&quot;: &quot;Point&quot;}, &quot;id&quot;: &quot;37&quot;, &quot;properties&quot;: {&quot;__folium_color&quot;: &quot;#8c564b&quot;, &quot;alt&quot;: 2327.0, &quot;cve_estac&quot;: &quot;MGH&quot;, &quot;first_date&quot;: &quot;2015-01-01 00:00:00&quot;, &quot;id_station&quot;: 484090160609, &quot;last_date&quot;: &quot;2025-01-31 23:00:00&quot;, &quot;latitud&quot;: 19.40405, &quot;longitud&quot;: -99.20266, &quot;nom_estac&quot;: &quot;Mguel Hidalgo&quot;, &quot;obs_estac&quot;: &quot;Activa&quot;, &quot;pollutants&quot;: &quot;[\\u0027co\\u0027, \\u0027no\\u0027, \\u0027no2\\u0027, \\u0027nox\\u0027, \\u0027o3\\u0027, \\u0027pm10\\u0027, \\u0027pm2\\u0027, \\u0027rh\\u0027, \\u0027so2\\u0027, \\u0027tmp\\u0027, \\u0027wdr\\u0027, \\u0027wsp\\u0027]&quot;}, &quot;type&quot;: &quot;Feature&quot;}, {&quot;bbox&quot;: [-99.152207, 19.411616999999996, -99.152207, 19.411616999999996], &quot;geometry&quot;: {&quot;coordinates&quot;: [-99.152207, 19.411616999999996], &quot;type&quot;: &quot;Point&quot;}, &quot;id&quot;: &quot;24&quot;, &quot;properties&quot;: {&quot;__folium_color&quot;: &quot;#d62728&quot;, &quot;alt&quot;: 2234.0, &quot;cve_estac&quot;: &quot;HGM&quot;, &quot;first_date&quot;: &quot;2012-02-17 16:00:00&quot;, &quot;id_station&quot;: 484090150409, &quot;last_date&quot;: &quot;2025-01-31 23:00:00&quot;, &quot;latitud&quot;: 19.411617, &quot;longitud&quot;: -99.152207, &quot;nom_estac&quot;: &quot;Hospital General de M\\u00e9xico&quot;, &quot;obs_estac&quot;: &quot;Activa&quot;, &quot;pollutants&quot;: &quot;[\\u0027co\\u0027, \\u0027no\\u0027, \\u0027no2\\u0027, \\u0027nox\\u0027, \\u0027o3\\u0027, \\u0027pm10\\u0027, \\u0027pm2\\u0027, \\u0027rh\\u0027, \\u0027so2\\u0027, \\u0027tmp\\u0027, \\u0027wdr\\u0027, \\u0027wsp\\u0027]&quot;}, &quot;type&quot;: &quot;Feature&quot;}, {&quot;bbox&quot;: [-99.119594, 19.42460999999999, -99.119594, 19.42460999999999], &quot;geometry&quot;: {&quot;coordinates&quot;: [-99.119594, 19.42460999999999], &quot;type&quot;: &quot;Point&quot;}, &quot;id&quot;: &quot;36&quot;, &quot;properties&quot;: {&quot;__folium_color&quot;: &quot;#c5b0d5&quot;, &quot;alt&quot;: 2245.0, &quot;cve_estac&quot;: &quot;MER&quot;, &quot;first_date&quot;: &quot;2005-01-01 00:00:00&quot;, &quot;id_station&quot;: 484090170127, &quot;last_date&quot;: &quot;2025-01-31 23:00:00&quot;, &quot;latitud&quot;: 19.42461, &quot;longitud&quot;: -99.119594, &quot;nom_estac&quot;: &quot;Merced&quot;, &quot;obs_estac&quot;: &quot;Activa&quot;, &quot;pollutants&quot;: &quot;[\\u0027co\\u0027, \\u0027no\\u0027, \\u0027no2\\u0027, \\u0027nox\\u0027, \\u0027o3\\u0027, \\u0027pm10\\u0027, \\u0027pm2\\u0027, \\u0027rh\\u0027, \\u0027so2\\u0027, \\u0027tmp\\u0027, \\u0027wdr\\u0027, \\u0027wsp\\u0027]&quot;}, &quot;type&quot;: &quot;Feature&quot;}, {&quot;bbox&quot;: [-99.169794, 19.468404, -99.169794, 19.468404], &quot;geometry&quot;: {&quot;coordinates&quot;: [-99.169794, 19.468404], &quot;type&quot;: &quot;Point&quot;}, &quot;id&quot;: &quot;7&quot;, &quot;properties&quot;: {&quot;__folium_color&quot;: &quot;#ff7f0e&quot;, &quot;alt&quot;: 2233.0, &quot;cve_estac&quot;: &quot;CAM&quot;, &quot;first_date&quot;: &quot;2005-01-01 00:00:00&quot;, &quot;id_station&quot;: 484090020301, &quot;last_date&quot;: &quot;2025-01-31 23:00:00&quot;, &quot;latitud&quot;: 19.468404, &quot;longitud&quot;: -99.169794, &quot;nom_estac&quot;: &quot;Camarones&quot;, &quot;obs_estac&quot;: &quot;Activa&quot;, &quot;pollutants&quot;: &quot;[\\u0027co\\u0027, \\u0027no\\u0027, \\u0027no2\\u0027, \\u0027nox\\u0027, \\u0027o3\\u0027, \\u0027pm10\\u0027, \\u0027pm2\\u0027, \\u0027rh\\u0027, \\u0027so2\\u0027, \\u0027tmp\\u0027, \\u0027wdr\\u0027, \\u0027wsp\\u0027]&quot;}, &quot;type&quot;: &quot;Feature&quot;}, {&quot;bbox&quot;: [-99.243524, 19.482473, -99.243524, 19.482473], &quot;geometry&quot;: {&quot;coordinates&quot;: [-99.243524, 19.482473], &quot;type&quot;: &quot;Point&quot;}, &quot;id&quot;: &quot;20&quot;, &quot;properties&quot;: {&quot;__folium_color&quot;: &quot;#2ca02c&quot;, &quot;alt&quot;: 2299.0, &quot;cve_estac&quot;: &quot;FAC&quot;, &quot;first_date&quot;: &quot;2005-01-01 00:00:00&quot;, &quot;id_station&quot;: 484150570109, &quot;last_date&quot;: &quot;2025-01-31 23:00:00&quot;, &quot;latitud&quot;: 19.482473, &quot;longitud&quot;: -99.243524, &quot;nom_estac&quot;: &quot;FES Acatl\\u00e1n&quot;, &quot;obs_estac&quot;: &quot;Activa&quot;, &quot;pollutants&quot;: &quot;[\\u0027co\\u0027, \\u0027no\\u0027, \\u0027no2\\u0027, \\u0027nox\\u0027, \\u0027o3\\u0027, \\u0027pm10\\u0027, \\u0027pm2\\u0027, \\u0027rh\\u0027, \\u0027so2\\u0027, \\u0027tmp\\u0027, \\u0027wdr\\u0027, \\u0027wsp\\u0027]&quot;}, &quot;type&quot;: &quot;Feature&quot;}, {&quot;bbox&quot;: [-99.204597, 19.529077, -99.204597, 19.529077], &quot;geometry&quot;: {&quot;coordinates&quot;: [-99.204597, 19.529077], &quot;type&quot;: &quot;Point&quot;}, &quot;id&quot;: &quot;57&quot;, &quot;properties&quot;: {&quot;__folium_color&quot;: &quot;#dbdb8d&quot;, &quot;alt&quot;: 2311.0, &quot;cve_estac&quot;: &quot;TLA&quot;, &quot;first_date&quot;: &quot;2005-01-01 00:00:00&quot;, &quot;id_station&quot;: 484151040115, &quot;last_date&quot;: &quot;2025-01-31 23:00:00&quot;, &quot;latitud&quot;: 19.529077, &quot;longitud&quot;: -99.204597, &quot;nom_estac&quot;: &quot;Tlalnepantla&quot;, &quot;obs_estac&quot;: &quot;Activa&quot;, &quot;pollutants&quot;: &quot;[\\u0027co\\u0027, \\u0027no\\u0027, \\u0027no2\\u0027, \\u0027nox\\u0027, \\u0027o3\\u0027, \\u0027pm10\\u0027, \\u0027pm2\\u0027, \\u0027rh\\u0027, \\u0027so2\\u0027, \\u0027tmp\\u0027, \\u0027wdr\\u0027, \\u0027wsp\\u0027]&quot;}, &quot;type&quot;: &quot;Feature&quot;}, {&quot;bbox&quot;: [-99.25413300000001, 19.576962999999996, -99.25413300000001, 19.576962999999996], &quot;geometry&quot;: {&quot;coordinates&quot;: [-99.25413300000001, 19.576962999999996], &quot;type&quot;: &quot;Point&quot;}, &quot;id&quot;: &quot;4&quot;, &quot;properties&quot;: {&quot;__folium_color&quot;: &quot;#aec7e8&quot;, &quot;alt&quot;: 2341.0, &quot;cve_estac&quot;: &quot;ATI&quot;, &quot;first_date&quot;: &quot;2005-01-01 00:00:00&quot;, &quot;id_station&quot;: 484150130101, &quot;last_date&quot;: &quot;2025-01-31 23:00:00&quot;, &quot;latitud&quot;: 19.576963, &quot;longitud&quot;: -99.254133, &quot;nom_estac&quot;: &quot;Atizapan&quot;, &quot;obs_estac&quot;: &quot;Activa&quot;, &quot;pollutants&quot;: &quot;[\\u0027co\\u0027, \\u0027no\\u0027, \\u0027no2\\u0027, \\u0027nox\\u0027, \\u0027o3\\u0027, \\u0027pm10\\u0027, \\u0027pm2\\u0027, \\u0027rh\\u0027, \\u0027so2\\u0027, \\u0027tmp\\u0027, \\u0027wdr\\u0027, \\u0027wsp\\u0027]&quot;}, &quot;type&quot;: &quot;Feature&quot;}, {&quot;bbox&quot;: [-99.046176, 19.473692, -99.046176, 19.473692], &quot;geometry&quot;: {&quot;coordinates&quot;: [-99.046176, 19.473692], &quot;type&quot;: &quot;Point&quot;}, &quot;id&quot;: &quot;67&quot;, &quot;properties&quot;: {&quot;__folium_color&quot;: &quot;#98df8a&quot;, &quot;alt&quot;: 2230.0, &quot;cve_estac&quot;: &quot;FAR&quot;, &quot;first_date&quot;: &quot;2019-03-01 00:00:00&quot;, &quot;id_station&quot;: 484800150584, &quot;last_date&quot;: &quot;2025-01-31 23:00:00&quot;, &quot;latitud&quot;: 19.473692, &quot;longitud&quot;: -99.046176, &quot;nom_estac&quot;: &quot;FES Arag\\u00f3n&quot;, &quot;obs_estac&quot;: &quot;Activa&quot;, &quot;pollutants&quot;: &quot;[\\u0027co\\u0027, \\u0027no2\\u0027, \\u0027o3\\u0027, \\u0027pm2\\u0027, \\u0027rh\\u0027, \\u0027so2\\u0027, \\u0027tmp\\u0027, \\u0027wdr\\u0027, \\u0027wsp\\u0027]&quot;}, &quot;type&quot;: &quot;Feature&quot;}, {&quot;bbox&quot;: [-99.094517, 19.482699999999994, -99.094517, 19.482699999999994], &quot;geometry&quot;: {&quot;coordinates&quot;: [-99.094517, 19.482699999999994], &quot;type&quot;: &quot;Point&quot;}, &quot;id&quot;: &quot;22&quot;, &quot;properties&quot;: {&quot;__folium_color&quot;: &quot;#d62728&quot;, &quot;alt&quot;: 2227.0, &quot;cve_estac&quot;: &quot;GAM&quot;, &quot;first_date&quot;: &quot;2015-12-01 00:00:00&quot;, &quot;id_station&quot;: 484090050809, &quot;last_date&quot;: &quot;2025-01-31 23:00:00&quot;, &quot;latitud&quot;: 19.4827, &quot;longitud&quot;: -99.094517, &quot;nom_estac&quot;: &quot;Gustavo A. Madero&quot;, &quot;obs_estac&quot;: &quot;Activa&quot;, &quot;pollutants&quot;: &quot;[\\u0027co\\u0027, \\u0027no\\u0027, \\u0027no2\\u0027, \\u0027nox\\u0027, \\u0027o3\\u0027, \\u0027pm10\\u0027, \\u0027pm2\\u0027, \\u0027rh\\u0027, \\u0027so2\\u0027, \\u0027tmp\\u0027, \\u0027wdr\\u0027, \\u0027wsp\\u0027]&quot;}, &quot;type&quot;: &quot;Feature&quot;}, {&quot;bbox&quot;: [-99.114229, 19.487227, -99.114229, 19.487227], &quot;geometry&quot;: {&quot;coordinates&quot;: [-99.114229, 19.487227], &quot;type&quot;: &quot;Point&quot;}, &quot;id&quot;: &quot;56&quot;, &quot;properties&quot;: {&quot;__folium_color&quot;: &quot;#bcbd22&quot;, &quot;alt&quot;: 2265.0, &quot;cve_estac&quot;: &quot;TEC&quot;, &quot;first_date&quot;: &quot;2016-01-01 00:00:00&quot;, &quot;id_station&quot;: 484090050404, &quot;last_date&quot;: &quot;2016-12-31 23:00:00&quot;, &quot;latitud&quot;: 19.487227, &quot;longitud&quot;: -99.114229, &quot;nom_estac&quot;: &quot;Cerro del Tepeyac&quot;, &quot;obs_estac&quot;: &quot;Activa&quot;, &quot;pollutants&quot;: &quot;[\\u0027co\\u0027, \\u0027no\\u0027, \\u0027no2\\u0027, \\u0027nox\\u0027, \\u0027o3\\u0027, \\u0027pm10\\u0027, \\u0027pm2\\u0027, \\u0027rh\\u0027, \\u0027so2\\u0027, \\u0027tmp\\u0027, \\u0027wdr\\u0027, \\u0027wsp\\u0027]&quot;}, &quot;type&quot;: &quot;Feature&quot;}, {&quot;bbox&quot;: [-99.0824, 19.525995000000005, -99.0824, 19.525995000000005], &quot;geometry&quot;: {&quot;coordinates&quot;: [-99.0824, 19.525995000000005], &quot;type&quot;: &quot;Point&quot;}, &quot;id&quot;: &quot;65&quot;, &quot;properties&quot;: {&quot;__folium_color&quot;: &quot;#9edae5&quot;, &quot;alt&quot;: 2160.0, &quot;cve_estac&quot;: &quot;XAL&quot;, &quot;first_date&quot;: &quot;2005-01-01 00:00:00&quot;, &quot;id_station&quot;: 484150330415, &quot;last_date&quot;: &quot;2025-01-31 23:00:00&quot;, &quot;latitud&quot;: 19.525995, &quot;longitud&quot;: -99.0824, &quot;nom_estac&quot;: &quot;Xalostoc&quot;, &quot;obs_estac&quot;: &quot;Activa&quot;, &quot;pollutants&quot;: &quot;[\\u0027co\\u0027, \\u0027no\\u0027, \\u0027no2\\u0027, \\u0027nox\\u0027, \\u0027o3\\u0027, \\u0027pm10\\u0027, \\u0027pm2\\u0027, \\u0027rh\\u0027, \\u0027so2\\u0027, \\u0027tmp\\u0027, \\u0027wdr\\u0027, \\u0027wsp\\u0027]&quot;}, &quot;type&quot;: &quot;Feature&quot;}, {&quot;bbox&quot;: [-99.030324, 19.532968000000004, -99.030324, 19.532968000000004], &quot;geometry&quot;: {&quot;coordinates&quot;: [-99.030324, 19.532968000000004], &quot;type&quot;: &quot;Point&quot;}, &quot;id&quot;: &quot;47&quot;, &quot;properties&quot;: {&quot;__folium_color&quot;: &quot;#f7b6d2&quot;, &quot;alt&quot;: 2241.0, &quot;cve_estac&quot;: &quot;SAG&quot;, &quot;first_date&quot;: &quot;2005-01-01 00:00:00&quot;, &quot;id_station&quot;: 484150330327, &quot;last_date&quot;: &quot;2025-01-31 23:00:00&quot;, &quot;latitud&quot;: 19.532968, &quot;longitud&quot;: -99.030324, &quot;nom_estac&quot;: &quot;San Agust\\u00edn&quot;, &quot;obs_estac&quot;: &quot;Activa&quot;, &quot;pollutants&quot;: &quot;[\\u0027co\\u0027, \\u0027no\\u0027, \\u0027no2\\u0027, \\u0027nox\\u0027, \\u0027o3\\u0027, \\u0027pm10\\u0027, \\u0027pm2\\u0027, \\u0027rh\\u0027, \\u0027so2\\u0027, \\u0027tmp\\u0027, \\u0027wdr\\u0027, \\u0027wsp\\u0027]&quot;}, &quot;type&quot;: &quot;Feature&quot;}, {&quot;bbox&quot;: [-99.11772, 19.534727, -99.11772, 19.534727], &quot;geometry&quot;: {&quot;coordinates&quot;: [-99.11772, 19.534727], &quot;type&quot;: &quot;Point&quot;}, &quot;id&quot;: &quot;33&quot;, &quot;properties&quot;: {&quot;__folium_color&quot;: &quot;#9467bd&quot;, &quot;alt&quot;: 2302.0, &quot;cve_estac&quot;: &quot;LPR&quot;, &quot;first_date&quot;: &quot;2005-01-01 00:00:00&quot;, &quot;id_station&quot;: 484151040203, &quot;last_date&quot;: &quot;2025-01-31 23:00:00&quot;, &quot;latitud&quot;: 19.534727, &quot;longitud&quot;: -99.11772, &quot;nom_estac&quot;: &quot;La Presa&quot;, &quot;obs_estac&quot;: &quot;Activa&quot;, &quot;pollutants&quot;: &quot;[\\u0027co\\u0027, \\u0027no\\u0027, \\u0027no2\\u0027, \\u0027nox\\u0027, \\u0027o3\\u0027, \\u0027pm10\\u0027, \\u0027pm2\\u0027, \\u0027rh\\u0027, \\u0027so2\\u0027, \\u0027tmp\\u0027, \\u0027wdr\\u0027, \\u0027wsp\\u0027]&quot;}, &quot;type&quot;: &quot;Feature&quot;}, {&quot;bbox&quot;: [-99.039644, 19.578792, -99.039644, 19.578792], &quot;geometry&quot;: {&quot;coordinates&quot;: [-99.039644, 19.578792], &quot;type&quot;: &quot;Point&quot;}, &quot;id&quot;: &quot;31&quot;, &quot;properties&quot;: {&quot;__folium_color&quot;: &quot;#9467bd&quot;, &quot;alt&quot;: 2230.0, &quot;cve_estac&quot;: &quot;LLA&quot;, &quot;first_date&quot;: &quot;2005-09-01 12:00:00&quot;, &quot;id_station&quot;: 484150330201, &quot;last_date&quot;: &quot;2025-01-31 23:00:00&quot;, &quot;latitud&quot;: 19.578792, &quot;longitud&quot;: -99.039644, &quot;nom_estac&quot;: &quot;Los Laureles&quot;, &quot;obs_estac&quot;: &quot;Activa&quot;, &quot;pollutants&quot;: &quot;[\\u0027co\\u0027, \\u0027no\\u0027, \\u0027no2\\u0027, \\u0027nox\\u0027, \\u0027o3\\u0027, \\u0027pm10\\u0027, \\u0027pm2\\u0027, \\u0027rh\\u0027, \\u0027so2\\u0027, \\u0027tmp\\u0027, \\u0027wdr\\u0027, \\u0027wsp\\u0027]&quot;}, &quot;type&quot;: &quot;Feature&quot;}], &quot;type&quot;: &quot;FeatureCollection&quot;});\n",
       "\n",
       "        \n",
       "    \n",
       "    geo_json_c3942d0c06e813111ed3a381c9278ca0.bindTooltip(\n",
       "    function(layer){\n",
       "    let div = L.DomUtil.create(&#x27;div&#x27;);\n",
       "    \n",
       "    let handleObject = feature=&gt;typeof(feature)==&#x27;object&#x27; ? JSON.stringify(feature) : feature;\n",
       "    let fields = [&quot;cve_estac&quot;, &quot;nom_estac&quot;, &quot;longitud&quot;, &quot;latitud&quot;, &quot;alt&quot;, &quot;obs_estac&quot;, &quot;id_station&quot;, &quot;pollutants&quot;, &quot;first_date&quot;, &quot;last_date&quot;];\n",
       "    let aliases = [&quot;cve_estac&quot;, &quot;nom_estac&quot;, &quot;longitud&quot;, &quot;latitud&quot;, &quot;alt&quot;, &quot;obs_estac&quot;, &quot;id_station&quot;, &quot;pollutants&quot;, &quot;first_date&quot;, &quot;last_date&quot;];\n",
       "    let table = &#x27;&lt;table&gt;&#x27; +\n",
       "        String(\n",
       "        fields.map(\n",
       "        (v,i)=&gt;\n",
       "        `&lt;tr&gt;\n",
       "            &lt;th&gt;${aliases[i]}&lt;/th&gt;\n",
       "            \n",
       "            &lt;td&gt;${handleObject(layer.feature.properties[v])}&lt;/td&gt;\n",
       "        &lt;/tr&gt;`).join(&#x27;&#x27;))\n",
       "    +&#x27;&lt;/table&gt;&#x27;;\n",
       "    div.innerHTML=table;\n",
       "    \n",
       "    return div\n",
       "    }\n",
       "    ,{\n",
       "  &quot;sticky&quot;: true,\n",
       "  &quot;className&quot;: &quot;foliumtooltip&quot;,\n",
       "});\n",
       "                     \n",
       "    \n",
       "            geo_json_c3942d0c06e813111ed3a381c9278ca0.addTo(map_331818a0a8a1e750b705893223710973);\n",
       "        \n",
       "&lt;/script&gt;\n",
       "&lt;/html&gt;\" style=\"position:absolute;width:100%;height:100%;left:0;top:0;border:none !important;\" allowfullscreen webkitallowfullscreen mozallowfullscreen></iframe></div></div>"
      ],
      "text/plain": [
       "<folium.folium.Map at 0x7f22bff4e300>"
      ]
     },
     "execution_count": 559,
     "metadata": {},
     "output_type": "execute_result"
    }
   ],
   "source": [
    "fig = grid.explore(color='black', style_kwds={'fillOpacity': 0})\n",
    "cdmx.explore(m=fig, color='red',style_kwds={'fill': False})\n",
    "stations_quantized.explore(m=fig, column='cve_estac', alpha=0.5, style_kwds={'fillOpacity': 0.25})\n",
    "stations.explore(m=fig, column='cve_estac',marker_kwds={'radius': 5}, style_kwds={'fillOpacity': 1})\n",
    "# fig = grid.boundary.plot(figsize=(15, 15),alpha=0.1, color='black')\n",
    "# stations.plot(ax=fig, column='cve_estac')\n",
    "# cdmx.boundary.plot(ax=fig, color='red')\n",
    "# stations_quantized.plot(ax=fig, column='cve_estac',alpha = 0.5)"
   ]
  },
  {
   "cell_type": "markdown",
   "metadata": {},
   "source": [
    "## Find Optimal Grid"
   ]
  },
  {
   "cell_type": "code",
   "execution_count": 560,
   "metadata": {},
   "outputs": [],
   "source": [
    "# Get the top-left coordinates in meters\n",
    "minx, maxy = bbox_gdf.bounds.iloc[0][['minx', 'maxy']].values\n",
    "maxx, miny = bbox_gdf.bounds.iloc[0][['maxx', 'miny']].values\n",
    "\n",
    "resolution  = 500 \n",
    "\n",
    "# Create array from top-left coordinates spacing by 500 meters\n",
    "x = np.arange(minx, maxx, resolution )\n",
    "y = np.arange(miny, maxy, resolution )\n",
    "\n",
    "# Create a meshgrid\n",
    "X, Y = np.meshgrid(x, y)\n",
    "\n",
    "stations_temp = stations.set_index('cve_estac')[['geometry']].copy()"
   ]
  },
  {
   "cell_type": "code",
   "execution_count": 561,
   "metadata": {},
   "outputs": [],
   "source": [
    "def sum_distances(row):\n",
    "    point = row[\"geometry\"]  # Punto en stations_temp\n",
    "    polygon = row[\"geometry_poly\"]  # Polígono en stations_quantized\n",
    "\n",
    "    if polygon and point:\n",
    "        vertices = list(polygon.exterior.coords)  # Extraer coordenadas de los vértices\n",
    "        distances = [Point(v).distance(point) for v in vertices]  # Calcular distancias\n",
    "        return sum(distances)  # Sumar todas las distancias\n",
    "    return None  # En caso de geometría inválida\n"
   ]
  },
  {
   "cell_type": "code",
   "execution_count": 562,
   "metadata": {},
   "outputs": [
    {
     "data": {
      "application/vnd.plotly.v1+json": {
       "config": {
        "plotlyServerURL": "https://plot.ly"
       },
       "data": [
        {
         "customdata": [
          [
           1
          ],
          [
           2
          ],
          [
           3
          ],
          [
           4
          ],
          [
           5
          ],
          [
           6
          ],
          [
           7
          ],
          [
           8
          ],
          [
           9
          ],
          [
           10
          ],
          [
           11
          ],
          [
           12
          ],
          [
           13
          ],
          [
           14
          ],
          [
           15
          ],
          [
           16
          ],
          [
           17
          ],
          [
           18
          ],
          [
           19
          ],
          [
           20
          ],
          [
           21
          ],
          [
           22
          ],
          [
           23
          ],
          [
           24
          ],
          [
           25
          ],
          [
           26
          ],
          [
           27
          ],
          [
           28
          ],
          [
           29
          ],
          [
           30
          ],
          [
           31
          ],
          [
           32
          ],
          [
           33
          ],
          [
           34
          ],
          [
           35
          ],
          [
           36
          ],
          [
           37
          ],
          [
           38
          ],
          [
           39
          ],
          [
           40
          ],
          [
           41
          ],
          [
           42
          ],
          [
           43
          ],
          [
           44
          ]
         ],
         "hovertemplate": "Number of Cells=%{x}<br>Cost=%{y}<br>Step=%{customdata[0]}<extra></extra>",
         "legendgroup": "",
         "marker": {
          "color": "#636efa",
          "symbol": "circle"
         },
         "mode": "markers",
         "name": "",
         "orientation": "v",
         "showlegend": false,
         "type": "scatter",
         "x": [
          10890,
          2745,
          1230,
          713,
          450,
          315,
          234,
          192,
          140,
          117,
          99,
          88,
          70,
          63,
          54,
          48,
          48,
          35,
          35,
          35,
          30,
          30,
          24,
          24,
          20,
          20,
          20,
          20,
          20,
          15,
          12,
          12,
          12,
          12,
          12,
          12,
          12,
          12,
          12,
          12,
          9,
          9,
          9,
          9
         ],
         "xaxis": "x",
         "y": [
          57031.29791261508,
          114781.64036457975,
          178660.0687269836,
          230939.294347965,
          290268.47230300144,
          351304.27942690963,
          410503.74016780173,
          463551.92637932795,
          530683.5805622571,
          602004.6581512649,
          659373.1460906755,
          718477.3598955421,
          760414.3213945682,
          838357.0183948241,
          876950.4300517238,
          944319.4240741534,
          1023496.5860734648,
          1068364.4252369914,
          1110479.6344159865,
          1172609.7096616873,
          1227814.0163055388,
          1293137.6316182276,
          1350340.1385455385,
          1445521.017614925,
          1499794.0321737805,
          1525432.8778281147,
          1597144.8622158933,
          1634410.7587793095,
          1702139.5434058157,
          1774897.1174786163,
          1840330.214614162,
          1905741.1417031381,
          2010290.7176357314,
          2039194.0743327101,
          2094827.3970838399,
          2174647.1008660495,
          2217731.789707615,
          2234525.5364650185,
          2313632.57396393,
          2364969.2967614005,
          2415244.195215418,
          2454565.884745272,
          2491357.563133874,
          2549062.872035897
         ],
         "yaxis": "y"
        }
       ],
       "layout": {
        "legend": {
         "tracegroupgap": 0
        },
        "template": {
         "data": {
          "bar": [
           {
            "error_x": {
             "color": "#2a3f5f"
            },
            "error_y": {
             "color": "#2a3f5f"
            },
            "marker": {
             "line": {
              "color": "#E5ECF6",
              "width": 0.5
             },
             "pattern": {
              "fillmode": "overlay",
              "size": 10,
              "solidity": 0.2
             }
            },
            "type": "bar"
           }
          ],
          "barpolar": [
           {
            "marker": {
             "line": {
              "color": "#E5ECF6",
              "width": 0.5
             },
             "pattern": {
              "fillmode": "overlay",
              "size": 10,
              "solidity": 0.2
             }
            },
            "type": "barpolar"
           }
          ],
          "carpet": [
           {
            "aaxis": {
             "endlinecolor": "#2a3f5f",
             "gridcolor": "white",
             "linecolor": "white",
             "minorgridcolor": "white",
             "startlinecolor": "#2a3f5f"
            },
            "baxis": {
             "endlinecolor": "#2a3f5f",
             "gridcolor": "white",
             "linecolor": "white",
             "minorgridcolor": "white",
             "startlinecolor": "#2a3f5f"
            },
            "type": "carpet"
           }
          ],
          "choropleth": [
           {
            "colorbar": {
             "outlinewidth": 0,
             "ticks": ""
            },
            "type": "choropleth"
           }
          ],
          "contour": [
           {
            "colorbar": {
             "outlinewidth": 0,
             "ticks": ""
            },
            "colorscale": [
             [
              0,
              "#0d0887"
             ],
             [
              0.1111111111111111,
              "#46039f"
             ],
             [
              0.2222222222222222,
              "#7201a8"
             ],
             [
              0.3333333333333333,
              "#9c179e"
             ],
             [
              0.4444444444444444,
              "#bd3786"
             ],
             [
              0.5555555555555556,
              "#d8576b"
             ],
             [
              0.6666666666666666,
              "#ed7953"
             ],
             [
              0.7777777777777778,
              "#fb9f3a"
             ],
             [
              0.8888888888888888,
              "#fdca26"
             ],
             [
              1,
              "#f0f921"
             ]
            ],
            "type": "contour"
           }
          ],
          "contourcarpet": [
           {
            "colorbar": {
             "outlinewidth": 0,
             "ticks": ""
            },
            "type": "contourcarpet"
           }
          ],
          "heatmap": [
           {
            "colorbar": {
             "outlinewidth": 0,
             "ticks": ""
            },
            "colorscale": [
             [
              0,
              "#0d0887"
             ],
             [
              0.1111111111111111,
              "#46039f"
             ],
             [
              0.2222222222222222,
              "#7201a8"
             ],
             [
              0.3333333333333333,
              "#9c179e"
             ],
             [
              0.4444444444444444,
              "#bd3786"
             ],
             [
              0.5555555555555556,
              "#d8576b"
             ],
             [
              0.6666666666666666,
              "#ed7953"
             ],
             [
              0.7777777777777778,
              "#fb9f3a"
             ],
             [
              0.8888888888888888,
              "#fdca26"
             ],
             [
              1,
              "#f0f921"
             ]
            ],
            "type": "heatmap"
           }
          ],
          "heatmapgl": [
           {
            "colorbar": {
             "outlinewidth": 0,
             "ticks": ""
            },
            "colorscale": [
             [
              0,
              "#0d0887"
             ],
             [
              0.1111111111111111,
              "#46039f"
             ],
             [
              0.2222222222222222,
              "#7201a8"
             ],
             [
              0.3333333333333333,
              "#9c179e"
             ],
             [
              0.4444444444444444,
              "#bd3786"
             ],
             [
              0.5555555555555556,
              "#d8576b"
             ],
             [
              0.6666666666666666,
              "#ed7953"
             ],
             [
              0.7777777777777778,
              "#fb9f3a"
             ],
             [
              0.8888888888888888,
              "#fdca26"
             ],
             [
              1,
              "#f0f921"
             ]
            ],
            "type": "heatmapgl"
           }
          ],
          "histogram": [
           {
            "marker": {
             "pattern": {
              "fillmode": "overlay",
              "size": 10,
              "solidity": 0.2
             }
            },
            "type": "histogram"
           }
          ],
          "histogram2d": [
           {
            "colorbar": {
             "outlinewidth": 0,
             "ticks": ""
            },
            "colorscale": [
             [
              0,
              "#0d0887"
             ],
             [
              0.1111111111111111,
              "#46039f"
             ],
             [
              0.2222222222222222,
              "#7201a8"
             ],
             [
              0.3333333333333333,
              "#9c179e"
             ],
             [
              0.4444444444444444,
              "#bd3786"
             ],
             [
              0.5555555555555556,
              "#d8576b"
             ],
             [
              0.6666666666666666,
              "#ed7953"
             ],
             [
              0.7777777777777778,
              "#fb9f3a"
             ],
             [
              0.8888888888888888,
              "#fdca26"
             ],
             [
              1,
              "#f0f921"
             ]
            ],
            "type": "histogram2d"
           }
          ],
          "histogram2dcontour": [
           {
            "colorbar": {
             "outlinewidth": 0,
             "ticks": ""
            },
            "colorscale": [
             [
              0,
              "#0d0887"
             ],
             [
              0.1111111111111111,
              "#46039f"
             ],
             [
              0.2222222222222222,
              "#7201a8"
             ],
             [
              0.3333333333333333,
              "#9c179e"
             ],
             [
              0.4444444444444444,
              "#bd3786"
             ],
             [
              0.5555555555555556,
              "#d8576b"
             ],
             [
              0.6666666666666666,
              "#ed7953"
             ],
             [
              0.7777777777777778,
              "#fb9f3a"
             ],
             [
              0.8888888888888888,
              "#fdca26"
             ],
             [
              1,
              "#f0f921"
             ]
            ],
            "type": "histogram2dcontour"
           }
          ],
          "mesh3d": [
           {
            "colorbar": {
             "outlinewidth": 0,
             "ticks": ""
            },
            "type": "mesh3d"
           }
          ],
          "parcoords": [
           {
            "line": {
             "colorbar": {
              "outlinewidth": 0,
              "ticks": ""
             }
            },
            "type": "parcoords"
           }
          ],
          "pie": [
           {
            "automargin": true,
            "type": "pie"
           }
          ],
          "scatter": [
           {
            "fillpattern": {
             "fillmode": "overlay",
             "size": 10,
             "solidity": 0.2
            },
            "type": "scatter"
           }
          ],
          "scatter3d": [
           {
            "line": {
             "colorbar": {
              "outlinewidth": 0,
              "ticks": ""
             }
            },
            "marker": {
             "colorbar": {
              "outlinewidth": 0,
              "ticks": ""
             }
            },
            "type": "scatter3d"
           }
          ],
          "scattercarpet": [
           {
            "marker": {
             "colorbar": {
              "outlinewidth": 0,
              "ticks": ""
             }
            },
            "type": "scattercarpet"
           }
          ],
          "scattergeo": [
           {
            "marker": {
             "colorbar": {
              "outlinewidth": 0,
              "ticks": ""
             }
            },
            "type": "scattergeo"
           }
          ],
          "scattergl": [
           {
            "marker": {
             "colorbar": {
              "outlinewidth": 0,
              "ticks": ""
             }
            },
            "type": "scattergl"
           }
          ],
          "scattermapbox": [
           {
            "marker": {
             "colorbar": {
              "outlinewidth": 0,
              "ticks": ""
             }
            },
            "type": "scattermapbox"
           }
          ],
          "scatterpolar": [
           {
            "marker": {
             "colorbar": {
              "outlinewidth": 0,
              "ticks": ""
             }
            },
            "type": "scatterpolar"
           }
          ],
          "scatterpolargl": [
           {
            "marker": {
             "colorbar": {
              "outlinewidth": 0,
              "ticks": ""
             }
            },
            "type": "scatterpolargl"
           }
          ],
          "scatterternary": [
           {
            "marker": {
             "colorbar": {
              "outlinewidth": 0,
              "ticks": ""
             }
            },
            "type": "scatterternary"
           }
          ],
          "surface": [
           {
            "colorbar": {
             "outlinewidth": 0,
             "ticks": ""
            },
            "colorscale": [
             [
              0,
              "#0d0887"
             ],
             [
              0.1111111111111111,
              "#46039f"
             ],
             [
              0.2222222222222222,
              "#7201a8"
             ],
             [
              0.3333333333333333,
              "#9c179e"
             ],
             [
              0.4444444444444444,
              "#bd3786"
             ],
             [
              0.5555555555555556,
              "#d8576b"
             ],
             [
              0.6666666666666666,
              "#ed7953"
             ],
             [
              0.7777777777777778,
              "#fb9f3a"
             ],
             [
              0.8888888888888888,
              "#fdca26"
             ],
             [
              1,
              "#f0f921"
             ]
            ],
            "type": "surface"
           }
          ],
          "table": [
           {
            "cells": {
             "fill": {
              "color": "#EBF0F8"
             },
             "line": {
              "color": "white"
             }
            },
            "header": {
             "fill": {
              "color": "#C8D4E3"
             },
             "line": {
              "color": "white"
             }
            },
            "type": "table"
           }
          ]
         },
         "layout": {
          "annotationdefaults": {
           "arrowcolor": "#2a3f5f",
           "arrowhead": 0,
           "arrowwidth": 1
          },
          "autotypenumbers": "strict",
          "coloraxis": {
           "colorbar": {
            "outlinewidth": 0,
            "ticks": ""
           }
          },
          "colorscale": {
           "diverging": [
            [
             0,
             "#8e0152"
            ],
            [
             0.1,
             "#c51b7d"
            ],
            [
             0.2,
             "#de77ae"
            ],
            [
             0.3,
             "#f1b6da"
            ],
            [
             0.4,
             "#fde0ef"
            ],
            [
             0.5,
             "#f7f7f7"
            ],
            [
             0.6,
             "#e6f5d0"
            ],
            [
             0.7,
             "#b8e186"
            ],
            [
             0.8,
             "#7fbc41"
            ],
            [
             0.9,
             "#4d9221"
            ],
            [
             1,
             "#276419"
            ]
           ],
           "sequential": [
            [
             0,
             "#0d0887"
            ],
            [
             0.1111111111111111,
             "#46039f"
            ],
            [
             0.2222222222222222,
             "#7201a8"
            ],
            [
             0.3333333333333333,
             "#9c179e"
            ],
            [
             0.4444444444444444,
             "#bd3786"
            ],
            [
             0.5555555555555556,
             "#d8576b"
            ],
            [
             0.6666666666666666,
             "#ed7953"
            ],
            [
             0.7777777777777778,
             "#fb9f3a"
            ],
            [
             0.8888888888888888,
             "#fdca26"
            ],
            [
             1,
             "#f0f921"
            ]
           ],
           "sequentialminus": [
            [
             0,
             "#0d0887"
            ],
            [
             0.1111111111111111,
             "#46039f"
            ],
            [
             0.2222222222222222,
             "#7201a8"
            ],
            [
             0.3333333333333333,
             "#9c179e"
            ],
            [
             0.4444444444444444,
             "#bd3786"
            ],
            [
             0.5555555555555556,
             "#d8576b"
            ],
            [
             0.6666666666666666,
             "#ed7953"
            ],
            [
             0.7777777777777778,
             "#fb9f3a"
            ],
            [
             0.8888888888888888,
             "#fdca26"
            ],
            [
             1,
             "#f0f921"
            ]
           ]
          },
          "colorway": [
           "#636efa",
           "#EF553B",
           "#00cc96",
           "#ab63fa",
           "#FFA15A",
           "#19d3f3",
           "#FF6692",
           "#B6E880",
           "#FF97FF",
           "#FECB52"
          ],
          "font": {
           "color": "#2a3f5f"
          },
          "geo": {
           "bgcolor": "white",
           "lakecolor": "white",
           "landcolor": "#E5ECF6",
           "showlakes": true,
           "showland": true,
           "subunitcolor": "white"
          },
          "hoverlabel": {
           "align": "left"
          },
          "hovermode": "closest",
          "mapbox": {
           "style": "light"
          },
          "paper_bgcolor": "white",
          "plot_bgcolor": "#E5ECF6",
          "polar": {
           "angularaxis": {
            "gridcolor": "white",
            "linecolor": "white",
            "ticks": ""
           },
           "bgcolor": "#E5ECF6",
           "radialaxis": {
            "gridcolor": "white",
            "linecolor": "white",
            "ticks": ""
           }
          },
          "scene": {
           "xaxis": {
            "backgroundcolor": "#E5ECF6",
            "gridcolor": "white",
            "gridwidth": 2,
            "linecolor": "white",
            "showbackground": true,
            "ticks": "",
            "zerolinecolor": "white"
           },
           "yaxis": {
            "backgroundcolor": "#E5ECF6",
            "gridcolor": "white",
            "gridwidth": 2,
            "linecolor": "white",
            "showbackground": true,
            "ticks": "",
            "zerolinecolor": "white"
           },
           "zaxis": {
            "backgroundcolor": "#E5ECF6",
            "gridcolor": "white",
            "gridwidth": 2,
            "linecolor": "white",
            "showbackground": true,
            "ticks": "",
            "zerolinecolor": "white"
           }
          },
          "shapedefaults": {
           "line": {
            "color": "#2a3f5f"
           }
          },
          "ternary": {
           "aaxis": {
            "gridcolor": "white",
            "linecolor": "white",
            "ticks": ""
           },
           "baxis": {
            "gridcolor": "white",
            "linecolor": "white",
            "ticks": ""
           },
           "bgcolor": "#E5ECF6",
           "caxis": {
            "gridcolor": "white",
            "linecolor": "white",
            "ticks": ""
           }
          },
          "title": {
           "x": 0.05
          },
          "xaxis": {
           "automargin": true,
           "gridcolor": "white",
           "linecolor": "white",
           "ticks": "",
           "title": {
            "standoff": 15
           },
           "zerolinecolor": "white",
           "zerolinewidth": 2
          },
          "yaxis": {
           "automargin": true,
           "gridcolor": "white",
           "linecolor": "white",
           "ticks": "",
           "title": {
            "standoff": 15
           },
           "zerolinecolor": "white",
           "zerolinewidth": 2
          }
         }
        },
        "title": {
         "text": "Cost vs Number of Cells"
        },
        "xaxis": {
         "anchor": "y",
         "domain": [
          0,
          1
         ],
         "title": {
          "text": "Number of Cells"
         }
        },
        "yaxis": {
         "anchor": "x",
         "domain": [
          0,
          1
         ],
         "title": {
          "text": "Cost"
         }
        }
       }
      },
      "text/html": [
       "<div>                            <div id=\"9713ead2-2672-41bd-aa63-1121b1ba5e3f\" class=\"plotly-graph-div\" style=\"height:525px; width:100%;\"></div>            <script type=\"text/javascript\">                require([\"plotly\"], function(Plotly) {                    window.PLOTLYENV=window.PLOTLYENV || {};                                    if (document.getElementById(\"9713ead2-2672-41bd-aa63-1121b1ba5e3f\")) {                    Plotly.newPlot(                        \"9713ead2-2672-41bd-aa63-1121b1ba5e3f\",                        [{\"customdata\":[[1],[2],[3],[4],[5],[6],[7],[8],[9],[10],[11],[12],[13],[14],[15],[16],[17],[18],[19],[20],[21],[22],[23],[24],[25],[26],[27],[28],[29],[30],[31],[32],[33],[34],[35],[36],[37],[38],[39],[40],[41],[42],[43],[44]],\"hovertemplate\":\"Number of Cells=%{x}\\u003cbr\\u003eCost=%{y}\\u003cbr\\u003eStep=%{customdata[0]}\\u003cextra\\u003e\\u003c\\u002fextra\\u003e\",\"legendgroup\":\"\",\"marker\":{\"color\":\"#636efa\",\"symbol\":\"circle\"},\"mode\":\"markers\",\"name\":\"\",\"orientation\":\"v\",\"showlegend\":false,\"x\":[10890,2745,1230,713,450,315,234,192,140,117,99,88,70,63,54,48,48,35,35,35,30,30,24,24,20,20,20,20,20,15,12,12,12,12,12,12,12,12,12,12,9,9,9,9],\"xaxis\":\"x\",\"y\":[57031.29791261508,114781.64036457975,178660.0687269836,230939.294347965,290268.47230300144,351304.27942690963,410503.74016780173,463551.92637932795,530683.5805622571,602004.6581512649,659373.1460906755,718477.3598955421,760414.3213945682,838357.0183948241,876950.4300517238,944319.4240741534,1023496.5860734648,1068364.4252369914,1110479.6344159865,1172609.7096616873,1227814.0163055388,1293137.6316182276,1350340.1385455385,1445521.017614925,1499794.0321737805,1525432.8778281147,1597144.8622158933,1634410.7587793095,1702139.5434058157,1774897.1174786163,1840330.214614162,1905741.1417031381,2010290.7176357314,2039194.0743327101,2094827.3970838399,2174647.1008660495,2217731.789707615,2234525.5364650185,2313632.57396393,2364969.2967614005,2415244.195215418,2454565.884745272,2491357.563133874,2549062.872035897],\"yaxis\":\"y\",\"type\":\"scatter\"}],                        {\"template\":{\"data\":{\"histogram2dcontour\":[{\"type\":\"histogram2dcontour\",\"colorbar\":{\"outlinewidth\":0,\"ticks\":\"\"},\"colorscale\":[[0.0,\"#0d0887\"],[0.1111111111111111,\"#46039f\"],[0.2222222222222222,\"#7201a8\"],[0.3333333333333333,\"#9c179e\"],[0.4444444444444444,\"#bd3786\"],[0.5555555555555556,\"#d8576b\"],[0.6666666666666666,\"#ed7953\"],[0.7777777777777778,\"#fb9f3a\"],[0.8888888888888888,\"#fdca26\"],[1.0,\"#f0f921\"]]}],\"choropleth\":[{\"type\":\"choropleth\",\"colorbar\":{\"outlinewidth\":0,\"ticks\":\"\"}}],\"histogram2d\":[{\"type\":\"histogram2d\",\"colorbar\":{\"outlinewidth\":0,\"ticks\":\"\"},\"colorscale\":[[0.0,\"#0d0887\"],[0.1111111111111111,\"#46039f\"],[0.2222222222222222,\"#7201a8\"],[0.3333333333333333,\"#9c179e\"],[0.4444444444444444,\"#bd3786\"],[0.5555555555555556,\"#d8576b\"],[0.6666666666666666,\"#ed7953\"],[0.7777777777777778,\"#fb9f3a\"],[0.8888888888888888,\"#fdca26\"],[1.0,\"#f0f921\"]]}],\"heatmap\":[{\"type\":\"heatmap\",\"colorbar\":{\"outlinewidth\":0,\"ticks\":\"\"},\"colorscale\":[[0.0,\"#0d0887\"],[0.1111111111111111,\"#46039f\"],[0.2222222222222222,\"#7201a8\"],[0.3333333333333333,\"#9c179e\"],[0.4444444444444444,\"#bd3786\"],[0.5555555555555556,\"#d8576b\"],[0.6666666666666666,\"#ed7953\"],[0.7777777777777778,\"#fb9f3a\"],[0.8888888888888888,\"#fdca26\"],[1.0,\"#f0f921\"]]}],\"heatmapgl\":[{\"type\":\"heatmapgl\",\"colorbar\":{\"outlinewidth\":0,\"ticks\":\"\"},\"colorscale\":[[0.0,\"#0d0887\"],[0.1111111111111111,\"#46039f\"],[0.2222222222222222,\"#7201a8\"],[0.3333333333333333,\"#9c179e\"],[0.4444444444444444,\"#bd3786\"],[0.5555555555555556,\"#d8576b\"],[0.6666666666666666,\"#ed7953\"],[0.7777777777777778,\"#fb9f3a\"],[0.8888888888888888,\"#fdca26\"],[1.0,\"#f0f921\"]]}],\"contourcarpet\":[{\"type\":\"contourcarpet\",\"colorbar\":{\"outlinewidth\":0,\"ticks\":\"\"}}],\"contour\":[{\"type\":\"contour\",\"colorbar\":{\"outlinewidth\":0,\"ticks\":\"\"},\"colorscale\":[[0.0,\"#0d0887\"],[0.1111111111111111,\"#46039f\"],[0.2222222222222222,\"#7201a8\"],[0.3333333333333333,\"#9c179e\"],[0.4444444444444444,\"#bd3786\"],[0.5555555555555556,\"#d8576b\"],[0.6666666666666666,\"#ed7953\"],[0.7777777777777778,\"#fb9f3a\"],[0.8888888888888888,\"#fdca26\"],[1.0,\"#f0f921\"]]}],\"surface\":[{\"type\":\"surface\",\"colorbar\":{\"outlinewidth\":0,\"ticks\":\"\"},\"colorscale\":[[0.0,\"#0d0887\"],[0.1111111111111111,\"#46039f\"],[0.2222222222222222,\"#7201a8\"],[0.3333333333333333,\"#9c179e\"],[0.4444444444444444,\"#bd3786\"],[0.5555555555555556,\"#d8576b\"],[0.6666666666666666,\"#ed7953\"],[0.7777777777777778,\"#fb9f3a\"],[0.8888888888888888,\"#fdca26\"],[1.0,\"#f0f921\"]]}],\"mesh3d\":[{\"type\":\"mesh3d\",\"colorbar\":{\"outlinewidth\":0,\"ticks\":\"\"}}],\"scatter\":[{\"fillpattern\":{\"fillmode\":\"overlay\",\"size\":10,\"solidity\":0.2},\"type\":\"scatter\"}],\"parcoords\":[{\"type\":\"parcoords\",\"line\":{\"colorbar\":{\"outlinewidth\":0,\"ticks\":\"\"}}}],\"scatterpolargl\":[{\"type\":\"scatterpolargl\",\"marker\":{\"colorbar\":{\"outlinewidth\":0,\"ticks\":\"\"}}}],\"bar\":[{\"error_x\":{\"color\":\"#2a3f5f\"},\"error_y\":{\"color\":\"#2a3f5f\"},\"marker\":{\"line\":{\"color\":\"#E5ECF6\",\"width\":0.5},\"pattern\":{\"fillmode\":\"overlay\",\"size\":10,\"solidity\":0.2}},\"type\":\"bar\"}],\"scattergeo\":[{\"type\":\"scattergeo\",\"marker\":{\"colorbar\":{\"outlinewidth\":0,\"ticks\":\"\"}}}],\"scatterpolar\":[{\"type\":\"scatterpolar\",\"marker\":{\"colorbar\":{\"outlinewidth\":0,\"ticks\":\"\"}}}],\"histogram\":[{\"marker\":{\"pattern\":{\"fillmode\":\"overlay\",\"size\":10,\"solidity\":0.2}},\"type\":\"histogram\"}],\"scattergl\":[{\"type\":\"scattergl\",\"marker\":{\"colorbar\":{\"outlinewidth\":0,\"ticks\":\"\"}}}],\"scatter3d\":[{\"type\":\"scatter3d\",\"line\":{\"colorbar\":{\"outlinewidth\":0,\"ticks\":\"\"}},\"marker\":{\"colorbar\":{\"outlinewidth\":0,\"ticks\":\"\"}}}],\"scattermapbox\":[{\"type\":\"scattermapbox\",\"marker\":{\"colorbar\":{\"outlinewidth\":0,\"ticks\":\"\"}}}],\"scatterternary\":[{\"type\":\"scatterternary\",\"marker\":{\"colorbar\":{\"outlinewidth\":0,\"ticks\":\"\"}}}],\"scattercarpet\":[{\"type\":\"scattercarpet\",\"marker\":{\"colorbar\":{\"outlinewidth\":0,\"ticks\":\"\"}}}],\"carpet\":[{\"aaxis\":{\"endlinecolor\":\"#2a3f5f\",\"gridcolor\":\"white\",\"linecolor\":\"white\",\"minorgridcolor\":\"white\",\"startlinecolor\":\"#2a3f5f\"},\"baxis\":{\"endlinecolor\":\"#2a3f5f\",\"gridcolor\":\"white\",\"linecolor\":\"white\",\"minorgridcolor\":\"white\",\"startlinecolor\":\"#2a3f5f\"},\"type\":\"carpet\"}],\"table\":[{\"cells\":{\"fill\":{\"color\":\"#EBF0F8\"},\"line\":{\"color\":\"white\"}},\"header\":{\"fill\":{\"color\":\"#C8D4E3\"},\"line\":{\"color\":\"white\"}},\"type\":\"table\"}],\"barpolar\":[{\"marker\":{\"line\":{\"color\":\"#E5ECF6\",\"width\":0.5},\"pattern\":{\"fillmode\":\"overlay\",\"size\":10,\"solidity\":0.2}},\"type\":\"barpolar\"}],\"pie\":[{\"automargin\":true,\"type\":\"pie\"}]},\"layout\":{\"autotypenumbers\":\"strict\",\"colorway\":[\"#636efa\",\"#EF553B\",\"#00cc96\",\"#ab63fa\",\"#FFA15A\",\"#19d3f3\",\"#FF6692\",\"#B6E880\",\"#FF97FF\",\"#FECB52\"],\"font\":{\"color\":\"#2a3f5f\"},\"hovermode\":\"closest\",\"hoverlabel\":{\"align\":\"left\"},\"paper_bgcolor\":\"white\",\"plot_bgcolor\":\"#E5ECF6\",\"polar\":{\"bgcolor\":\"#E5ECF6\",\"angularaxis\":{\"gridcolor\":\"white\",\"linecolor\":\"white\",\"ticks\":\"\"},\"radialaxis\":{\"gridcolor\":\"white\",\"linecolor\":\"white\",\"ticks\":\"\"}},\"ternary\":{\"bgcolor\":\"#E5ECF6\",\"aaxis\":{\"gridcolor\":\"white\",\"linecolor\":\"white\",\"ticks\":\"\"},\"baxis\":{\"gridcolor\":\"white\",\"linecolor\":\"white\",\"ticks\":\"\"},\"caxis\":{\"gridcolor\":\"white\",\"linecolor\":\"white\",\"ticks\":\"\"}},\"coloraxis\":{\"colorbar\":{\"outlinewidth\":0,\"ticks\":\"\"}},\"colorscale\":{\"sequential\":[[0.0,\"#0d0887\"],[0.1111111111111111,\"#46039f\"],[0.2222222222222222,\"#7201a8\"],[0.3333333333333333,\"#9c179e\"],[0.4444444444444444,\"#bd3786\"],[0.5555555555555556,\"#d8576b\"],[0.6666666666666666,\"#ed7953\"],[0.7777777777777778,\"#fb9f3a\"],[0.8888888888888888,\"#fdca26\"],[1.0,\"#f0f921\"]],\"sequentialminus\":[[0.0,\"#0d0887\"],[0.1111111111111111,\"#46039f\"],[0.2222222222222222,\"#7201a8\"],[0.3333333333333333,\"#9c179e\"],[0.4444444444444444,\"#bd3786\"],[0.5555555555555556,\"#d8576b\"],[0.6666666666666666,\"#ed7953\"],[0.7777777777777778,\"#fb9f3a\"],[0.8888888888888888,\"#fdca26\"],[1.0,\"#f0f921\"]],\"diverging\":[[0,\"#8e0152\"],[0.1,\"#c51b7d\"],[0.2,\"#de77ae\"],[0.3,\"#f1b6da\"],[0.4,\"#fde0ef\"],[0.5,\"#f7f7f7\"],[0.6,\"#e6f5d0\"],[0.7,\"#b8e186\"],[0.8,\"#7fbc41\"],[0.9,\"#4d9221\"],[1,\"#276419\"]]},\"xaxis\":{\"gridcolor\":\"white\",\"linecolor\":\"white\",\"ticks\":\"\",\"title\":{\"standoff\":15},\"zerolinecolor\":\"white\",\"automargin\":true,\"zerolinewidth\":2},\"yaxis\":{\"gridcolor\":\"white\",\"linecolor\":\"white\",\"ticks\":\"\",\"title\":{\"standoff\":15},\"zerolinecolor\":\"white\",\"automargin\":true,\"zerolinewidth\":2},\"scene\":{\"xaxis\":{\"backgroundcolor\":\"#E5ECF6\",\"gridcolor\":\"white\",\"linecolor\":\"white\",\"showbackground\":true,\"ticks\":\"\",\"zerolinecolor\":\"white\",\"gridwidth\":2},\"yaxis\":{\"backgroundcolor\":\"#E5ECF6\",\"gridcolor\":\"white\",\"linecolor\":\"white\",\"showbackground\":true,\"ticks\":\"\",\"zerolinecolor\":\"white\",\"gridwidth\":2},\"zaxis\":{\"backgroundcolor\":\"#E5ECF6\",\"gridcolor\":\"white\",\"linecolor\":\"white\",\"showbackground\":true,\"ticks\":\"\",\"zerolinecolor\":\"white\",\"gridwidth\":2}},\"shapedefaults\":{\"line\":{\"color\":\"#2a3f5f\"}},\"annotationdefaults\":{\"arrowcolor\":\"#2a3f5f\",\"arrowhead\":0,\"arrowwidth\":1},\"geo\":{\"bgcolor\":\"white\",\"landcolor\":\"#E5ECF6\",\"subunitcolor\":\"white\",\"showland\":true,\"showlakes\":true,\"lakecolor\":\"white\"},\"title\":{\"x\":0.05},\"mapbox\":{\"style\":\"light\"}}},\"xaxis\":{\"anchor\":\"y\",\"domain\":[0.0,1.0],\"title\":{\"text\":\"Number of Cells\"}},\"yaxis\":{\"anchor\":\"x\",\"domain\":[0.0,1.0],\"title\":{\"text\":\"Cost\"}},\"legend\":{\"tracegroupgap\":0},\"title\":{\"text\":\"Cost vs Number of Cells\"}},                        {\"responsive\": true}                    ).then(function(){\n",
       "                            \n",
       "var gd = document.getElementById('9713ead2-2672-41bd-aa63-1121b1ba5e3f');\n",
       "var x = new MutationObserver(function (mutations, observer) {{\n",
       "        var display = window.getComputedStyle(gd).display;\n",
       "        if (!display || display === 'none') {{\n",
       "            console.log([gd, 'removed!']);\n",
       "            Plotly.purge(gd);\n",
       "            observer.disconnect();\n",
       "        }}\n",
       "}});\n",
       "\n",
       "// Listen for the removal of the full notebook cells\n",
       "var notebookContainer = gd.closest('#notebook-container');\n",
       "if (notebookContainer) {{\n",
       "    x.observe(notebookContainer, {childList: true});\n",
       "}}\n",
       "\n",
       "// Listen for the clearing of the current output cell\n",
       "var outputEl = gd.closest('.output');\n",
       "if (outputEl) {{\n",
       "    x.observe(outputEl, {childList: true});\n",
       "}}\n",
       "\n",
       "                        })                };                });            </script>        </div>"
      ]
     },
     "metadata": {},
     "output_type": "display_data"
    }
   ],
   "source": [
    "records = []\n",
    "\n",
    "for st in range(1, min(X.shape)//2):\n",
    "    Xs = X[0::st, 0::st]\n",
    "    Ys = Y[0::st, 0::st]\n",
    "\n",
    "    stations_quantized = stations[['cve_estac','geometry']].copy()\n",
    "\n",
    "    # Modify the geometry\n",
    "    stations_quantized['geometry'] = stations_quantized['geometry'].apply(\n",
    "        lambda geom: box(\n",
    "            ((geom.x - minx) // (st * resolution)) * (st * resolution) + minx,\n",
    "            ((geom.y - miny) // (st * resolution)) * (st * resolution) + miny,\n",
    "            ((geom.x - minx) // (st * resolution)) * (st * resolution) + minx + (st * resolution),\n",
    "            ((geom.y - miny) // (st * resolution)) * (st * resolution) + miny + (st * resolution)\n",
    "        )\n",
    "    )\n",
    "    stations_quantized.set_index('cve_estac', inplace=True)\n",
    "    \n",
    "    # Crear un nuevo GeoDataFrame combinando ambos\n",
    "    merged_gdf = stations_temp.copy()\n",
    "    merged_gdf[\"geometry_poly\"] = stations_quantized[\"geometry\"]\n",
    "\n",
    "    # Aplicar la función a cada fila\n",
    "    merged_gdf[\"sum_distances\"] = merged_gdf.apply(sum_distances, axis=1)\n",
    "    \n",
    "    cost = merged_gdf[\"sum_distances\"].sum()\n",
    "    \n",
    "    num_cells = Xs.shape[0] * Xs.shape[1]\n",
    "    \n",
    "    records.append({'st': st, 'cost': cost, 'num_cells': num_cells})\n",
    "    \n",
    "df = pd.DataFrame(records)\n",
    "\n",
    "\n",
    "fig = px.scatter(\n",
    "    df, \n",
    "    x='num_cells', \n",
    "    y='cost', \n",
    "    title='Cost vs Number of Cells', \n",
    "    labels={'num_cells': 'Number of Cells', 'cost': 'Cost', 'st': 'Step'},\n",
    "    hover_data=['st']\n",
    ")\n",
    "fig.show()"
   ]
  },
  {
   "cell_type": "code",
   "execution_count": null,
   "metadata": {},
   "outputs": [],
   "source": []
  }
 ],
 "metadata": {
  "kernelspec": {
   "display_name": "phd",
   "language": "python",
   "name": "python3"
  },
  "language_info": {
   "codemirror_mode": {
    "name": "ipython",
    "version": 3
   },
   "file_extension": ".py",
   "mimetype": "text/x-python",
   "name": "python",
   "nbconvert_exporter": "python",
   "pygments_lexer": "ipython3",
   "version": "3.12.9"
  }
 },
 "nbformat": 4,
 "nbformat_minor": 2
}
