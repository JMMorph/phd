{
 "cells": [
  {
   "cell_type": "code",
   "execution_count": 17,
   "metadata": {},
   "outputs": [
    {
     "data": {
      "text/html": [
       "\n",
       "            <style>\n",
       "                .geemap-dark {\n",
       "                    --jp-widgets-color: white;\n",
       "                    --jp-widgets-label-color: white;\n",
       "                    --jp-ui-font-color1: white;\n",
       "                    --jp-layout-color2: #454545;\n",
       "                    background-color: #383838;\n",
       "                }\n",
       "\n",
       "                .geemap-dark .jupyter-button {\n",
       "                    --jp-layout-color3: #383838;\n",
       "                }\n",
       "\n",
       "                .geemap-colab {\n",
       "                    background-color: var(--colab-primary-surface-color, white);\n",
       "                }\n",
       "\n",
       "                .geemap-colab .jupyter-button {\n",
       "                    --jp-layout-color3: var(--colab-primary-surface-color, white);\n",
       "                }\n",
       "            </style>\n",
       "            "
      ],
      "text/plain": [
       "<IPython.core.display.HTML object>"
      ]
     },
     "metadata": {},
     "output_type": "display_data"
    },
    {
     "data": {
      "application/vnd.jupyter.widget-view+json": {
       "model_id": "85747a5c7c0b4c2ea59a04b3b3f14841",
       "version_major": 2,
       "version_minor": 0
      },
      "text/plain": [
       "Map(center=[19.4326, -99.1332], controls=(WidgetControl(options=['position', 'transparent_bg'], widget=SearchD…"
      ]
     },
     "execution_count": 17,
     "metadata": {},
     "output_type": "execute_result"
    }
   ],
   "source": [
    "import ee\n",
    "import geemap\n",
    "\n",
    "# Autenticación (solo la primera vez)\n",
    "ee.Authenticate()\n",
    "ee.Initialize()\n",
    "\n",
    "# Punto sobre CDMX\n",
    "cdmx = ee.Geometry.Point([-99.1332, 19.4326])\n",
    "\n",
    "# Colección de SO2 Sentinel-5P\n",
    "so2 = ee.ImageCollection('COPERNICUS/S5P/OFFL/L3_SO2') \\\n",
    "    .select('SO2_column_number_density') \\\n",
    "    .filterBounds(cdmx) \\\n",
    "    .filterDate('2024-04-01', '2024-04-30')\n",
    "\n",
    "# Imagen promedio\n",
    "mean_image = so2.mean()\n",
    "\n",
    "# Mapa interactivo\n",
    "Map = geemap.Map(center=[19.4326, -99.1332], zoom=8)\n",
    "vis_params = {\n",
    "    'min': 0,\n",
    "    'max': 0.0005,\n",
    "    'palette': ['black', 'purple', 'blue', 'green', 'yellow', 'orange', 'red']\n",
    "}\n",
    "Map.addLayer(mean_image, vis_params, 'SO2 - Abril 2024')\n",
    "Map\n"
   ]
  },
  {
   "cell_type": "code",
   "execution_count": null,
   "metadata": {},
   "outputs": [
    {
     "data": {
      "text/html": [
       "\n",
       "            <style>\n",
       "                .geemap-dark {\n",
       "                    --jp-widgets-color: white;\n",
       "                    --jp-widgets-label-color: white;\n",
       "                    --jp-ui-font-color1: white;\n",
       "                    --jp-layout-color2: #454545;\n",
       "                    background-color: #383838;\n",
       "                }\n",
       "\n",
       "                .geemap-dark .jupyter-button {\n",
       "                    --jp-layout-color3: #383838;\n",
       "                }\n",
       "\n",
       "                .geemap-colab {\n",
       "                    background-color: var(--colab-primary-surface-color, white);\n",
       "                }\n",
       "\n",
       "                .geemap-colab .jupyter-button {\n",
       "                    --jp-layout-color3: var(--colab-primary-surface-color, white);\n",
       "                }\n",
       "            </style>\n",
       "            "
      ],
      "text/plain": [
       "<IPython.core.display.HTML object>"
      ]
     },
     "metadata": {},
     "output_type": "display_data"
    }
   ],
   "source": [
    "# Whole image to numpy array\n",
    "def image_to_numpy(image):\n",
    "    # Convert the image to a numpy array\n",
    "    array = image.reduceRegion(\n",
    "        reducer=ee.Reducer.mean(),\n",
    "        geometry=cdmx,\n",
    "        scale=1000,\n",
    "        maxPixels=1e13\n",
    "    ).getInfo()\n",
    "    \n",
    "    return array\n"
   ]
  },
  {
   "cell_type": "code",
   "execution_count": null,
   "metadata": {},
   "outputs": [],
   "source": []
  },
  {
   "cell_type": "code",
   "execution_count": 20,
   "metadata": {},
   "outputs": [
    {
     "data": {
      "text/html": [
       "\n",
       "            <style>\n",
       "                .geemap-dark {\n",
       "                    --jp-widgets-color: white;\n",
       "                    --jp-widgets-label-color: white;\n",
       "                    --jp-ui-font-color1: white;\n",
       "                    --jp-layout-color2: #454545;\n",
       "                    background-color: #383838;\n",
       "                }\n",
       "\n",
       "                .geemap-dark .jupyter-button {\n",
       "                    --jp-layout-color3: #383838;\n",
       "                }\n",
       "\n",
       "                .geemap-colab {\n",
       "                    background-color: var(--colab-primary-surface-color, white);\n",
       "                }\n",
       "\n",
       "                .geemap-colab .jupyter-button {\n",
       "                    --jp-layout-color3: var(--colab-primary-surface-color, white);\n",
       "                }\n",
       "            </style>\n",
       "            "
      ],
      "text/plain": [
       "<IPython.core.display.HTML object>"
      ]
     },
     "metadata": {},
     "output_type": "display_data"
    },
    {
     "data": {
      "application/vnd.jupyter.widget-view+json": {
       "model_id": "214e33c65fef478cb49a414b7ad2ddad",
       "version_major": 2,
       "version_minor": 0
      },
      "text/plain": [
       "Map(center=[19.4, -99.1], controls=(WidgetControl(options=['position', 'transparent_bg'], widget=SearchDataGUI…"
      ]
     },
     "execution_count": 20,
     "metadata": {},
     "output_type": "execute_result"
    }
   ],
   "source": [
    "import ee\n",
    "import geemap\n",
    "\n",
    "# Autenticación (solo la primera vez)\n",
    "ee.Authenticate()\n",
    "ee.Initialize()\n",
    "\n",
    "# Bounding box de la Ciudad de México\n",
    "cdmx_bbox = ee.Geometry.BBox(-99.36, 19.0, -98.85, 19.65)\n",
    "\n",
    "# Cargar la colección de Sentinel-5P SO2 a 1 km de altitud\n",
    "so2 = ee.ImageCollection('COPERNICUS/S5P/OFFL/L3_SO2') \\\n",
    "    .select('SO2_column_number_density') \\\n",
    "    .filterBounds(cdmx) \\\n",
    "    .filterDate('2024-04-01', '2024-04-02')  # Fecha específica\n",
    "\n",
    "# Tomar la primera imagen del día\n",
    "so2_image = so2.first().clip(cdmx_bbox)\n",
    "\n",
    "# Parámetros de visualización\n",
    "vis_params = {\n",
    "    'min': 0.00001,\n",
    "    'max': 0.0005,\n",
    "    'palette': ['black', 'purple', 'blue', 'green', 'yellow', 'orange', 'red']\n",
    "}\n",
    "\n",
    "# Crear mapa interactivo\n",
    "Map = geemap.Map(center=[19.4, -99.1], zoom=9)\n",
    "Map.addLayer(so2_image, vis_params, 'SO₂ (1 km) - 1 Abril 2024')\n",
    "Map.addLayer(cdmx_bbox, {}, 'CDMX bounding box', False)\n",
    "Map\n"
   ]
  },
  {
   "cell_type": "code",
   "execution_count": null,
   "metadata": {},
   "outputs": [],
   "source": []
  }
 ],
 "metadata": {
  "kernelspec": {
   "display_name": "earth",
   "language": "python",
   "name": "python3"
  },
  "language_info": {
   "codemirror_mode": {
    "name": "ipython",
    "version": 3
   },
   "file_extension": ".py",
   "mimetype": "text/x-python",
   "name": "python",
   "nbconvert_exporter": "python",
   "pygments_lexer": "ipython3",
   "version": "3.13.2"
  }
 },
 "nbformat": 4,
 "nbformat_minor": 2
}
