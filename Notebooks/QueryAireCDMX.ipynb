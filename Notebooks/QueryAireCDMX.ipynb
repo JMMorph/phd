{
 "cells": [
  {
   "cell_type": "code",
   "execution_count": 5,
   "metadata": {},
   "outputs": [],
   "source": [
    "import requests\n",
    "import os\n",
    "import time"
   ]
  },
  {
   "cell_type": "code",
   "execution_count": 18,
   "metadata": {},
   "outputs": [],
   "source": [
    "contaminantes = ['so2','co','nox','no2','no','o3','pm10','pm2','wsp','wdr','tmp','rh']\n",
    "anio_inicio = 2005\n",
    "anio_actual = time.localtime().tm_year\n",
    "mes_actual = time.localtime().tm_mon"
   ]
  },
  {
   "cell_type": "code",
   "execution_count": 13,
   "metadata": {},
   "outputs": [],
   "source": [
    "\n",
    "def descargar_archivos(anio, mes,  parametro, carpeta_descarga=\"descargas\"):\n",
    "    url_base = \"http://www.aire.cdmx.gob.mx/estadisticas-consultas/concentraciones/respuesta.php\"\n",
    "    url_descarga = \"http://www.aire.cdmx.gob.mx/estadisticas-consultas/concentraciones/p_descarga.php?um=Promedio%20horarios%20de%20{}\".format(parametro)\n",
    "    \n",
    "    if not os.path.exists(carpeta_descarga):\n",
    "        os.makedirs(carpeta_descarga)\n",
    "    \n",
    "    params = {\n",
    "        \"qtipo\": \"HORARIOS\",\n",
    "        \"parametro\": parametro,\n",
    "        \"anio\": anio,\n",
    "        \"qmes\": mes\n",
    "    }\n",
    "    \n",
    "    # Primero hacer la solicitud a la página que genera la descarga\n",
    "    session = requests.Session()\n",
    "    session.get(url_base, params=params)\n",
    "    \n",
    "    # Luego descargar el archivo\n",
    "    response = session.get(url_descarga, stream=True)\n",
    "    \n",
    "    if response.status_code == 200:\n",
    "        nombre_archivo = os.path.join(carpeta_descarga, f\"{anio}_{mes:02d}_{parametro}.csv\")\n",
    "        with open(nombre_archivo, \"wb\") as file:\n",
    "            for chunk in response.iter_content(chunk_size=1024):\n",
    "                file.write(chunk)\n",
    "        print(f\"Archivo descargado: {nombre_archivo}\")\n",
    "    else:\n",
    "        print(f\"Error al descargar {anio}-{mes:02d}\")"
   ]
  },
  {
   "cell_type": "code",
   "execution_count": 17,
   "metadata": {},
   "outputs": [
    {
     "name": "stdout",
     "output_type": "stream",
     "text": [
      "Archivo descargado: ../data/cdmx/2025_01_so2.csv\n",
      "Archivo descargado: ../data/cdmx/2025_01_co.csv\n",
      "Archivo descargado: ../data/cdmx/2025_01_nox.csv\n",
      "Archivo descargado: ../data/cdmx/2025_01_no2.csv\n",
      "Archivo descargado: ../data/cdmx/2025_01_no.csv\n",
      "Archivo descargado: ../data/cdmx/2025_01_o3.csv\n",
      "Archivo descargado: ../data/cdmx/2025_01_pm10.csv\n",
      "Archivo descargado: ../data/cdmx/2025_01_pm2.csv\n",
      "Archivo descargado: ../data/cdmx/2025_01_wsp.csv\n",
      "Archivo descargado: ../data/cdmx/2025_01_wdr.csv\n",
      "Archivo descargado: ../data/cdmx/2025_01_tmp.csv\n",
      "Archivo descargado: ../data/cdmx/2025_01_rh.csv\n"
     ]
    }
   ],
   "source": [
    "ruta_descargas = \"../data/cdmx\"\n",
    "\n",
    "for a in range(anio_inicio, anio_actual+1):  # Itera sobre los años\n",
    "    for m in range(1, 13):  # Itera sobre los 12 meses\n",
    "        for p in contaminantes:\n",
    "            if a == anio_actual and m >= mes_actual:\n",
    "                break\n",
    "            descargar_archivos(a, m, p, ruta_descargas)\n",
    "            \n"
   ]
  }
 ],
 "metadata": {
  "kernelspec": {
   "display_name": "docto",
   "language": "python",
   "name": "python3"
  },
  "language_info": {
   "codemirror_mode": {
    "name": "ipython",
    "version": 3
   },
   "file_extension": ".py",
   "mimetype": "text/x-python",
   "name": "python",
   "nbconvert_exporter": "python",
   "pygments_lexer": "ipython3",
   "version": "3.12.9"
  }
 },
 "nbformat": 4,
 "nbformat_minor": 2
}
